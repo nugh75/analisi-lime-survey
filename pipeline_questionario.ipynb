{
 "cells": [
  {
   "cell_type": "markdown",
   "id": "87d9b86a",
   "metadata": {},
   "source": [
    "# Pipeline questionario: merge, analisi, selezione colonne\n",
    "Questo notebook esegue in sequenza:\n",
    "1) Unione dei file Excel e aggiunta del numero file\n",
    "2) Analisi delle intestazioni e coperture\n",
    "3) Selezione delle colonne utili e creazione dataset ridotto"
   ]
  },
  {
   "cell_type": "code",
   "execution_count": 2,
   "id": "c9e4fb2b",
   "metadata": {},
   "outputs": [
    {
     "data": {
      "text/plain": [
       "(5,\n",
       " ['ID risposta',\n",
       "  'Data invio',\n",
       "  'Ultima pagina',\n",
       "  'Lingua iniziale',\n",
       "  'Seme',\n",
       "  '1.1 Ruolo:',\n",
       "  '1.1 Ruolo: [Altro]',\n",
       "  '1.2 Età:',\n",
       "  '1.3 Genere:',\n",
       "  '1.4 Titolo di studio (indichi tutti i titoli posseduti): [laurea ]'])"
      ]
     },
     "execution_count": 2,
     "metadata": {},
     "output_type": "execute_result"
    }
   ],
   "source": [
    "# 1) Merge dei file Excel dalla cartella \"dati backup\" (sotto la cartella del notebook)\n",
    "import os, pandas as pd, re\n",
    "\n",
    "base_dir = os.getcwd()\n",
    "input_dir = os.path.join(base_dir, \"dati backup\")\n",
    "pattern = re.compile(r\"results-survey(\\d+)\\.xlsx\")\n",
    "\n",
    "if not os.path.isdir(input_dir):\n",
    "    raise FileNotFoundError(f\"Cartella non trovata: {input_dir}\")\n",
    "\n",
    "dfs = []\n",
    "for fn in os.listdir(input_dir):\n",
    "    m = pattern.match(fn)\n",
    "    if m:\n",
    "        num = m.group(1)\n",
    "        full_path = os.path.join(input_dir, fn)\n",
    "        df = pd.read_excel(full_path)\n",
    "        df[\"file_number\"] = num\n",
    "        dfs.append(df)\n",
    "\n",
    "merged = pd.concat(dfs, ignore_index=True) if dfs else pd.DataFrame()\n",
    "merged.to_excel(\"merged_results.xlsx\", index=False)\n",
    "len(merged), merged.columns.tolist()[:10]"
   ]
  },
  {
   "cell_type": "code",
   "execution_count": 3,
   "id": "d5f9b358",
   "metadata": {},
   "outputs": [
    {
     "data": {
      "text/html": [
       "<div>\n",
       "<style scoped>\n",
       "    .dataframe tbody tr th:only-of-type {\n",
       "        vertical-align: middle;\n",
       "    }\n",
       "\n",
       "    .dataframe tbody tr th {\n",
       "        vertical-align: top;\n",
       "    }\n",
       "\n",
       "    .dataframe thead th {\n",
       "        text-align: right;\n",
       "    }\n",
       "</style>\n",
       "<table border=\"1\" class=\"dataframe\">\n",
       "  <thead>\n",
       "    <tr style=\"text-align: right;\">\n",
       "      <th></th>\n",
       "      <th>original_name</th>\n",
       "      <th>normalized_name</th>\n",
       "      <th>dtype</th>\n",
       "      <th>row_count</th>\n",
       "      <th>non_null_count</th>\n",
       "      <th>null_count</th>\n",
       "      <th>non_null_pct</th>\n",
       "      <th>unique_count_non_null</th>\n",
       "      <th>sample_values</th>\n",
       "    </tr>\n",
       "  </thead>\n",
       "  <tbody>\n",
       "    <tr>\n",
       "      <th>0</th>\n",
       "      <td>ID risposta</td>\n",
       "      <td>idrisposta</td>\n",
       "      <td>int64</td>\n",
       "      <td>5</td>\n",
       "      <td>5</td>\n",
       "      <td>0</td>\n",
       "      <td>100.0</td>\n",
       "      <td>5</td>\n",
       "      <td>1, 2, 3</td>\n",
       "    </tr>\n",
       "    <tr>\n",
       "      <th>1</th>\n",
       "      <td>Data invio</td>\n",
       "      <td>datainvio</td>\n",
       "      <td>object</td>\n",
       "      <td>5</td>\n",
       "      <td>2</td>\n",
       "      <td>3</td>\n",
       "      <td>40.0</td>\n",
       "      <td>1</td>\n",
       "      <td>1980-01-01 00:00:00</td>\n",
       "    </tr>\n",
       "    <tr>\n",
       "      <th>2</th>\n",
       "      <td>Ultima pagina</td>\n",
       "      <td>ultimapagina</td>\n",
       "      <td>float64</td>\n",
       "      <td>5</td>\n",
       "      <td>4</td>\n",
       "      <td>1</td>\n",
       "      <td>80.0</td>\n",
       "      <td>3</td>\n",
       "      <td>26.0, 42.0, 48.0</td>\n",
       "    </tr>\n",
       "    <tr>\n",
       "      <th>3</th>\n",
       "      <td>Lingua iniziale</td>\n",
       "      <td>linguainiziale</td>\n",
       "      <td>object</td>\n",
       "      <td>5</td>\n",
       "      <td>5</td>\n",
       "      <td>0</td>\n",
       "      <td>100.0</td>\n",
       "      <td>1</td>\n",
       "      <td>it</td>\n",
       "    </tr>\n",
       "    <tr>\n",
       "      <th>4</th>\n",
       "      <td>Seme</td>\n",
       "      <td>seme</td>\n",
       "      <td>int64</td>\n",
       "      <td>5</td>\n",
       "      <td>5</td>\n",
       "      <td>0</td>\n",
       "      <td>100.0</td>\n",
       "      <td>5</td>\n",
       "      <td>1102216992, 1266523766, 1011537043</td>\n",
       "    </tr>\n",
       "    <tr>\n",
       "      <th>5</th>\n",
       "      <td>1.1 Ruolo:</td>\n",
       "      <td>11ruolo</td>\n",
       "      <td>object</td>\n",
       "      <td>5</td>\n",
       "      <td>4</td>\n",
       "      <td>1</td>\n",
       "      <td>80.0</td>\n",
       "      <td>2</td>\n",
       "      <td>docente, Altro</td>\n",
       "    </tr>\n",
       "    <tr>\n",
       "      <th>6</th>\n",
       "      <td>1.1 Ruolo: [Altro]</td>\n",
       "      <td>11ruoloaltro</td>\n",
       "      <td>object</td>\n",
       "      <td>5</td>\n",
       "      <td>1</td>\n",
       "      <td>4</td>\n",
       "      <td>20.0</td>\n",
       "      <td>1</td>\n",
       "      <td>A022</td>\n",
       "    </tr>\n",
       "    <tr>\n",
       "      <th>7</th>\n",
       "      <td>1.2 Età:</td>\n",
       "      <td>12eta</td>\n",
       "      <td>object</td>\n",
       "      <td>5</td>\n",
       "      <td>4</td>\n",
       "      <td>1</td>\n",
       "      <td>80.0</td>\n",
       "      <td>1</td>\n",
       "      <td>più di 60</td>\n",
       "    </tr>\n",
       "  </tbody>\n",
       "</table>\n",
       "</div>"
      ],
      "text/plain": [
       "        original_name normalized_name    dtype  row_count  non_null_count  \\\n",
       "0         ID risposta      idrisposta    int64          5               5   \n",
       "1          Data invio       datainvio   object          5               2   \n",
       "2       Ultima pagina    ultimapagina  float64          5               4   \n",
       "3     Lingua iniziale  linguainiziale   object          5               5   \n",
       "4                Seme            seme    int64          5               5   \n",
       "5          1.1 Ruolo:         11ruolo   object          5               4   \n",
       "6  1.1 Ruolo: [Altro]    11ruoloaltro   object          5               1   \n",
       "7            1.2 Età:           12eta   object          5               4   \n",
       "\n",
       "   null_count  non_null_pct  unique_count_non_null  \\\n",
       "0           0         100.0                      5   \n",
       "1           3          40.0                      1   \n",
       "2           1          80.0                      3   \n",
       "3           0         100.0                      1   \n",
       "4           0         100.0                      5   \n",
       "5           1          80.0                      2   \n",
       "6           4          20.0                      1   \n",
       "7           1          80.0                      1   \n",
       "\n",
       "                        sample_values  \n",
       "0                             1, 2, 3  \n",
       "1                 1980-01-01 00:00:00  \n",
       "2                    26.0, 42.0, 48.0  \n",
       "3                                  it  \n",
       "4  1102216992, 1266523766, 1011537043  \n",
       "5                      docente, Altro  \n",
       "6                                A022  \n",
       "7                           più di 60  "
      ]
     },
     "execution_count": 3,
     "metadata": {},
     "output_type": "execute_result"
    }
   ],
   "source": [
    "# 2) Analisi intestazioni e copertura\n",
    "import pandas as pd, unicodedata, re\n",
    "def remove_diacritics(s):\n",
    "    nfkd = unicodedata.normalize('NFKD', str(s));\n",
    "    return ''.join(ch for ch in nfkd if not unicodedata.combining(ch))\n",
    "def normalize_name(s):\n",
    "    s=str(s); s=remove_diacritics(s).lower().strip();\n",
    "    s=re.sub(r'\\s+',' ',s); s=re.sub(r'[^0-9a-z]','',s); return s\n",
    "df = pd.read_excel('merged_results.xlsx')\n",
    "rows = []\n",
    "for c in df.columns:\n",
    "    s = df[c]\n",
    "    rows.append({\n",
    "        'original_name': c,\n",
    "        'normalized_name': normalize_name(c),\n",
    "        'dtype': str(s.dtype),\n",
    "        'row_count': len(df),\n",
    "        'non_null_count': int(s.notna().sum()),\n",
    "        'null_count': int(s.isna().sum()),\n",
    "        'non_null_pct': round(100*s.notna().mean(),2),\n",
    "        'unique_count_non_null': int(s.dropna().nunique()) if s.notna().any() else 0,\n",
    "        'sample_values': ', '.join(s.dropna().astype(str).unique()[:3])\n",
    "    })\n",
    "ha = pd.DataFrame(rows)\n",
    "ha.to_csv('header_analysis.csv', index=False)\n",
    "# copertura per file\n",
    "if 'file_number' in df.columns:\n",
    "    long = []\n",
    "    for fn, g in df.groupby('file_number', dropna=False):\n",
    "        n=len(g)\n",
    "        for c in df.columns:\n",
    "            if c=='file_number': continue\n",
    "            non_null=int(g[c].notna().sum()); pct=round(100*non_null/max(n,1),2)\n",
    "            long.append({'file_number':fn,'column':c,'non_null_pct':pct,'non_null_count':non_null,'rows_in_file':n})\n",
    "    pd.DataFrame(long).to_csv('header_coverage_by_file.csv', index=False)\n",
    "ha.head(8)"
   ]
  },
  {
   "cell_type": "code",
   "execution_count": 4,
   "id": "2e648a4e",
   "metadata": {},
   "outputs": [
    {
     "name": "stdout",
     "output_type": "stream",
     "text": [
      "Totale domande selezionate: 181\n",
      "\n",
      "=== TUTTE LE DOMANDE SELEZIONATE ===\n",
      "  1. 1.1 Ruolo:\n",
      "  2. 1.1 Ruolo: [Altro]\n",
      "  3. 1.2 Età:\n",
      "  4. 1.3 Genere:\n",
      "  5. 1.4 Titolo di studio (indichi tutti i titoli posseduti): [laurea ]\n",
      "  6. 1.4 Titolo di studio (indichi tutti i titoli posseduti): [corsi di perfezionamento ]\n",
      "  7. 1.4 Titolo di studio (indichi tutti i titoli posseduti): [corsi di specializzazione ]\n",
      "  8. 1.4 Titolo di studio (indichi tutti i titoli posseduti): [master ]\n",
      "  9. 1.4 Titolo di studio (indichi tutti i titoli posseduti): [dottorato ]\n",
      " 10. 1.5 Anzianità di servizio non di ruolo nella scuola:\n",
      " 11. 1.6 Anzianità di servizio di ruolo nella scuola:\n",
      " 12. 1.7 Attualmente svolge altri incarichi (vicepreside, funzione strumentale etc.)? \n",
      " 13. 1.7.b Specificare:\n",
      " 14. 1.8 Per quale classe di concorso ha conseguito l’abilitazione all’insegnamento? Se ha conseguito l’abilitazione per più classi di concorso, le indichi separandole con una virgola (es. A012,A013)\n",
      " 15. 1.9 Insegnamento in qualità di docente per le attività di sostegno \n",
      " 16. 2.1 Nel PTOF della sua scuola è prevista una sezione dedicata all’orientamento?\n",
      " 17. 2.2 Le attività di orientamento prevedono interventi organizzati [all’interno della scuola ]\n",
      " 18. 2.2 Le attività di orientamento prevedono interventi organizzati [sul territorio in collaborazione con le università]\n",
      " 19. 2.2 Le attività di orientamento prevedono interventi organizzati [sul territorio in collaborazione con le aziende locali]\n",
      " 20. 2.2 Le attività di orientamento prevedono interventi organizzati [sul territorio in collaborazione con enti pubblici territoriali (regioni, comuni, province, città metropolitane, comunità montane etc.)]\n",
      " 21. 2.2 Le attività di orientamento prevedono interventi organizzati [sul territorio in collaborazione con enti del terzo settore (cooperative, associazioni no profit etc.)]\n",
      " 22. 2.3 Le attività di orientamento indicate nel PTOF sono finalizzate a [valorizzare le attitudini e le inclinazioni dello studente]\n",
      " 23. 2.3 Le attività di orientamento indicate nel PTOF sono finalizzate a [valorizzare gli interessi e le preferenze dello studente]\n",
      " 24. 2.3 Le attività di orientamento indicate nel PTOF sono finalizzate a [accompagnare lo studente nell’elaborazione critica del proprio progetto di vita]\n",
      " 25. 2.3 Le attività di orientamento indicate nel PTOF sono finalizzate a [accompagnare lo studente nelle transizioni formative e professionali]\n",
      " 26. 2.4 Le attività di orientamento indicate nel PTOF prevedono interventi mirati al raggiungimento dei seguenti obiettivi: [ridurre l’abbandono scolastico ]\n",
      " 27. 2.4 Le attività di orientamento indicate nel PTOF prevedono interventi mirati al raggiungimento dei seguenti obiettivi: [favorire la continuità formativa tra scuola e realtà socioeconomica del territorio]\n",
      " 28. 2.4 Le attività di orientamento indicate nel PTOF prevedono interventi mirati al raggiungimento dei seguenti obiettivi: [contrastare il fenomeno dei NEET (ragazzi che non studiano, non lavorano, non seguono corsi di formazione)]\n",
      " 29. 2.4 Le attività di orientamento indicate nel PTOF prevedono interventi mirati al raggiungimento dei seguenti obiettivi: [favorire l’educazione all’apprendimento e alla formazione permanente ]\n",
      " 30. 2.5 Le azioni di orientamento indicate nel PTOF prevedono l’adozione di iniziative volte a promuovere [attività che partano dall’esperienza degli studenti]\n",
      " 31. 2.5 Le azioni di orientamento indicate nel PTOF prevedono l’adozione di iniziative volte a promuovere [didattica laboratoriale]\n",
      " 32. 2.5 Le azioni di orientamento indicate nel PTOF prevedono l’adozione di iniziative volte a promuovere [flessibilità degli spazi e dei tempi]\n",
      " 33. 2.5 Le azioni di orientamento indicate nel PTOF prevedono l’adozione di iniziative volte a promuovere [attività di “Accoglienza e Orientamento”]\n",
      " 34. 2.6 Nel PTOF, la prospettiva orientativa è inserita nella didattica attraverso  [attività che partano dall’esperienza degli studenti]\n",
      " 35. 2.6 Nel PTOF, la prospettiva orientativa è inserita nella didattica attraverso  [didattica laboratoriale]\n",
      " 36. 2.6 Nel PTOF, la prospettiva orientativa è inserita nella didattica attraverso  [flessibilità degli spazi e dei tempi]\n",
      " 37. 2.7 Il PTOF garantisce agli studenti l’opportunità di fruire di attività opzionali e facoltative intra ed extra scolastiche  [culturali (teatro, musei, cinema, biblioteche etc.)]\n",
      " 38. 2.7 Il PTOF garantisce agli studenti l’opportunità di fruire di attività opzionali e facoltative intra ed extra scolastiche  [laboratoriali, espressive e creative (attività teatrali, musicali, artistiche etc.) ]\n",
      " 39. 2.7 Il PTOF garantisce agli studenti l’opportunità di fruire di attività opzionali e facoltative intra ed extra scolastiche  [ludiche e ricreative (coinvolgimento in giochi di varia tipologia indoor-outdoor)]\n",
      " 40. 2.7 Il PTOF garantisce agli studenti l’opportunità di fruire di attività opzionali e facoltative intra ed extra scolastiche  [di volontariato]\n",
      " 41. 2.7 Il PTOF garantisce agli studenti l’opportunità di fruire di attività opzionali e facoltative intra ed extra scolastiche  [sportive]\n",
      " 42. 2.8 Il PTOF prevede una rete di coordinamento fra istituzioni scolastiche e formative per facilitare eventuali passaggi orizzontali tra i percorsi presenti sul territorio? \n",
      " 43. 3.1 Per prepararsi a svolgere il suo ruolo di docente tutor o di docente orientatore per l’orientamento ha seguito corsi specifici?\n",
      " 44. 3.3 Il/I corso/i le ha consentito di approfondire conoscenze e/o sviluppare competenze dal punto di vista [teorico]\n",
      " 45. 3.3 Il/I corso/i le ha consentito di approfondire conoscenze e/o sviluppare competenze dal punto di vista [metodologico]\n",
      " 46. 3.3 Il/I corso/i le ha consentito di approfondire conoscenze e/o sviluppare competenze dal punto di vista [operativo]\n",
      " 47. 3.4 Per prepararsi a svolgere la sua funzione di docente referente per l'accoglienza e l'orientamento ha avuto la possibilità di approfondire [i materiali messi a disposizione sulla piattaforma UNICA del MIM]\n",
      " 48. 3.4 Per prepararsi a svolgere la sua funzione di docente referente per l'accoglienza e l'orientamento ha avuto la possibilità di approfondire [attività di orientamento finalizzate a studi e carriere professionali nelle discipline STEM]\n",
      " 49. 3.4 Per prepararsi a svolgere la sua funzione di docente referente per l'accoglienza e l'orientamento ha avuto la possibilità di approfondire [questioni legate allo sviluppo del sistema di formazione terziaria degli ITS Academy]\n",
      " 50. 3.4 Per prepararsi a svolgere la sua funzione di docente referente per l'accoglienza e l'orientamento ha avuto la possibilità di approfondire [questioni legate al disagio e all’abbandono scolastico ]\n",
      " 51. 3.4 Per prepararsi a svolgere la sua funzione di docente referente per l'accoglienza e l'orientamento ha avuto la possibilità di approfondire [questioni legate alla disabilità (DSA, BES etc.)]\n",
      " 52. 3.4 Per prepararsi a svolgere la sua funzione di docente referente per l'accoglienza e l'orientamento ha avuto la possibilità di approfondire [questioni legate alla digitalizzazione ]\n",
      " 53. 3.4 Per prepararsi a svolgere la sua funzione di docente referente per l'accoglienza e l'orientamento ha avuto la possibilità di approfondire [questioni legate all’utilizzo di metodologie didattiche innovative]\n",
      " 54. 3.5 Ritiene che le linee guida sull’orientamento (decreto ministerale n. 328/22) esprimano con chiarezza [l’impianto metodologico da seguire per lo sviluppo di azioni di orientamento efficaci]\n",
      " 55. 3.5 Ritiene che le linee guida sull’orientamento (decreto ministerale n. 328/22) esprimano con chiarezza [il percorso di formazione richiesto ai docenti tutor per l’orientamento]\n",
      " 56. 3.5 Ritiene che le linee guida sull’orientamento (decreto ministerale n. 328/22) esprimano con chiarezza [il modo in cui articolare progetti di didattica orientativa/moduli curricolari per l’orientamento]\n",
      " 57. 3.5 Ritiene che le linee guida sull’orientamento (decreto ministerale n. 328/22) esprimano con chiarezza [il modo in cui certificare le competenze chiave utili all’orientamento nella prospettiva dell’apprendimento permanente ]\n",
      " 58. 3.5 Ritiene che le linee guida sull’orientamento (decreto ministerale n. 328/22) esprimano con chiarezza [la funzione dell’ePortfolio come strumento di accompagnamento dal I grado fino al termine del II grado]\n",
      " 59. 3.5 Ritiene che le linee guida sull’orientamento (decreto ministerale n. 328/22) esprimano con chiarezza [la modalità in cui effettuare il monitoraggio relativo all’attuazione delle linee guida ]\n",
      " 60. 3.6 Il CPIA in cui presta servizio fa riferimento a specifici modelli di orientamento?\n",
      " 61. 3.8 Le pratiche di orientamento nella sua scuola fanno riferimento ad attività di tipo [informativo, ovvero centrato sulle offerte formative post-diploma (indirizzi universitari, scuole di formazione professionale, richieste dal mondo del lavoro, indicazioni sui profili professionali emergenti)]\n",
      " 62. 3.8 Le pratiche di orientamento nella sua scuola fanno riferimento ad attività di tipo [psicodiagnostico, ovvero centrato sulla diagnosi di caratteristiche e tratti peculiari della personalità che possano orientare le scelte universitarie o lavorative]\n",
      " 63. 3.8 Le pratiche di orientamento nella sua scuola fanno riferimento ad attività di tipo [formativo, ovvero centrato sulla progettazione di un intervento didattico curriculare che tenga conto degli apprendimenti formali, non formali e informali dello studente e lo accompagni nella costruzione del percorso di vita ]\n",
      " 64. 3.9 Quanto spesso il CPIA dove presta servizio organizza le seguenti attività di orientamento? [Interventi di docenti della formazione professionale ]\n",
      " 65. 3.9 Quanto spesso il CPIA dove presta servizio organizza le seguenti attività di orientamento? [Interventi di esperti del mondo del lavoro]\n",
      " 66. 3.9 Quanto spesso il CPIA dove presta servizio organizza le seguenti attività di orientamento? [Interventi di esperti di ambito psicodiagnostico ]\n",
      " 67. 3.9 Quanto spesso il CPIA dove presta servizio organizza le seguenti attività di orientamento? [Affiancamento, da parte del tutor, per un orientamento personalizzato]\n",
      " 68. 3.9 Quanto spesso il CPIA dove presta servizio organizza le seguenti attività di orientamento? [Incontri finalizzati all’utilizzo di strumenti per la costruzione della storia dello studente (ePortfolio; bilancio di competenze etc.)]\n",
      " 69. 3.9 Quanto spesso il CPIA dove presta servizio organizza le seguenti attività di orientamento? [Attività di “Accoglienza e Orientamento”]\n",
      " 70. 3.10 Per migliorare le competenze di orientamento degli studenti, quali attività ritiene maggiormente efficaci per il CPIA in cui presta servizio? [Interventi di docenti della formazione professionale ]\n",
      " 71. 3.10 Per migliorare le competenze di orientamento degli studenti, quali attività ritiene maggiormente efficaci per il CPIA in cui presta servizio? [Interventi di esperti del mondo del lavoro ]\n",
      " 72. 3.10 Per migliorare le competenze di orientamento degli studenti, quali attività ritiene maggiormente efficaci per il CPIA in cui presta servizio? [Interventi di esperti di ambito counseling psicopedagogico]\n",
      " 73. 3.10 Per migliorare le competenze di orientamento degli studenti, quali attività ritiene maggiormente efficaci per il CPIA in cui presta servizio? [Affiancamento, da parte del tutor, per un orientamento personalizzato]\n",
      " 74. 3.10 Per migliorare le competenze di orientamento degli studenti, quali attività ritiene maggiormente efficaci per il CPIA in cui presta servizio? [Progettazione di interventi di didattica disciplinare con fini orientativi]\n",
      " 75. 3.10 Per migliorare le competenze di orientamento degli studenti, quali attività ritiene maggiormente efficaci per il CPIA in cui presta servizio? [Progettazione di interventi di didattica interdisciplinare con fini orientativi]\n",
      " 76. 3.10 Per migliorare le competenze di orientamento degli studenti, quali attività ritiene maggiormente efficaci per il CPIA in cui presta servizio? [Incontri finalizzati all’utilizzo di strumenti per la costruzione della storia dello studente (ePortfolio; bilancio di competenze etc.)]\n",
      " 77. 3.11 Nel CPIA in cui presta servizio attualmente le attività di orientamento sono gestite [esclusivamente dal docente che si occupa dell'accoglienza]\n",
      " 78. 3.11 Nel CPIA in cui presta servizio attualmente le attività di orientamento sono gestite [dal docente che si occupa dell'accoglienza affiancato da altri docenti]\n",
      " 79. 3.11 Nel CPIA in cui presta servizio attualmente le attività di orientamento sono gestite [dai docenti con il coordinamento dal docente che si occupa dell'accoglienza]\n",
      " 80. 3.11 Nel CPIA in cui presta servizio attualmente le attività di orientamento sono gestite [dal docente che si occupa dell'accoglienza supportato dal personale ATA]\n",
      " 81. 3.12 Nel CPIA in cui presta servizio sono attivi i percorsi PCTO?\n",
      " 82. 3.13 Ritiene che i percorsi di PCTO attivati nel CPIA in cui presta servizio debbano  [essere proposti in base alla specificità del percorso di studi seguito presso il CPIA]\n",
      " 83. 3.13 Ritiene che i percorsi di PCTO attivati nel CPIA in cui presta servizio debbano  [aprire nuove prospettive per gli studenti, anche se non in linea con il percorso di studi seguito presso il CPIA]\n",
      " 84. 3.13 Ritiene che i percorsi di PCTO attivati nel CPIA in cui presta servizio debbano  [divenire parte integrante del curricolo: i docenti dovrebbero tenere conto del percorso PCTO nella riprogettazione delle attività curricolari]\n",
      " 85. 3.13 Ritiene che i percorsi di PCTO attivati nel CPIA in cui presta servizio debbano  [promuovere una interazione partecipativa in aula, con lo scopo di valorizzare l’esperienza svolta e rendere gli studenti protagonisti del processo orientativo]\n",
      " 86. 3.13 Ritiene che i percorsi di PCTO attivati nel CPIA in cui presta servizio debbano  [rimanere legati alle esperienze extrascolastiche: non è possibile ricondurre ogni attività al curricolo]\n",
      " 87. 3.14 Il percorso di 30 ore, che fa parte dei moduli di orientamento previsti dalle linee guida, è stato attivato nel CPIA dove presta servizio?\n",
      " 88. 3.15 il percorso è progettato per essere svolto [nell’orario scolastico]\n",
      " 89. 3.15 il percorso è progettato per essere svolto [al di fuori dell’orario scolastico]\n",
      " 90. 3.15 il percorso è progettato per essere svolto [in modo interdisciplinare tra i docenti di ciascun consiglio di livello/consiglio di classe]\n",
      " 91. 3.15 il percorso è progettato per essere svolto [a livello di istituto in modo differenziato per percorsi di istruzione (I e II livello, percorsi di alfabetizzazione della lingua italiana)]\n",
      " 92. 3.15 il percorso è progettato per essere svolto [in attività laboratoriali trasversali alle classi e ai percorsi]\n",
      " 93. 3.15 il percorso è progettato per essere svolto [in accordo con gli studenti ]\n",
      " 94. 3.15 il percorso è progettato per essere svolto [avvalendosi del contributo di agenti esterni al CPIA (aziende, istituzioni territoriali, università)]\n",
      " 95. 3.16 Nel CPIA è disponibile uno sportello per gli utenti dell'orientamento?\n",
      " 96. 4.1 Nella scuola secondaria di I grado è previsto il rilascio del “consiglio di orientamento” finale sul percorso di formazione da intraprendere nel secondo ciclo. Nel CPIA in cui presta servizio, il “consiglio di orientamento” viene fornito al termine del percorso di I livello?\n",
      " 97. 4.2 In che modo viene formulato? [Attraverso test psicodiagnostici somministrati da un esperto]\n",
      " 98. 4.2 In che modo viene formulato? [Sulla base dell’analisi documentata del percorso di studio, effettuata dal consiglio di classe/di livello]\n",
      " 99. 4.2 In che modo viene formulato? [Sulla base dell’analisi documentata del percorso di studio, effettuata dal docente referente per l'orientamento]\n",
      "100. 4.2 In che modo viene formulato? [Sulla base dell’analisi delle attività scolastiche ed extrascolastiche documentate, effettuata dal consiglio di classe/di livello]\n",
      "101. 4.2 In che modo viene formulato? [Sulla base dell’analisi delle attività scolastiche ed extrascolastiche documentate, effettuata dal docente referente per l'orientamento]\n",
      "102. 4.2 In che modo viene formulato? [Sulla base dell’analisi delle competenze certificate secondo i modelli previsti dal MIM]\n",
      "103. 4.2 In che modo viene formulato? [Attraverso la lettura e l’analisi dell’e-portfolio]\n",
      "104. 4.3 Gli strumenti per l’orientamento attualmente utilizzati nel CPIA in cui presta servizio sono prevalentemente [test per la diagnosi delle attitudini dello studente ]\n",
      "105. 4.3 Gli strumenti per l’orientamento attualmente utilizzati nel CPIA in cui presta servizio sono prevalentemente [test per la rilevazione di abilità e competenze dello studente]\n",
      "106. 4.3 Gli strumenti per l’orientamento attualmente utilizzati nel CPIA in cui presta servizio sono prevalentemente [questionari per l’autovalutazione delle proprie strategie di apprendimento]\n",
      "107. 4.3 Gli strumenti per l’orientamento attualmente utilizzati nel CPIA in cui presta servizio sono prevalentemente [questionari per l’autovalutazione di interessi e inclinazioni ]\n",
      "108. 4.3 Gli strumenti per l’orientamento attualmente utilizzati nel CPIA in cui presta servizio sono prevalentemente [dispositivi per la riflessione sul percorso di formazione (colloquio, ePortfolio, bilancio delle competenze etc.)]\n",
      "109. 4.3 Gli strumenti per l’orientamento attualmente utilizzati nel CPIA in cui presta servizio sono prevalentemente [dispositivi per l’autonarrazione del percorso di formazione (colloquio, ePortfolio, bilancio delle competenze etc.)]\n",
      "110. 4.4 Per migliorare le capacità di orientamento degli studenti, quali strumenti ritiene che dovrebbero essere utilizzati nel CPIA in cui presta servizio? [Test per la diagnosi delle attitudini dello studente ]\n",
      "111. 4.4 Per migliorare le capacità di orientamento degli studenti, quali strumenti ritiene che dovrebbero essere utilizzati nel CPIA in cui presta servizio? [Test per la rilevazione di abilità e competenze dello studente]\n",
      "112. 4.4 Per migliorare le capacità di orientamento degli studenti, quali strumenti ritiene che dovrebbero essere utilizzati nel CPIA in cui presta servizio? [Questionari per l’autovalutazione delle proprie strategie di apprendimento ]\n",
      "113. 4.4 Per migliorare le capacità di orientamento degli studenti, quali strumenti ritiene che dovrebbero essere utilizzati nel CPIA in cui presta servizio? [Questionari per l’autovalutazione di interessi e inclinazioni ]\n",
      "114. 4.4 Per migliorare le capacità di orientamento degli studenti, quali strumenti ritiene che dovrebbero essere utilizzati nel CPIA in cui presta servizio? [Dispositivi per la riflessione sul percorso di formazione (colloquio, ePortfolio, bilancio delle competenze etc.)]\n",
      "115. 4.4 Per migliorare le capacità di orientamento degli studenti, quali strumenti ritiene che dovrebbero essere utilizzati nel CPIA in cui presta servizio? [Dispositivi per l’autonarrazione del percorso di formazione (colloquio, ePortfolio, bilancio delle competenze etc.)]\n",
      "116. 4.5 Nel CPIA in cui presta servizio, attualmente si forniscono agli studenti istruzioni per [accedere a informazioni relative a offerte di lavoro, stage, tirocini attraverso canali tradizionali (uffici preposti; incontri in presenza nelle scuole o nelle università; meeting con aziende etc.)]\n",
      "117. 4.5 Nel CPIA in cui presta servizio, attualmente si forniscono agli studenti istruzioni per [navigare in banche dati per accedere a informazioni relative a offerte di lavoro, stage, tirocini (siti specifici del MIM; siti delle scuole; siti delle università; siti dedicati al matching; siti delle aziende etc.)]\n",
      "118. 4.5 Nel CPIA in cui presta servizio, attualmente si forniscono agli studenti istruzioni per [elaborare un CV utilizzando i formati europei in lingua italiana]\n",
      "119. 4.5 Nel CPIA in cui presta servizio, attualmente si forniscono agli studenti istruzioni per [elaborare un CV utilizzando i formati europei in lingua inglese]\n",
      "120. 4.5 Nel CPIA in cui presta servizio, attualmente si forniscono agli studenti istruzioni per [elaborare una lettera di presentazione in lingua italiana]\n",
      "121. 4.5 Nel CPIA in cui presta servizio, attualmente si forniscono agli studenti istruzioni per [elaborare una lettera di presentazione in lingua inglese]\n",
      "122. 4.5 Nel CPIA in cui presta servizio, attualmente si forniscono agli studenti istruzioni per [elaborare un CV amplificato utilizzando l’ePortfolio ]\n",
      "123. 4.6 Per migliorare le capacità di orientamento, ritiene che il CPIA in cui presta servizio dovrebbe fornire agli studenti strumenti per [accedere a informazioni relative a offerte di lavoro, stage, tirocini attraverso canali tradizionali (uffici preposti; incontri in presenza nelle scuole o nelle università; meeting con aziende etc)]\n",
      "124. 4.6 Per migliorare le capacità di orientamento, ritiene che il CPIA in cui presta servizio dovrebbe fornire agli studenti strumenti per [navigare in banche dati per accedere a informazioni relative a offerte di lavoro, stage, tirocini (siti specifici del MIM; siti delle scuole; siti delle università; siti dedicati al matching; siti delle aziende etc.)]\n",
      "125. 4.6 Per migliorare le capacità di orientamento, ritiene che il CPIA in cui presta servizio dovrebbe fornire agli studenti strumenti per [elaborare un CV utilizzando i formati europei in lingua italiana]\n",
      "126. 4.6 Per migliorare le capacità di orientamento, ritiene che il CPIA in cui presta servizio dovrebbe fornire agli studenti strumenti per [elaborare un CV utilizzando i formati europei in lingua inglese]\n",
      "127. 4.6 Per migliorare le capacità di orientamento, ritiene che il CPIA in cui presta servizio dovrebbe fornire agli studenti strumenti per [elaborare una lettera di presentazione in lingua italiana]\n",
      "128. 4.6 Per migliorare le capacità di orientamento, ritiene che il CPIA in cui presta servizio dovrebbe fornire agli studenti strumenti per [elaborare una lettera di presentazione in lingua inglese]\n",
      "129. 4.6 Per migliorare le capacità di orientamento, ritiene che il CPIA in cui presta servizio dovrebbe fornire agli studenti strumenti per [elaborare un CV amplificato utilizzando l’ePortfolio ]\n",
      "130. 4.7 Indicare i profili professionali del CPIA impegnati nelle attività di orientamento, specificando per ciascun profilo il numero delle figure presenti (se un profilo non è rappresentato, indicare 'zero'). Nel campo 'Altro (specificare)', elencare i profili distinti separandoli con il punto e virgola, indicando per ciascuno il relativo numero.  [Docente referente per l'accoglienza e orientamento]\n",
      "131. 4.7 Indicare i profili professionali del CPIA impegnati nelle attività di orientamento, specificando per ciascun profilo il numero delle figure presenti (se un profilo non è rappresentato, indicare 'zero'). Nel campo 'Altro (specificare)', elencare i profili distinti separandoli con il punto e virgola, indicando per ciascuno il relativo numero.  [Dirigente scolastico]\n",
      "132. 4.7 Indicare i profili professionali del CPIA impegnati nelle attività di orientamento, specificando per ciascun profilo il numero delle figure presenti (se un profilo non è rappresentato, indicare 'zero'). Nel campo 'Altro (specificare)', elencare i profili distinti separandoli con il punto e virgola, indicando per ciascuno il relativo numero.  [Docente (non referente per l'orientamento)]\n",
      "133. 4.7 Indicare i profili professionali del CPIA impegnati nelle attività di orientamento, specificando per ciascun profilo il numero delle figure presenti (se un profilo non è rappresentato, indicare 'zero'). Nel campo 'Altro (specificare)', elencare i profili distinti separandoli con il punto e virgola, indicando per ciascuno il relativo numero.  [Personale TAB]\n",
      "134. 4.7 Indicare i profili professionali del CPIA impegnati nelle attività di orientamento, specificando per ciascun profilo il numero delle figure presenti (se un profilo non è rappresentato, indicare 'zero'). Nel campo 'Altro (specificare)', elencare i profili distinti separandoli con il punto e virgola, indicando per ciascuno il relativo numero.  [Altro (specificare)]\n",
      "135. 5.1 Le pratiche di orientamento sviluppate dal CPIA in cui presta servizio prevedono  [incontri con le aziende locali e del territorio]\n",
      "136. 5.1 Le pratiche di orientamento sviluppate dal CPIA in cui presta servizio prevedono  [attivazione di PCTO presso le aziende locali e del territorio]\n",
      "137. 5.1 Le pratiche di orientamento sviluppate dal CPIA in cui presta servizio prevedono  [attivazione di tirocini e/o stage presso le aziende locali e del territorio]\n",
      "138. 5.1 Le pratiche di orientamento sviluppate dal CPIA in cui presta servizio prevedono  [organizzazione di visite didattiche presso le aziende locali e del territorio]\n",
      "139. 5.1 Le pratiche di orientamento sviluppate dal CPIA in cui presta servizio prevedono  [partecipazione a progetti in collaborazione con le aziende locali e del territorio]\n",
      "140. 5.1 Le pratiche di orientamento sviluppate dal CPIA in cui presta servizio prevedono  [incontri con rappresentanti delle istituzioni locali]\n",
      "141. 5.1 Le pratiche di orientamento sviluppate dal CPIA in cui presta servizio prevedono  [incontri con gli operatori dei centri per l’orientamento e/o per l’impiego]\n",
      "142. 5.1 Le pratiche di orientamento sviluppate dal CPIA in cui presta servizio prevedono  [attivazione di tirocini e/o stage presso le istituzioni locali]\n",
      "143. 5.1 Le pratiche di orientamento sviluppate dal CPIA in cui presta servizio prevedono  [organizzazione di visite didattiche presso le istituzioni locali]\n",
      "144. 5.1 Le pratiche di orientamento sviluppate dal CPIA in cui presta servizio prevedono  [partecipazione a progetti in collaborazione con le istituzioni locali]\n",
      "145. 5.2 Per la creazione di una rete territoriale per l’orientamento, il CPIA in cui presta servizio prevede  [lo sviluppo di piattaforme digitali che coinvolgano scuole, aziende e istituzioni del territorio]\n",
      "146. 5.2 Per la creazione di una rete territoriale per l’orientamento, il CPIA in cui presta servizio prevede  [incontri in presenza con scuole, aziende e istituzioni del territorio]\n",
      "147. 5.2 Per la creazione di una rete territoriale per l’orientamento, il CPIA in cui presta servizio prevede  [incontri online con scuole, aziende e istituzioni del territorio]\n",
      "148. 5.2 Per la creazione di una rete territoriale per l’orientamento, il CPIA in cui presta servizio prevede  [scambio di esperienze tra le scuole del territorio di ogni ordine e grado]\n",
      "149. 5.2 Per la creazione di una rete territoriale per l’orientamento, il CPIA in cui presta servizio prevede  [elaborazione e realizzazione di progetti tra le scuole del territorio di ogni ordine e grado]\n",
      "150. 6.1 Nel CPIA in cui presta servizio è presente un sistema di monitoraggio delle azioni di orientamento? \n",
      "151. 6.2 Chi se ne occupa?  [il dirigente scolastico]\n",
      "152. 6.2 Chi se ne occupa?  [il docente che si occupa dell’accoglienza e dell’orientamento]\n",
      "153. 6.2 Chi se ne occupa?  [il docente che si occupa dell’accoglienza e dell’orientamento affiancato dai docenti dei consigli di livello]\n",
      "154. 6.2 Chi se ne occupa?  [esperto esterno]\n",
      "155. 6.3 Quali attività di orientamento sono oggetto di monitoraggio? [Gli interventi formativi/informativi effettuati in ambito scolastico (rilevazione sistematica del gradimento degli interventi in aula o in istituto da parte di esperti esterni o dei docenti tutor etc.)]\n",
      "156. 6.3 Quali attività di orientamento sono oggetto di monitoraggio? [Gli interventi formativi/informativi effettuati in ambito extrascolastico (rilevazione sistematica del gradimento della partecipazione ad eventi organizzati dalle università o da istituzioni per la formazione di terzo livello etc.)]\n",
      "157. 6.3 Quali attività di orientamento sono oggetto di monitoraggio? [La partecipazione degli studenti agli interventi effettuati nel CPIA (rilevazione sistematica del numero di CV compilati, numero di siti online visitati, partecipazione attiva ai dibattiti etc.)]\n",
      "158. 6.3 Quali attività di orientamento sono oggetto di monitoraggio? [La partecipazione degli studenti agli interventi effettuati all’esterno del CPIA (rilevazione sistematica del numero di stand visitati nelle fiere, numero di partecipanti agli Open Day, numero partecipanti ai PCTO, restituzione attiva in classe delle esperienze effettuate etc.)]\n",
      "159. 6.3 Quali attività di orientamento sono oggetto di monitoraggio? [La redazione del consiglio di orientamento (rilevazione del grado di accordo delle figure parentali/educative/tutoriali etc.)]\n",
      "160. 6.3 Quali attività di orientamento sono oggetto di monitoraggio? [La redazione del curriculum dello studente (rilevazione del grado di accordo delle figure parentali/educative/tutoriali etc.)]\n",
      "161. 6.3 Quali attività di orientamento sono oggetto di monitoraggio? [La compilazione dell’ePortfolio disponibile sulla piattaforma UNICA del MIM]\n",
      "162. 6.3 Quali attività di orientamento sono oggetto di monitoraggio? [La compilazione del Dossier personale dell’IDA]\n",
      "163. 6.3 Quali attività di orientamento sono oggetto di monitoraggio? [La definizione del Patto formativo individuale]\n",
      "164. 6.3 Quali attività di orientamento sono oggetto di monitoraggio? [Il percorso di riconoscimento dei crediti ]\n",
      "165. 6.3 Quali attività di orientamento sono oggetto di monitoraggio? [Il periodo didattico dedicato alle attività di “Accoglienza e Orientamento”]\n",
      "166. 6.3 Quali attività di orientamento sono oggetto di monitoraggio? [La partecipazione delle istituzioni locali alle attività di orientamento presso il CPIA (numero e qualità degli interventi di ASL, biblioteche, centri per l’orientamento, centri per l’impiego etc.)]\n",
      "167. 6.3 Quali attività di orientamento sono oggetto di monitoraggio? [La partecipazione delle aziende locali alle attività di orientamento presso il CPIA (numero e qualità degli interventi delle aziende etc.)]\n",
      "168. 6.3 Quali attività di orientamento sono oggetto di monitoraggio? [La partecipazione delle figure parentali/educative/tutoriali alle attività di orientamento presso il CPIA (numero e qualità degli interventi etc.)]\n",
      "169. 6.3 Quali attività di orientamento sono oggetto di monitoraggio? [La verifica della coerenza tra le attività svolte e gli obiettivi del PTOF]\n",
      "170. 6.3 Quali attività di orientamento sono oggetto di monitoraggio? [L’utilizzo del RAV per l’individuazione dei fattori da rilevare, dei punti di forza e criticità, delle azioni di miglioramento]\n",
      "171. 6.4 Quali strumenti sono utilizzati per il monitoraggio delle azioni di orientamento? [Griglie di osservazione ]\n",
      "172. 6.4 Quali strumenti sono utilizzati per il monitoraggio delle azioni di orientamento? [Check-list ]\n",
      "173. 6.4 Quali strumenti sono utilizzati per il monitoraggio delle azioni di orientamento? [Diari di bordo ]\n",
      "174. 6.4 Quali strumenti sono utilizzati per il monitoraggio delle azioni di orientamento? [Questionari agli studenti ]\n",
      "175. 6.4 Quali strumenti sono utilizzati per il monitoraggio delle azioni di orientamento? [Questionari ai docenti ]\n",
      "176. 6.4 Quali strumenti sono utilizzati per il monitoraggio delle azioni di orientamento? [Questionari alle figure parentali/educative/tutoriali]\n",
      "177. 6.4 Quali strumenti sono utilizzati per il monitoraggio delle azioni di orientamento? [Questionari alle istituzioni locali]\n",
      "178. 6.4 Quali strumenti sono utilizzati per il monitoraggio delle azioni di orientamento? [Questionari alle aziende locali]\n",
      "179. 6.4 Quali strumenti sono utilizzati per il monitoraggio delle azioni di orientamento? [Questionari alle aziende in cui lo studente svolge il tirocinio]\n",
      "180. 6.4 Quali strumenti sono utilizzati per il monitoraggio delle azioni di orientamento? [Dossier personale dello studente ]\n",
      "181. 6.4 Quali strumenti sono utilizzati per il monitoraggio delle azioni di orientamento? [Contenuti elaborati nella definizione del Patto Formativo individuale, Dossier, Libretto dello studente]\n"
     ]
    }
   ],
   "source": [
    "# 3) Selezione colonne utili e dataset ridotto\n",
    "import pandas as pd, re\n",
    "OPEN_TEXT_KEYWORDS = [\n",
    "    'Specificare', 'Quali?', 'Quali ', 'Scriva', 'A quali', 'Indichi i corsi',\n",
    "    'titolo del corso', 'ente organizzatore', 'tipologia (master', 'durata (indicare in ore)',\n",
    "    'anno di conseguimento', 'Altro]'\n",
    "]\n",
    "META_EXACT = { 'ID risposta','Data invio','Ultima pagina','Lingua iniziale','Seme','Data di inizio','Data dellultima azione','file_number'}\n",
    "EXCLUDE_PREFIXES = ['Tempo totale','Tempo per il gruppo di domande','Tempo per la domanda']\n",
    "TITLE_OF_STUDY_WHITELIST = [\n",
    "    '1.4 Titolo di studio (indichi tutti i titoli posseduti): [diploma]',\n",
    "    '1.4 Titolo di studio (indichi tutti i titoli posseduti): [laurea]',\n",
    "    '1.4 Titolo di studio (indichi tutti i titoli posseduti): [corsi di perfezionamento ]',\n",
    "    '1.4 Titolo di studio (indichi tutti i titoli posseduti): [corsi di specializzazione ]',\n",
    "    '1.4 Titolo di studio (indichi tutti i titoli posseduti): [master ]',\n",
    "    '1.4 Titolo di studio (indichi tutti i titoli posseduti): [dottorato ]',\n",
    "]\n",
    "KEEP_PREFIXES = ['1.','2.','3.','4.','5.','6.','7.']\n",
    "KEEP_STRICT_PREFIXES = ['3.17 ']\n",
    "ha = pd.read_csv('header_analysis.csv')\n",
    "candidates = []\n",
    "def is_open_text(name:str)->bool:\n",
    "    nl=name.lower();\n",
    "    return any(k.lower() in nl for k in OPEN_TEXT_KEYWORDS)\n",
    "for _,row in ha.iterrows():\n",
    "    name = str(row['original_name'])\n",
    "    if name in META_EXACT or any(name.startswith(p) for p in EXCLUDE_PREFIXES):\n",
    "        continue\n",
    "    non_null = int(row.get('non_null_count',0))\n",
    "    unique_cnt = int(row.get('unique_count_non_null',0)) if pd.notna(row.get('unique_count_non_null',0)) else 0\n",
    "    if non_null==0: continue\n",
    "    if is_open_text(name) and unique_cnt>20: continue\n",
    "    if name in TITLE_OF_STUDY_WHITELIST: candidates.append(name); continue\n",
    "    if any(name.startswith(p) for p in KEEP_STRICT_PREFIXES): candidates.append(name); continue\n",
    "    if any(name.startswith(p) for p in KEEP_PREFIXES):\n",
    "        if is_open_text(name) and unique_cnt>20: continue\n",
    "        candidates.append(name)\n",
    "keep=[]; seen=set()\n",
    "for c in candidates:\n",
    "    if c not in seen:\n",
    "        keep.append(c); seen.add(c)\n",
    "subset = pd.read_excel('merged_results.xlsx')[ [c for c in keep if c in pd.read_excel('merged_results.xlsx').columns] ]\n",
    "subset.to_csv('dataset_domande.csv', index=False)\n",
    "\n",
    "print(f\"Totale domande selezionate: {len(keep)}\")\n",
    "print(\"\\n=== TUTTE LE DOMANDE SELEZIONATE ===\")\n",
    "for i, question in enumerate(keep, 1):\n",
    "    print(f\"{i:3d}. {question}\")"
   ]
  },
  {
   "cell_type": "code",
   "execution_count": 4,
   "id": "c2a6071a",
   "metadata": {},
   "outputs": [
    {
     "data": {
      "text/html": [
       "<div>\n",
       "<style scoped>\n",
       "    .dataframe tbody tr th:only-of-type {\n",
       "        vertical-align: middle;\n",
       "    }\n",
       "\n",
       "    .dataframe tbody tr th {\n",
       "        vertical-align: top;\n",
       "    }\n",
       "\n",
       "    .dataframe thead th {\n",
       "        text-align: right;\n",
       "    }\n",
       "</style>\n",
       "<table border=\"1\" class=\"dataframe\">\n",
       "  <thead>\n",
       "    <tr style=\"text-align: right;\">\n",
       "      <th></th>\n",
       "      <th>group</th>\n",
       "      <th>label</th>\n",
       "      <th>family</th>\n",
       "      <th>n_cols</th>\n",
       "    </tr>\n",
       "  </thead>\n",
       "  <tbody>\n",
       "    <tr>\n",
       "      <th>0</th>\n",
       "      <td>1.1</td>\n",
       "      <td>Ruolo</td>\n",
       "      <td>non-likert</td>\n",
       "      <td>2</td>\n",
       "    </tr>\n",
       "    <tr>\n",
       "      <th>1</th>\n",
       "      <td>1.2</td>\n",
       "      <td>Età</td>\n",
       "      <td>non-likert</td>\n",
       "      <td>1</td>\n",
       "    </tr>\n",
       "    <tr>\n",
       "      <th>2</th>\n",
       "      <td>1.3</td>\n",
       "      <td>Genere</td>\n",
       "      <td>non-likert</td>\n",
       "      <td>1</td>\n",
       "    </tr>\n",
       "    <tr>\n",
       "      <th>3</th>\n",
       "      <td>1.4</td>\n",
       "      <td>Titolo di studio (indichi tutti i titoli posse...</td>\n",
       "      <td>non-likert</td>\n",
       "      <td>7</td>\n",
       "    </tr>\n",
       "    <tr>\n",
       "      <th>4</th>\n",
       "      <td>1.5</td>\n",
       "      <td>Anzianità di servizio non di ruolo nella scuola</td>\n",
       "      <td>non-likert</td>\n",
       "      <td>1</td>\n",
       "    </tr>\n",
       "    <tr>\n",
       "      <th>5</th>\n",
       "      <td>1.6</td>\n",
       "      <td>Anzianità di servizio di ruolo nella scuola</td>\n",
       "      <td>non-likert</td>\n",
       "      <td>1</td>\n",
       "    </tr>\n",
       "    <tr>\n",
       "      <th>6</th>\n",
       "      <td>1.7</td>\n",
       "      <td>Attualmente svolge altri incarichi (vicepresid...</td>\n",
       "      <td>non-likert</td>\n",
       "      <td>1</td>\n",
       "    </tr>\n",
       "    <tr>\n",
       "      <th>7</th>\n",
       "      <td>1.8</td>\n",
       "      <td>Per quale classe di concorso ha conseguito l’a...</td>\n",
       "      <td>non-likert</td>\n",
       "      <td>1</td>\n",
       "    </tr>\n",
       "    <tr>\n",
       "      <th>8</th>\n",
       "      <td>1.9</td>\n",
       "      <td>Insegnamento in qualità di docente per le atti...</td>\n",
       "      <td>non-likert</td>\n",
       "      <td>1</td>\n",
       "    </tr>\n",
       "    <tr>\n",
       "      <th>9</th>\n",
       "      <td>1.10</td>\n",
       "      <td>Tipologia dell’istituto scolastico presso cui ...</td>\n",
       "      <td>non-likert</td>\n",
       "      <td>1</td>\n",
       "    </tr>\n",
       "    <tr>\n",
       "      <th>10</th>\n",
       "      <td>2.1</td>\n",
       "      <td>Nel PTOF della sua scuola è prevista una sezio...</td>\n",
       "      <td>non-likert</td>\n",
       "      <td>1</td>\n",
       "    </tr>\n",
       "    <tr>\n",
       "      <th>11</th>\n",
       "      <td>2.2</td>\n",
       "      <td>Le attività di orientamento prevedono interven...</td>\n",
       "      <td>non-likert</td>\n",
       "      <td>8</td>\n",
       "    </tr>\n",
       "    <tr>\n",
       "      <th>12</th>\n",
       "      <td>2.3</td>\n",
       "      <td>Le attività di orientamento indicate nel PTOF ...</td>\n",
       "      <td>intensita</td>\n",
       "      <td>5</td>\n",
       "    </tr>\n",
       "    <tr>\n",
       "      <th>13</th>\n",
       "      <td>2.4</td>\n",
       "      <td>Le attività di orientamento indicate nel PTOF ...</td>\n",
       "      <td>intensita</td>\n",
       "      <td>4</td>\n",
       "    </tr>\n",
       "    <tr>\n",
       "      <th>14</th>\n",
       "      <td>2.5</td>\n",
       "      <td>Le azioni di orientamento indicate nel PTOF pr...</td>\n",
       "      <td>intensita</td>\n",
       "      <td>5</td>\n",
       "    </tr>\n",
       "    <tr>\n",
       "      <th>15</th>\n",
       "      <td>2.6</td>\n",
       "      <td>Nel PTOF, la prospettiva orientativa è inserit...</td>\n",
       "      <td>intensita</td>\n",
       "      <td>4</td>\n",
       "    </tr>\n",
       "    <tr>\n",
       "      <th>16</th>\n",
       "      <td>2.7</td>\n",
       "      <td>Il PTOF garantisce agli studenti l’opportunità...</td>\n",
       "      <td>intensita</td>\n",
       "      <td>5</td>\n",
       "    </tr>\n",
       "    <tr>\n",
       "      <th>17</th>\n",
       "      <td>2.8</td>\n",
       "      <td>Il PTOF prevede una rete di coordinamento fra ...</td>\n",
       "      <td>non-likert</td>\n",
       "      <td>1</td>\n",
       "    </tr>\n",
       "    <tr>\n",
       "      <th>18</th>\n",
       "      <td>3.1</td>\n",
       "      <td>Per prepararsi a svolgere il suo ruolo di doce...</td>\n",
       "      <td>non-likert</td>\n",
       "      <td>1</td>\n",
       "    </tr>\n",
       "    <tr>\n",
       "      <th>19</th>\n",
       "      <td>3.2</td>\n",
       "      <td>Indichi i corsi (per un massimo di tre) [tipol...</td>\n",
       "      <td>non-likert</td>\n",
       "      <td>5</td>\n",
       "    </tr>\n",
       "    <tr>\n",
       "      <th>20</th>\n",
       "      <td>3.3</td>\n",
       "      <td>.Il/I corso/i le ha consentito di approfondire...</td>\n",
       "      <td>intensita</td>\n",
       "      <td>3</td>\n",
       "    </tr>\n",
       "    <tr>\n",
       "      <th>21</th>\n",
       "      <td>3.4</td>\n",
       "      <td>Per prepararsi a svolgere il suo ruolo, ha avu...</td>\n",
       "      <td>intensita</td>\n",
       "      <td>7</td>\n",
       "    </tr>\n",
       "    <tr>\n",
       "      <th>22</th>\n",
       "      <td>3.5</td>\n",
       "      <td>Ritiene che le linee guida sull’orientamento (...</td>\n",
       "      <td>intensita</td>\n",
       "      <td>6</td>\n",
       "    </tr>\n",
       "    <tr>\n",
       "      <th>23</th>\n",
       "      <td>3.6</td>\n",
       "      <td>La sua scuola fa riferimento a specifici model...</td>\n",
       "      <td>non-likert</td>\n",
       "      <td>1</td>\n",
       "    </tr>\n",
       "    <tr>\n",
       "      <th>24</th>\n",
       "      <td>3.8</td>\n",
       "      <td>Le pratiche di orientamento nella sua scuola f...</td>\n",
       "      <td>intensita</td>\n",
       "      <td>4</td>\n",
       "    </tr>\n",
       "    <tr>\n",
       "      <th>25</th>\n",
       "      <td>3.9</td>\n",
       "      <td>Quanto spesso la scuola organizza le seguenti ...</td>\n",
       "      <td>frequenza</td>\n",
       "      <td>9</td>\n",
       "    </tr>\n",
       "    <tr>\n",
       "      <th>26</th>\n",
       "      <td>3.10</td>\n",
       "      <td>Per migliorare le competenze di orientamento d...</td>\n",
       "      <td>intensita</td>\n",
       "      <td>8</td>\n",
       "    </tr>\n",
       "    <tr>\n",
       "      <th>27</th>\n",
       "      <td>3.11</td>\n",
       "      <td>Nella sua scuola attualmente le attività di or...</td>\n",
       "      <td>intensita</td>\n",
       "      <td>4</td>\n",
       "    </tr>\n",
       "    <tr>\n",
       "      <th>28</th>\n",
       "      <td>3.12</td>\n",
       "      <td>Ritiene che la riforma sull'orientamento abbia...</td>\n",
       "      <td>intensita</td>\n",
       "      <td>10</td>\n",
       "    </tr>\n",
       "    <tr>\n",
       "      <th>29</th>\n",
       "      <td>3.13</td>\n",
       "      <td>Ritiene che il docente tutor/docente orientato...</td>\n",
       "      <td>intensita</td>\n",
       "      <td>5</td>\n",
       "    </tr>\n",
       "    <tr>\n",
       "      <th>30</th>\n",
       "      <td>3.14</td>\n",
       "      <td>Ritiene che i percorsi di PCTO attivati nella ...</td>\n",
       "      <td>intensita</td>\n",
       "      <td>5</td>\n",
       "    </tr>\n",
       "    <tr>\n",
       "      <th>31</th>\n",
       "      <td>3.15</td>\n",
       "      <td>Il percorso di 30 ore, che fa parte dei moduli...</td>\n",
       "      <td>non-likert</td>\n",
       "      <td>8</td>\n",
       "    </tr>\n",
       "    <tr>\n",
       "      <th>32</th>\n",
       "      <td>3.16</td>\n",
       "      <td>Nell’Istituto scolastico è disponibile uno spo...</td>\n",
       "      <td>non-likert</td>\n",
       "      <td>1</td>\n",
       "    </tr>\n",
       "    <tr>\n",
       "      <th>33</th>\n",
       "      <td>3.17</td>\n",
       "      <td>Quali figure professionali, all’interno della ...</td>\n",
       "      <td>non-likert</td>\n",
       "      <td>3</td>\n",
       "    </tr>\n",
       "    <tr>\n",
       "      <th>34</th>\n",
       "      <td>4.1</td>\n",
       "      <td>In che modo viene costruito il \"Curriculum del...</td>\n",
       "      <td>non-likert</td>\n",
       "      <td>7</td>\n",
       "    </tr>\n",
       "    <tr>\n",
       "      <th>35</th>\n",
       "      <td>4.2</td>\n",
       "      <td>È prevista una modalità attraverso la quale la...</td>\n",
       "      <td>non-likert</td>\n",
       "      <td>1</td>\n",
       "    </tr>\n",
       "    <tr>\n",
       "      <th>36</th>\n",
       "      <td>4.3</td>\n",
       "      <td>Quale?</td>\n",
       "      <td>non-likert</td>\n",
       "      <td>6</td>\n",
       "    </tr>\n",
       "    <tr>\n",
       "      <th>37</th>\n",
       "      <td>4.4</td>\n",
       "      <td>È prevista una modalità attraverso la quale la...</td>\n",
       "      <td>non-likert</td>\n",
       "      <td>1</td>\n",
       "    </tr>\n",
       "    <tr>\n",
       "      <th>38</th>\n",
       "      <td>4.5</td>\n",
       "      <td>Quale?</td>\n",
       "      <td>non-likert</td>\n",
       "      <td>4</td>\n",
       "    </tr>\n",
       "    <tr>\n",
       "      <th>39</th>\n",
       "      <td>4.6</td>\n",
       "      <td>Gli strumenti per l’orientamento attualmente u...</td>\n",
       "      <td>non-likert</td>\n",
       "      <td>5</td>\n",
       "    </tr>\n",
       "    <tr>\n",
       "      <th>40</th>\n",
       "      <td>4.7</td>\n",
       "      <td>Per migliorare le capacità di orientamento deg...</td>\n",
       "      <td>non-likert</td>\n",
       "      <td>5</td>\n",
       "    </tr>\n",
       "    <tr>\n",
       "      <th>41</th>\n",
       "      <td>4.8</td>\n",
       "      <td>Nella sua scuola attualmente si forniscono agl...</td>\n",
       "      <td>non-likert</td>\n",
       "      <td>7</td>\n",
       "    </tr>\n",
       "    <tr>\n",
       "      <th>42</th>\n",
       "      <td>4.9</td>\n",
       "      <td>Per migliorare le capacità di orientamento, ri...</td>\n",
       "      <td>non-likert</td>\n",
       "      <td>7</td>\n",
       "    </tr>\n",
       "    <tr>\n",
       "      <th>43</th>\n",
       "      <td>5.1</td>\n",
       "      <td>Le pratiche di orientamento sviluppate dalla s...</td>\n",
       "      <td>non-likert</td>\n",
       "      <td>12</td>\n",
       "    </tr>\n",
       "    <tr>\n",
       "      <th>44</th>\n",
       "      <td>5.2</td>\n",
       "      <td>Per la creazione di una rete territoriale per ...</td>\n",
       "      <td>intensita</td>\n",
       "      <td>11</td>\n",
       "    </tr>\n",
       "    <tr>\n",
       "      <th>45</th>\n",
       "      <td>5.3</td>\n",
       "      <td>Indichi quanto spesso partecipa a progetti sul...</td>\n",
       "      <td>intensita</td>\n",
       "      <td>5</td>\n",
       "    </tr>\n",
       "    <tr>\n",
       "      <th>46</th>\n",
       "      <td>6.1</td>\n",
       "      <td>Quali tra le seguenti attività sono oggetto di...</td>\n",
       "      <td>intensita</td>\n",
       "      <td>9</td>\n",
       "    </tr>\n",
       "    <tr>\n",
       "      <th>47</th>\n",
       "      <td>6.2</td>\n",
       "      <td>Nella sua scuola chi si occupa di gestire le a...</td>\n",
       "      <td>non-likert</td>\n",
       "      <td>12</td>\n",
       "    </tr>\n",
       "    <tr>\n",
       "      <th>48</th>\n",
       "      <td>6.3</td>\n",
       "      <td>Quali strumenti sono utilizzati per il monitor...</td>\n",
       "      <td>non-likert</td>\n",
       "      <td>8</td>\n",
       "    </tr>\n",
       "  </tbody>\n",
       "</table>\n",
       "</div>"
      ],
      "text/plain": [
       "   group                                              label      family  \\\n",
       "0    1.1                                              Ruolo  non-likert   \n",
       "1    1.2                                                Età  non-likert   \n",
       "2    1.3                                             Genere  non-likert   \n",
       "3    1.4  Titolo di studio (indichi tutti i titoli posse...  non-likert   \n",
       "4    1.5    Anzianità di servizio non di ruolo nella scuola  non-likert   \n",
       "5    1.6        Anzianità di servizio di ruolo nella scuola  non-likert   \n",
       "6    1.7  Attualmente svolge altri incarichi (vicepresid...  non-likert   \n",
       "7    1.8  Per quale classe di concorso ha conseguito l’a...  non-likert   \n",
       "8    1.9  Insegnamento in qualità di docente per le atti...  non-likert   \n",
       "9   1.10  Tipologia dell’istituto scolastico presso cui ...  non-likert   \n",
       "10   2.1  Nel PTOF della sua scuola è prevista una sezio...  non-likert   \n",
       "11   2.2  Le attività di orientamento prevedono interven...  non-likert   \n",
       "12   2.3  Le attività di orientamento indicate nel PTOF ...   intensita   \n",
       "13   2.4  Le attività di orientamento indicate nel PTOF ...   intensita   \n",
       "14   2.5  Le azioni di orientamento indicate nel PTOF pr...   intensita   \n",
       "15   2.6  Nel PTOF, la prospettiva orientativa è inserit...   intensita   \n",
       "16   2.7  Il PTOF garantisce agli studenti l’opportunità...   intensita   \n",
       "17   2.8  Il PTOF prevede una rete di coordinamento fra ...  non-likert   \n",
       "18   3.1  Per prepararsi a svolgere il suo ruolo di doce...  non-likert   \n",
       "19   3.2  Indichi i corsi (per un massimo di tre) [tipol...  non-likert   \n",
       "20   3.3  .Il/I corso/i le ha consentito di approfondire...   intensita   \n",
       "21   3.4  Per prepararsi a svolgere il suo ruolo, ha avu...   intensita   \n",
       "22   3.5  Ritiene che le linee guida sull’orientamento (...   intensita   \n",
       "23   3.6  La sua scuola fa riferimento a specifici model...  non-likert   \n",
       "24   3.8  Le pratiche di orientamento nella sua scuola f...   intensita   \n",
       "25   3.9  Quanto spesso la scuola organizza le seguenti ...   frequenza   \n",
       "26  3.10  Per migliorare le competenze di orientamento d...   intensita   \n",
       "27  3.11  Nella sua scuola attualmente le attività di or...   intensita   \n",
       "28  3.12  Ritiene che la riforma sull'orientamento abbia...   intensita   \n",
       "29  3.13  Ritiene che il docente tutor/docente orientato...   intensita   \n",
       "30  3.14  Ritiene che i percorsi di PCTO attivati nella ...   intensita   \n",
       "31  3.15  Il percorso di 30 ore, che fa parte dei moduli...  non-likert   \n",
       "32  3.16  Nell’Istituto scolastico è disponibile uno spo...  non-likert   \n",
       "33  3.17  Quali figure professionali, all’interno della ...  non-likert   \n",
       "34   4.1  In che modo viene costruito il \"Curriculum del...  non-likert   \n",
       "35   4.2  È prevista una modalità attraverso la quale la...  non-likert   \n",
       "36   4.3                                             Quale?  non-likert   \n",
       "37   4.4  È prevista una modalità attraverso la quale la...  non-likert   \n",
       "38   4.5                                             Quale?  non-likert   \n",
       "39   4.6  Gli strumenti per l’orientamento attualmente u...  non-likert   \n",
       "40   4.7  Per migliorare le capacità di orientamento deg...  non-likert   \n",
       "41   4.8  Nella sua scuola attualmente si forniscono agl...  non-likert   \n",
       "42   4.9  Per migliorare le capacità di orientamento, ri...  non-likert   \n",
       "43   5.1  Le pratiche di orientamento sviluppate dalla s...  non-likert   \n",
       "44   5.2  Per la creazione di una rete territoriale per ...   intensita   \n",
       "45   5.3  Indichi quanto spesso partecipa a progetti sul...   intensita   \n",
       "46   6.1  Quali tra le seguenti attività sono oggetto di...   intensita   \n",
       "47   6.2  Nella sua scuola chi si occupa di gestire le a...  non-likert   \n",
       "48   6.3  Quali strumenti sono utilizzati per il monitor...  non-likert   \n",
       "\n",
       "    n_cols  \n",
       "0        2  \n",
       "1        1  \n",
       "2        1  \n",
       "3        7  \n",
       "4        1  \n",
       "5        1  \n",
       "6        1  \n",
       "7        1  \n",
       "8        1  \n",
       "9        1  \n",
       "10       1  \n",
       "11       8  \n",
       "12       5  \n",
       "13       4  \n",
       "14       5  \n",
       "15       4  \n",
       "16       5  \n",
       "17       1  \n",
       "18       1  \n",
       "19       5  \n",
       "20       3  \n",
       "21       7  \n",
       "22       6  \n",
       "23       1  \n",
       "24       4  \n",
       "25       9  \n",
       "26       8  \n",
       "27       4  \n",
       "28      10  \n",
       "29       5  \n",
       "30       5  \n",
       "31       8  \n",
       "32       1  \n",
       "33       3  \n",
       "34       7  \n",
       "35       1  \n",
       "36       6  \n",
       "37       1  \n",
       "38       4  \n",
       "39       5  \n",
       "40       5  \n",
       "41       7  \n",
       "42       7  \n",
       "43      12  \n",
       "44      11  \n",
       "45       5  \n",
       "46       9  \n",
       "47      12  \n",
       "48       8  "
      ]
     },
     "execution_count": 4,
     "metadata": {},
     "output_type": "execute_result"
    }
   ],
   "source": [
    "# 4) Analisi domande: raggruppamento e rilevazione Likert (senza grafici)\n",
    "import re, pandas as pd, unicodedata\n",
    "\n",
    "# 4.1 Carica dataset (se non esiste già in memoria)\n",
    "try:\n",
    "    _ = data  # verifica esistenza\n",
    "except NameError:\n",
    "    try:\n",
    "        data = pd.read_csv('dataset_domande.csv')\n",
    "    except FileNotFoundError:\n",
    "        data = pd.read_excel('merged_results.xlsx')\n",
    "\n",
    "# 4.2 Utility testo\n",
    "\n",
    "def strip_accents(s: str) -> str:\n",
    "    if s is None:\n",
    "        return ''\n",
    "    s = str(s)\n",
    "    nfkd = unicodedata.normalize('NFKD', s)\n",
    "    return ''.join(ch for ch in nfkd if not unicodedata.combining(ch))\n",
    "\n",
    "def norm_txt(s: str) -> str:\n",
    "    s = strip_accents(s).lower().strip()\n",
    "    s = re.sub(r'\\s+', ' ', s)\n",
    "    return s\n",
    "\n",
    "# 4.3 Raggruppa colonne per prefisso numerico (es. '2.3')\n",
    "num_pat = re.compile(r'^(\\d+\\.\\d+)(?:[\\s\\S]*)$')\n",
    "question_groups = {}\n",
    "for col in data.columns:\n",
    "    m = num_pat.match(col)\n",
    "    if m:\n",
    "        key = m.group(1)\n",
    "        question_groups.setdefault(key, []).append(col)\n",
    "\n",
    "# 4.4 Etichetta leggibile domanda (numero — testo)\n",
    "clean_q_text_pat_prefix = re.compile(r'^\\d+\\.\\d+\\s*')\n",
    "clean_q_text_pat_brackets = re.compile(r'\\s*\\[[^\\]]+\\]\\s*$')\n",
    "\n",
    "def clean_question_text(col: str) -> str:\n",
    "    s = str(col)\n",
    "    s = clean_q_text_pat_prefix.sub('', s).strip()\n",
    "    s = clean_q_text_pat_brackets.sub('', s).strip()\n",
    "    s = s.rstrip(':').strip()\n",
    "    return s\n",
    "\n",
    "group_labels = {}\n",
    "for key, cols in question_groups.items():\n",
    "    texts = [clean_question_text(c) for c in cols if c]\n",
    "    group_labels[key] = max(set(texts), key=lambda t: (texts.count(t), len(t))) if texts else key\n",
    "\n",
    "# 4.5 Definizione famiglie Likert e token mapping\n",
    "LIKERT_FAMILIES = {\n",
    "    'intensita': {\n",
    "        'order': ['Per nulla', 'Poco', 'Abbastanza', 'Molto', 'Moltissimo'],\n",
    "        'tokens': {\n",
    "            'per nulla': 'Per nulla', 'per niente': 'Per nulla', 'niente affatto': 'Per nulla',\n",
    "            'poco': 'Poco',\n",
    "            'abbastanza': 'Abbastanza', 'sufficientemente': 'Abbastanza', 'mediamente': 'Abbastanza',\n",
    "            'molto': 'Molto', 'tanto': 'Molto',\n",
    "            'moltissimo': 'Moltissimo', 'estremamente': 'Moltissimo'\n",
    "        }\n",
    "    },\n",
    "    'accordo': {\n",
    "        'order': [\"Per nulla d'accordo\", \"In disaccordo\", 'Neutrale', \"D'accordo\", \"Molto d'accordo\"],\n",
    "        'tokens': {\n",
    "            \"per nulla d'accordo\": \"Per nulla d'accordo\", 'fortemente in disaccordo': \"Per nulla d'accordo\",\n",
    "            'in disaccordo': 'In disaccordo',\n",
    "            'neutrale': 'Neutrale', \"ne d'accordo ne in disaccordo\": 'Neutrale', 'indifferente': 'Neutrale',\n",
    "            \"d'accordo\": \"D'accordo\",\n",
    "            \"molto d'accordo\": \"Molto d'accordo\", \"completamente d'accordo\": \"Molto d'accordo\"\n",
    "        }\n",
    "    },\n",
    "    'frequenza': {\n",
    "        'order': ['Mai', 'Raramente', 'A volte', 'Spesso', 'Sempre'],\n",
    "        'tokens': {\n",
    "            'mai': 'Mai',\n",
    "            'raramente': 'Raramente', 'poco spesso': 'Raramente',\n",
    "            'a volte': 'A volte', 'talvolta': 'A volte', 'occasionalmente': 'A volte',\n",
    "            'spesso': 'Spesso', 'frequentemente': 'Spesso',\n",
    "            'sempre': 'Sempre', 'quasi sempre': 'Sempre'\n",
    "        }\n",
    "    },\n",
    "    'qualita': {\n",
    "        'order': ['Insufficiente', 'Sufficiente', 'Buona', 'Ottima'],\n",
    "        'tokens': {\n",
    "            'insufficiente': 'Insufficiente', 'scarsa': 'Insufficiente', 'pessima': 'Insufficiente',\n",
    "            'sufficiente': 'Sufficiente', 'discreta': 'Sufficiente',\n",
    "            'buona': 'Buona',\n",
    "            'ottima': 'Ottima', 'eccellente': 'Ottima'\n",
    "        }\n",
    "    }\n",
    "}\n",
    "\n",
    "# 4.6 Helper per rilevazione Likert e mapping\n",
    "\n",
    "def first_non_na(series: pd.Series):\n",
    "    for v in series:\n",
    "        if pd.notna(v) and str(v).strip() != '':\n",
    "            return v\n",
    "    return None\n",
    "\n",
    "def guess_family_from_first_row(cols):\n",
    "    fam_counts = {}\n",
    "    for c in cols:\n",
    "        v = first_non_na(data[c])\n",
    "        if v is None:\n",
    "            continue\n",
    "        nv = norm_txt(str(v))\n",
    "        matched_family = None\n",
    "        for fam, cfg in LIKERT_FAMILIES.items():\n",
    "            for token in cfg['tokens'].keys():\n",
    "                if token in nv:\n",
    "                    matched_family = fam\n",
    "                    break\n",
    "            if matched_family:\n",
    "                break\n",
    "        if matched_family:\n",
    "            fam_counts[matched_family] = fam_counts.get(matched_family, 0) + 1\n",
    "    return max(fam_counts, key=fam_counts.get) if fam_counts else None\n",
    "\n",
    "def map_value_to_canonical(v: str, family: str):\n",
    "    if pd.isna(v) or str(v).strip() == '':\n",
    "        return None\n",
    "    nv = norm_txt(str(v))\n",
    "    for token, canon in LIKERT_FAMILIES[family]['tokens'].items():\n",
    "        if token in nv:\n",
    "            return canon\n",
    "    return None\n",
    "\n",
    "# 4.7 Rileva famiglia Likert per ogni gruppo\n",
    "_group_families = {g: guess_family_from_first_row(cols) for g, cols in question_groups.items()}\n",
    "likert_summary = pd.DataFrame([\n",
    "    {\n",
    "        'group': g,\n",
    "        'label': group_labels.get(g, g),\n",
    "        'family': _group_families[g] if _group_families[g] else 'non-likert',\n",
    "        'n_cols': len(question_groups[g])\n",
    "    }\n",
    "    for g in sorted(question_groups.keys(), key=lambda k: (int(k.split('.')[0]), int(k.split('.')[1])))\n",
    "])\n",
    "\n",
    "# Mostra un estratto della sintesi\n",
    "likert_summary.head(200)"
   ]
  },
  {
   "cell_type": "code",
   "execution_count": 5,
   "id": "e7972099",
   "metadata": {},
   "outputs": [
    {
     "name": "stdout",
     "output_type": "stream",
     "text": [
      "Python: 3.9.19\n",
      "Executable: /Users/desi76/repo-git-nugh/secondo grado/.venv/bin/python\n",
      "Plotly: 6.3.0\n",
      "nbformat: 5.10.4\n",
      "nbformat compatible: True\n",
      "Renderer: plotly_mimetype\n"
     ]
    }
   ],
   "source": [
    "#  [Diagnostica] Ambiente e renderer Plotly\n",
    "import sys, plotly\n",
    "import plotly.io as pio\n",
    "from packaging import version\n",
    "\n",
    "# Rileva versione nbformat se presente e compatibile\n",
    "try:\n",
    "    import nbformat  # noqa: F401\n",
    "    nbv = nbformat.__version__\n",
    "    has_compatible_nbformat = version.parse(nbv) >= version.parse(\"4.2.0\")\n",
    "except Exception as e:\n",
    "    nbv = f\"missing ({e})\"\n",
    "    has_compatible_nbformat = False\n",
    "\n",
    "# Funzione robusta per impostare un renderer sicuro in questo ambiente\n",
    "def _configure_plotly_renderer():\n",
    "    available = set(pio.renderers)  # renderers disponibili in questa sessione\n",
    "    # Preferenze in ordine: plotly_mimetype (se nbformat>=4.2.0), vscode, notebook_connected, browser\n",
    "    if has_compatible_nbformat and 'plotly_mimetype' in available:\n",
    "        pio.renderers.default = 'plotly_mimetype'\n",
    "        return\n",
    "    if 'vscode' in available:\n",
    "        pio.renderers.default = 'vscode'\n",
    "        return\n",
    "    if 'notebook_connected' in available:\n",
    "        pio.renderers.default = 'notebook_connected'\n",
    "        return\n",
    "    # Fallback universale: apre nel browser di sistema\n",
    "    pio.renderers.default = 'browser'\n",
    "\n",
    "_configure_plotly_renderer()\n",
    "\n",
    "print(\"Python:\", sys.version.split()[0])\n",
    "print(\"Executable:\", sys.executable)\n",
    "print(\"Plotly:\", plotly.__version__)\n",
    "print(\"nbformat:\", nbv)\n",
    "print(\"nbformat compatible:\", has_compatible_nbformat)\n",
    "print(\"Renderer:\", pio.renderers.default)"
   ]
  },
  {
   "cell_type": "code",
   "execution_count": 58,
   "id": "473b408d",
   "metadata": {},
   "outputs": [
    {
     "name": "stdout",
     "output_type": "stream",
     "text": [
      "🎯 Funzioni di analisi pronte!\n",
      "\n",
      "📊 Uso completo:\n",
      "   analyze_question_group('2.4', 'bar', True, False)\n",
      "   → ('domanda', 'tipo_grafico', percentuali?, includi_NA?)\n",
      "\n",
      "📈 Tipi di grafico:\n",
      "   'bar'         → Barre verticali\n",
      "   'bar_h'       → Barre orizzontali\n",
      "   'pie'         → Grafici a torta\n",
      "   'likert_bar'  → Barre Likert ordinate\n",
      "   'histogram'   → Istogramma\n",
      "   'gaussian'    → Curva gaussiana\n",
      "\n",
      "🚀 Funzioni rapide:\n",
      "   analyze_bar('2.4')        # Barre verticali %\n",
      "   analyze_bar_h('2.4')      # Barre orizzontali %\n",
      "   analyze_pie('2.4')        # Torte\n",
      "   analyze_likert('2.4')     # Likert %\n",
      "   analyze_histogram('2.4')  # Istogramma\n",
      "   analyze_gaussian('2.4')   # Curva normale\n",
      "\n",
      "💡 Per numeri assoluti: analyze_bar('2.4', percentages=False)\n",
      "\n",
      "📋 Gruppi disponibili: ['1.1', '1.10', '1.2', '1.3', '1.4', '1.5', '1.6', '1.7', '1.8', '1.9']...\n"
     ]
    }
   ],
   "source": [
    "# 🎯 ANALISI COMPLETA SENZA WIDGET\n",
    "import plotly.express as px\n",
    "import plotly.graph_objects as go\n",
    "from collections import Counter\n",
    "import numpy as np\n",
    "import textwrap\n",
    "try:\n",
    "    import scipy.stats as stats\n",
    "except ImportError:\n",
    "    print(\"⚠️  scipy non disponibile - grafici gaussiani limitati\")\n",
    "    stats = None\n",
    "\n",
    "def wrap_title(title, max_chars=140):\n",
    "    \"\"\"\n",
    "    Fa andare a capo i titoli lunghi per i grafici\n",
    "    \"\"\"\n",
    "    if len(title) <= max_chars:\n",
    "        return title\n",
    "    \n",
    "    # Usa textwrap per dividere il testo in righe\n",
    "    wrapped = textwrap.fill(title, width=max_chars)\n",
    "    return wrapped.replace('\\n', '<br>')  # Plotly usa <br> per andare a capo\n",
    "\n",
    "def analyze_question_group(group_key='2.4', chart_type='bar', show_percentages=True, include_na=False):\n",
    "    \"\"\"\n",
    "    Analizza un gruppo di domande con statistiche complete e tipi di grafico\n",
    "    \n",
    "    Parametri:\n",
    "    - group_key: chiave del gruppo (es. '2.4')\n",
    "    - chart_type: 'bar', 'bar_h', 'pie', 'likert_bar', 'histogram', 'gaussian'\n",
    "    - show_percentages: True per %, False per numeri assoluti (quando applicabile)\n",
    "    - include_na: include valori NA nell'analisi\n",
    "    \"\"\"\n",
    "    print(f\"🎯 ANALISI DOMANDA: {group_key}\")\n",
    "    print(f\"📝 Descrizione: {group_labels.get(group_key, group_key)}\")\n",
    "    print(f\"📊 Tipo grafico: {chart_type}\")\n",
    "    print(f\"📈 Valori: {'Percentuali' if show_percentages else 'Numeri assoluti'}\")\n",
    "    print(f\"🔢 Includi NA: {include_na}\")\n",
    "    \n",
    "    # Spiegazione del tipo di grafico\n",
    "    chart_explanations = {\n",
    "        'bar': \"📊 Barre verticali - Ideale per confrontare categorie, facile da leggere\",\n",
    "        'bar_h': \"📊 Barre orizzontali - Migliore quando le etichette sono lunghe\",\n",
    "        'pie': \"🥧 Grafico a torta - Mostra proporzioni del totale, max 5-6 categorie\",\n",
    "        'likert_bar': \"📈 Barre Likert - Ordinate secondo scala (Per nulla → Molto)\",\n",
    "        'histogram': \"📉 Istogramma - Mostra distribuzione di valori numerici\",\n",
    "        'gaussian': \"🔔 Curva gaussiana - Istogramma + curva normale sovrapposta\"\n",
    "    }\n",
    "    \n",
    "    if chart_type in chart_explanations:\n",
    "        print(f\"💡 {chart_explanations[chart_type]}\")\n",
    "    print()\n",
    "    \n",
    "    if group_key not in question_groups:\n",
    "        print(f\"❌ Gruppo {group_key} non trovato\")\n",
    "        return\n",
    "    \n",
    "    cols = question_groups[group_key]\n",
    "    print(f\"🔢 Numero di sotto-domande: {len(cols)}\")\n",
    "    print(\"=\" * 80)\n",
    "    \n",
    "    # Per ogni colonna del gruppo, crea un grafico\n",
    "    for i, col in enumerate(cols, 1):\n",
    "        print(f\"📊 Sotto-domanda {i}:\")\n",
    "        print(f\"    {col}\")\n",
    "        \n",
    "        # Prendi i dati della colonna\n",
    "        series = data[col]\n",
    "        original_count = len(series)\n",
    "        \n",
    "        if not include_na:\n",
    "            series = series.dropna()\n",
    "        \n",
    "        if len(series) == 0:\n",
    "            print(\"   ⚠️  Nessun dato disponibile\")\n",
    "            continue\n",
    "            \n",
    "        # Conta i valori\n",
    "        counts = Counter(series)\n",
    "        total = sum(counts.values())\n",
    "        \n",
    "        # Statistiche descrittive\n",
    "        print(f\"   📈 Statistiche:\")\n",
    "        print(f\"      • Risposte totali: {total}\")\n",
    "        if not include_na and original_count > total:\n",
    "            print(f\"      • Valori mancanti: {original_count - total}\")\n",
    "        \n",
    "        # Calcola statistiche numeriche se applicabile\n",
    "        try:\n",
    "            # Prova a mappare i valori Likert a numeri per le statistiche\n",
    "            likert_family = _group_families.get(group_key)\n",
    "            if likert_family and likert_family in LIKERT_FAMILIES:\n",
    "                order = LIKERT_FAMILIES[likert_family]['order']\n",
    "                # Mappa i valori a numeri (1, 2, 3, ...)\n",
    "                numeric_values = []\n",
    "                for val in series:\n",
    "                    try:\n",
    "                        idx = order.index(val)\n",
    "                        numeric_values.append(idx + 1)\n",
    "                    except ValueError:\n",
    "                        continue\n",
    "                \n",
    "                if numeric_values:\n",
    "                    mean_val = np.mean(numeric_values)\n",
    "                    median_val = np.median(numeric_values)\n",
    "                    std_val = np.std(numeric_values, ddof=1) if len(numeric_values) > 1 else 0\n",
    "                    \n",
    "                    print(f\"      • Media: {mean_val:.2f}\")\n",
    "                    print(f\"      • Mediana: {median_val:.1f}\")\n",
    "                    print(f\"      • Deviazione standard: {std_val:.2f}\")\n",
    "        except Exception:\n",
    "            pass\n",
    "        \n",
    "        # Distribuzione dei valori\n",
    "        print(f\"   📊 Distribuzione:\")\n",
    "        for value, count in counts.most_common():\n",
    "            pct = round(100 * count / total, 1) if total > 0 else 0\n",
    "            print(f\"      • {value}: {count} ({pct}%)\")\n",
    "        \n",
    "        # Crea grafico in base al tipo richiesto\n",
    "        if len(counts) > 0:\n",
    "            labels = list(counts.keys())\n",
    "            values = list(counts.values())\n",
    "            \n",
    "            # Palette di colori vivaci per tutti i grafici\n",
    "            colors = ['#FF6B6B', '#4ECDC4', '#45B7D1', '#96CEB4', '#FECA57', \n",
    "                     '#FF9FF3', '#54A0FF', '#5F27CD', '#00D2D3', '#FF9F43',\n",
    "                     '#6C5CE7', '#A29BFE', '#FD79A8', '#E17055', '#00B894']\n",
    "            \n",
    "            # Titolo con a capo automatico\n",
    "            wrapped_title = wrap_title(col)\n",
    "            \n",
    "            # Calcola valori per i grafici - sempre mostra entrambi\n",
    "            percentages = [round(100 * v / total, 1) for v in values]\n",
    "            # Testo che mostra sia numero assoluto che percentuale\n",
    "            text_labels = [f\"{v} ({p}%)\" for v, p in zip(values, percentages)]\n",
    "            \n",
    "            # Display values per l'asse Y\n",
    "            display_values = percentages if show_percentages else values\n",
    "            y_label = 'Percentuale (%)' if show_percentages else 'Conteggio'\n",
    "            \n",
    "            if chart_type == 'bar':\n",
    "                # Grafico a barre verticali\n",
    "                fig = px.bar(\n",
    "                    x=labels, \n",
    "                    y=display_values,\n",
    "                    title=wrapped_title,\n",
    "                    labels={'x': 'Risposta', 'y': y_label},\n",
    "                    text=text_labels,\n",
    "                    color=labels,\n",
    "                    color_discrete_sequence=colors\n",
    "                )\n",
    "            elif chart_type == 'bar_h':\n",
    "                # Grafico a barre orizzontali\n",
    "                fig = px.bar(\n",
    "                    x=display_values,\n",
    "                    y=labels,\n",
    "                    title=wrapped_title,\n",
    "                    labels={'x': y_label, 'y': 'Risposta'},\n",
    "                    orientation='h',\n",
    "                    text=text_labels,\n",
    "                    color=labels,\n",
    "                    color_discrete_sequence=colors\n",
    "                )\n",
    "            elif chart_type == 'pie':\n",
    "                # Grafico a torta con etichette personalizzate\n",
    "                fig = px.pie(\n",
    "                    names=labels,\n",
    "                    values=values,  # Sempre valori assoluti per le torte\n",
    "                    title=wrapped_title,\n",
    "                    color_discrete_sequence=colors\n",
    "                )\n",
    "                # Aggiunge etichette personalizzate alla torta\n",
    "                fig.update_traces(textinfo='label+value+percent', \n",
    "                                texttemplate='%{label}<br>%{value} (%{percent})')\n",
    "            elif chart_type == 'likert_bar':\n",
    "                # Grafico Likert ordinato\n",
    "                likert_family = _group_families.get(group_key)\n",
    "                if likert_family and likert_family in LIKERT_FAMILIES:\n",
    "                    order = LIKERT_FAMILIES[likert_family]['order']\n",
    "                    ordered_labels = [l for l in order if l in labels]\n",
    "                    ordered_values = [counts[l] for l in ordered_labels]\n",
    "                    ordered_display = [round(100 * v / total, 1) for v in ordered_values] if show_percentages else ordered_values\n",
    "                    ordered_text = [f\"{v} ({round(100 * v / total, 1)}%)\" for v in ordered_values]\n",
    "                    \n",
    "                    fig = px.bar(\n",
    "                        x=ordered_labels, \n",
    "                        y=ordered_display,\n",
    "                        title=wrapped_title,\n",
    "                        labels={'x': 'Risposta', 'y': y_label},\n",
    "                        text=ordered_text,\n",
    "                        color=ordered_labels,\n",
    "                        color_discrete_sequence=colors\n",
    "                    )\n",
    "                else:\n",
    "                    # Fallback a barre normali se non è Likert\n",
    "                    fig = px.bar(x=labels, y=display_values, title=wrapped_title, \n",
    "                               labels={'x': 'Risposta', 'y': y_label}, \n",
    "                               text=text_labels,\n",
    "                               color=labels, color_discrete_sequence=colors)\n",
    "            elif chart_type == 'histogram':\n",
    "                # Istogramma (per dati numerici Likert)\n",
    "                likert_family = _group_families.get(group_key)\n",
    "                if likert_family and likert_family in LIKERT_FAMILIES:\n",
    "                    order = LIKERT_FAMILIES[likert_family]['order']\n",
    "                    numeric_data = []\n",
    "                    for val in series:\n",
    "                        try:\n",
    "                            idx = order.index(val)\n",
    "                            numeric_data.extend([idx + 1] * 1)  # Mappa a numeri 1,2,3...\n",
    "                        except ValueError:\n",
    "                            continue\n",
    "                    \n",
    "                    if numeric_data:\n",
    "                        fig = px.histogram(\n",
    "                            x=numeric_data,\n",
    "                            title=wrapped_title,\n",
    "                            labels={'x': 'Valore Likert (1=Per nulla, 5=Moltissimo)', 'y': 'Frequenza'},\n",
    "                            nbins=len(order),\n",
    "                            color_discrete_sequence=[colors[0]]\n",
    "                        )\n",
    "                    else:\n",
    "                        fig = px.bar(x=labels, y=display_values, title=wrapped_title,\n",
    "                                   text=text_labels,\n",
    "                                   color=labels, color_discrete_sequence=colors)\n",
    "                else:\n",
    "                    # Per dati non-Likert, usa grafico a barre normale\n",
    "                    fig = px.bar(x=labels, y=display_values, title=wrapped_title, \n",
    "                               text=text_labels,\n",
    "                               color=labels, color_discrete_sequence=colors)\n",
    "            elif chart_type == 'gaussian':\n",
    "                # Curva gaussiana sovrapposta\n",
    "                likert_family = _group_families.get(group_key)\n",
    "                if likert_family and likert_family in LIKERT_FAMILIES:\n",
    "                    order = LIKERT_FAMILIES[likert_family]['order']\n",
    "                    numeric_data = []\n",
    "                    for val in series:\n",
    "                        try:\n",
    "                            idx = order.index(val)\n",
    "                            numeric_data.append(idx + 1)\n",
    "                        except ValueError:\n",
    "                            continue\n",
    "                    \n",
    "                    if numeric_data and len(numeric_data) > 1:\n",
    "                        import scipy.stats as stats\n",
    "                        \n",
    "                        # Crea istogramma\n",
    "                        fig = px.histogram(\n",
    "                            x=numeric_data,\n",
    "                            title=wrapped_title,\n",
    "                            labels={'x': 'Valore Likert', 'y': 'Frequenza'},\n",
    "                            nbins=len(order),\n",
    "                            opacity=0.7,\n",
    "                            color_discrete_sequence=[colors[0]]\n",
    "                        )\n",
    "                        \n",
    "                        # Aggiunge curva gaussiana\n",
    "                        x_range = np.linspace(min(numeric_data), max(numeric_data), 100)\n",
    "                        mean_val = np.mean(numeric_data)\n",
    "                        std_val = np.std(numeric_data)\n",
    "                        gaussian_curve = stats.norm.pdf(x_range, mean_val, std_val)\n",
    "                        # Scala la curva per matchare l'istogramma\n",
    "                        gaussian_curve = gaussian_curve * len(numeric_data) * (max(numeric_data) - min(numeric_data)) / len(order)\n",
    "                        \n",
    "                        fig.add_scatter(\n",
    "                            x=x_range, \n",
    "                            y=gaussian_curve,\n",
    "                            mode='lines',\n",
    "                            name='Curva Normale',\n",
    "                            line=dict(color='red', width=3)\n",
    "                        )\n",
    "                    else:\n",
    "                        fig = px.bar(x=labels, y=display_values, title=wrapped_title,\n",
    "                                   text=text_labels,\n",
    "                                   color=labels, color_discrete_sequence=colors)\n",
    "                else:\n",
    "                    fig = px.bar(x=labels, y=display_values, title=wrapped_title, \n",
    "                               text=text_labels,\n",
    "                               color=labels, color_discrete_sequence=colors)\n",
    "            else:\n",
    "                # Default: barre verticali\n",
    "                fig = px.bar(\n",
    "                    x=labels, \n",
    "                    y=display_values,\n",
    "                    title=wrapped_title,\n",
    "                    labels={'x': 'Risposta', 'y': y_label},\n",
    "                    text=text_labels,\n",
    "                    color=labels,\n",
    "                    color_discrete_sequence=colors\n",
    "                )\n",
    "            \n",
    "            # Styling avanzato con margine superiore dinamico per titoli lunghi\n",
    "            title_lines = wrapped_title.count('<br>') + 1\n",
    "            top_margin = 100 + (title_lines - 1) * 30  # Margine superiore più ampio\n",
    "            \n",
    "            # Calcola margine sinistro dinamico per etichette lunghe\n",
    "            max_label_length = max(len(str(label)) for label in labels) if labels else 0\n",
    "            left_margin = max(80, min(200, 80 + max_label_length * 3))  # Margine sinistro adattivo\n",
    "            \n",
    "            # Altezza adattiva basata sul numero di elementi\n",
    "            adaptive_height = max(500, 400 + len(labels) * 20)  # Altezza minima 500px\n",
    "            \n",
    "            fig.update_layout(\n",
    "                xaxis_tickangle=-45,\n",
    "                height=adaptive_height,\n",
    "                margin={\n",
    "                    'l': left_margin, \n",
    "                    'r': 80,  # Margine destro più ampio\n",
    "                    't': top_margin, \n",
    "                    'b': 150  # Margine inferiore più ampio per etichette inclinate\n",
    "                },\n",
    "                plot_bgcolor='rgba(240,240,245,0.8)',\n",
    "                paper_bgcolor='white',\n",
    "                font=dict(size=12),\n",
    "                title_font=dict(size=14, color='#2c3e50'),\n",
    "                showlegend=False,  # Nasconde leggenda per tutti i grafici tranne torte\n",
    "                xaxis=dict(\n",
    "                    title_font=dict(size=12, color='#34495e'),\n",
    "                    tickfont=dict(size=10, color='#2c3e50'),\n",
    "                    gridcolor='rgba(200,200,200,0.3)',\n",
    "                    automargin=True  # Margine automatico per evitare tagli\n",
    "                ) if chart_type != 'pie' else {},\n",
    "                yaxis=dict(\n",
    "                    title_font=dict(size=12, color='#34495e'),\n",
    "                    tickfont=dict(size=10, color='#2c3e50'),\n",
    "                    gridcolor='rgba(200,200,200,0.3)',\n",
    "                    automargin=True  # Margine automatico per evitare tagli\n",
    "                ) if chart_type != 'pie' else {}\n",
    "            )\n",
    "            \n",
    "            # Per grafici a torta, mostra la leggenda se ci sono molte categorie\n",
    "            if chart_type == 'pie':\n",
    "                fig.update_layout(showlegend=(len(labels) > 4))\n",
    "            \n",
    "            # Aggiunge dettagli alle barre (eccetto torta)\n",
    "            if chart_type != 'pie':\n",
    "                fig.update_traces(\n",
    "                    marker_line_color='white',\n",
    "                    marker_line_width=2,\n",
    "                    opacity=0.85,\n",
    "                    texttemplate='%{text}',  # Usa il testo personalizzato\n",
    "                    textposition='outside',\n",
    "                    textfont_size=11,\n",
    "                    textfont_color='#2c3e50',\n",
    "                    hovertemplate='<b>%{x}</b><br>%{text}<br><extra></extra>'  # Tooltip pulito\n",
    "                )\n",
    "            else:\n",
    "                # Per grafici a torta, personalizza il tooltip\n",
    "                fig.update_traces(\n",
    "                    hovertemplate='<b>%{label}</b><br>%{value} (%{percent})<extra></extra>'\n",
    "                )\n",
    "            \n",
    "            fig.show()\n",
    "        \n",
    "        print(\"-\" * 50)\n",
    "    \n",
    "    print(\"=\" * 80)\n",
    "\n",
    "# Funzioni di supporto per diversi tipi di analisi\n",
    "def analyze_bar(group_key, percentages=True, include_na=False):\n",
    "    \"\"\"Analisi con grafici a barre verticali\"\"\"\n",
    "    return analyze_question_group(group_key, 'bar', percentages, include_na)\n",
    "\n",
    "def analyze_bar_h(group_key, percentages=True, include_na=False):\n",
    "    \"\"\"Analisi con grafici a barre orizzontali\"\"\"\n",
    "    return analyze_question_group(group_key, 'bar_h', percentages, include_na)\n",
    "\n",
    "def analyze_pie(group_key, include_na=False):\n",
    "    \"\"\"Analisi con grafici a torta\"\"\"\n",
    "    return analyze_question_group(group_key, 'pie', True, include_na)\n",
    "\n",
    "def analyze_likert(group_key, percentages=True, include_na=False):\n",
    "    \"\"\"Analisi con grafici Likert ordinati\"\"\"\n",
    "    return analyze_question_group(group_key, 'likert_bar', percentages, include_na)\n",
    "\n",
    "def analyze_histogram(group_key, include_na=False):\n",
    "    \"\"\"Analisi con istogramma (per dati Likert numerici)\"\"\"\n",
    "    return analyze_question_group(group_key, 'histogram', True, include_na)\n",
    "\n",
    "def analyze_gaussian(group_key, include_na=False):\n",
    "    \"\"\"Analisi con curva gaussiana sovrapposta\"\"\"\n",
    "    return analyze_question_group(group_key, 'gaussian', True, include_na)\n",
    "\n",
    "# 🎯 Funzioni di analisi pronte!\n",
    "print(\"🎯 Funzioni di analisi pronte!\")\n",
    "print()\n",
    "print(\"📊 Uso completo:\")\n",
    "print(\"   analyze_question_group('2.4', 'bar', True, False)\")\n",
    "print(\"   → ('domanda', 'tipo_grafico', percentuali?, includi_NA?)\")\n",
    "print()\n",
    "print(\"📈 Tipi di grafico:\")\n",
    "print(\"   'bar'         → Barre verticali\")\n",
    "print(\"   'bar_h'       → Barre orizzontali\") \n",
    "print(\"   'pie'         → Grafici a torta\")\n",
    "print(\"   'likert_bar'  → Barre Likert ordinate\")\n",
    "print(\"   'histogram'   → Istogramma\") \n",
    "print(\"   'gaussian'    → Curva gaussiana\")\n",
    "print()\n",
    "print(\"🚀 Funzioni rapide:\")\n",
    "print(\"   analyze_bar('2.4')        # Barre verticali %\")\n",
    "print(\"   analyze_bar_h('2.4')      # Barre orizzontali %\") \n",
    "print(\"   analyze_pie('2.4')        # Torte\")\n",
    "print(\"   analyze_likert('2.4')     # Likert %\")\n",
    "print(\"   analyze_histogram('2.4')  # Istogramma\")\n",
    "print(\"   analyze_gaussian('2.4')   # Curva normale\")\n",
    "print()\n",
    "print(\"💡 Per numeri assoluti: analyze_bar('2.4', percentages=False)\")\n",
    "print()\n",
    "print(f\"📋 Gruppi disponibili: {sorted(question_groups.keys())[:10]}...\")"
   ]
  },
  {
   "cell_type": "code",
   "execution_count": 59,
   "id": "f4555361",
   "metadata": {},
   "outputs": [
    {
     "name": "stdout",
     "output_type": "stream",
     "text": [
      "🎯 ANALISI DOMANDA: 1.1\n",
      "📝 Descrizione: Ruolo\n",
      "📊 Tipo grafico: bar\n",
      "📈 Valori: Percentuali\n",
      "🔢 Includi NA: False\n",
      "💡 📊 Barre verticali - Ideale per confrontare categorie, facile da leggere\n",
      "\n",
      "🔢 Numero di sotto-domande: 2\n",
      "================================================================================\n",
      "📊 Sotto-domanda 1:\n",
      "    1.1 Ruolo:\n",
      "   📈 Statistiche:\n",
      "      • Risposte totali: 169\n",
      "   📊 Distribuzione:\n",
      "      • docente orientatore: 120 (71.0%)\n",
      "      • docente tutor: 24 (14.2%)\n",
      "      • Altro: 14 (8.3%)\n",
      "      • dirigente scolastico: 11 (6.5%)\n"
     ]
    },
    {
     "data": {
      "application/vnd.plotly.v1+json": {
       "config": {
        "plotlyServerURL": "https://plot.ly"
       },
       "data": [
        {
         "hovertemplate": "<b>%{x}</b><br>%{text}<br><extra></extra>",
         "legendgroup": "docente orientatore",
         "marker": {
          "color": "#FF6B6B",
          "line": {
           "color": "white",
           "width": 2
          },
          "pattern": {
           "shape": ""
          }
         },
         "name": "docente orientatore",
         "opacity": 0.85,
         "orientation": "v",
         "showlegend": true,
         "text": [
          "120 (71.0%)"
         ],
         "textfont": {
          "color": "#2c3e50",
          "size": 11
         },
         "textposition": "outside",
         "texttemplate": "%{text}",
         "type": "bar",
         "x": [
          "docente orientatore"
         ],
         "xaxis": "x",
         "y": {
          "bdata": "AAAAAADAUUA=",
          "dtype": "f8"
         },
         "yaxis": "y"
        },
        {
         "hovertemplate": "<b>%{x}</b><br>%{text}<br><extra></extra>",
         "legendgroup": "dirigente scolastico",
         "marker": {
          "color": "#4ECDC4",
          "line": {
           "color": "white",
           "width": 2
          },
          "pattern": {
           "shape": ""
          }
         },
         "name": "dirigente scolastico",
         "opacity": 0.85,
         "orientation": "v",
         "showlegend": true,
         "text": [
          "11 (6.5%)"
         ],
         "textfont": {
          "color": "#2c3e50",
          "size": 11
         },
         "textposition": "outside",
         "texttemplate": "%{text}",
         "type": "bar",
         "x": [
          "dirigente scolastico"
         ],
         "xaxis": "x",
         "y": {
          "bdata": "AAAAAAAAGkA=",
          "dtype": "f8"
         },
         "yaxis": "y"
        },
        {
         "hovertemplate": "<b>%{x}</b><br>%{text}<br><extra></extra>",
         "legendgroup": "docente tutor",
         "marker": {
          "color": "#45B7D1",
          "line": {
           "color": "white",
           "width": 2
          },
          "pattern": {
           "shape": ""
          }
         },
         "name": "docente tutor",
         "opacity": 0.85,
         "orientation": "v",
         "showlegend": true,
         "text": [
          "24 (14.2%)"
         ],
         "textfont": {
          "color": "#2c3e50",
          "size": 11
         },
         "textposition": "outside",
         "texttemplate": "%{text}",
         "type": "bar",
         "x": [
          "docente tutor"
         ],
         "xaxis": "x",
         "y": {
          "bdata": "ZmZmZmZmLEA=",
          "dtype": "f8"
         },
         "yaxis": "y"
        },
        {
         "hovertemplate": "<b>%{x}</b><br>%{text}<br><extra></extra>",
         "legendgroup": "Altro",
         "marker": {
          "color": "#96CEB4",
          "line": {
           "color": "white",
           "width": 2
          },
          "pattern": {
           "shape": ""
          }
         },
         "name": "Altro",
         "opacity": 0.85,
         "orientation": "v",
         "showlegend": true,
         "text": [
          "14 (8.3%)"
         ],
         "textfont": {
          "color": "#2c3e50",
          "size": 11
         },
         "textposition": "outside",
         "texttemplate": "%{text}",
         "type": "bar",
         "x": [
          "Altro"
         ],
         "xaxis": "x",
         "y": {
          "bdata": "mpmZmZmZIEA=",
          "dtype": "f8"
         },
         "yaxis": "y"
        }
       ],
       "layout": {
        "barmode": "relative",
        "font": {
         "size": 12
        },
        "height": 500,
        "legend": {
         "title": {
          "text": "color"
         },
         "tracegroupgap": 0
        },
        "margin": {
         "b": 150,
         "l": 140,
         "r": 80,
         "t": 100
        },
        "paper_bgcolor": "white",
        "plot_bgcolor": "rgba(240,240,245,0.8)",
        "showlegend": false,
        "template": {
         "data": {
          "bar": [
           {
            "error_x": {
             "color": "#2a3f5f"
            },
            "error_y": {
             "color": "#2a3f5f"
            },
            "marker": {
             "line": {
              "color": "white",
              "width": 0.5
             },
             "pattern": {
              "fillmode": "overlay",
              "size": 10,
              "solidity": 0.2
             }
            },
            "type": "bar"
           }
          ],
          "barpolar": [
           {
            "marker": {
             "line": {
              "color": "white",
              "width": 0.5
             },
             "pattern": {
              "fillmode": "overlay",
              "size": 10,
              "solidity": 0.2
             }
            },
            "type": "barpolar"
           }
          ],
          "carpet": [
           {
            "aaxis": {
             "endlinecolor": "#2a3f5f",
             "gridcolor": "#C8D4E3",
             "linecolor": "#C8D4E3",
             "minorgridcolor": "#C8D4E3",
             "startlinecolor": "#2a3f5f"
            },
            "baxis": {
             "endlinecolor": "#2a3f5f",
             "gridcolor": "#C8D4E3",
             "linecolor": "#C8D4E3",
             "minorgridcolor": "#C8D4E3",
             "startlinecolor": "#2a3f5f"
            },
            "type": "carpet"
           }
          ],
          "choropleth": [
           {
            "colorbar": {
             "outlinewidth": 0,
             "ticks": ""
            },
            "type": "choropleth"
           }
          ],
          "contour": [
           {
            "colorbar": {
             "outlinewidth": 0,
             "ticks": ""
            },
            "colorscale": [
             [
              0,
              "#0d0887"
             ],
             [
              0.1111111111111111,
              "#46039f"
             ],
             [
              0.2222222222222222,
              "#7201a8"
             ],
             [
              0.3333333333333333,
              "#9c179e"
             ],
             [
              0.4444444444444444,
              "#bd3786"
             ],
             [
              0.5555555555555556,
              "#d8576b"
             ],
             [
              0.6666666666666666,
              "#ed7953"
             ],
             [
              0.7777777777777778,
              "#fb9f3a"
             ],
             [
              0.8888888888888888,
              "#fdca26"
             ],
             [
              1,
              "#f0f921"
             ]
            ],
            "type": "contour"
           }
          ],
          "contourcarpet": [
           {
            "colorbar": {
             "outlinewidth": 0,
             "ticks": ""
            },
            "type": "contourcarpet"
           }
          ],
          "heatmap": [
           {
            "colorbar": {
             "outlinewidth": 0,
             "ticks": ""
            },
            "colorscale": [
             [
              0,
              "#0d0887"
             ],
             [
              0.1111111111111111,
              "#46039f"
             ],
             [
              0.2222222222222222,
              "#7201a8"
             ],
             [
              0.3333333333333333,
              "#9c179e"
             ],
             [
              0.4444444444444444,
              "#bd3786"
             ],
             [
              0.5555555555555556,
              "#d8576b"
             ],
             [
              0.6666666666666666,
              "#ed7953"
             ],
             [
              0.7777777777777778,
              "#fb9f3a"
             ],
             [
              0.8888888888888888,
              "#fdca26"
             ],
             [
              1,
              "#f0f921"
             ]
            ],
            "type": "heatmap"
           }
          ],
          "histogram": [
           {
            "marker": {
             "pattern": {
              "fillmode": "overlay",
              "size": 10,
              "solidity": 0.2
             }
            },
            "type": "histogram"
           }
          ],
          "histogram2d": [
           {
            "colorbar": {
             "outlinewidth": 0,
             "ticks": ""
            },
            "colorscale": [
             [
              0,
              "#0d0887"
             ],
             [
              0.1111111111111111,
              "#46039f"
             ],
             [
              0.2222222222222222,
              "#7201a8"
             ],
             [
              0.3333333333333333,
              "#9c179e"
             ],
             [
              0.4444444444444444,
              "#bd3786"
             ],
             [
              0.5555555555555556,
              "#d8576b"
             ],
             [
              0.6666666666666666,
              "#ed7953"
             ],
             [
              0.7777777777777778,
              "#fb9f3a"
             ],
             [
              0.8888888888888888,
              "#fdca26"
             ],
             [
              1,
              "#f0f921"
             ]
            ],
            "type": "histogram2d"
           }
          ],
          "histogram2dcontour": [
           {
            "colorbar": {
             "outlinewidth": 0,
             "ticks": ""
            },
            "colorscale": [
             [
              0,
              "#0d0887"
             ],
             [
              0.1111111111111111,
              "#46039f"
             ],
             [
              0.2222222222222222,
              "#7201a8"
             ],
             [
              0.3333333333333333,
              "#9c179e"
             ],
             [
              0.4444444444444444,
              "#bd3786"
             ],
             [
              0.5555555555555556,
              "#d8576b"
             ],
             [
              0.6666666666666666,
              "#ed7953"
             ],
             [
              0.7777777777777778,
              "#fb9f3a"
             ],
             [
              0.8888888888888888,
              "#fdca26"
             ],
             [
              1,
              "#f0f921"
             ]
            ],
            "type": "histogram2dcontour"
           }
          ],
          "mesh3d": [
           {
            "colorbar": {
             "outlinewidth": 0,
             "ticks": ""
            },
            "type": "mesh3d"
           }
          ],
          "parcoords": [
           {
            "line": {
             "colorbar": {
              "outlinewidth": 0,
              "ticks": ""
             }
            },
            "type": "parcoords"
           }
          ],
          "pie": [
           {
            "automargin": true,
            "type": "pie"
           }
          ],
          "scatter": [
           {
            "fillpattern": {
             "fillmode": "overlay",
             "size": 10,
             "solidity": 0.2
            },
            "type": "scatter"
           }
          ],
          "scatter3d": [
           {
            "line": {
             "colorbar": {
              "outlinewidth": 0,
              "ticks": ""
             }
            },
            "marker": {
             "colorbar": {
              "outlinewidth": 0,
              "ticks": ""
             }
            },
            "type": "scatter3d"
           }
          ],
          "scattercarpet": [
           {
            "marker": {
             "colorbar": {
              "outlinewidth": 0,
              "ticks": ""
             }
            },
            "type": "scattercarpet"
           }
          ],
          "scattergeo": [
           {
            "marker": {
             "colorbar": {
              "outlinewidth": 0,
              "ticks": ""
             }
            },
            "type": "scattergeo"
           }
          ],
          "scattergl": [
           {
            "marker": {
             "colorbar": {
              "outlinewidth": 0,
              "ticks": ""
             }
            },
            "type": "scattergl"
           }
          ],
          "scattermap": [
           {
            "marker": {
             "colorbar": {
              "outlinewidth": 0,
              "ticks": ""
             }
            },
            "type": "scattermap"
           }
          ],
          "scattermapbox": [
           {
            "marker": {
             "colorbar": {
              "outlinewidth": 0,
              "ticks": ""
             }
            },
            "type": "scattermapbox"
           }
          ],
          "scatterpolar": [
           {
            "marker": {
             "colorbar": {
              "outlinewidth": 0,
              "ticks": ""
             }
            },
            "type": "scatterpolar"
           }
          ],
          "scatterpolargl": [
           {
            "marker": {
             "colorbar": {
              "outlinewidth": 0,
              "ticks": ""
             }
            },
            "type": "scatterpolargl"
           }
          ],
          "scatterternary": [
           {
            "marker": {
             "colorbar": {
              "outlinewidth": 0,
              "ticks": ""
             }
            },
            "type": "scatterternary"
           }
          ],
          "surface": [
           {
            "colorbar": {
             "outlinewidth": 0,
             "ticks": ""
            },
            "colorscale": [
             [
              0,
              "#0d0887"
             ],
             [
              0.1111111111111111,
              "#46039f"
             ],
             [
              0.2222222222222222,
              "#7201a8"
             ],
             [
              0.3333333333333333,
              "#9c179e"
             ],
             [
              0.4444444444444444,
              "#bd3786"
             ],
             [
              0.5555555555555556,
              "#d8576b"
             ],
             [
              0.6666666666666666,
              "#ed7953"
             ],
             [
              0.7777777777777778,
              "#fb9f3a"
             ],
             [
              0.8888888888888888,
              "#fdca26"
             ],
             [
              1,
              "#f0f921"
             ]
            ],
            "type": "surface"
           }
          ],
          "table": [
           {
            "cells": {
             "fill": {
              "color": "#EBF0F8"
             },
             "line": {
              "color": "white"
             }
            },
            "header": {
             "fill": {
              "color": "#C8D4E3"
             },
             "line": {
              "color": "white"
             }
            },
            "type": "table"
           }
          ]
         },
         "layout": {
          "annotationdefaults": {
           "arrowcolor": "#2a3f5f",
           "arrowhead": 0,
           "arrowwidth": 1
          },
          "autotypenumbers": "strict",
          "coloraxis": {
           "colorbar": {
            "outlinewidth": 0,
            "ticks": ""
           }
          },
          "colorscale": {
           "diverging": [
            [
             0,
             "#8e0152"
            ],
            [
             0.1,
             "#c51b7d"
            ],
            [
             0.2,
             "#de77ae"
            ],
            [
             0.3,
             "#f1b6da"
            ],
            [
             0.4,
             "#fde0ef"
            ],
            [
             0.5,
             "#f7f7f7"
            ],
            [
             0.6,
             "#e6f5d0"
            ],
            [
             0.7,
             "#b8e186"
            ],
            [
             0.8,
             "#7fbc41"
            ],
            [
             0.9,
             "#4d9221"
            ],
            [
             1,
             "#276419"
            ]
           ],
           "sequential": [
            [
             0,
             "#0d0887"
            ],
            [
             0.1111111111111111,
             "#46039f"
            ],
            [
             0.2222222222222222,
             "#7201a8"
            ],
            [
             0.3333333333333333,
             "#9c179e"
            ],
            [
             0.4444444444444444,
             "#bd3786"
            ],
            [
             0.5555555555555556,
             "#d8576b"
            ],
            [
             0.6666666666666666,
             "#ed7953"
            ],
            [
             0.7777777777777778,
             "#fb9f3a"
            ],
            [
             0.8888888888888888,
             "#fdca26"
            ],
            [
             1,
             "#f0f921"
            ]
           ],
           "sequentialminus": [
            [
             0,
             "#0d0887"
            ],
            [
             0.1111111111111111,
             "#46039f"
            ],
            [
             0.2222222222222222,
             "#7201a8"
            ],
            [
             0.3333333333333333,
             "#9c179e"
            ],
            [
             0.4444444444444444,
             "#bd3786"
            ],
            [
             0.5555555555555556,
             "#d8576b"
            ],
            [
             0.6666666666666666,
             "#ed7953"
            ],
            [
             0.7777777777777778,
             "#fb9f3a"
            ],
            [
             0.8888888888888888,
             "#fdca26"
            ],
            [
             1,
             "#f0f921"
            ]
           ]
          },
          "colorway": [
           "#636efa",
           "#EF553B",
           "#00cc96",
           "#ab63fa",
           "#FFA15A",
           "#19d3f3",
           "#FF6692",
           "#B6E880",
           "#FF97FF",
           "#FECB52"
          ],
          "font": {
           "color": "#2a3f5f"
          },
          "geo": {
           "bgcolor": "white",
           "lakecolor": "white",
           "landcolor": "white",
           "showlakes": true,
           "showland": true,
           "subunitcolor": "#C8D4E3"
          },
          "hoverlabel": {
           "align": "left"
          },
          "hovermode": "closest",
          "mapbox": {
           "style": "light"
          },
          "paper_bgcolor": "white",
          "plot_bgcolor": "white",
          "polar": {
           "angularaxis": {
            "gridcolor": "#EBF0F8",
            "linecolor": "#EBF0F8",
            "ticks": ""
           },
           "bgcolor": "white",
           "radialaxis": {
            "gridcolor": "#EBF0F8",
            "linecolor": "#EBF0F8",
            "ticks": ""
           }
          },
          "scene": {
           "xaxis": {
            "backgroundcolor": "white",
            "gridcolor": "#DFE8F3",
            "gridwidth": 2,
            "linecolor": "#EBF0F8",
            "showbackground": true,
            "ticks": "",
            "zerolinecolor": "#EBF0F8"
           },
           "yaxis": {
            "backgroundcolor": "white",
            "gridcolor": "#DFE8F3",
            "gridwidth": 2,
            "linecolor": "#EBF0F8",
            "showbackground": true,
            "ticks": "",
            "zerolinecolor": "#EBF0F8"
           },
           "zaxis": {
            "backgroundcolor": "white",
            "gridcolor": "#DFE8F3",
            "gridwidth": 2,
            "linecolor": "#EBF0F8",
            "showbackground": true,
            "ticks": "",
            "zerolinecolor": "#EBF0F8"
           }
          },
          "shapedefaults": {
           "line": {
            "color": "#2a3f5f"
           }
          },
          "ternary": {
           "aaxis": {
            "gridcolor": "#DFE8F3",
            "linecolor": "#A2B1C6",
            "ticks": ""
           },
           "baxis": {
            "gridcolor": "#DFE8F3",
            "linecolor": "#A2B1C6",
            "ticks": ""
           },
           "bgcolor": "white",
           "caxis": {
            "gridcolor": "#DFE8F3",
            "linecolor": "#A2B1C6",
            "ticks": ""
           }
          },
          "title": {
           "x": 0.05
          },
          "xaxis": {
           "automargin": true,
           "gridcolor": "#EBF0F8",
           "linecolor": "#EBF0F8",
           "ticks": "",
           "title": {
            "standoff": 15
           },
           "zerolinecolor": "#EBF0F8",
           "zerolinewidth": 2
          },
          "yaxis": {
           "automargin": true,
           "gridcolor": "#EBF0F8",
           "linecolor": "#EBF0F8",
           "ticks": "",
           "title": {
            "standoff": 15
           },
           "zerolinecolor": "#EBF0F8",
           "zerolinewidth": 2
          }
         }
        },
        "title": {
         "font": {
          "color": "#2c3e50",
          "size": 14
         },
         "text": "1.1 Ruolo:"
        },
        "xaxis": {
         "anchor": "y",
         "automargin": true,
         "domain": [
          0,
          1
         ],
         "gridcolor": "rgba(200,200,200,0.3)",
         "tickangle": -45,
         "tickfont": {
          "color": "#2c3e50",
          "size": 10
         },
         "title": {
          "font": {
           "color": "#34495e",
           "size": 12
          },
          "text": "Risposta"
         }
        },
        "yaxis": {
         "anchor": "x",
         "automargin": true,
         "domain": [
          0,
          1
         ],
         "gridcolor": "rgba(200,200,200,0.3)",
         "tickfont": {
          "color": "#2c3e50",
          "size": 10
         },
         "title": {
          "font": {
           "color": "#34495e",
           "size": 12
          },
          "text": "Percentuale (%)"
         }
        }
       }
      }
     },
     "metadata": {},
     "output_type": "display_data"
    },
    {
     "name": "stdout",
     "output_type": "stream",
     "text": [
      "--------------------------------------------------\n",
      "📊 Sotto-domanda 2:\n",
      "    1.1 Ruolo: [Altro]\n",
      "   📈 Statistiche:\n",
      "      • Risposte totali: 14\n",
      "      • Valori mancanti: 155\n",
      "   📊 Distribuzione:\n",
      "      • Funzione strumentale orientamento: 1 (7.1%)\n",
      "      • Referente Invalsi e RAV: 1 (7.1%)\n",
      "      • Funzione strumentale Orientamento: 1 (7.1%)\n",
      "      • gestore scuola: 1 (7.1%)\n",
      "      • figura strumentale orientamento : 1 (7.1%)\n",
      "      • Responsabile orientamento indirizzo turistico: 1 (7.1%)\n",
      "      • Coordinatrice didattica e docente orientatore: 1 (7.1%)\n",
      "      • Referente orientamento in uscita: 1 (7.1%)\n",
      "      • Vice dirigente : 1 (7.1%)\n",
      "      • Funzione strumentale per l’orientamento in ingresso: 1 (7.1%)\n",
      "      • Docente : 1 (7.1%)\n",
      "      • Referente per l'Orientamento in Uscita: 1 (7.1%)\n",
      "      • Tutor ed orientatore in uscita: 1 (7.1%)\n",
      "      • F.S. Referente per l'Orientamento: 1 (7.1%)\n"
     ]
    },
    {
     "data": {
      "application/vnd.plotly.v1+json": {
       "config": {
        "plotlyServerURL": "https://plot.ly"
       },
       "data": [
        {
         "hovertemplate": "<b>%{x}</b><br>%{text}<br><extra></extra>",
         "legendgroup": "Funzione strumentale orientamento",
         "marker": {
          "color": "#FF6B6B",
          "line": {
           "color": "white",
           "width": 2
          },
          "pattern": {
           "shape": ""
          }
         },
         "name": "Funzione strumentale orientamento",
         "opacity": 0.85,
         "orientation": "v",
         "showlegend": true,
         "text": [
          "1 (7.1%)"
         ],
         "textfont": {
          "color": "#2c3e50",
          "size": 11
         },
         "textposition": "outside",
         "texttemplate": "%{text}",
         "type": "bar",
         "x": [
          "Funzione strumentale orientamento"
         ],
         "xaxis": "x",
         "y": {
          "bdata": "ZmZmZmZmHEA=",
          "dtype": "f8"
         },
         "yaxis": "y"
        },
        {
         "hovertemplate": "<b>%{x}</b><br>%{text}<br><extra></extra>",
         "legendgroup": "Referente Invalsi e RAV",
         "marker": {
          "color": "#4ECDC4",
          "line": {
           "color": "white",
           "width": 2
          },
          "pattern": {
           "shape": ""
          }
         },
         "name": "Referente Invalsi e RAV",
         "opacity": 0.85,
         "orientation": "v",
         "showlegend": true,
         "text": [
          "1 (7.1%)"
         ],
         "textfont": {
          "color": "#2c3e50",
          "size": 11
         },
         "textposition": "outside",
         "texttemplate": "%{text}",
         "type": "bar",
         "x": [
          "Referente Invalsi e RAV"
         ],
         "xaxis": "x",
         "y": {
          "bdata": "ZmZmZmZmHEA=",
          "dtype": "f8"
         },
         "yaxis": "y"
        },
        {
         "hovertemplate": "<b>%{x}</b><br>%{text}<br><extra></extra>",
         "legendgroup": "Funzione strumentale Orientamento",
         "marker": {
          "color": "#45B7D1",
          "line": {
           "color": "white",
           "width": 2
          },
          "pattern": {
           "shape": ""
          }
         },
         "name": "Funzione strumentale Orientamento",
         "opacity": 0.85,
         "orientation": "v",
         "showlegend": true,
         "text": [
          "1 (7.1%)"
         ],
         "textfont": {
          "color": "#2c3e50",
          "size": 11
         },
         "textposition": "outside",
         "texttemplate": "%{text}",
         "type": "bar",
         "x": [
          "Funzione strumentale Orientamento"
         ],
         "xaxis": "x",
         "y": {
          "bdata": "ZmZmZmZmHEA=",
          "dtype": "f8"
         },
         "yaxis": "y"
        },
        {
         "hovertemplate": "<b>%{x}</b><br>%{text}<br><extra></extra>",
         "legendgroup": "gestore scuola",
         "marker": {
          "color": "#96CEB4",
          "line": {
           "color": "white",
           "width": 2
          },
          "pattern": {
           "shape": ""
          }
         },
         "name": "gestore scuola",
         "opacity": 0.85,
         "orientation": "v",
         "showlegend": true,
         "text": [
          "1 (7.1%)"
         ],
         "textfont": {
          "color": "#2c3e50",
          "size": 11
         },
         "textposition": "outside",
         "texttemplate": "%{text}",
         "type": "bar",
         "x": [
          "gestore scuola"
         ],
         "xaxis": "x",
         "y": {
          "bdata": "ZmZmZmZmHEA=",
          "dtype": "f8"
         },
         "yaxis": "y"
        },
        {
         "hovertemplate": "<b>%{x}</b><br>%{text}<br><extra></extra>",
         "legendgroup": "figura strumentale orientamento ",
         "marker": {
          "color": "#FECA57",
          "line": {
           "color": "white",
           "width": 2
          },
          "pattern": {
           "shape": ""
          }
         },
         "name": "figura strumentale orientamento ",
         "opacity": 0.85,
         "orientation": "v",
         "showlegend": true,
         "text": [
          "1 (7.1%)"
         ],
         "textfont": {
          "color": "#2c3e50",
          "size": 11
         },
         "textposition": "outside",
         "texttemplate": "%{text}",
         "type": "bar",
         "x": [
          "figura strumentale orientamento "
         ],
         "xaxis": "x",
         "y": {
          "bdata": "ZmZmZmZmHEA=",
          "dtype": "f8"
         },
         "yaxis": "y"
        },
        {
         "hovertemplate": "<b>%{x}</b><br>%{text}<br><extra></extra>",
         "legendgroup": "Responsabile orientamento indirizzo turistico",
         "marker": {
          "color": "#FF9FF3",
          "line": {
           "color": "white",
           "width": 2
          },
          "pattern": {
           "shape": ""
          }
         },
         "name": "Responsabile orientamento indirizzo turistico",
         "opacity": 0.85,
         "orientation": "v",
         "showlegend": true,
         "text": [
          "1 (7.1%)"
         ],
         "textfont": {
          "color": "#2c3e50",
          "size": 11
         },
         "textposition": "outside",
         "texttemplate": "%{text}",
         "type": "bar",
         "x": [
          "Responsabile orientamento indirizzo turistico"
         ],
         "xaxis": "x",
         "y": {
          "bdata": "ZmZmZmZmHEA=",
          "dtype": "f8"
         },
         "yaxis": "y"
        },
        {
         "hovertemplate": "<b>%{x}</b><br>%{text}<br><extra></extra>",
         "legendgroup": "Coordinatrice didattica e docente orientatore",
         "marker": {
          "color": "#54A0FF",
          "line": {
           "color": "white",
           "width": 2
          },
          "pattern": {
           "shape": ""
          }
         },
         "name": "Coordinatrice didattica e docente orientatore",
         "opacity": 0.85,
         "orientation": "v",
         "showlegend": true,
         "text": [
          "1 (7.1%)"
         ],
         "textfont": {
          "color": "#2c3e50",
          "size": 11
         },
         "textposition": "outside",
         "texttemplate": "%{text}",
         "type": "bar",
         "x": [
          "Coordinatrice didattica e docente orientatore"
         ],
         "xaxis": "x",
         "y": {
          "bdata": "ZmZmZmZmHEA=",
          "dtype": "f8"
         },
         "yaxis": "y"
        },
        {
         "hovertemplate": "<b>%{x}</b><br>%{text}<br><extra></extra>",
         "legendgroup": "Referente orientamento in uscita",
         "marker": {
          "color": "#5F27CD",
          "line": {
           "color": "white",
           "width": 2
          },
          "pattern": {
           "shape": ""
          }
         },
         "name": "Referente orientamento in uscita",
         "opacity": 0.85,
         "orientation": "v",
         "showlegend": true,
         "text": [
          "1 (7.1%)"
         ],
         "textfont": {
          "color": "#2c3e50",
          "size": 11
         },
         "textposition": "outside",
         "texttemplate": "%{text}",
         "type": "bar",
         "x": [
          "Referente orientamento in uscita"
         ],
         "xaxis": "x",
         "y": {
          "bdata": "ZmZmZmZmHEA=",
          "dtype": "f8"
         },
         "yaxis": "y"
        },
        {
         "hovertemplate": "<b>%{x}</b><br>%{text}<br><extra></extra>",
         "legendgroup": "Vice dirigente ",
         "marker": {
          "color": "#00D2D3",
          "line": {
           "color": "white",
           "width": 2
          },
          "pattern": {
           "shape": ""
          }
         },
         "name": "Vice dirigente ",
         "opacity": 0.85,
         "orientation": "v",
         "showlegend": true,
         "text": [
          "1 (7.1%)"
         ],
         "textfont": {
          "color": "#2c3e50",
          "size": 11
         },
         "textposition": "outside",
         "texttemplate": "%{text}",
         "type": "bar",
         "x": [
          "Vice dirigente "
         ],
         "xaxis": "x",
         "y": {
          "bdata": "ZmZmZmZmHEA=",
          "dtype": "f8"
         },
         "yaxis": "y"
        },
        {
         "hovertemplate": "<b>%{x}</b><br>%{text}<br><extra></extra>",
         "legendgroup": "Funzione strumentale per l’orientamento in ingresso",
         "marker": {
          "color": "#FF9F43",
          "line": {
           "color": "white",
           "width": 2
          },
          "pattern": {
           "shape": ""
          }
         },
         "name": "Funzione strumentale per l’orientamento in ingresso",
         "opacity": 0.85,
         "orientation": "v",
         "showlegend": true,
         "text": [
          "1 (7.1%)"
         ],
         "textfont": {
          "color": "#2c3e50",
          "size": 11
         },
         "textposition": "outside",
         "texttemplate": "%{text}",
         "type": "bar",
         "x": [
          "Funzione strumentale per l’orientamento in ingresso"
         ],
         "xaxis": "x",
         "y": {
          "bdata": "ZmZmZmZmHEA=",
          "dtype": "f8"
         },
         "yaxis": "y"
        },
        {
         "hovertemplate": "<b>%{x}</b><br>%{text}<br><extra></extra>",
         "legendgroup": "Docente ",
         "marker": {
          "color": "#6C5CE7",
          "line": {
           "color": "white",
           "width": 2
          },
          "pattern": {
           "shape": ""
          }
         },
         "name": "Docente ",
         "opacity": 0.85,
         "orientation": "v",
         "showlegend": true,
         "text": [
          "1 (7.1%)"
         ],
         "textfont": {
          "color": "#2c3e50",
          "size": 11
         },
         "textposition": "outside",
         "texttemplate": "%{text}",
         "type": "bar",
         "x": [
          "Docente "
         ],
         "xaxis": "x",
         "y": {
          "bdata": "ZmZmZmZmHEA=",
          "dtype": "f8"
         },
         "yaxis": "y"
        },
        {
         "hovertemplate": "<b>%{x}</b><br>%{text}<br><extra></extra>",
         "legendgroup": "Referente per l'Orientamento in Uscita",
         "marker": {
          "color": "#A29BFE",
          "line": {
           "color": "white",
           "width": 2
          },
          "pattern": {
           "shape": ""
          }
         },
         "name": "Referente per l'Orientamento in Uscita",
         "opacity": 0.85,
         "orientation": "v",
         "showlegend": true,
         "text": [
          "1 (7.1%)"
         ],
         "textfont": {
          "color": "#2c3e50",
          "size": 11
         },
         "textposition": "outside",
         "texttemplate": "%{text}",
         "type": "bar",
         "x": [
          "Referente per l'Orientamento in Uscita"
         ],
         "xaxis": "x",
         "y": {
          "bdata": "ZmZmZmZmHEA=",
          "dtype": "f8"
         },
         "yaxis": "y"
        },
        {
         "hovertemplate": "<b>%{x}</b><br>%{text}<br><extra></extra>",
         "legendgroup": "Tutor ed orientatore in uscita",
         "marker": {
          "color": "#FD79A8",
          "line": {
           "color": "white",
           "width": 2
          },
          "pattern": {
           "shape": ""
          }
         },
         "name": "Tutor ed orientatore in uscita",
         "opacity": 0.85,
         "orientation": "v",
         "showlegend": true,
         "text": [
          "1 (7.1%)"
         ],
         "textfont": {
          "color": "#2c3e50",
          "size": 11
         },
         "textposition": "outside",
         "texttemplate": "%{text}",
         "type": "bar",
         "x": [
          "Tutor ed orientatore in uscita"
         ],
         "xaxis": "x",
         "y": {
          "bdata": "ZmZmZmZmHEA=",
          "dtype": "f8"
         },
         "yaxis": "y"
        },
        {
         "hovertemplate": "<b>%{x}</b><br>%{text}<br><extra></extra>",
         "legendgroup": "F.S. Referente per l'Orientamento",
         "marker": {
          "color": "#E17055",
          "line": {
           "color": "white",
           "width": 2
          },
          "pattern": {
           "shape": ""
          }
         },
         "name": "F.S. Referente per l'Orientamento",
         "opacity": 0.85,
         "orientation": "v",
         "showlegend": true,
         "text": [
          "1 (7.1%)"
         ],
         "textfont": {
          "color": "#2c3e50",
          "size": 11
         },
         "textposition": "outside",
         "texttemplate": "%{text}",
         "type": "bar",
         "x": [
          "F.S. Referente per l'Orientamento"
         ],
         "xaxis": "x",
         "y": {
          "bdata": "ZmZmZmZmHEA=",
          "dtype": "f8"
         },
         "yaxis": "y"
        }
       ],
       "layout": {
        "barmode": "relative",
        "font": {
         "size": 12
        },
        "height": 680,
        "legend": {
         "title": {
          "text": "color"
         },
         "tracegroupgap": 0
        },
        "margin": {
         "b": 150,
         "l": 200,
         "r": 80,
         "t": 100
        },
        "paper_bgcolor": "white",
        "plot_bgcolor": "rgba(240,240,245,0.8)",
        "showlegend": false,
        "template": {
         "data": {
          "bar": [
           {
            "error_x": {
             "color": "#2a3f5f"
            },
            "error_y": {
             "color": "#2a3f5f"
            },
            "marker": {
             "line": {
              "color": "white",
              "width": 0.5
             },
             "pattern": {
              "fillmode": "overlay",
              "size": 10,
              "solidity": 0.2
             }
            },
            "type": "bar"
           }
          ],
          "barpolar": [
           {
            "marker": {
             "line": {
              "color": "white",
              "width": 0.5
             },
             "pattern": {
              "fillmode": "overlay",
              "size": 10,
              "solidity": 0.2
             }
            },
            "type": "barpolar"
           }
          ],
          "carpet": [
           {
            "aaxis": {
             "endlinecolor": "#2a3f5f",
             "gridcolor": "#C8D4E3",
             "linecolor": "#C8D4E3",
             "minorgridcolor": "#C8D4E3",
             "startlinecolor": "#2a3f5f"
            },
            "baxis": {
             "endlinecolor": "#2a3f5f",
             "gridcolor": "#C8D4E3",
             "linecolor": "#C8D4E3",
             "minorgridcolor": "#C8D4E3",
             "startlinecolor": "#2a3f5f"
            },
            "type": "carpet"
           }
          ],
          "choropleth": [
           {
            "colorbar": {
             "outlinewidth": 0,
             "ticks": ""
            },
            "type": "choropleth"
           }
          ],
          "contour": [
           {
            "colorbar": {
             "outlinewidth": 0,
             "ticks": ""
            },
            "colorscale": [
             [
              0,
              "#0d0887"
             ],
             [
              0.1111111111111111,
              "#46039f"
             ],
             [
              0.2222222222222222,
              "#7201a8"
             ],
             [
              0.3333333333333333,
              "#9c179e"
             ],
             [
              0.4444444444444444,
              "#bd3786"
             ],
             [
              0.5555555555555556,
              "#d8576b"
             ],
             [
              0.6666666666666666,
              "#ed7953"
             ],
             [
              0.7777777777777778,
              "#fb9f3a"
             ],
             [
              0.8888888888888888,
              "#fdca26"
             ],
             [
              1,
              "#f0f921"
             ]
            ],
            "type": "contour"
           }
          ],
          "contourcarpet": [
           {
            "colorbar": {
             "outlinewidth": 0,
             "ticks": ""
            },
            "type": "contourcarpet"
           }
          ],
          "heatmap": [
           {
            "colorbar": {
             "outlinewidth": 0,
             "ticks": ""
            },
            "colorscale": [
             [
              0,
              "#0d0887"
             ],
             [
              0.1111111111111111,
              "#46039f"
             ],
             [
              0.2222222222222222,
              "#7201a8"
             ],
             [
              0.3333333333333333,
              "#9c179e"
             ],
             [
              0.4444444444444444,
              "#bd3786"
             ],
             [
              0.5555555555555556,
              "#d8576b"
             ],
             [
              0.6666666666666666,
              "#ed7953"
             ],
             [
              0.7777777777777778,
              "#fb9f3a"
             ],
             [
              0.8888888888888888,
              "#fdca26"
             ],
             [
              1,
              "#f0f921"
             ]
            ],
            "type": "heatmap"
           }
          ],
          "histogram": [
           {
            "marker": {
             "pattern": {
              "fillmode": "overlay",
              "size": 10,
              "solidity": 0.2
             }
            },
            "type": "histogram"
           }
          ],
          "histogram2d": [
           {
            "colorbar": {
             "outlinewidth": 0,
             "ticks": ""
            },
            "colorscale": [
             [
              0,
              "#0d0887"
             ],
             [
              0.1111111111111111,
              "#46039f"
             ],
             [
              0.2222222222222222,
              "#7201a8"
             ],
             [
              0.3333333333333333,
              "#9c179e"
             ],
             [
              0.4444444444444444,
              "#bd3786"
             ],
             [
              0.5555555555555556,
              "#d8576b"
             ],
             [
              0.6666666666666666,
              "#ed7953"
             ],
             [
              0.7777777777777778,
              "#fb9f3a"
             ],
             [
              0.8888888888888888,
              "#fdca26"
             ],
             [
              1,
              "#f0f921"
             ]
            ],
            "type": "histogram2d"
           }
          ],
          "histogram2dcontour": [
           {
            "colorbar": {
             "outlinewidth": 0,
             "ticks": ""
            },
            "colorscale": [
             [
              0,
              "#0d0887"
             ],
             [
              0.1111111111111111,
              "#46039f"
             ],
             [
              0.2222222222222222,
              "#7201a8"
             ],
             [
              0.3333333333333333,
              "#9c179e"
             ],
             [
              0.4444444444444444,
              "#bd3786"
             ],
             [
              0.5555555555555556,
              "#d8576b"
             ],
             [
              0.6666666666666666,
              "#ed7953"
             ],
             [
              0.7777777777777778,
              "#fb9f3a"
             ],
             [
              0.8888888888888888,
              "#fdca26"
             ],
             [
              1,
              "#f0f921"
             ]
            ],
            "type": "histogram2dcontour"
           }
          ],
          "mesh3d": [
           {
            "colorbar": {
             "outlinewidth": 0,
             "ticks": ""
            },
            "type": "mesh3d"
           }
          ],
          "parcoords": [
           {
            "line": {
             "colorbar": {
              "outlinewidth": 0,
              "ticks": ""
             }
            },
            "type": "parcoords"
           }
          ],
          "pie": [
           {
            "automargin": true,
            "type": "pie"
           }
          ],
          "scatter": [
           {
            "fillpattern": {
             "fillmode": "overlay",
             "size": 10,
             "solidity": 0.2
            },
            "type": "scatter"
           }
          ],
          "scatter3d": [
           {
            "line": {
             "colorbar": {
              "outlinewidth": 0,
              "ticks": ""
             }
            },
            "marker": {
             "colorbar": {
              "outlinewidth": 0,
              "ticks": ""
             }
            },
            "type": "scatter3d"
           }
          ],
          "scattercarpet": [
           {
            "marker": {
             "colorbar": {
              "outlinewidth": 0,
              "ticks": ""
             }
            },
            "type": "scattercarpet"
           }
          ],
          "scattergeo": [
           {
            "marker": {
             "colorbar": {
              "outlinewidth": 0,
              "ticks": ""
             }
            },
            "type": "scattergeo"
           }
          ],
          "scattergl": [
           {
            "marker": {
             "colorbar": {
              "outlinewidth": 0,
              "ticks": ""
             }
            },
            "type": "scattergl"
           }
          ],
          "scattermap": [
           {
            "marker": {
             "colorbar": {
              "outlinewidth": 0,
              "ticks": ""
             }
            },
            "type": "scattermap"
           }
          ],
          "scattermapbox": [
           {
            "marker": {
             "colorbar": {
              "outlinewidth": 0,
              "ticks": ""
             }
            },
            "type": "scattermapbox"
           }
          ],
          "scatterpolar": [
           {
            "marker": {
             "colorbar": {
              "outlinewidth": 0,
              "ticks": ""
             }
            },
            "type": "scatterpolar"
           }
          ],
          "scatterpolargl": [
           {
            "marker": {
             "colorbar": {
              "outlinewidth": 0,
              "ticks": ""
             }
            },
            "type": "scatterpolargl"
           }
          ],
          "scatterternary": [
           {
            "marker": {
             "colorbar": {
              "outlinewidth": 0,
              "ticks": ""
             }
            },
            "type": "scatterternary"
           }
          ],
          "surface": [
           {
            "colorbar": {
             "outlinewidth": 0,
             "ticks": ""
            },
            "colorscale": [
             [
              0,
              "#0d0887"
             ],
             [
              0.1111111111111111,
              "#46039f"
             ],
             [
              0.2222222222222222,
              "#7201a8"
             ],
             [
              0.3333333333333333,
              "#9c179e"
             ],
             [
              0.4444444444444444,
              "#bd3786"
             ],
             [
              0.5555555555555556,
              "#d8576b"
             ],
             [
              0.6666666666666666,
              "#ed7953"
             ],
             [
              0.7777777777777778,
              "#fb9f3a"
             ],
             [
              0.8888888888888888,
              "#fdca26"
             ],
             [
              1,
              "#f0f921"
             ]
            ],
            "type": "surface"
           }
          ],
          "table": [
           {
            "cells": {
             "fill": {
              "color": "#EBF0F8"
             },
             "line": {
              "color": "white"
             }
            },
            "header": {
             "fill": {
              "color": "#C8D4E3"
             },
             "line": {
              "color": "white"
             }
            },
            "type": "table"
           }
          ]
         },
         "layout": {
          "annotationdefaults": {
           "arrowcolor": "#2a3f5f",
           "arrowhead": 0,
           "arrowwidth": 1
          },
          "autotypenumbers": "strict",
          "coloraxis": {
           "colorbar": {
            "outlinewidth": 0,
            "ticks": ""
           }
          },
          "colorscale": {
           "diverging": [
            [
             0,
             "#8e0152"
            ],
            [
             0.1,
             "#c51b7d"
            ],
            [
             0.2,
             "#de77ae"
            ],
            [
             0.3,
             "#f1b6da"
            ],
            [
             0.4,
             "#fde0ef"
            ],
            [
             0.5,
             "#f7f7f7"
            ],
            [
             0.6,
             "#e6f5d0"
            ],
            [
             0.7,
             "#b8e186"
            ],
            [
             0.8,
             "#7fbc41"
            ],
            [
             0.9,
             "#4d9221"
            ],
            [
             1,
             "#276419"
            ]
           ],
           "sequential": [
            [
             0,
             "#0d0887"
            ],
            [
             0.1111111111111111,
             "#46039f"
            ],
            [
             0.2222222222222222,
             "#7201a8"
            ],
            [
             0.3333333333333333,
             "#9c179e"
            ],
            [
             0.4444444444444444,
             "#bd3786"
            ],
            [
             0.5555555555555556,
             "#d8576b"
            ],
            [
             0.6666666666666666,
             "#ed7953"
            ],
            [
             0.7777777777777778,
             "#fb9f3a"
            ],
            [
             0.8888888888888888,
             "#fdca26"
            ],
            [
             1,
             "#f0f921"
            ]
           ],
           "sequentialminus": [
            [
             0,
             "#0d0887"
            ],
            [
             0.1111111111111111,
             "#46039f"
            ],
            [
             0.2222222222222222,
             "#7201a8"
            ],
            [
             0.3333333333333333,
             "#9c179e"
            ],
            [
             0.4444444444444444,
             "#bd3786"
            ],
            [
             0.5555555555555556,
             "#d8576b"
            ],
            [
             0.6666666666666666,
             "#ed7953"
            ],
            [
             0.7777777777777778,
             "#fb9f3a"
            ],
            [
             0.8888888888888888,
             "#fdca26"
            ],
            [
             1,
             "#f0f921"
            ]
           ]
          },
          "colorway": [
           "#636efa",
           "#EF553B",
           "#00cc96",
           "#ab63fa",
           "#FFA15A",
           "#19d3f3",
           "#FF6692",
           "#B6E880",
           "#FF97FF",
           "#FECB52"
          ],
          "font": {
           "color": "#2a3f5f"
          },
          "geo": {
           "bgcolor": "white",
           "lakecolor": "white",
           "landcolor": "white",
           "showlakes": true,
           "showland": true,
           "subunitcolor": "#C8D4E3"
          },
          "hoverlabel": {
           "align": "left"
          },
          "hovermode": "closest",
          "mapbox": {
           "style": "light"
          },
          "paper_bgcolor": "white",
          "plot_bgcolor": "white",
          "polar": {
           "angularaxis": {
            "gridcolor": "#EBF0F8",
            "linecolor": "#EBF0F8",
            "ticks": ""
           },
           "bgcolor": "white",
           "radialaxis": {
            "gridcolor": "#EBF0F8",
            "linecolor": "#EBF0F8",
            "ticks": ""
           }
          },
          "scene": {
           "xaxis": {
            "backgroundcolor": "white",
            "gridcolor": "#DFE8F3",
            "gridwidth": 2,
            "linecolor": "#EBF0F8",
            "showbackground": true,
            "ticks": "",
            "zerolinecolor": "#EBF0F8"
           },
           "yaxis": {
            "backgroundcolor": "white",
            "gridcolor": "#DFE8F3",
            "gridwidth": 2,
            "linecolor": "#EBF0F8",
            "showbackground": true,
            "ticks": "",
            "zerolinecolor": "#EBF0F8"
           },
           "zaxis": {
            "backgroundcolor": "white",
            "gridcolor": "#DFE8F3",
            "gridwidth": 2,
            "linecolor": "#EBF0F8",
            "showbackground": true,
            "ticks": "",
            "zerolinecolor": "#EBF0F8"
           }
          },
          "shapedefaults": {
           "line": {
            "color": "#2a3f5f"
           }
          },
          "ternary": {
           "aaxis": {
            "gridcolor": "#DFE8F3",
            "linecolor": "#A2B1C6",
            "ticks": ""
           },
           "baxis": {
            "gridcolor": "#DFE8F3",
            "linecolor": "#A2B1C6",
            "ticks": ""
           },
           "bgcolor": "white",
           "caxis": {
            "gridcolor": "#DFE8F3",
            "linecolor": "#A2B1C6",
            "ticks": ""
           }
          },
          "title": {
           "x": 0.05
          },
          "xaxis": {
           "automargin": true,
           "gridcolor": "#EBF0F8",
           "linecolor": "#EBF0F8",
           "ticks": "",
           "title": {
            "standoff": 15
           },
           "zerolinecolor": "#EBF0F8",
           "zerolinewidth": 2
          },
          "yaxis": {
           "automargin": true,
           "gridcolor": "#EBF0F8",
           "linecolor": "#EBF0F8",
           "ticks": "",
           "title": {
            "standoff": 15
           },
           "zerolinecolor": "#EBF0F8",
           "zerolinewidth": 2
          }
         }
        },
        "title": {
         "font": {
          "color": "#2c3e50",
          "size": 14
         },
         "text": "1.1 Ruolo: [Altro]"
        },
        "xaxis": {
         "anchor": "y",
         "automargin": true,
         "domain": [
          0,
          1
         ],
         "gridcolor": "rgba(200,200,200,0.3)",
         "tickangle": -45,
         "tickfont": {
          "color": "#2c3e50",
          "size": 10
         },
         "title": {
          "font": {
           "color": "#34495e",
           "size": 12
          },
          "text": "Risposta"
         }
        },
        "yaxis": {
         "anchor": "x",
         "automargin": true,
         "domain": [
          0,
          1
         ],
         "gridcolor": "rgba(200,200,200,0.3)",
         "tickfont": {
          "color": "#2c3e50",
          "size": 10
         },
         "title": {
          "font": {
           "color": "#34495e",
           "size": 12
          },
          "text": "Percentuale (%)"
         }
        }
       }
      }
     },
     "metadata": {},
     "output_type": "display_data"
    },
    {
     "name": "stdout",
     "output_type": "stream",
     "text": [
      "--------------------------------------------------\n",
      "================================================================================\n"
     ]
    }
   ],
   "source": [
    "# 🧪 TEST: Analisi completa con statistiche\n",
    "# Cambia questi parametri per testare diversi tipi di analisi:\n",
    "\n",
    "GROUP = '1.1'           # Quale domanda analizzare\n",
    "CHART_TYPE = 'bar'      # Tipo grafico (vedi spiegazioni sotto)\n",
    "SHOW_PERCENTAGES = True # True = percentuali, False = numeri assoluti\n",
    "INCLUDE_NA = False      # Includere valori mancanti\n",
    "\n",
    "# 📊 TIPI DI GRAFICO DISPONIBILI:\n",
    "# 'bar'         → Barre verticali (più leggibile)\n",
    "# 'bar_h'       → Barre orizzontali (per etichette lunghe)  \n",
    "# 'pie'         → Torta (buono per poche categorie)\n",
    "# 'likert_bar'  → Barre Likert ordinate (Per nulla → Molto)\n",
    "# 'histogram'   → Istogramma per distribuzioni numeriche\n",
    "# 'gaussian'    → Curva gaussiana sovrapposta all'istogramma\n",
    "\n",
    "# Esegui analisi\n",
    "analyze_question_group(GROUP, CHART_TYPE, SHOW_PERCENTAGES, INCLUDE_NA)"
   ]
  },
  {
   "cell_type": "code",
   "execution_count": null,
   "id": "13023e08",
   "metadata": {},
   "outputs": [],
   "source": [
    "# 🎨 ESEMPI DI TUTTI I TIPI DI GRAFICO\n",
    "# Decommmenta quello che vuoi testare:\n",
    "\n",
    "# analyze_question_group('2.4', 'bar', True, False)          # Barre verticali %\n",
    "# analyze_question_group('2.4', 'bar', False, False)         # Barre verticali numeri assoluti\n",
    "# analyze_question_group('2.4', 'bar_h', True, False)        # Barre orizzontali %  \n",
    "# analyze_question_group('2.4', 'pie', True, False)          # Torta\n",
    "# analyze_question_group('2.4', 'likert_bar', True, False)   # Likert ordinato %\n",
    "# analyze_question_group('2.4', 'histogram', True, False)    # Istogramma \n",
    "# analyze_question_group('2.4', 'gaussian', True, False)     # Curva gaussiana\n",
    "\n",
    "# 🚀 Oppure usa le funzioni rapide:\n",
    "# analyze_gaussian('2.4')   # Prova questo per vedere la curva normale!\n",
    "\n",
    "print(\"✅ Esempi pronti! Decommenta una riga per testare i diversi grafici\")"
   ]
  }
 ],
 "metadata": {
  "kernelspec": {
   "display_name": "venv1",
   "language": "python",
   "name": "python3"
  },
  "language_info": {
   "codemirror_mode": {
    "name": "ipython",
    "version": 3
   },
   "file_extension": ".py",
   "mimetype": "text/x-python",
   "name": "python",
   "nbconvert_exporter": "python",
   "pygments_lexer": "ipython3",
   "version": "3.11.11"
  }
 },
 "nbformat": 4,
 "nbformat_minor": 5
}
