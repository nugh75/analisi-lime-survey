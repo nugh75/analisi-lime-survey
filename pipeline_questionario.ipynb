{
 "cells": [
  {
   "cell_type": "code",
   "execution_count": 8,
   "id": "07ccb77c",
   "metadata": {},
   "outputs": [
    {
     "name": "stdout",
     "output_type": "stream",
     "text": [
      "Tentativo di caricamento: ./dati backup/cpia.xlsx\n",
      "File caricato correttamente! Shape: (5, 260)\n",
      "File utilizzato: ./dati backup/cpia.xlsx\n",
      "=== ANALISI COMPLETA DELLE COLONNE NEL DATASET ===\n",
      "Numero totale di colonne: 260\n",
      "\n",
      "Domande trovate nel dataset (47):\n",
      " 1. 1.1 (2 colonne)\n",
      " 2. 1.2 (1 colonne)\n",
      " 3. 1.3 (1 colonne)\n",
      " 4. 1.4 (5 colonne)\n",
      " 5. 1.5 (1 colonne)\n",
      " 6. 1.6 (1 colonne)\n",
      " 7. 1.7 (2 colonne)\n",
      " 8. 1.8 (1 colonne)\n",
      " 9. 1.9 (1 colonne)\n",
      "10. 2.1 (1 colonne)\n",
      "11. 2.2 (5 colonne)\n",
      "12. 2.3 (4 colonne)\n",
      "13. 2.4 (4 colonne)\n",
      "14. 2.5 (4 colonne)\n",
      "15. 2.6 (3 colonne)\n",
      "16. 2.7 (5 colonne)\n",
      "17. 2.8 (1 colonne)\n",
      "18. 3.1 (1 colonne)\n",
      "19. 3.2 (15 colonne)\n",
      "20. 3.3 (3 colonne)\n",
      "21. 3.4 (7 colonne)\n",
      "22. 3.5 (6 colonne)\n",
      "23. 3.6 (1 colonne)\n",
      "24. 3.7 (1 colonne)\n",
      "25. 3.8 (3 colonne)\n",
      "26. 3.9 (6 colonne)\n",
      "27. 3.10 (7 colonne)\n",
      "28. 3.11 (4 colonne)\n",
      "29. 3.12 (1 colonne)\n",
      "30. 3.13 (5 colonne)\n",
      "31. 3.14 (1 colonne)\n",
      "32. 3.15 (7 colonne)\n",
      "33. 3.16 (1 colonne)\n",
      "34. 4.1 (1 colonne)\n",
      "35. 4.2 (7 colonne)\n",
      "36. 4.3 (6 colonne)\n",
      "37. 4.4 (6 colonne)\n",
      "38. 4.5 (7 colonne)\n",
      "39. 4.6 (7 colonne)\n",
      "40. 4.7 (5 colonne)\n",
      "41. 5.1 (10 colonne)\n",
      "42. 5.2 (5 colonne)\n",
      "43. 6.1 (1 colonne)\n",
      "44. 6.2 (5 colonne)\n",
      "45. 6.3 (16 colonne)\n",
      "46. 6.4 (11 colonne)\n",
      "47. 7.1 (1 colonne)\n",
      "\n",
      "=== ANALISI NUMERAZIONE SEQUENZIALE ===\n",
      "\n",
      "Sezione 1:\n",
      "  ✓ Presenti (9): 1.1, 1.2, 1.3, 1.4, 1.5, 1.6, 1.7, 1.8, 1.9\n",
      "\n",
      "Sezione 2:\n",
      "  ✓ Presenti (8): 2.1, 2.2, 2.3, 2.4, 2.5, 2.6, 2.7, 2.8\n",
      "\n",
      "Sezione 3:\n",
      "  ✓ Presenti (16): 3.1, 3.2, 3.3, 3.4, 3.5, 3.6, 3.7, 3.8, 3.9, 3.10, 3.11, 3.12, 3.13, 3.14, 3.15, 3.16\n",
      "\n",
      "Sezione 4:\n",
      "  ✓ Presenti (7): 4.1, 4.2, 4.3, 4.4, 4.5, 4.6, 4.7\n",
      "\n",
      "Sezione 5:\n",
      "  ✓ Presenti (2): 5.1, 5.2\n",
      "\n",
      "Sezione 6:\n",
      "  ✓ Presenti (4): 6.1, 6.2, 6.3, 6.4\n",
      "\n",
      "Sezione 7:\n",
      "  ✓ Presenti (1): 7.1\n",
      "\n",
      "============================================================\n",
      "RIEPILOGO DOMANDE MANCANTI:\n",
      "Nessuna domanda mancante nella numerazione sequenziale!\n"
     ]
    }
   ],
   "source": [
    "# Analizzo tutte le colonne del dataset per identificare domande mancanti\n",
    "# Prima carico i dati da uno dei file merged esistenti\n",
    "import pandas as pd\n",
    "\n",
    "# Proviamo prima con il file di backup o con uno dei file merged\n",
    "file_paths = [\n",
    "    './dati backup/cpia.xlsx',\n",
    "    './webapp/backend/uploads/projects/4bed8f4c/merged_20250910_085926.xlsx',\n",
    "    './webapp/backend/uploads/projects/34091dcf/merged_20250910_085429.xlsx',\n",
    "    'merged_results.xlsx'\n",
    "]\n",
    "\n",
    "merged = None\n",
    "for file_path in file_paths:\n",
    "    try:\n",
    "        print(f\"Tentativo di caricamento: {file_path}\")\n",
    "        merged = pd.read_excel(file_path)\n",
    "        if merged.shape[0] > 0 and merged.shape[1] > 0:\n",
    "            print(f\"File caricato correttamente! Shape: {merged.shape}\")\n",
    "            print(f\"File utilizzato: {file_path}\")\n",
    "            break\n",
    "        else:\n",
    "            print(f\"File vuoto: {merged.shape}\")\n",
    "    except Exception as e:\n",
    "        print(f\"Errore nel caricamento: {e}\")\n",
    "\n",
    "if merged is None or merged.shape[0] == 0:\n",
    "    print(\"Impossibile caricare alcun file con dati!\")\n",
    "    exit()\n",
    "\n",
    "print(\"=== ANALISI COMPLETA DELLE COLONNE NEL DATASET ===\")\n",
    "print(f\"Numero totale di colonne: {len(merged.columns)}\")\n",
    "print()\n",
    "\n",
    "# Estraggo tutti i numeri delle domande dalle colonne\n",
    "import re\n",
    "question_numbers = set()\n",
    "question_columns = {}\n",
    "\n",
    "pattern = r'^(\\d+\\.\\d+(?:\\.\\d+)?)'\n",
    "for col in merged.columns:\n",
    "    match = re.match(pattern, col)\n",
    "    if match:\n",
    "        q_num = match.group(1)\n",
    "        question_numbers.add(q_num)\n",
    "        if q_num not in question_columns:\n",
    "            question_columns[q_num] = []\n",
    "        question_columns[q_num].append(col)\n",
    "\n",
    "# Ordino i numeri delle domande\n",
    "sorted_questions = sorted(question_numbers, key=lambda x: [int(n) for n in x.split('.')])\n",
    "\n",
    "print(f\"Domande trovate nel dataset ({len(sorted_questions)}):\")\n",
    "for i, q_num in enumerate(sorted_questions, 1):\n",
    "    col_count = len(question_columns[q_num])\n",
    "    print(f\"{i:2d}. {q_num} ({col_count} colonne)\")\n",
    "\n",
    "print()\n",
    "print(\"=== ANALISI NUMERAZIONE SEQUENZIALE ===\")\n",
    "\n",
    "# Controllo le sequenze per sezione\n",
    "sections = {}\n",
    "for q_num in sorted_questions:\n",
    "    parts = q_num.split('.')\n",
    "    if len(parts) >= 2:\n",
    "        section = parts[0]\n",
    "        if section not in sections:\n",
    "            sections[section] = []\n",
    "        sections[section].append(q_num)\n",
    "\n",
    "for section in sorted(sections.keys(), key=int):\n",
    "    section_questions = sorted(sections[section], key=lambda x: [int(n) for n in x.split('.')])\n",
    "    print(f\"\\nSezione {section}:\")\n",
    "    \n",
    "    # Identifico le domande mancanti\n",
    "    section_nums = []\n",
    "    for q in section_questions:\n",
    "        parts = q.split('.')\n",
    "        if len(parts) >= 2:\n",
    "            section_nums.append(int(parts[1]))\n",
    "    \n",
    "    if section_nums:\n",
    "        min_num = min(section_nums)\n",
    "        max_num = max(section_nums)\n",
    "        missing = []\n",
    "        \n",
    "        for i in range(min_num, max_num + 1):\n",
    "            expected_q = f\"{section}.{i}\"\n",
    "            if expected_q not in section_questions:\n",
    "                missing.append(expected_q)\n",
    "        \n",
    "        print(f\"  ✓ Presenti ({len(section_questions)}): {', '.join(section_questions)}\")\n",
    "        if missing:\n",
    "            print(f\"  ❌ MANCANTI ({len(missing)}): {', '.join(missing)}\")\n",
    "\n",
    "# Riepilogo domande mancanti\n",
    "print(\"\\n\" + \"=\"*60)\n",
    "print(\"RIEPILOGO DOMANDE MANCANTI:\")\n",
    "all_missing = []\n",
    "for section in sorted(sections.keys(), key=int):\n",
    "    section_questions = sorted(sections[section], key=lambda x: [int(n) for n in x.split('.')])\n",
    "    section_nums = []\n",
    "    for q in section_questions:\n",
    "        parts = q.split('.')\n",
    "        if len(parts) >= 2:\n",
    "            section_nums.append(int(parts[1]))\n",
    "    \n",
    "    if section_nums:\n",
    "        min_num = min(section_nums)\n",
    "        max_num = max(section_nums)\n",
    "        \n",
    "        for i in range(min_num, max_num + 1):\n",
    "            expected_q = f\"{section}.{i}\"\n",
    "            if expected_q not in section_questions:\n",
    "                all_missing.append(expected_q)\n",
    "\n",
    "if all_missing:\n",
    "    print(f\"Totale domande mancanti: {len(all_missing)}\")\n",
    "    for missing_q in all_missing:\n",
    "        print(f\"  - {missing_q}\")\n",
    "else:\n",
    "    print(\"Nessuna domanda mancante nella numerazione sequenziale!\")"
   ]
  },
  {
   "cell_type": "markdown",
   "id": "87d9b86a",
   "metadata": {},
   "source": [
    "# Pipeline questionario: merge, analisi, selezione colonne\n",
    "Questo notebook esegue in sequenza:\n",
    "1) Unione dei file Excel e aggiunta del numero file\n",
    "2) Analisi delle intestazioni e coperture\n",
    "3) Selezione delle colonne utili e creazione dataset ridotto"
   ]
  },
  {
   "cell_type": "code",
   "execution_count": 9,
   "id": "c9e4fb2b",
   "metadata": {},
   "outputs": [
    {
     "data": {
      "text/plain": [
       "(0, [])"
      ]
     },
     "execution_count": 9,
     "metadata": {},
     "output_type": "execute_result"
    }
   ],
   "source": [
    "# 1) Merge dei file Excel dalla cartella \"dati backup\" (sotto la cartella del notebook)\n",
    "import os, pandas as pd, re\n",
    "\n",
    "base_dir = os.getcwd()\n",
    "input_dir = os.path.join(base_dir, \"dati backup\")\n",
    "pattern = re.compile(r\"results-survey(\\d+)\\.xlsx\")\n",
    "\n",
    "if not os.path.isdir(input_dir):\n",
    "    raise FileNotFoundError(f\"Cartella non trovata: {input_dir}\")\n",
    "\n",
    "dfs = []\n",
    "for fn in os.listdir(input_dir):\n",
    "    m = pattern.match(fn)\n",
    "    if m:\n",
    "        num = m.group(1)\n",
    "        full_path = os.path.join(input_dir, fn)\n",
    "        df = pd.read_excel(full_path)\n",
    "        df[\"file_number\"] = num\n",
    "        dfs.append(df)\n",
    "\n",
    "merged = pd.concat(dfs, ignore_index=True) if dfs else pd.DataFrame()\n",
    "merged.to_excel(\"merged_results.xlsx\", index=False)\n",
    "len(merged), merged.columns.tolist()[:10]"
   ]
  },
  {
   "cell_type": "code",
   "execution_count": 10,
   "id": "d11e7bcb",
   "metadata": {},
   "outputs": [
    {
     "name": "stdout",
     "output_type": "stream",
     "text": [
      "Totale colonne: 0\n",
      "Totale righe: 0\n",
      "\n",
      "Domande con opzioni: 0\n",
      "Domande semplici: 0\n",
      "\n",
      "=== ESEMPI DI DOMANDE CON OPZIONI ===\n",
      "\n",
      "=== ESEMPI DI DOMANDE SEMPLICI ===\n"
     ]
    }
   ],
   "source": [
    "# Analisi della struttura delle colonne per identificare domande e opzioni\n",
    "import re\n",
    "from collections import defaultdict\n",
    "\n",
    "# Carica il file merged per analizzare la struttura\n",
    "df_analysis = pd.read_excel('merged_results.xlsx')\n",
    "\n",
    "print(f\"Totale colonne: {len(df_analysis.columns)}\")\n",
    "print(f\"Totale righe: {len(df_analysis)}\")\n",
    "\n",
    "# Identifica pattern per domande con opzioni\n",
    "question_to_options = defaultdict(list)\n",
    "base_questions = set()\n",
    "\n",
    "for col in df_analysis.columns:\n",
    "    # Pattern per domande con opzioni in parentesi quadre: \"domanda [opzione]\"\n",
    "    if '[' in col and ']' in col:\n",
    "        # Estrae la domanda base (tutto prima della prima [)\n",
    "        base_question = col.split('[')[0].strip()\n",
    "        if base_question.endswith(':'):\n",
    "            base_question = base_question[:-1].strip()\n",
    "        # Estrae l'opzione (tutto tra [ e ])\n",
    "        option_match = re.search(r'\\[([^\\]]+)\\]', col)\n",
    "        if option_match:\n",
    "            option = option_match.group(1).strip()\n",
    "            question_to_options[base_question].append({\n",
    "                'option': option,\n",
    "                'full_column': col\n",
    "            })\n",
    "    else:\n",
    "        # Domanda semplice senza opzioni\n",
    "        clean_col = col.strip()\n",
    "        if clean_col.endswith(':'):\n",
    "            clean_col = clean_col[:-1].strip()\n",
    "        base_questions.add(clean_col)\n",
    "\n",
    "print(f\"\\nDomande con opzioni: {len(question_to_options)}\")\n",
    "print(f\"Domande semplici: {len(base_questions)}\")\n",
    "\n",
    "# Mostra alcuni esempi\n",
    "print(\"\\n=== ESEMPI DI DOMANDE CON OPZIONI ===\")\n",
    "for i, (base_q, options) in enumerate(list(question_to_options.items())[:5]):\n",
    "    print(f\"\\n{i+1}. {base_q}\")\n",
    "    for opt in options[:3]:  # Mostra solo le prime 3 opzioni\n",
    "        print(f\"   - {opt['option']} (colonna: {opt['full_column']})\")\n",
    "    if len(options) > 3:\n",
    "        print(f\"   ... e altre {len(options)-3} opzioni\")\n",
    "\n",
    "print(\"\\n=== ESEMPI DI DOMANDE SEMPLICI ===\")\n",
    "simple_questions = [q for q in base_questions if any(q.startswith(p) for p in ['1.', '2.', '3.', '4.', '5.', '6.'])][:5]\n",
    "for i, q in enumerate(simple_questions):\n",
    "    print(f\"{i+1}. {q}\")"
   ]
  },
  {
   "cell_type": "code",
   "execution_count": 11,
   "id": "d5f9b358",
   "metadata": {},
   "outputs": [
    {
     "name": "stdout",
     "output_type": "stream",
     "text": [
      "Dataset caricato correttamente: (5, 260)\n",
      "Colonne trovate: 260\n",
      "Prime 5 colonne: ['ID risposta', 'Data invio', 'Ultima pagina', 'Lingua iniziale', 'Seme']\n",
      "Salvato file 'questions_with_options.csv' con 204 righe\n",
      "Domande semplici: 20\n",
      "Righe di domande multiple: 184\n",
      "Domande multiple uniche: 41\n",
      "\n",
      "=== VERIFICA DOMANDA 1.1 RUOLO ===\n",
      "Tipo: multiple_choice\n",
      "Opzioni: docente; docente referente per l'orientamento e l'accoglienza; Altro\n",
      "Colonne coinvolte: ['1.1 Ruolo:', '1.1 Ruolo:']\n",
      "\n",
      "=== ANALISI COMPLETATA ===\n",
      "File salvati:\n",
      "- header_analysis.csv: 260 righe\n",
      "- questions_with_options.csv: 204 righe\n"
     ]
    }
   ],
   "source": [
    "# 2) Analisi intestazioni e copertura + Estrazione opzioni di risposta CORRETTA\n",
    "import pandas as pd, unicodedata, re\n",
    "from collections import defaultdict\n",
    "\n",
    "def remove_diacritics(s):\n",
    "    nfkd = unicodedata.normalize('NFKD', str(s));\n",
    "    return ''.join(ch for ch in nfkd if not unicodedata.combining(ch))\n",
    "def normalize_name(s):\n",
    "    s=str(s); s=remove_diacritics(s).lower().strip();\n",
    "    s=re.sub(r'\\s+',' ',s); s=re.sub(r'[^0-9a-z]','',s); return s\n",
    "\n",
    "# === Opzioni teoriche complete per domande specifiche ===\n",
    "KNOWN_QUESTION_OPTIONS = {\n",
    "    '1.1 Ruolo': [\n",
    "        'docente',\n",
    "        'docente referente per l\\'orientamento e l\\'accoglienza', \n",
    "        'Altro'\n",
    "    ]\n",
    "    # Altre domande con opzioni note possono essere aggiunte qui\n",
    "}\n",
    "\n",
    "# Colonne di metadati da escludere dalla classificazione come domande\n",
    "METADATA_COLUMNS = {\n",
    "    'ID risposta', 'Data invio', 'Ultima pagina', 'Lingua iniziale', 'Seme', \n",
    "    'Data di inizio', 'Data dellultima azione', 'file_number'\n",
    "}\n",
    "\n",
    "# Carica i dati dal file corretto (non dal merged_results.xlsx vuoto)\n",
    "try:\n",
    "    df = pd.read_excel('./dati backup/cpia.xlsx')\n",
    "    print(f\"Dataset caricato correttamente: {df.shape}\")\n",
    "except FileNotFoundError:\n",
    "    try:\n",
    "        df = pd.read_excel('merged_results.xlsx')\n",
    "        print(f\"Dataset caricato da merged_results.xlsx: {df.shape}\")\n",
    "    except:\n",
    "        print(\"ERRORE: Impossibile caricare alcun dataset!\")\n",
    "        df = pd.DataFrame()\n",
    "\n",
    "if df.empty:\n",
    "    print(\"ATTENZIONE: Dataset vuoto! Impossibile procedere con l'analisi.\")\n",
    "else:\n",
    "    print(f\"Colonne trovate: {len(df.columns)}\")\n",
    "    print(f\"Prime 5 colonne: {df.columns[:5].tolist()}\")\n",
    "\n",
    "# === Analisi intestazioni originale ===\n",
    "rows = []\n",
    "for c in df.columns:\n",
    "    s = df[c]\n",
    "    rows.append({\n",
    "        'original_name': c,\n",
    "        'normalized_name': normalize_name(c),\n",
    "        'dtype': str(s.dtype),\n",
    "        'non_null_count': int(s.notna().sum()),\n",
    "        'unique_count_non_null': s.nunique(),\n",
    "        'unique_count_including_na': len(s.unique()),\n",
    "        'example_values': str(s.dropna().head(3).tolist())[:200] if not s.dropna().empty else ''\n",
    "    })\n",
    "\n",
    "ha = pd.DataFrame(rows)\n",
    "ha.to_csv('header_analysis.csv', index=False)\n",
    "\n",
    "# === Estrazione opzioni di risposta migliorata ===\n",
    "question_to_options = defaultdict(list)\n",
    "all_base_questions = set()\n",
    "\n",
    "# Pattern per individuare domande con opzioni [opzione]\n",
    "pattern = re.compile(r'^(.*?)\\s*\\[(.*?)\\]\\s*:?\\s*$')\n",
    "\n",
    "for col in df.columns:\n",
    "    # Salta le colonne di metadati\n",
    "    if col in METADATA_COLUMNS:\n",
    "        continue\n",
    "        \n",
    "    match = pattern.match(col)\n",
    "    if match:\n",
    "        base_question = match.group(1).strip()\n",
    "        option = match.group(2).strip()\n",
    "        all_base_questions.add(base_question)\n",
    "        question_to_options[base_question].append({\n",
    "            'option': option,\n",
    "            'full_column': col,\n",
    "            'is_base_value': False\n",
    "        })\n",
    "    else:\n",
    "        # Controlla se è una colonna base (senza opzioni) ma solo per domande numerate\n",
    "        clean_col = col.strip().rstrip(':').strip()\n",
    "        \n",
    "        # Verifica se è una domanda numerata (inizia con numero.numero)\n",
    "        question_pattern = re.compile(r'^(\\d+\\.\\d+)')\n",
    "        if question_pattern.match(clean_col):\n",
    "            # Verifica se esiste una versione con opzioni di questa colonna\n",
    "            questions_with_base_columns = set()\n",
    "            for base_q in all_base_questions:\n",
    "                if clean_col.startswith(base_q) or base_q.startswith(clean_col):\n",
    "                    questions_with_base_columns.add(base_q)\n",
    "            \n",
    "            # Se non ha opzioni corrispondenti nella forma [opzione], \n",
    "            # potrebbe essere una colonna base con valori diretti\n",
    "            if not questions_with_base_columns:\n",
    "                # Controllo se la colonna ha valori che sembrano opzioni multiple\n",
    "                unique_values = df[col].dropna().unique()\n",
    "                if len(unique_values) > 0:\n",
    "                    # Se i valori contengono separatori come \";\" potrebbe essere multiple choice\n",
    "                    has_separators = any(';' in str(val) or ',' in str(val) for val in unique_values)\n",
    "                    if has_separators or (len(unique_values) <= 10 and len(unique_values) > 1):\n",
    "                        question_to_options[clean_col].append({\n",
    "                            'option': 'base_values',\n",
    "                            'full_column': col,\n",
    "                            'is_base_value': True\n",
    "                        })\n",
    "\n",
    "# === Processo per creare il mapping completo domande-opzioni ===\n",
    "questions_data = []\n",
    "\n",
    "for base_q, options in question_to_options.items():\n",
    "    if not options:\n",
    "        continue\n",
    "    \n",
    "    columns_for_question = []\n",
    "    all_options_for_question = []\n",
    "    \n",
    "    # Se abbiamo opzioni teoriche definite, usale\n",
    "    if base_q in KNOWN_QUESTION_OPTIONS:\n",
    "        theoretical_options = KNOWN_QUESTION_OPTIONS[base_q]\n",
    "        all_options_for_question = theoretical_options.copy()\n",
    "        \n",
    "        # Aggiungi i valori \"Altro: specificazione\" se esistono colonne Altro\n",
    "        for opt_info in options:\n",
    "            if 'altro' in opt_info['option'].lower():\n",
    "                specific_col = opt_info['full_column']\n",
    "                if specific_col in df.columns:\n",
    "                    specific_values = df[specific_col].dropna().unique().tolist()\n",
    "                    if specific_values:\n",
    "                        # Sostituisci \"Altro\" con \"Altro: valore_specifico\"\n",
    "                        for i, opt in enumerate(all_options_for_question):\n",
    "                            if opt.lower() == 'altro':\n",
    "                                all_options_for_question[i] = f\"Altro: {'; '.join(specific_values)}\"\n",
    "    else:\n",
    "        # Logica originale per domande senza opzioni teoriche definite\n",
    "        for opt_info in options:\n",
    "            if opt_info.get('is_base_value', False):\n",
    "                # Opzione dalla colonna base - estrai i valori unici\n",
    "                unique_values = df[opt_info['full_column']].dropna().unique()\n",
    "                all_options_for_question.extend([str(val) for val in unique_values])\n",
    "                if opt_info['full_column'] not in columns_for_question:\n",
    "                    columns_for_question.append(opt_info['full_column'])\n",
    "            else:\n",
    "                # Opzione da colonna specifica [opzione]\n",
    "                if opt_info['option'].lower() == 'altro':\n",
    "                    specific_col = opt_info['full_column']\n",
    "                    specific_values = df[specific_col].dropna().unique().tolist()\n",
    "                    if specific_values:\n",
    "                        for spec_val in specific_values:\n",
    "                            all_options_for_question.append(f\"Altro: {spec_val}\")\n",
    "                    else:\n",
    "                        all_options_for_question.append(opt_info['option'])\n",
    "                else:\n",
    "                    all_options_for_question.append(opt_info['option'])\n",
    "                columns_for_question.append(opt_info['full_column'])\n",
    "    \n",
    "    # Raccogli tutte le colonne per questa domanda\n",
    "    for opt_info in options:\n",
    "        if opt_info['full_column'] not in columns_for_question:\n",
    "            columns_for_question.append(opt_info['full_column'])\n",
    "    \n",
    "    # Rimuovi duplicati mantenendo l'ordine\n",
    "    unique_options = []\n",
    "    seen_options = set()\n",
    "    for opt in all_options_for_question:\n",
    "        if opt not in seen_options:\n",
    "            unique_options.append(opt)\n",
    "            seen_options.add(opt)\n",
    "    \n",
    "    all_options_str = '; '.join(unique_options)\n",
    "    \n",
    "    # Crea una riga per ogni colonna, ma tutte con lo stesso set di opzioni\n",
    "    for col in columns_for_question:\n",
    "        questions_data.append({\n",
    "            'question_base': base_q,\n",
    "            'question_type': 'multiple_choice',\n",
    "            'full_column': col,\n",
    "            'option': None,  # Le opzioni sono in 'all_options'\n",
    "            'options_count': len(unique_options),\n",
    "            'all_options': all_options_str\n",
    "        })\n",
    "\n",
    "# Gestisci le domande semplici (senza opzioni) - solo quelle numerate\n",
    "for col in df.columns:\n",
    "    # Salta metadati\n",
    "    if col in METADATA_COLUMNS:\n",
    "        continue\n",
    "        \n",
    "    if '[' not in col and ']' not in col:\n",
    "        clean_col = col.strip()\n",
    "        if clean_col.endswith(':'):\n",
    "            clean_col = clean_col[:-1].strip()\n",
    "        \n",
    "        # Verifica che sia una domanda numerata\n",
    "        question_pattern = re.compile(r'^(\\d+\\.\\d+)')\n",
    "        if question_pattern.match(clean_col):\n",
    "            # Se non ha opzioni corrispondenti, è una domanda semplice\n",
    "            if clean_col not in all_base_questions:\n",
    "                questions_data.append({\n",
    "                    'question_base': clean_col,\n",
    "                    'question_type': 'simple',\n",
    "                    'full_column': col,\n",
    "                    'option': None,\n",
    "                    'options_count': 0,\n",
    "                    'all_options': ''\n",
    "                })\n",
    "\n",
    "# Salva il mapping completo delle domande e opzioni\n",
    "questions_df = pd.DataFrame(questions_data)\n",
    "questions_df.to_csv('questions_with_options.csv', index=False)\n",
    "\n",
    "print(f\"Salvato file 'questions_with_options.csv' con {len(questions_df)} righe\")\n",
    "print(f\"Domande semplici: {len([q for q in questions_data if q['question_type'] == 'simple'])}\")\n",
    "print(f\"Righe di domande multiple: {len([q for q in questions_data if q['question_type'] == 'multiple_choice'])}\")\n",
    "print(f\"Domande multiple uniche: {len(set(q['question_base'] for q in questions_data if q['question_type'] == 'multiple_choice'))}\")\n",
    "\n",
    "# === Copertura per file (codice originale) ===\n",
    "if 'file_number' in df.columns:\n",
    "    long = []\n",
    "    for fn, g in df.groupby('file_number', dropna=False):\n",
    "        n=len(g)\n",
    "        for c in df.columns:\n",
    "            if c=='file_number': continue\n",
    "            non_null=int(g[c].notna().sum()); pct=round(100*non_null/max(n,1),2)\n",
    "            long.append({'file_number':fn,'column':c,'non_null_pct':pct,'non_null_count':non_null,'rows_in_file':n})\n",
    "    pd.DataFrame(long).to_csv('header_coverage_by_file.csv', index=False)\n",
    "\n",
    "# Mostra esempi di domande con opzioni (correzione delle domande problematiche)\n",
    "print(\"\\n=== VERIFICA DOMANDA 1.1 RUOLO ===\")\n",
    "if len(questions_df) > 0 and 'question_base' in questions_df.columns:\n",
    "    ruolo_rows = questions_df[questions_df['question_base'] == '1.1 Ruolo']\n",
    "    if not ruolo_rows.empty:\n",
    "        print(f\"Tipo: {ruolo_rows.iloc[0]['question_type']}\")\n",
    "        print(f\"Opzioni: {ruolo_rows.iloc[0]['all_options']}\")\n",
    "        print(f\"Colonne coinvolte: {ruolo_rows['full_column'].tolist()}\")\n",
    "    else:\n",
    "        print(\"ERRORE: Domanda 1.1 Ruolo non trovata!\")\n",
    "else:\n",
    "    print(\"ERRORE: DataFrame questions_df vuoto o senza colonna question_base!\")\n",
    "\n",
    "print(f\"\\n=== ANALISI COMPLETATA ===\")\n",
    "print(f\"File salvati:\")\n",
    "print(f\"- header_analysis.csv: {len(ha)} righe\")\n",
    "print(f\"- questions_with_options.csv: {len(questions_df)} righe\")"
   ]
  },
  {
   "cell_type": "code",
   "execution_count": 12,
   "id": "c1d83fc0",
   "metadata": {},
   "outputs": [
    {
     "name": "stdout",
     "output_type": "stream",
     "text": [
      "Colonne del file 'questions_with_options.csv':\n",
      "['question_base', 'question_type', 'full_column', 'option', 'options_count', 'all_options']\n",
      "\n",
      "Prime 5 righe:\n",
      "                                       question_base    question_type  \\\n",
      "0                                          1.1 Ruolo  multiple_choice   \n",
      "1                                         1.1 Ruolo:  multiple_choice   \n",
      "2                                         1.3 Genere  multiple_choice   \n",
      "3  1.4 Titolo di studio (indichi tutti i titoli p...  multiple_choice   \n",
      "4  1.4 Titolo di studio (indichi tutti i titoli p...  multiple_choice   \n",
      "\n",
      "                                         full_column  option  options_count  \\\n",
      "0                                         1.1 Ruolo:     NaN              3   \n",
      "1                                 1.1 Ruolo: [Altro]     NaN              1   \n",
      "2                                        1.3 Genere:     NaN              2   \n",
      "3  1.4 Titolo di studio (indichi tutti i titoli p...     NaN              5   \n",
      "4  1.4 Titolo di studio (indichi tutti i titoli p...     NaN              5   \n",
      "\n",
      "                                         all_options  \n",
      "0  docente; docente referente per l'orientamento ...  \n",
      "1                                        Altro: A022  \n",
      "2                                   femmina; maschio  \n",
      "3  laurea; corsi di perfezionamento; corsi di spe...  \n",
      "4  laurea; corsi di perfezionamento; corsi di spe...  \n",
      "\n",
      "Statistiche:\n",
      "- Righe totali: 204\n",
      "- Domande uniche: 49\n",
      "- Domande semplici: 20\n",
      "- Opzioni di domande multiple: 184\n"
     ]
    }
   ],
   "source": [
    "# Verifica il contenuto del file delle domande con opzioni\n",
    "try:\n",
    "    questions_info = pd.read_csv('questions_with_options.csv')\n",
    "    if len(questions_info) > 0:\n",
    "        print(\"Colonne del file 'questions_with_options.csv':\")\n",
    "        print(questions_info.columns.tolist())\n",
    "        print(f\"\\nPrime 5 righe:\")\n",
    "        print(questions_info.head())\n",
    "        print(f\"\\nStatistiche:\")\n",
    "        print(f\"- Righe totali: {len(questions_info)}\")\n",
    "        print(f\"- Domande uniche: {questions_info['question_base'].nunique()}\")\n",
    "        print(f\"- Domande semplici: {len(questions_info[questions_info['question_type'] == 'simple'])}\")\n",
    "        print(f\"- Opzioni di domande multiple: {len(questions_info[questions_info['question_type'] == 'multiple_choice'])}\")\n",
    "    else:\n",
    "        print(\"Il file 'questions_with_options.csv' è vuoto!\")\n",
    "except FileNotFoundError:\n",
    "    print(\"Il file 'questions_with_options.csv' non esiste!\")\n",
    "except pd.errors.EmptyDataError:\n",
    "    print(\"Il file 'questions_with_options.csv' esiste ma è vuoto o corrotto!\")\n",
    "except Exception as e:\n",
    "    print(f\"Errore nel caricamento del file: {e}\")"
   ]
  },
  {
   "cell_type": "code",
   "execution_count": 13,
   "id": "2e648a4e",
   "metadata": {},
   "outputs": [
    {
     "name": "stdout",
     "output_type": "stream",
     "text": [
      "PRIMA DEL FIX - Colonne selezionate dal filtro originale: 181\n",
      "DOPO IL FIX - Colonne totali (originali + tutte le domande): 199\n",
      "Domande aggiunte: 18\n",
      "Dataset creato con 199 colonne selezionate\n",
      "File salvati:\n",
      "  - dataset_domande.csv (dati): (5, 199)\n",
      "  - dataset_domande_con_opzioni.csv (riassunto domande): (49, 7)\n",
      "  - dataset_domande_dettaglio.csv (dettaglio completo): (204, 6)\n",
      "\n",
      "=== DOMANDE SELEZIONATE CON LE LORO OPZIONI ===\n",
      " 1. 1.1 Ruolo (multiple_choice)\n",
      "    Opzioni (3): docente; docente referente per l'orientamento e l'accoglienza; Altro\n",
      "    Colonne: 2\n",
      " 2. 1.1 Ruolo: (multiple_choice)\n",
      "    Opzioni (1): Altro: A022\n",
      "    Colonne: 1\n",
      " 3. 1.3 Genere (multiple_choice)\n",
      "    Opzioni (2): femmina; maschio\n",
      "    Colonne: 2\n",
      " 4. 1.4 Titolo di studio (indichi tutti i titoli posseduti): (multiple_choice)\n",
      "    Opzioni (5): laurea; corsi di perfezionamento; corsi di specializzazione; master; dottorato\n",
      "    Colonne: 5\n",
      " 5. 1.5 Anzianità di servizio non di ruolo nella scuola (multiple_choice)\n",
      "    Opzioni (2): oltre 15 anni; meno di 5 anni\n",
      "    Colonne: 2\n",
      " 6. 1.6 Anzianità di servizio di ruolo nella scuola (multiple_choice)\n",
      "    Opzioni (2): oltre 15 anni; meno di 5 anni\n",
      "    Colonne: 2\n",
      " 7. 1.7 Attualmente svolge altri incarichi (vicepreside, funzione strumentale etc.)? (multiple_choice)\n",
      "    Opzioni (2): No; Sì\n",
      "    Colonne: 2\n",
      " 8. 1.8 Per quale classe di concorso ha conseguito l’abilitazione all’insegnamento? Se ha conseguito l’abilitazione per più classi di concorso, le indichi separandole con una virgola (es. A012,A013) (multiple_choice)\n",
      "    Opzioni (3): A022; AO22; .\n",
      "    Colonne: 2\n",
      " 9. 2.2 Le attività di orientamento prevedono interventi organizzati (multiple_choice)\n",
      "    Opzioni (5): all’interno della scuola; sul territorio in collaborazione con le università; sul territorio in collaborazione con le aziende locali; sul territorio in collaborazione con enti pubblici territoriali (regioni, comuni, province, città metropolitane, comunità montane etc.); sul territorio in collaborazione con enti del terzo settore (cooperative, associazioni no profit etc.)\n",
      "    Colonne: 5\n",
      "10. 2.3 Le attività di orientamento indicate nel PTOF sono finalizzate a (multiple_choice)\n",
      "    Opzioni (4): valorizzare le attitudini e le inclinazioni dello studente; valorizzare gli interessi e le preferenze dello studente; accompagnare lo studente nell’elaborazione critica del proprio progetto di vita; accompagnare lo studente nelle transizioni formative e professionali\n",
      "    Colonne: 4\n",
      "11. 2.4 Le attività di orientamento indicate nel PTOF prevedono interventi mirati al raggiungimento dei seguenti obiettivi: (multiple_choice)\n",
      "    Opzioni (4): ridurre l’abbandono scolastico; favorire la continuità formativa tra scuola e realtà socioeconomica del territorio; contrastare il fenomeno dei NEET (ragazzi che non studiano, non lavorano, non seguono corsi di formazione); favorire l’educazione all’apprendimento e alla formazione permanente\n",
      "    Colonne: 4\n",
      "12. 2.5 Le azioni di orientamento indicate nel PTOF prevedono l’adozione di iniziative volte a promuovere (multiple_choice)\n",
      "    Opzioni (4): attività che partano dall’esperienza degli studenti; didattica laboratoriale; flessibilità degli spazi e dei tempi; attività di “Accoglienza e Orientamento”\n",
      "    Colonne: 4\n",
      "13. 2.6 Nel PTOF, la prospettiva orientativa è inserita nella didattica attraverso (multiple_choice)\n",
      "    Opzioni (3): attività che partano dall’esperienza degli studenti; didattica laboratoriale; flessibilità degli spazi e dei tempi\n",
      "    Colonne: 3\n",
      "14. 2.7 Il PTOF garantisce agli studenti l’opportunità di fruire di attività opzionali e facoltative intra ed extra scolastiche (multiple_choice)\n",
      "    Opzioni (5): culturali (teatro, musei, cinema, biblioteche etc.); laboratoriali, espressive e creative (attività teatrali, musicali, artistiche etc.); ludiche e ricreative (coinvolgimento in giochi di varia tipologia indoor-outdoor); di volontariato; sportive\n",
      "    Colonne: 5\n",
      "15. 3.1 Per prepararsi a svolgere il suo ruolo di docente tutor o di docente orientatore per l’orientamento ha seguito corsi specifici? (multiple_choice)\n",
      "    Opzioni (2): Sì; No\n",
      "    Colonne: 2\n",
      "16. 3.2 Indichi i corsi (per un massimo di tre) (multiple_choice)\n",
      "    Opzioni (5): ente organizzatore del corso (indicare denominazione università/ente/centro di formazione etc.); titolo del corso; tipologia (master, specializzazione, perfezionamento etc.); durata (indicare in ore); anno di conseguimento\n",
      "    Colonne: 8\n",
      "17. 3.3 Il/I corso/i le ha consentito di approfondire conoscenze e/o sviluppare competenze dal punto di vista (multiple_choice)\n",
      "    Opzioni (3): teorico; metodologico; operativo\n",
      "    Colonne: 3\n",
      "18. 3.4 Per prepararsi a svolgere la sua funzione di docente referente per l'accoglienza e l'orientamento ha avuto la possibilità di approfondire (multiple_choice)\n",
      "    Opzioni (7): i materiali messi a disposizione sulla piattaforma UNICA del MIM; attività di orientamento finalizzate a studi e carriere professionali nelle discipline STEM; questioni legate allo sviluppo del sistema di formazione terziaria degli ITS Academy; questioni legate al disagio e all’abbandono scolastico; questioni legate alla disabilità (DSA, BES etc.); questioni legate alla digitalizzazione; questioni legate all’utilizzo di metodologie didattiche innovative\n",
      "    Colonne: 7\n",
      "19. 3.5 Ritiene che le linee guida sull’orientamento (decreto ministerale n. 328/22) esprimano con chiarezza (multiple_choice)\n",
      "    Opzioni (6): l’impianto metodologico da seguire per lo sviluppo di azioni di orientamento efficaci; il percorso di formazione richiesto ai docenti tutor per l’orientamento; il modo in cui articolare progetti di didattica orientativa/moduli curricolari per l’orientamento; il modo in cui certificare le competenze chiave utili all’orientamento nella prospettiva dell’apprendimento permanente; la funzione dell’ePortfolio come strumento di accompagnamento dal I grado fino al termine del II grado; la modalità in cui effettuare il monitoraggio relativo all’attuazione delle linee guida\n",
      "    Colonne: 6\n",
      "20. 3.6 Il CPIA in cui presta servizio fa riferimento a specifici modelli di orientamento? (multiple_choice)\n",
      "    Opzioni (2): No; Sì\n",
      "    Colonne: 2\n",
      "21. 3.8 Le pratiche di orientamento nella sua scuola fanno riferimento ad attività di tipo (multiple_choice)\n",
      "    Opzioni (3): informativo, ovvero centrato sulle offerte formative post-diploma (indirizzi universitari, scuole di formazione professionale, richieste dal mondo del lavoro, indicazioni sui profili professionali emergenti); psicodiagnostico, ovvero centrato sulla diagnosi di caratteristiche e tratti peculiari della personalità che possano orientare le scelte universitarie o lavorative; formativo, ovvero centrato sulla progettazione di un intervento didattico curriculare che tenga conto degli apprendimenti formali, non formali e informali dello studente e lo accompagni nella costruzione del percorso di vita\n",
      "    Colonne: 3\n",
      "22. 3.9 Quanto spesso il CPIA dove presta servizio organizza le seguenti attività di orientamento? (multiple_choice)\n",
      "    Opzioni (7): Interventi di docenti della formazione professionale; Interventi di esperti del mondo del lavoro; Interventi di esperti di ambito psicodiagnostico; Affiancamento, da parte del tutor, per un orientamento personalizzato; Incontri finalizzati all’utilizzo di strumenti per la costruzione della storia dello studente (ePortfolio; bilancio di competenze etc.); Attività di “Accoglienza e Orientamento”\n",
      "    Colonne: 6\n",
      "23. 3.10 Per migliorare le competenze di orientamento degli studenti, quali attività ritiene maggiormente efficaci per il CPIA in cui presta servizio? (multiple_choice)\n",
      "    Opzioni (8): Interventi di docenti della formazione professionale; Interventi di esperti del mondo del lavoro; Interventi di esperti di ambito counseling psicopedagogico; Affiancamento, da parte del tutor, per un orientamento personalizzato; Progettazione di interventi di didattica disciplinare con fini orientativi; Progettazione di interventi di didattica interdisciplinare con fini orientativi; Incontri finalizzati all’utilizzo di strumenti per la costruzione della storia dello studente (ePortfolio; bilancio di competenze etc.)\n",
      "    Colonne: 7\n",
      "24. 3.11 Nel CPIA in cui presta servizio attualmente le attività di orientamento sono gestite (multiple_choice)\n",
      "    Opzioni (4): esclusivamente dal docente che si occupa dell'accoglienza; dal docente che si occupa dell'accoglienza affiancato da altri docenti; dai docenti con il coordinamento dal docente che si occupa dell'accoglienza; dal docente che si occupa dell'accoglienza supportato dal personale ATA\n",
      "    Colonne: 4\n",
      "25. 3.12 Nel CPIA in cui presta servizio sono attivi i percorsi PCTO? (multiple_choice)\n",
      "    Opzioni (2): No; Sì\n",
      "    Colonne: 2\n",
      "26. 3.13 Ritiene che i percorsi di PCTO attivati nel CPIA in cui presta servizio debbano (multiple_choice)\n",
      "    Opzioni (5): essere proposti in base alla specificità del percorso di studi seguito presso il CPIA; aprire nuove prospettive per gli studenti, anche se non in linea con il percorso di studi seguito presso il CPIA; divenire parte integrante del curricolo: i docenti dovrebbero tenere conto del percorso PCTO nella riprogettazione delle attività curricolari; promuovere una interazione partecipativa in aula, con lo scopo di valorizzare l’esperienza svolta e rendere gli studenti protagonisti del processo orientativo; rimanere legati alle esperienze extrascolastiche: non è possibile ricondurre ogni attività al curricolo\n",
      "    Colonne: 5\n",
      "27. 3.14 Il percorso di 30 ore, che fa parte dei moduli di orientamento previsti dalle linee guida, è stato attivato nel CPIA dove presta servizio? (multiple_choice)\n",
      "    Opzioni (2): No; Sì\n",
      "    Colonne: 2\n",
      "28. 3.15 il percorso è progettato per essere svolto (multiple_choice)\n",
      "    Opzioni (7): nell’orario scolastico; al di fuori dell’orario scolastico; in modo interdisciplinare tra i docenti di ciascun consiglio di livello/consiglio di classe; a livello di istituto in modo differenziato per percorsi di istruzione (I e II livello, percorsi di alfabetizzazione della lingua italiana); in attività laboratoriali trasversali alle classi e ai percorsi; in accordo con gli studenti; avvalendosi del contributo di agenti esterni al CPIA (aziende, istituzioni territoriali, università)\n",
      "    Colonne: 7\n",
      "29. 4.1 Nella scuola secondaria di I grado è previsto il rilascio del “consiglio di orientamento” finale sul percorso di formazione da intraprendere nel secondo ciclo. Nel CPIA in cui presta servizio, il “consiglio di orientamento” viene fornito al termine del percorso di I livello? (multiple_choice)\n",
      "    Opzioni (2): No; Sì\n",
      "    Colonne: 2\n",
      "30. 4.2 In che modo viene formulato? (multiple_choice)\n",
      "    Opzioni (7): Attraverso test psicodiagnostici somministrati da un esperto; Sulla base dell’analisi documentata del percorso di studio, effettuata dal consiglio di classe/di livello; Sulla base dell’analisi documentata del percorso di studio, effettuata dal docente referente per l'orientamento; Sulla base dell’analisi delle attività scolastiche ed extrascolastiche documentate, effettuata dal consiglio di classe/di livello; Sulla base dell’analisi delle attività scolastiche ed extrascolastiche documentate, effettuata dal docente referente per l'orientamento; Sulla base dell’analisi delle competenze certificate secondo i modelli previsti dal MIM; Attraverso la lettura e l’analisi dell’e-portfolio\n",
      "    Colonne: 7\n",
      "31. 4.3 Gli strumenti per l’orientamento attualmente utilizzati nel CPIA in cui presta servizio sono prevalentemente (multiple_choice)\n",
      "    Opzioni (6): test per la diagnosi delle attitudini dello studente; test per la rilevazione di abilità e competenze dello studente; questionari per l’autovalutazione delle proprie strategie di apprendimento; questionari per l’autovalutazione di interessi e inclinazioni; dispositivi per la riflessione sul percorso di formazione (colloquio, ePortfolio, bilancio delle competenze etc.); dispositivi per l’autonarrazione del percorso di formazione (colloquio, ePortfolio, bilancio delle competenze etc.)\n",
      "    Colonne: 6\n",
      "32. 4.4 Per migliorare le capacità di orientamento degli studenti, quali strumenti ritiene che dovrebbero essere utilizzati nel CPIA in cui presta servizio? (multiple_choice)\n",
      "    Opzioni (6): Test per la diagnosi delle attitudini dello studente; Test per la rilevazione di abilità e competenze dello studente; Questionari per l’autovalutazione delle proprie strategie di apprendimento; Questionari per l’autovalutazione di interessi e inclinazioni; Dispositivi per la riflessione sul percorso di formazione (colloquio, ePortfolio, bilancio delle competenze etc.); Dispositivi per l’autonarrazione del percorso di formazione (colloquio, ePortfolio, bilancio delle competenze etc.)\n",
      "    Colonne: 6\n",
      "33. 4.5 Nel CPIA in cui presta servizio, attualmente si forniscono agli studenti istruzioni per (multiple_choice)\n",
      "    Opzioni (13): accedere a informazioni relative a offerte di lavoro, stage, tirocini attraverso canali tradizionali (uffici preposti; incontri in presenza nelle scuole o nelle università; meeting con aziende etc.); navigare in banche dati per accedere a informazioni relative a offerte di lavoro, stage, tirocini (siti specifici del MIM; siti delle scuole; siti delle università; siti dedicati al matching; siti delle aziende etc.); elaborare un CV utilizzando i formati europei in lingua italiana; elaborare un CV utilizzando i formati europei in lingua inglese; elaborare una lettera di presentazione in lingua italiana; elaborare una lettera di presentazione in lingua inglese; elaborare un CV amplificato utilizzando l’ePortfolio\n",
      "    Colonne: 7\n",
      "34. 4.6 Per migliorare le capacità di orientamento, ritiene che il CPIA in cui presta servizio dovrebbe fornire agli studenti strumenti per (multiple_choice)\n",
      "    Opzioni (13): accedere a informazioni relative a offerte di lavoro, stage, tirocini attraverso canali tradizionali (uffici preposti; incontri in presenza nelle scuole o nelle università; meeting con aziende etc); navigare in banche dati per accedere a informazioni relative a offerte di lavoro, stage, tirocini (siti specifici del MIM; siti delle scuole; siti delle università; siti dedicati al matching; siti delle aziende etc.); elaborare un CV utilizzando i formati europei in lingua italiana; elaborare un CV utilizzando i formati europei in lingua inglese; elaborare una lettera di presentazione in lingua italiana; elaborare una lettera di presentazione in lingua inglese; elaborare un CV amplificato utilizzando l’ePortfolio\n",
      "    Colonne: 7\n",
      "35. 4.7 Indicare i profili professionali del CPIA impegnati nelle attività di orientamento, specificando per ciascun profilo il numero delle figure presenti (se un profilo non è rappresentato, indicare 'zero'). Nel campo 'Altro (specificare)', elencare i profili distinti separandoli con il punto e virgola, indicando per ciascuno il relativo numero. (multiple_choice)\n",
      "    Opzioni (5): Docente referente per l'accoglienza e orientamento; Dirigente scolastico; Docente (non referente per l'orientamento); Personale TAB; Altro (specificare)\n",
      "    Colonne: 5\n",
      "36. 5.1 Le pratiche di orientamento sviluppate dal CPIA in cui presta servizio prevedono (multiple_choice)\n",
      "    Opzioni (10): incontri con le aziende locali e del territorio; attivazione di PCTO presso le aziende locali e del territorio; attivazione di tirocini e/o stage presso le aziende locali e del territorio; organizzazione di visite didattiche presso le aziende locali e del territorio; partecipazione a progetti in collaborazione con le aziende locali e del territorio; incontri con rappresentanti delle istituzioni locali; incontri con gli operatori dei centri per l’orientamento e/o per l’impiego; attivazione di tirocini e/o stage presso le istituzioni locali; organizzazione di visite didattiche presso le istituzioni locali; partecipazione a progetti in collaborazione con le istituzioni locali\n",
      "    Colonne: 10\n",
      "37. 5.2 Per la creazione di una rete territoriale per l’orientamento, il CPIA in cui presta servizio prevede (multiple_choice)\n",
      "    Opzioni (5): lo sviluppo di piattaforme digitali che coinvolgano scuole, aziende e istituzioni del territorio; incontri in presenza con scuole, aziende e istituzioni del territorio; incontri online con scuole, aziende e istituzioni del territorio; scambio di esperienze tra le scuole del territorio di ogni ordine e grado; elaborazione e realizzazione di progetti tra le scuole del territorio di ogni ordine e grado\n",
      "    Colonne: 5\n",
      "38. 6.1 Nel CPIA in cui presta servizio è presente un sistema di monitoraggio delle azioni di orientamento? (multiple_choice)\n",
      "    Opzioni (2): No; Sì\n",
      "    Colonne: 2\n",
      "39. 6.2 Chi se ne occupa? (multiple_choice)\n",
      "    Opzioni (5): il dirigente scolastico; il docente che si occupa dell’accoglienza e dell’orientamento; il docente che si occupa dell’accoglienza e dell’orientamento affiancato dai docenti dei consigli di livello; esperto esterno; Altro\n",
      "    Colonne: 5\n",
      "40. 6.3 Quali attività di orientamento sono oggetto di monitoraggio? (multiple_choice)\n",
      "    Opzioni (16): Gli interventi formativi/informativi effettuati in ambito scolastico (rilevazione sistematica del gradimento degli interventi in aula o in istituto da parte di esperti esterni o dei docenti tutor etc.); Gli interventi formativi/informativi effettuati in ambito extrascolastico (rilevazione sistematica del gradimento della partecipazione ad eventi organizzati dalle università o da istituzioni per la formazione di terzo livello etc.); La partecipazione degli studenti agli interventi effettuati nel CPIA (rilevazione sistematica del numero di CV compilati, numero di siti online visitati, partecipazione attiva ai dibattiti etc.); La partecipazione degli studenti agli interventi effettuati all’esterno del CPIA (rilevazione sistematica del numero di stand visitati nelle fiere, numero di partecipanti agli Open Day, numero partecipanti ai PCTO, restituzione attiva in classe delle esperienze effettuate etc.); La redazione del consiglio di orientamento (rilevazione del grado di accordo delle figure parentali/educative/tutoriali etc.); La redazione del curriculum dello studente (rilevazione del grado di accordo delle figure parentali/educative/tutoriali etc.); La compilazione dell’ePortfolio disponibile sulla piattaforma UNICA del MIM; La compilazione del Dossier personale dell’IDA; La definizione del Patto formativo individuale; Il percorso di riconoscimento dei crediti; Il periodo didattico dedicato alle attività di “Accoglienza e Orientamento”; La partecipazione delle istituzioni locali alle attività di orientamento presso il CPIA (numero e qualità degli interventi di ASL, biblioteche, centri per l’orientamento, centri per l’impiego etc.); La partecipazione delle aziende locali alle attività di orientamento presso il CPIA (numero e qualità degli interventi delle aziende etc.); La partecipazione delle figure parentali/educative/tutoriali alle attività di orientamento presso il CPIA (numero e qualità degli interventi etc.); La verifica della coerenza tra le attività svolte e gli obiettivi del PTOF; L’utilizzo del RAV per l’individuazione dei fattori da rilevare, dei punti di forza e criticità, delle azioni di miglioramento\n",
      "    Colonne: 16\n",
      "41. 6.4 Quali strumenti sono utilizzati per il monitoraggio delle azioni di orientamento? (multiple_choice)\n",
      "    Opzioni (11): Griglie di osservazione; Check-list; Diari di bordo; Questionari agli studenti; Questionari ai docenti; Questionari alle figure parentali/educative/tutoriali; Questionari alle istituzioni locali; Questionari alle aziende locali; Questionari alle aziende in cui lo studente svolge il tirocinio; Dossier personale dello studente; Contenuti elaborati nella definizione del Patto Formativo individuale, Dossier, Libretto dello studente\n",
      "    Colonne: 11\n",
      "42. 1.2 Età (simple)\n",
      "    Colonna: 1.2 Età:\n",
      "43. 1.7.b Specificare (simple)\n",
      "    Colonna: 1.7.b Specificare:\n",
      "44. 1.9 Insegnamento in qualità di docente per le attività di sostegno (simple)\n",
      "    Colonna: 1.9 Insegnamento in qualità di docente per le attività di sostegno \n",
      "45. 2.1 Nel PTOF della sua scuola è prevista una sezione dedicata all’orientamento? (simple)\n",
      "    Colonna: 2.1 Nel PTOF della sua scuola è prevista una sezione dedicata all’orientamento?\n",
      "46. 2.8 Il PTOF prevede una rete di coordinamento fra istituzioni scolastiche e formative per facilitare eventuali passaggi orizzontali tra i percorsi presenti sul territorio? (simple)\n",
      "    Colonna: 2.8 Il PTOF prevede una rete di coordinamento fra istituzioni scolastiche e formative per facilitare eventuali passaggi orizzontali tra i percorsi presenti sul territorio? \n",
      "47. 3.7 A quali (indicare autori e modelli)? (simple)\n",
      "    Colonna: 3.7 A quali (indicare autori e modelli)?\n",
      "48. 3.16 Nel CPIA è disponibile uno sportello per gli utenti dell'orientamento? (simple)\n",
      "    Colonna: 3.16 Nel CPIA è disponibile uno sportello per gli utenti dell'orientamento?\n",
      "49. 7.1 Sarebbe per noi molto importante se volesse fornire ulteriori indicazioni per rendere il servizio all’interno dell’istituto scolastico in cui opera più efficace in relazione ai bisogni di orientamento. (simple)\n",
      "    Colonna: 7.1 Sarebbe per noi molto importante se volesse fornire ulteriori indicazioni per rendere il servizio all’interno dell’istituto scolastico in cui opera più efficace in relazione ai bisogni di orientamento.\n",
      "\n",
      "=== STATISTICHE FINALI ===\n",
      "Domande totali: 49\n",
      "Domande multiple choice: 41\n",
      "Domande semplici: 8\n",
      "Dataset creato con 199 colonne selezionate\n",
      "File salvati:\n",
      "  - dataset_domande.csv (dati): (5, 199)\n",
      "  - dataset_domande_con_opzioni.csv (riassunto domande): (49, 7)\n",
      "  - dataset_domande_dettaglio.csv (dettaglio completo): (204, 6)\n",
      "\n",
      "=== DOMANDE SELEZIONATE CON LE LORO OPZIONI ===\n",
      " 1. 1.1 Ruolo (multiple_choice)\n",
      "    Opzioni (3): docente; docente referente per l'orientamento e l'accoglienza; Altro\n",
      "    Colonne: 2\n",
      " 2. 1.1 Ruolo: (multiple_choice)\n",
      "    Opzioni (1): Altro: A022\n",
      "    Colonne: 1\n",
      " 3. 1.3 Genere (multiple_choice)\n",
      "    Opzioni (2): femmina; maschio\n",
      "    Colonne: 2\n",
      " 4. 1.4 Titolo di studio (indichi tutti i titoli posseduti): (multiple_choice)\n",
      "    Opzioni (5): laurea; corsi di perfezionamento; corsi di specializzazione; master; dottorato\n",
      "    Colonne: 5\n",
      " 5. 1.5 Anzianità di servizio non di ruolo nella scuola (multiple_choice)\n",
      "    Opzioni (2): oltre 15 anni; meno di 5 anni\n",
      "    Colonne: 2\n",
      " 6. 1.6 Anzianità di servizio di ruolo nella scuola (multiple_choice)\n",
      "    Opzioni (2): oltre 15 anni; meno di 5 anni\n",
      "    Colonne: 2\n",
      " 7. 1.7 Attualmente svolge altri incarichi (vicepreside, funzione strumentale etc.)? (multiple_choice)\n",
      "    Opzioni (2): No; Sì\n",
      "    Colonne: 2\n",
      " 8. 1.8 Per quale classe di concorso ha conseguito l’abilitazione all’insegnamento? Se ha conseguito l’abilitazione per più classi di concorso, le indichi separandole con una virgola (es. A012,A013) (multiple_choice)\n",
      "    Opzioni (3): A022; AO22; .\n",
      "    Colonne: 2\n",
      " 9. 2.2 Le attività di orientamento prevedono interventi organizzati (multiple_choice)\n",
      "    Opzioni (5): all’interno della scuola; sul territorio in collaborazione con le università; sul territorio in collaborazione con le aziende locali; sul territorio in collaborazione con enti pubblici territoriali (regioni, comuni, province, città metropolitane, comunità montane etc.); sul territorio in collaborazione con enti del terzo settore (cooperative, associazioni no profit etc.)\n",
      "    Colonne: 5\n",
      "10. 2.3 Le attività di orientamento indicate nel PTOF sono finalizzate a (multiple_choice)\n",
      "    Opzioni (4): valorizzare le attitudini e le inclinazioni dello studente; valorizzare gli interessi e le preferenze dello studente; accompagnare lo studente nell’elaborazione critica del proprio progetto di vita; accompagnare lo studente nelle transizioni formative e professionali\n",
      "    Colonne: 4\n",
      "11. 2.4 Le attività di orientamento indicate nel PTOF prevedono interventi mirati al raggiungimento dei seguenti obiettivi: (multiple_choice)\n",
      "    Opzioni (4): ridurre l’abbandono scolastico; favorire la continuità formativa tra scuola e realtà socioeconomica del territorio; contrastare il fenomeno dei NEET (ragazzi che non studiano, non lavorano, non seguono corsi di formazione); favorire l’educazione all’apprendimento e alla formazione permanente\n",
      "    Colonne: 4\n",
      "12. 2.5 Le azioni di orientamento indicate nel PTOF prevedono l’adozione di iniziative volte a promuovere (multiple_choice)\n",
      "    Opzioni (4): attività che partano dall’esperienza degli studenti; didattica laboratoriale; flessibilità degli spazi e dei tempi; attività di “Accoglienza e Orientamento”\n",
      "    Colonne: 4\n",
      "13. 2.6 Nel PTOF, la prospettiva orientativa è inserita nella didattica attraverso (multiple_choice)\n",
      "    Opzioni (3): attività che partano dall’esperienza degli studenti; didattica laboratoriale; flessibilità degli spazi e dei tempi\n",
      "    Colonne: 3\n",
      "14. 2.7 Il PTOF garantisce agli studenti l’opportunità di fruire di attività opzionali e facoltative intra ed extra scolastiche (multiple_choice)\n",
      "    Opzioni (5): culturali (teatro, musei, cinema, biblioteche etc.); laboratoriali, espressive e creative (attività teatrali, musicali, artistiche etc.); ludiche e ricreative (coinvolgimento in giochi di varia tipologia indoor-outdoor); di volontariato; sportive\n",
      "    Colonne: 5\n",
      "15. 3.1 Per prepararsi a svolgere il suo ruolo di docente tutor o di docente orientatore per l’orientamento ha seguito corsi specifici? (multiple_choice)\n",
      "    Opzioni (2): Sì; No\n",
      "    Colonne: 2\n",
      "16. 3.2 Indichi i corsi (per un massimo di tre) (multiple_choice)\n",
      "    Opzioni (5): ente organizzatore del corso (indicare denominazione università/ente/centro di formazione etc.); titolo del corso; tipologia (master, specializzazione, perfezionamento etc.); durata (indicare in ore); anno di conseguimento\n",
      "    Colonne: 8\n",
      "17. 3.3 Il/I corso/i le ha consentito di approfondire conoscenze e/o sviluppare competenze dal punto di vista (multiple_choice)\n",
      "    Opzioni (3): teorico; metodologico; operativo\n",
      "    Colonne: 3\n",
      "18. 3.4 Per prepararsi a svolgere la sua funzione di docente referente per l'accoglienza e l'orientamento ha avuto la possibilità di approfondire (multiple_choice)\n",
      "    Opzioni (7): i materiali messi a disposizione sulla piattaforma UNICA del MIM; attività di orientamento finalizzate a studi e carriere professionali nelle discipline STEM; questioni legate allo sviluppo del sistema di formazione terziaria degli ITS Academy; questioni legate al disagio e all’abbandono scolastico; questioni legate alla disabilità (DSA, BES etc.); questioni legate alla digitalizzazione; questioni legate all’utilizzo di metodologie didattiche innovative\n",
      "    Colonne: 7\n",
      "19. 3.5 Ritiene che le linee guida sull’orientamento (decreto ministerale n. 328/22) esprimano con chiarezza (multiple_choice)\n",
      "    Opzioni (6): l’impianto metodologico da seguire per lo sviluppo di azioni di orientamento efficaci; il percorso di formazione richiesto ai docenti tutor per l’orientamento; il modo in cui articolare progetti di didattica orientativa/moduli curricolari per l’orientamento; il modo in cui certificare le competenze chiave utili all’orientamento nella prospettiva dell’apprendimento permanente; la funzione dell’ePortfolio come strumento di accompagnamento dal I grado fino al termine del II grado; la modalità in cui effettuare il monitoraggio relativo all’attuazione delle linee guida\n",
      "    Colonne: 6\n",
      "20. 3.6 Il CPIA in cui presta servizio fa riferimento a specifici modelli di orientamento? (multiple_choice)\n",
      "    Opzioni (2): No; Sì\n",
      "    Colonne: 2\n",
      "21. 3.8 Le pratiche di orientamento nella sua scuola fanno riferimento ad attività di tipo (multiple_choice)\n",
      "    Opzioni (3): informativo, ovvero centrato sulle offerte formative post-diploma (indirizzi universitari, scuole di formazione professionale, richieste dal mondo del lavoro, indicazioni sui profili professionali emergenti); psicodiagnostico, ovvero centrato sulla diagnosi di caratteristiche e tratti peculiari della personalità che possano orientare le scelte universitarie o lavorative; formativo, ovvero centrato sulla progettazione di un intervento didattico curriculare che tenga conto degli apprendimenti formali, non formali e informali dello studente e lo accompagni nella costruzione del percorso di vita\n",
      "    Colonne: 3\n",
      "22. 3.9 Quanto spesso il CPIA dove presta servizio organizza le seguenti attività di orientamento? (multiple_choice)\n",
      "    Opzioni (7): Interventi di docenti della formazione professionale; Interventi di esperti del mondo del lavoro; Interventi di esperti di ambito psicodiagnostico; Affiancamento, da parte del tutor, per un orientamento personalizzato; Incontri finalizzati all’utilizzo di strumenti per la costruzione della storia dello studente (ePortfolio; bilancio di competenze etc.); Attività di “Accoglienza e Orientamento”\n",
      "    Colonne: 6\n",
      "23. 3.10 Per migliorare le competenze di orientamento degli studenti, quali attività ritiene maggiormente efficaci per il CPIA in cui presta servizio? (multiple_choice)\n",
      "    Opzioni (8): Interventi di docenti della formazione professionale; Interventi di esperti del mondo del lavoro; Interventi di esperti di ambito counseling psicopedagogico; Affiancamento, da parte del tutor, per un orientamento personalizzato; Progettazione di interventi di didattica disciplinare con fini orientativi; Progettazione di interventi di didattica interdisciplinare con fini orientativi; Incontri finalizzati all’utilizzo di strumenti per la costruzione della storia dello studente (ePortfolio; bilancio di competenze etc.)\n",
      "    Colonne: 7\n",
      "24. 3.11 Nel CPIA in cui presta servizio attualmente le attività di orientamento sono gestite (multiple_choice)\n",
      "    Opzioni (4): esclusivamente dal docente che si occupa dell'accoglienza; dal docente che si occupa dell'accoglienza affiancato da altri docenti; dai docenti con il coordinamento dal docente che si occupa dell'accoglienza; dal docente che si occupa dell'accoglienza supportato dal personale ATA\n",
      "    Colonne: 4\n",
      "25. 3.12 Nel CPIA in cui presta servizio sono attivi i percorsi PCTO? (multiple_choice)\n",
      "    Opzioni (2): No; Sì\n",
      "    Colonne: 2\n",
      "26. 3.13 Ritiene che i percorsi di PCTO attivati nel CPIA in cui presta servizio debbano (multiple_choice)\n",
      "    Opzioni (5): essere proposti in base alla specificità del percorso di studi seguito presso il CPIA; aprire nuove prospettive per gli studenti, anche se non in linea con il percorso di studi seguito presso il CPIA; divenire parte integrante del curricolo: i docenti dovrebbero tenere conto del percorso PCTO nella riprogettazione delle attività curricolari; promuovere una interazione partecipativa in aula, con lo scopo di valorizzare l’esperienza svolta e rendere gli studenti protagonisti del processo orientativo; rimanere legati alle esperienze extrascolastiche: non è possibile ricondurre ogni attività al curricolo\n",
      "    Colonne: 5\n",
      "27. 3.14 Il percorso di 30 ore, che fa parte dei moduli di orientamento previsti dalle linee guida, è stato attivato nel CPIA dove presta servizio? (multiple_choice)\n",
      "    Opzioni (2): No; Sì\n",
      "    Colonne: 2\n",
      "28. 3.15 il percorso è progettato per essere svolto (multiple_choice)\n",
      "    Opzioni (7): nell’orario scolastico; al di fuori dell’orario scolastico; in modo interdisciplinare tra i docenti di ciascun consiglio di livello/consiglio di classe; a livello di istituto in modo differenziato per percorsi di istruzione (I e II livello, percorsi di alfabetizzazione della lingua italiana); in attività laboratoriali trasversali alle classi e ai percorsi; in accordo con gli studenti; avvalendosi del contributo di agenti esterni al CPIA (aziende, istituzioni territoriali, università)\n",
      "    Colonne: 7\n",
      "29. 4.1 Nella scuola secondaria di I grado è previsto il rilascio del “consiglio di orientamento” finale sul percorso di formazione da intraprendere nel secondo ciclo. Nel CPIA in cui presta servizio, il “consiglio di orientamento” viene fornito al termine del percorso di I livello? (multiple_choice)\n",
      "    Opzioni (2): No; Sì\n",
      "    Colonne: 2\n",
      "30. 4.2 In che modo viene formulato? (multiple_choice)\n",
      "    Opzioni (7): Attraverso test psicodiagnostici somministrati da un esperto; Sulla base dell’analisi documentata del percorso di studio, effettuata dal consiglio di classe/di livello; Sulla base dell’analisi documentata del percorso di studio, effettuata dal docente referente per l'orientamento; Sulla base dell’analisi delle attività scolastiche ed extrascolastiche documentate, effettuata dal consiglio di classe/di livello; Sulla base dell’analisi delle attività scolastiche ed extrascolastiche documentate, effettuata dal docente referente per l'orientamento; Sulla base dell’analisi delle competenze certificate secondo i modelli previsti dal MIM; Attraverso la lettura e l’analisi dell’e-portfolio\n",
      "    Colonne: 7\n",
      "31. 4.3 Gli strumenti per l’orientamento attualmente utilizzati nel CPIA in cui presta servizio sono prevalentemente (multiple_choice)\n",
      "    Opzioni (6): test per la diagnosi delle attitudini dello studente; test per la rilevazione di abilità e competenze dello studente; questionari per l’autovalutazione delle proprie strategie di apprendimento; questionari per l’autovalutazione di interessi e inclinazioni; dispositivi per la riflessione sul percorso di formazione (colloquio, ePortfolio, bilancio delle competenze etc.); dispositivi per l’autonarrazione del percorso di formazione (colloquio, ePortfolio, bilancio delle competenze etc.)\n",
      "    Colonne: 6\n",
      "32. 4.4 Per migliorare le capacità di orientamento degli studenti, quali strumenti ritiene che dovrebbero essere utilizzati nel CPIA in cui presta servizio? (multiple_choice)\n",
      "    Opzioni (6): Test per la diagnosi delle attitudini dello studente; Test per la rilevazione di abilità e competenze dello studente; Questionari per l’autovalutazione delle proprie strategie di apprendimento; Questionari per l’autovalutazione di interessi e inclinazioni; Dispositivi per la riflessione sul percorso di formazione (colloquio, ePortfolio, bilancio delle competenze etc.); Dispositivi per l’autonarrazione del percorso di formazione (colloquio, ePortfolio, bilancio delle competenze etc.)\n",
      "    Colonne: 6\n",
      "33. 4.5 Nel CPIA in cui presta servizio, attualmente si forniscono agli studenti istruzioni per (multiple_choice)\n",
      "    Opzioni (13): accedere a informazioni relative a offerte di lavoro, stage, tirocini attraverso canali tradizionali (uffici preposti; incontri in presenza nelle scuole o nelle università; meeting con aziende etc.); navigare in banche dati per accedere a informazioni relative a offerte di lavoro, stage, tirocini (siti specifici del MIM; siti delle scuole; siti delle università; siti dedicati al matching; siti delle aziende etc.); elaborare un CV utilizzando i formati europei in lingua italiana; elaborare un CV utilizzando i formati europei in lingua inglese; elaborare una lettera di presentazione in lingua italiana; elaborare una lettera di presentazione in lingua inglese; elaborare un CV amplificato utilizzando l’ePortfolio\n",
      "    Colonne: 7\n",
      "34. 4.6 Per migliorare le capacità di orientamento, ritiene che il CPIA in cui presta servizio dovrebbe fornire agli studenti strumenti per (multiple_choice)\n",
      "    Opzioni (13): accedere a informazioni relative a offerte di lavoro, stage, tirocini attraverso canali tradizionali (uffici preposti; incontri in presenza nelle scuole o nelle università; meeting con aziende etc); navigare in banche dati per accedere a informazioni relative a offerte di lavoro, stage, tirocini (siti specifici del MIM; siti delle scuole; siti delle università; siti dedicati al matching; siti delle aziende etc.); elaborare un CV utilizzando i formati europei in lingua italiana; elaborare un CV utilizzando i formati europei in lingua inglese; elaborare una lettera di presentazione in lingua italiana; elaborare una lettera di presentazione in lingua inglese; elaborare un CV amplificato utilizzando l’ePortfolio\n",
      "    Colonne: 7\n",
      "35. 4.7 Indicare i profili professionali del CPIA impegnati nelle attività di orientamento, specificando per ciascun profilo il numero delle figure presenti (se un profilo non è rappresentato, indicare 'zero'). Nel campo 'Altro (specificare)', elencare i profili distinti separandoli con il punto e virgola, indicando per ciascuno il relativo numero. (multiple_choice)\n",
      "    Opzioni (5): Docente referente per l'accoglienza e orientamento; Dirigente scolastico; Docente (non referente per l'orientamento); Personale TAB; Altro (specificare)\n",
      "    Colonne: 5\n",
      "36. 5.1 Le pratiche di orientamento sviluppate dal CPIA in cui presta servizio prevedono (multiple_choice)\n",
      "    Opzioni (10): incontri con le aziende locali e del territorio; attivazione di PCTO presso le aziende locali e del territorio; attivazione di tirocini e/o stage presso le aziende locali e del territorio; organizzazione di visite didattiche presso le aziende locali e del territorio; partecipazione a progetti in collaborazione con le aziende locali e del territorio; incontri con rappresentanti delle istituzioni locali; incontri con gli operatori dei centri per l’orientamento e/o per l’impiego; attivazione di tirocini e/o stage presso le istituzioni locali; organizzazione di visite didattiche presso le istituzioni locali; partecipazione a progetti in collaborazione con le istituzioni locali\n",
      "    Colonne: 10\n",
      "37. 5.2 Per la creazione di una rete territoriale per l’orientamento, il CPIA in cui presta servizio prevede (multiple_choice)\n",
      "    Opzioni (5): lo sviluppo di piattaforme digitali che coinvolgano scuole, aziende e istituzioni del territorio; incontri in presenza con scuole, aziende e istituzioni del territorio; incontri online con scuole, aziende e istituzioni del territorio; scambio di esperienze tra le scuole del territorio di ogni ordine e grado; elaborazione e realizzazione di progetti tra le scuole del territorio di ogni ordine e grado\n",
      "    Colonne: 5\n",
      "38. 6.1 Nel CPIA in cui presta servizio è presente un sistema di monitoraggio delle azioni di orientamento? (multiple_choice)\n",
      "    Opzioni (2): No; Sì\n",
      "    Colonne: 2\n",
      "39. 6.2 Chi se ne occupa? (multiple_choice)\n",
      "    Opzioni (5): il dirigente scolastico; il docente che si occupa dell’accoglienza e dell’orientamento; il docente che si occupa dell’accoglienza e dell’orientamento affiancato dai docenti dei consigli di livello; esperto esterno; Altro\n",
      "    Colonne: 5\n",
      "40. 6.3 Quali attività di orientamento sono oggetto di monitoraggio? (multiple_choice)\n",
      "    Opzioni (16): Gli interventi formativi/informativi effettuati in ambito scolastico (rilevazione sistematica del gradimento degli interventi in aula o in istituto da parte di esperti esterni o dei docenti tutor etc.); Gli interventi formativi/informativi effettuati in ambito extrascolastico (rilevazione sistematica del gradimento della partecipazione ad eventi organizzati dalle università o da istituzioni per la formazione di terzo livello etc.); La partecipazione degli studenti agli interventi effettuati nel CPIA (rilevazione sistematica del numero di CV compilati, numero di siti online visitati, partecipazione attiva ai dibattiti etc.); La partecipazione degli studenti agli interventi effettuati all’esterno del CPIA (rilevazione sistematica del numero di stand visitati nelle fiere, numero di partecipanti agli Open Day, numero partecipanti ai PCTO, restituzione attiva in classe delle esperienze effettuate etc.); La redazione del consiglio di orientamento (rilevazione del grado di accordo delle figure parentali/educative/tutoriali etc.); La redazione del curriculum dello studente (rilevazione del grado di accordo delle figure parentali/educative/tutoriali etc.); La compilazione dell’ePortfolio disponibile sulla piattaforma UNICA del MIM; La compilazione del Dossier personale dell’IDA; La definizione del Patto formativo individuale; Il percorso di riconoscimento dei crediti; Il periodo didattico dedicato alle attività di “Accoglienza e Orientamento”; La partecipazione delle istituzioni locali alle attività di orientamento presso il CPIA (numero e qualità degli interventi di ASL, biblioteche, centri per l’orientamento, centri per l’impiego etc.); La partecipazione delle aziende locali alle attività di orientamento presso il CPIA (numero e qualità degli interventi delle aziende etc.); La partecipazione delle figure parentali/educative/tutoriali alle attività di orientamento presso il CPIA (numero e qualità degli interventi etc.); La verifica della coerenza tra le attività svolte e gli obiettivi del PTOF; L’utilizzo del RAV per l’individuazione dei fattori da rilevare, dei punti di forza e criticità, delle azioni di miglioramento\n",
      "    Colonne: 16\n",
      "41. 6.4 Quali strumenti sono utilizzati per il monitoraggio delle azioni di orientamento? (multiple_choice)\n",
      "    Opzioni (11): Griglie di osservazione; Check-list; Diari di bordo; Questionari agli studenti; Questionari ai docenti; Questionari alle figure parentali/educative/tutoriali; Questionari alle istituzioni locali; Questionari alle aziende locali; Questionari alle aziende in cui lo studente svolge il tirocinio; Dossier personale dello studente; Contenuti elaborati nella definizione del Patto Formativo individuale, Dossier, Libretto dello studente\n",
      "    Colonne: 11\n",
      "42. 1.2 Età (simple)\n",
      "    Colonna: 1.2 Età:\n",
      "43. 1.7.b Specificare (simple)\n",
      "    Colonna: 1.7.b Specificare:\n",
      "44. 1.9 Insegnamento in qualità di docente per le attività di sostegno (simple)\n",
      "    Colonna: 1.9 Insegnamento in qualità di docente per le attività di sostegno \n",
      "45. 2.1 Nel PTOF della sua scuola è prevista una sezione dedicata all’orientamento? (simple)\n",
      "    Colonna: 2.1 Nel PTOF della sua scuola è prevista una sezione dedicata all’orientamento?\n",
      "46. 2.8 Il PTOF prevede una rete di coordinamento fra istituzioni scolastiche e formative per facilitare eventuali passaggi orizzontali tra i percorsi presenti sul territorio? (simple)\n",
      "    Colonna: 2.8 Il PTOF prevede una rete di coordinamento fra istituzioni scolastiche e formative per facilitare eventuali passaggi orizzontali tra i percorsi presenti sul territorio? \n",
      "47. 3.7 A quali (indicare autori e modelli)? (simple)\n",
      "    Colonna: 3.7 A quali (indicare autori e modelli)?\n",
      "48. 3.16 Nel CPIA è disponibile uno sportello per gli utenti dell'orientamento? (simple)\n",
      "    Colonna: 3.16 Nel CPIA è disponibile uno sportello per gli utenti dell'orientamento?\n",
      "49. 7.1 Sarebbe per noi molto importante se volesse fornire ulteriori indicazioni per rendere il servizio all’interno dell’istituto scolastico in cui opera più efficace in relazione ai bisogni di orientamento. (simple)\n",
      "    Colonna: 7.1 Sarebbe per noi molto importante se volesse fornire ulteriori indicazioni per rendere il servizio all’interno dell’istituto scolastico in cui opera più efficace in relazione ai bisogni di orientamento.\n",
      "\n",
      "=== STATISTICHE FINALI ===\n",
      "Domande totali: 49\n",
      "Domande multiple choice: 41\n",
      "Domande semplici: 8\n"
     ]
    }
   ],
   "source": [
    "# 3) Selezione colonne utili e dataset ridotto CON OPZIONI DI RISPOSTA\n",
    "import pandas as pd, re\n",
    "OPEN_TEXT_KEYWORDS = [\n",
    "    'Specificare', 'Quali?', 'Quali ', 'Scriva', 'A quali', 'Indichi i corsi',\n",
    "    'titolo del corso', 'ente organizzatore', 'tipologia (master', 'durata (indicare in ore)',\n",
    "    'anno di conseguimento', 'Altro]'\n",
    "]\n",
    "META_EXACT = { 'ID risposta','Data invio','Ultima pagina','Lingua iniziale','Seme','Data di inizio','Data dellultima azione','file_number'}\n",
    "EXCLUDE_PREFIXES = ['Tempo totale','Tempo per il gruppo di domande','Tempo per la domanda']\n",
    "TITLE_OF_STUDY_WHITELIST = [\n",
    "    '1.4 Titolo di studio (indichi tutti i titoli posseduti): [diploma]',\n",
    "    '1.4 Titolo di studio (indichi tutti i titoli posseduti): [laurea]',\n",
    "    '1.4 Titolo di studio (indichi tutti i titoli posseduti): [corsi di perfezionamento ]',\n",
    "    '1.4 Titolo di studio (indichi tutti i titoli posseduti): [corsi di specializzazione ]',\n",
    "    '1.4 Titolo di studio (indichi tutti i titoli posseduti): [master ]',\n",
    "    '1.4 Titolo di studio (indichi tutti i titoli posseduti): [dottorato ]',\n",
    "]\n",
    "KEEP_PREFIXES = ['1.','2.','3.','4.','5.','6.','7.']\n",
    "KEEP_STRICT_PREFIXES = ['3.17 ']\n",
    "\n",
    "# Carica i dati di analisi delle intestazioni e delle opzioni\n",
    "ha = pd.read_csv('header_analysis.csv')\n",
    "questions_info = pd.read_csv('questions_with_options.csv')\n",
    "\n",
    "candidates = []\n",
    "def is_open_text(name:str)->bool:\n",
    "    nl=name.lower();\n",
    "    return any(k.lower() in nl for k in OPEN_TEXT_KEYWORDS)\n",
    "\n",
    "for _,row in ha.iterrows():\n",
    "    name = str(row['original_name'])\n",
    "    if name in META_EXACT or any(name.startswith(p) for p in EXCLUDE_PREFIXES):\n",
    "        continue\n",
    "    non_null = int(row.get('non_null_count',0))\n",
    "    unique_cnt = int(row.get('unique_count_non_null',0)) if pd.notna(row.get('unique_count_non_null',0)) else 0\n",
    "    if non_null==0: continue\n",
    "    if is_open_text(name) and unique_cnt>20: continue\n",
    "    if name in TITLE_OF_STUDY_WHITELIST: candidates.append(name); continue\n",
    "    if any(name.startswith(p) for p in KEEP_STRICT_PREFIXES): candidates.append(name); continue\n",
    "    if any(name.startswith(p) for p in KEEP_PREFIXES):\n",
    "        if is_open_text(name) and unique_cnt>20: continue\n",
    "        candidates.append(name)\n",
    "\n",
    "keep=[]; seen=set()\n",
    "for c in candidates:\n",
    "    if c not in seen:\n",
    "        keep.append(c); seen.add(c)\n",
    "\n",
    "print(f\"PRIMA DEL FIX - Colonne selezionate dal filtro originale: {len(keep)}\")\n",
    "\n",
    "# NUOVO: Aggiungi TUTTE le colonne che iniziano con numeri (1., 2., 3., etc) al keep\n",
    "# anche se non passano i filtri originali, così includiamo tutte le domande\n",
    "merged = pd.read_excel('./dati backup/cpia.xlsx')  # Usa file con dati reali\n",
    "all_question_columns = []\n",
    "pattern = r'^(\\d+\\.\\d+(?:\\.\\d+)?)'\n",
    "\n",
    "for col in merged.columns:\n",
    "    match = re.match(pattern, col)\n",
    "    if match:\n",
    "        all_question_columns.append(col)\n",
    "\n",
    "# Combina i keep originali con tutte le colonne domanda\n",
    "keep_extended = list(set(keep + all_question_columns))\n",
    "print(f\"DOPO IL FIX - Colonne totali (originali + tutte le domande): {len(keep_extended)}\")\n",
    "print(f\"Domande aggiunte: {len(keep_extended) - len(keep)}\")\n",
    "\n",
    "# Crea il dataset ridotto con TUTTE le domande\n",
    "subset = merged[[c for c in keep_extended if c in merged.columns]]\n",
    "subset.to_csv('dataset_domande.csv', index=False)\n",
    "\n",
    "# Crea un file aggiuntivo con informazioni sulle domande e opzioni per TUTTE le colonne domanda\n",
    "selected_questions_info = questions_info[questions_info['full_column'].isin(keep_extended)].copy()\n",
    "\n",
    "# Crea un riassunto per domanda base con tutte le opzioni\n",
    "questions_summary = []\n",
    "for question_base in selected_questions_info['question_base'].unique():\n",
    "    q_data = selected_questions_info[selected_questions_info['question_base'] == question_base]\n",
    "    \n",
    "    if q_data.iloc[0]['question_type'] == 'simple':\n",
    "        # Domanda semplice\n",
    "        questions_summary.append({\n",
    "            'question_base': question_base,\n",
    "            'question_type': 'simple',\n",
    "            'columns_count': 1,\n",
    "            'columns': q_data['full_column'].tolist()[0],\n",
    "            'options_count': 0,\n",
    "            'all_options': '',\n",
    "            'sample_columns': q_data['full_column'].tolist()[:5]  # Per compatibilità\n",
    "        })\n",
    "    else:\n",
    "        # Domanda con opzioni multiple\n",
    "        all_options = q_data['all_options'].iloc[0]  # È uguale per tutte le righe della stessa domanda\n",
    "        columns_list = q_data['full_column'].tolist()\n",
    "        options_list = q_data['option'].tolist()\n",
    "        \n",
    "        # Conta le opzioni dal campo all_options (più accurato)\n",
    "        options_count = len(all_options.split('; ')) if all_options else 0\n",
    "        \n",
    "        questions_summary.append({\n",
    "            'question_base': question_base,\n",
    "            'question_type': 'multiple_choice',\n",
    "            'columns_count': len(columns_list),\n",
    "            'columns': '; '.join(columns_list),\n",
    "            'options_count': options_count,\n",
    "            'all_options': all_options,\n",
    "            'sample_columns': columns_list[:5]  # Prime 5 colonne se ce ne sono molte\n",
    "        })\n",
    "\n",
    "# Salva il riassunto delle domande selezionate\n",
    "questions_summary_df = pd.DataFrame(questions_summary)\n",
    "questions_summary_df.to_csv('dataset_domande_con_opzioni.csv', index=False)\n",
    "\n",
    "# Salva anche il dettaglio completo delle domande selezionate\n",
    "selected_questions_info.to_csv('dataset_domande_dettaglio.csv', index=False)\n",
    "\n",
    "print(f\"Dataset creato con {len(keep_extended)} colonne selezionate\")\n",
    "print(\"File salvati:\")\n",
    "print(f\"  - dataset_domande.csv (dati): {subset.shape}\")\n",
    "print(f\"  - dataset_domande_con_opzioni.csv (riassunto domande): {questions_summary_df.shape}\")\n",
    "print(f\"  - dataset_domande_dettaglio.csv (dettaglio completo): {selected_questions_info.shape}\")\n",
    "\n",
    "print(\"\\n=== DOMANDE SELEZIONATE CON LE LORO OPZIONI ===\")\n",
    "for i, row in questions_summary_df.iterrows():\n",
    "    q_type = \"multiple_choice\" if row['question_type'] == 'multiple_choice' else 'simple'\n",
    "    if q_type == 'multiple_choice':\n",
    "        print(f\"{i+1:2d}. {row['question_base']} ({q_type})\")\n",
    "        print(f\"    Opzioni ({row['options_count']}): {row['all_options']}\")\n",
    "        print(f\"    Colonne: {row['columns_count']}\")\n",
    "    else:\n",
    "        print(f\"{i+1:2d}. {row['question_base']} ({q_type})\")\n",
    "        print(f\"    Colonna: {row['columns']}\")\n",
    "\n",
    "print(f\"\\n=== STATISTICHE FINALI ===\")\n",
    "print(f\"Domande totali: {len(questions_summary_df)}\")\n",
    "print(f\"Domande multiple choice: {len(questions_summary_df[questions_summary_df['question_type'] == 'multiple_choice'])}\")\n",
    "print(f\"Domande semplici: {len(questions_summary_df[questions_summary_df['question_type'] == 'simple'])}\")"
   ]
  },
  {
   "cell_type": "code",
   "execution_count": 14,
   "id": "82813f68",
   "metadata": {},
   "outputs": [
    {
     "name": "stdout",
     "output_type": "stream",
     "text": [
      "Domande con opzioni multiple selezionate: 41\n",
      "\n",
      "=== TUTTE LE DOMANDE CON OPZIONI MULTIPLE ===\n",
      " 1. 1.1 Ruolo\n",
      "    Opzioni (3): docente; docente referente per l'orientamento e l'accoglienza; Altro\n",
      "    Colonne nel dataset: 2\n",
      "\n",
      " 2. 1.1 Ruolo:\n",
      "    Opzioni (1): Altro: A022\n",
      "    Colonne nel dataset: 1\n",
      "\n",
      " 3. 1.3 Genere\n",
      "    Opzioni (2): femmina; maschio\n",
      "    Colonne nel dataset: 2\n",
      "\n",
      " 4. 1.4 Titolo di studio (indichi tutti i titoli posseduti):\n",
      "    Opzioni (5): laurea; corsi di perfezionamento; corsi di specializzazione; master; dottorato\n",
      "    Colonne nel dataset: 5\n",
      "\n",
      " 5. 1.5 Anzianità di servizio non di ruolo nella scuola\n",
      "    Opzioni (2): oltre 15 anni; meno di 5 anni\n",
      "    Colonne nel dataset: 2\n",
      "\n",
      " 6. 1.6 Anzianità di servizio di ruolo nella scuola\n",
      "    Opzioni (2): oltre 15 anni; meno di 5 anni\n",
      "    Colonne nel dataset: 2\n",
      "\n",
      " 7. 1.7 Attualmente svolge altri incarichi (vicepreside, funzione strumentale etc.)?\n",
      "    Opzioni (2): No; Sì\n",
      "    Colonne nel dataset: 2\n",
      "\n",
      " 8. 1.8 Per quale classe di concorso ha conseguito l’abilitazione all’insegnamento? Se ha conseguito l’abilitazione per più classi di concorso, le indichi separandole con una virgola (es. A012,A013)\n",
      "    Opzioni (3): A022; AO22; .\n",
      "    Colonne nel dataset: 2\n",
      "\n",
      " 9. 2.2 Le attività di orientamento prevedono interventi organizzati\n",
      "    Opzioni (5): all’interno della scuola; sul territorio in collaborazione con le università; sul territorio in collaborazione con le aziende locali; sul territorio in collaborazione con enti pubblici territoriali (regioni, comuni, province, città metropolitane, comunità montane etc.); sul territorio in collaborazione con enti del terzo settore (cooperative, associazioni no profit etc.)\n",
      "    Colonne nel dataset: 5\n",
      "\n",
      "10. 2.3 Le attività di orientamento indicate nel PTOF sono finalizzate a\n",
      "    Opzioni (4): valorizzare le attitudini e le inclinazioni dello studente; valorizzare gli interessi e le preferenze dello studente; accompagnare lo studente nell’elaborazione critica del proprio progetto di vita; accompagnare lo studente nelle transizioni formative e professionali\n",
      "    Colonne nel dataset: 4\n",
      "\n",
      "11. 2.4 Le attività di orientamento indicate nel PTOF prevedono interventi mirati al raggiungimento dei seguenti obiettivi:\n",
      "    Opzioni (4): ridurre l’abbandono scolastico; favorire la continuità formativa tra scuola e realtà socioeconomica del territorio; contrastare il fenomeno dei NEET (ragazzi che non studiano, non lavorano, non seguono corsi di formazione); favorire l’educazione all’apprendimento e alla formazione permanente\n",
      "    Colonne nel dataset: 4\n",
      "\n",
      "12. 2.5 Le azioni di orientamento indicate nel PTOF prevedono l’adozione di iniziative volte a promuovere\n",
      "    Opzioni (4): attività che partano dall’esperienza degli studenti; didattica laboratoriale; flessibilità degli spazi e dei tempi; attività di “Accoglienza e Orientamento”\n",
      "    Colonne nel dataset: 4\n",
      "\n",
      "13. 2.6 Nel PTOF, la prospettiva orientativa è inserita nella didattica attraverso\n",
      "    Opzioni (3): attività che partano dall’esperienza degli studenti; didattica laboratoriale; flessibilità degli spazi e dei tempi\n",
      "    Colonne nel dataset: 3\n",
      "\n",
      "14. 2.7 Il PTOF garantisce agli studenti l’opportunità di fruire di attività opzionali e facoltative intra ed extra scolastiche\n",
      "    Opzioni (5): culturali (teatro, musei, cinema, biblioteche etc.); laboratoriali, espressive e creative (attività teatrali, musicali, artistiche etc.); ludiche e ricreative (coinvolgimento in giochi di varia tipologia indoor-outdoor); di volontariato; sportive\n",
      "    Colonne nel dataset: 5\n",
      "\n",
      "15. 3.1 Per prepararsi a svolgere il suo ruolo di docente tutor o di docente orientatore per l’orientamento ha seguito corsi specifici?\n",
      "    Opzioni (2): Sì; No\n",
      "    Colonne nel dataset: 2\n",
      "\n",
      "16. 3.2 Indichi i corsi (per un massimo di tre)\n",
      "    Opzioni (5): ente organizzatore del corso (indicare denominazione università/ente/centro di formazione etc.); titolo del corso; tipologia (master, specializzazione, perfezionamento etc.); durata (indicare in ore); anno di conseguimento\n",
      "    Colonne nel dataset: 8\n",
      "\n",
      "17. 3.3 Il/I corso/i le ha consentito di approfondire conoscenze e/o sviluppare competenze dal punto di vista\n",
      "    Opzioni (3): teorico; metodologico; operativo\n",
      "    Colonne nel dataset: 3\n",
      "\n",
      "18. 3.4 Per prepararsi a svolgere la sua funzione di docente referente per l'accoglienza e l'orientamento ha avuto la possibilità di approfondire\n",
      "    Opzioni (7): i materiali messi a disposizione sulla piattaforma UNICA del MIM; attività di orientamento finalizzate a studi e carriere professionali nelle discipline STEM; questioni legate allo sviluppo del sistema di formazione terziaria degli ITS Academy; questioni legate al disagio e all’abbandono scolastico; questioni legate alla disabilità (DSA, BES etc.); questioni legate alla digitalizzazione; questioni legate all’utilizzo di metodologie didattiche innovative\n",
      "    Colonne nel dataset: 7\n",
      "\n",
      "19. 3.5 Ritiene che le linee guida sull’orientamento (decreto ministerale n. 328/22) esprimano con chiarezza\n",
      "    Opzioni (6): l’impianto metodologico da seguire per lo sviluppo di azioni di orientamento efficaci; il percorso di formazione richiesto ai docenti tutor per l’orientamento; il modo in cui articolare progetti di didattica orientativa/moduli curricolari per l’orientamento; il modo in cui certificare le competenze chiave utili all’orientamento nella prospettiva dell’apprendimento permanente; la funzione dell’ePortfolio come strumento di accompagnamento dal I grado fino al termine del II grado; la modalità in cui effettuare il monitoraggio relativo all’attuazione delle linee guida\n",
      "    Colonne nel dataset: 6\n",
      "\n",
      "20. 3.6 Il CPIA in cui presta servizio fa riferimento a specifici modelli di orientamento?\n",
      "    Opzioni (2): No; Sì\n",
      "    Colonne nel dataset: 2\n",
      "\n",
      "21. 3.8 Le pratiche di orientamento nella sua scuola fanno riferimento ad attività di tipo\n",
      "    Opzioni (3): informativo, ovvero centrato sulle offerte formative post-diploma (indirizzi universitari, scuole di formazione professionale, richieste dal mondo del lavoro, indicazioni sui profili professionali emergenti); psicodiagnostico, ovvero centrato sulla diagnosi di caratteristiche e tratti peculiari della personalità che possano orientare le scelte universitarie o lavorative; formativo, ovvero centrato sulla progettazione di un intervento didattico curriculare che tenga conto degli apprendimenti formali, non formali e informali dello studente e lo accompagni nella costruzione del percorso di vita\n",
      "    Colonne nel dataset: 3\n",
      "\n",
      "22. 3.9 Quanto spesso il CPIA dove presta servizio organizza le seguenti attività di orientamento?\n",
      "    Opzioni (7): Interventi di docenti della formazione professionale; Interventi di esperti del mondo del lavoro; Interventi di esperti di ambito psicodiagnostico; Affiancamento, da parte del tutor, per un orientamento personalizzato; Incontri finalizzati all’utilizzo di strumenti per la costruzione della storia dello studente (ePortfolio; bilancio di competenze etc.); Attività di “Accoglienza e Orientamento”\n",
      "    Colonne nel dataset: 6\n",
      "\n",
      "23. 3.10 Per migliorare le competenze di orientamento degli studenti, quali attività ritiene maggiormente efficaci per il CPIA in cui presta servizio?\n",
      "    Opzioni (8): Interventi di docenti della formazione professionale; Interventi di esperti del mondo del lavoro; Interventi di esperti di ambito counseling psicopedagogico; Affiancamento, da parte del tutor, per un orientamento personalizzato; Progettazione di interventi di didattica disciplinare con fini orientativi; Progettazione di interventi di didattica interdisciplinare con fini orientativi; Incontri finalizzati all’utilizzo di strumenti per la costruzione della storia dello studente (ePortfolio; bilancio di competenze etc.)\n",
      "    Colonne nel dataset: 7\n",
      "\n",
      "24. 3.11 Nel CPIA in cui presta servizio attualmente le attività di orientamento sono gestite\n",
      "    Opzioni (4): esclusivamente dal docente che si occupa dell'accoglienza; dal docente che si occupa dell'accoglienza affiancato da altri docenti; dai docenti con il coordinamento dal docente che si occupa dell'accoglienza; dal docente che si occupa dell'accoglienza supportato dal personale ATA\n",
      "    Colonne nel dataset: 4\n",
      "\n",
      "25. 3.12 Nel CPIA in cui presta servizio sono attivi i percorsi PCTO?\n",
      "    Opzioni (2): No; Sì\n",
      "    Colonne nel dataset: 2\n",
      "\n",
      "26. 3.13 Ritiene che i percorsi di PCTO attivati nel CPIA in cui presta servizio debbano\n",
      "    Opzioni (5): essere proposti in base alla specificità del percorso di studi seguito presso il CPIA; aprire nuove prospettive per gli studenti, anche se non in linea con il percorso di studi seguito presso il CPIA; divenire parte integrante del curricolo: i docenti dovrebbero tenere conto del percorso PCTO nella riprogettazione delle attività curricolari; promuovere una interazione partecipativa in aula, con lo scopo di valorizzare l’esperienza svolta e rendere gli studenti protagonisti del processo orientativo; rimanere legati alle esperienze extrascolastiche: non è possibile ricondurre ogni attività al curricolo\n",
      "    Colonne nel dataset: 5\n",
      "\n",
      "27. 3.14 Il percorso di 30 ore, che fa parte dei moduli di orientamento previsti dalle linee guida, è stato attivato nel CPIA dove presta servizio?\n",
      "    Opzioni (2): No; Sì\n",
      "    Colonne nel dataset: 2\n",
      "\n",
      "28. 3.15 il percorso è progettato per essere svolto\n",
      "    Opzioni (7): nell’orario scolastico; al di fuori dell’orario scolastico; in modo interdisciplinare tra i docenti di ciascun consiglio di livello/consiglio di classe; a livello di istituto in modo differenziato per percorsi di istruzione (I e II livello, percorsi di alfabetizzazione della lingua italiana); in attività laboratoriali trasversali alle classi e ai percorsi; in accordo con gli studenti; avvalendosi del contributo di agenti esterni al CPIA (aziende, istituzioni territoriali, università)\n",
      "    Colonne nel dataset: 7\n",
      "\n",
      "29. 4.1 Nella scuola secondaria di I grado è previsto il rilascio del “consiglio di orientamento” finale sul percorso di formazione da intraprendere nel secondo ciclo. Nel CPIA in cui presta servizio, il “consiglio di orientamento” viene fornito al termine del percorso di I livello?\n",
      "    Opzioni (2): No; Sì\n",
      "    Colonne nel dataset: 2\n",
      "\n",
      "30. 4.2 In che modo viene formulato?\n",
      "    Opzioni (7): Attraverso test psicodiagnostici somministrati da un esperto; Sulla base dell’analisi documentata del percorso di studio, effettuata dal consiglio di classe/di livello; Sulla base dell’analisi documentata del percorso di studio, effettuata dal docente referente per l'orientamento; Sulla base dell’analisi delle attività scolastiche ed extrascolastiche documentate, effettuata dal consiglio di classe/di livello; Sulla base dell’analisi delle attività scolastiche ed extrascolastiche documentate, effettuata dal docente referente per l'orientamento; Sulla base dell’analisi delle competenze certificate secondo i modelli previsti dal MIM; Attraverso la lettura e l’analisi dell’e-portfolio\n",
      "    Colonne nel dataset: 7\n",
      "\n",
      "31. 4.3 Gli strumenti per l’orientamento attualmente utilizzati nel CPIA in cui presta servizio sono prevalentemente\n",
      "    Opzioni (6): test per la diagnosi delle attitudini dello studente; test per la rilevazione di abilità e competenze dello studente; questionari per l’autovalutazione delle proprie strategie di apprendimento; questionari per l’autovalutazione di interessi e inclinazioni; dispositivi per la riflessione sul percorso di formazione (colloquio, ePortfolio, bilancio delle competenze etc.); dispositivi per l’autonarrazione del percorso di formazione (colloquio, ePortfolio, bilancio delle competenze etc.)\n",
      "    Colonne nel dataset: 6\n",
      "\n",
      "32. 4.4 Per migliorare le capacità di orientamento degli studenti, quali strumenti ritiene che dovrebbero essere utilizzati nel CPIA in cui presta servizio?\n",
      "    Opzioni (6): Test per la diagnosi delle attitudini dello studente; Test per la rilevazione di abilità e competenze dello studente; Questionari per l’autovalutazione delle proprie strategie di apprendimento; Questionari per l’autovalutazione di interessi e inclinazioni; Dispositivi per la riflessione sul percorso di formazione (colloquio, ePortfolio, bilancio delle competenze etc.); Dispositivi per l’autonarrazione del percorso di formazione (colloquio, ePortfolio, bilancio delle competenze etc.)\n",
      "    Colonne nel dataset: 6\n",
      "\n",
      "33. 4.5 Nel CPIA in cui presta servizio, attualmente si forniscono agli studenti istruzioni per\n",
      "    Opzioni (13): accedere a informazioni relative a offerte di lavoro, stage, tirocini attraverso canali tradizionali (uffici preposti; incontri in presenza nelle scuole o nelle università; meeting con aziende etc.); navigare in banche dati per accedere a informazioni relative a offerte di lavoro, stage, tirocini (siti specifici del MIM; siti delle scuole; siti delle università; siti dedicati al matching; siti delle aziende etc.); elaborare un CV utilizzando i formati europei in lingua italiana; elaborare un CV utilizzando i formati europei in lingua inglese; elaborare una lettera di presentazione in lingua italiana; elaborare una lettera di presentazione in lingua inglese; elaborare un CV amplificato utilizzando l’ePortfolio\n",
      "    Colonne nel dataset: 7\n",
      "\n",
      "34. 4.6 Per migliorare le capacità di orientamento, ritiene che il CPIA in cui presta servizio dovrebbe fornire agli studenti strumenti per\n",
      "    Opzioni (13): accedere a informazioni relative a offerte di lavoro, stage, tirocini attraverso canali tradizionali (uffici preposti; incontri in presenza nelle scuole o nelle università; meeting con aziende etc); navigare in banche dati per accedere a informazioni relative a offerte di lavoro, stage, tirocini (siti specifici del MIM; siti delle scuole; siti delle università; siti dedicati al matching; siti delle aziende etc.); elaborare un CV utilizzando i formati europei in lingua italiana; elaborare un CV utilizzando i formati europei in lingua inglese; elaborare una lettera di presentazione in lingua italiana; elaborare una lettera di presentazione in lingua inglese; elaborare un CV amplificato utilizzando l’ePortfolio\n",
      "    Colonne nel dataset: 7\n",
      "\n",
      "35. 4.7 Indicare i profili professionali del CPIA impegnati nelle attività di orientamento, specificando per ciascun profilo il numero delle figure presenti (se un profilo non è rappresentato, indicare 'zero'). Nel campo 'Altro (specificare)', elencare i profili distinti separandoli con il punto e virgola, indicando per ciascuno il relativo numero.\n",
      "    Opzioni (5): Docente referente per l'accoglienza e orientamento; Dirigente scolastico; Docente (non referente per l'orientamento); Personale TAB; Altro (specificare)\n",
      "    Colonne nel dataset: 5\n",
      "\n",
      "36. 5.1 Le pratiche di orientamento sviluppate dal CPIA in cui presta servizio prevedono\n",
      "    Opzioni (10): incontri con le aziende locali e del territorio; attivazione di PCTO presso le aziende locali e del territorio; attivazione di tirocini e/o stage presso le aziende locali e del territorio; organizzazione di visite didattiche presso le aziende locali e del territorio; partecipazione a progetti in collaborazione con le aziende locali e del territorio; incontri con rappresentanti delle istituzioni locali; incontri con gli operatori dei centri per l’orientamento e/o per l’impiego; attivazione di tirocini e/o stage presso le istituzioni locali; organizzazione di visite didattiche presso le istituzioni locali; partecipazione a progetti in collaborazione con le istituzioni locali\n",
      "    Colonne nel dataset: 10\n",
      "\n",
      "37. 5.2 Per la creazione di una rete territoriale per l’orientamento, il CPIA in cui presta servizio prevede\n",
      "    Opzioni (5): lo sviluppo di piattaforme digitali che coinvolgano scuole, aziende e istituzioni del territorio; incontri in presenza con scuole, aziende e istituzioni del territorio; incontri online con scuole, aziende e istituzioni del territorio; scambio di esperienze tra le scuole del territorio di ogni ordine e grado; elaborazione e realizzazione di progetti tra le scuole del territorio di ogni ordine e grado\n",
      "    Colonne nel dataset: 5\n",
      "\n",
      "38. 6.1 Nel CPIA in cui presta servizio è presente un sistema di monitoraggio delle azioni di orientamento?\n",
      "    Opzioni (2): No; Sì\n",
      "    Colonne nel dataset: 2\n",
      "\n",
      "39. 6.2 Chi se ne occupa?\n",
      "    Opzioni (5): il dirigente scolastico; il docente che si occupa dell’accoglienza e dell’orientamento; il docente che si occupa dell’accoglienza e dell’orientamento affiancato dai docenti dei consigli di livello; esperto esterno; Altro\n",
      "    Colonne nel dataset: 5\n",
      "\n",
      "40. 6.3 Quali attività di orientamento sono oggetto di monitoraggio?\n",
      "    Opzioni (16): Gli interventi formativi/informativi effettuati in ambito scolastico (rilevazione sistematica del gradimento degli interventi in aula o in istituto da parte di esperti esterni o dei docenti tutor etc.); Gli interventi formativi/informativi effettuati in ambito extrascolastico (rilevazione sistematica del gradimento della partecipazione ad eventi organizzati dalle università o da istituzioni per la formazione di terzo livello etc.); La partecipazione degli studenti agli interventi effettuati nel CPIA (rilevazione sistematica del numero di CV compilati, numero di siti online visitati, partecipazione attiva ai dibattiti etc.); La partecipazione degli studenti agli interventi effettuati all’esterno del CPIA (rilevazione sistematica del numero di stand visitati nelle fiere, numero di partecipanti agli Open Day, numero partecipanti ai PCTO, restituzione attiva in classe delle esperienze effettuate etc.); La redazione del consiglio di orientamento (rilevazione del grado di accordo delle figure parentali/educative/tutoriali etc.); La redazione del curriculum dello studente (rilevazione del grado di accordo delle figure parentali/educative/tutoriali etc.); La compilazione dell’ePortfolio disponibile sulla piattaforma UNICA del MIM; La compilazione del Dossier personale dell’IDA; La definizione del Patto formativo individuale; Il percorso di riconoscimento dei crediti; Il periodo didattico dedicato alle attività di “Accoglienza e Orientamento”; La partecipazione delle istituzioni locali alle attività di orientamento presso il CPIA (numero e qualità degli interventi di ASL, biblioteche, centri per l’orientamento, centri per l’impiego etc.); La partecipazione delle aziende locali alle attività di orientamento presso il CPIA (numero e qualità degli interventi delle aziende etc.); La partecipazione delle figure parentali/educative/tutoriali alle attività di orientamento presso il CPIA (numero e qualità degli interventi etc.); La verifica della coerenza tra le attività svolte e gli obiettivi del PTOF; L’utilizzo del RAV per l’individuazione dei fattori da rilevare, dei punti di forza e criticità, delle azioni di miglioramento\n",
      "    Colonne nel dataset: 16\n",
      "\n",
      "41. 6.4 Quali strumenti sono utilizzati per il monitoraggio delle azioni di orientamento?\n",
      "    Opzioni (11): Griglie di osservazione; Check-list; Diari di bordo; Questionari agli studenti; Questionari ai docenti; Questionari alle figure parentali/educative/tutoriali; Questionari alle istituzioni locali; Questionari alle aziende locali; Questionari alle aziende in cui lo studente svolge il tirocinio; Dossier personale dello studente; Contenuti elaborati nella definizione del Patto Formativo individuale, Dossier, Libretto dello studente\n",
      "    Colonne nel dataset: 11\n",
      "\n",
      "=== FILE CREATI ===\n",
      "✓ dataset_domande.csv (37349 bytes)\n",
      "✓ dataset_domande_con_opzioni.csv (79865 bytes)\n",
      "✓ dataset_domande_dettaglio.csv (160037 bytes)\n",
      "✓ questions_with_options.csv (160037 bytes)\n",
      "✓ header_analysis.csv (73087 bytes)\n"
     ]
    }
   ],
   "source": [
    "# Verifica le domande multiple choice selezionate\n",
    "questions_summary_df = pd.read_csv('dataset_domande_con_opzioni.csv')\n",
    "multiple_choice_questions = questions_summary_df[questions_summary_df['question_type'] == 'multiple_choice']\n",
    "\n",
    "print(f\"Domande con opzioni multiple selezionate: {len(multiple_choice_questions)}\")\n",
    "print(\"\\n=== TUTTE LE DOMANDE CON OPZIONI MULTIPLE ===\")\n",
    "for i, row in multiple_choice_questions.iterrows():\n",
    "    print(f\"{i+1:2d}. {row['question_base']}\")\n",
    "    print(f\"    Opzioni ({row['options_count']}): {row['all_options']}\")\n",
    "    print(f\"    Colonne nel dataset: {row['columns_count']}\")\n",
    "    print()\n",
    "\n",
    "# Verifica i file creati\n",
    "import os\n",
    "files_created = [\n",
    "    'dataset_domande.csv',\n",
    "    'dataset_domande_con_opzioni.csv', \n",
    "    'dataset_domande_dettaglio.csv',\n",
    "    'questions_with_options.csv',\n",
    "    'header_analysis.csv'\n",
    "]\n",
    "\n",
    "print(\"=== FILE CREATI ===\")\n",
    "for file in files_created:\n",
    "    if os.path.exists(file):\n",
    "        size = os.path.getsize(file)\n",
    "        print(f\"✓ {file} ({size} bytes)\")\n",
    "    else:\n",
    "        print(f\"✗ {file} (non trovato)\")"
   ]
  },
  {
   "cell_type": "code",
   "execution_count": 49,
   "id": "f14e8356",
   "metadata": {},
   "outputs": [
    {
     "name": "stdout",
     "output_type": "stream",
     "text": [
      "=== CONTROLLO DOMANDA RUOLO ===\n",
      "Colonne contenenti 'Ruolo': 0\n",
      "\n",
      "=== VALORI NELLA COLONNA '1.1 Ruolo:' ===\n",
      "\n",
      "=== VALORI NELLA COLONNA '1.1 Ruolo: [Altro]' ===\n",
      "\n",
      "=== COME È STATA PROCESSATA ===\n",
      "    question_base    question_type         full_column  option\n",
      "0       1.1 Ruolo  multiple_choice          1.1 Ruolo:     NaN\n",
      "1      1.1 Ruolo:  multiple_choice  1.1 Ruolo: [Altro]     NaN\n",
      "184     1.1 Ruolo           simple          1.1 Ruolo:     NaN\n"
     ]
    }
   ],
   "source": [
    "# Debug: controllo specifico della domanda \"Ruolo\"\n",
    "df_check = pd.read_excel('merged_results.xlsx')\n",
    "\n",
    "print(\"=== CONTROLLO DOMANDA RUOLO ===\")\n",
    "ruolo_columns = [col for col in df_check.columns if 'ruolo' in col.lower() or 'Ruolo' in col]\n",
    "print(f\"Colonne contenenti 'Ruolo': {len(ruolo_columns)}\")\n",
    "for col in ruolo_columns:\n",
    "    print(f\"  - {col}\")\n",
    "\n",
    "print(\"\\n=== VALORI NELLA COLONNA '1.1 Ruolo:' ===\")\n",
    "if '1.1 Ruolo:' in df_check.columns:\n",
    "    ruolo_values = df_check['1.1 Ruolo:'].dropna().unique()\n",
    "    print(f\"Valori unici ({len(ruolo_values)}): {ruolo_values}\")\n",
    "\n",
    "print(\"\\n=== VALORI NELLA COLONNA '1.1 Ruolo: [Altro]' ===\")\n",
    "if '1.1 Ruolo: [Altro]' in df_check.columns:\n",
    "    altro_values = df_check['1.1 Ruolo: [Altro]'].dropna().unique()\n",
    "    print(f\"Valori unici ({len(altro_values)}): {altro_values}\")\n",
    "\n",
    "# Verifica come è stata processata nel mio algoritmo\n",
    "print(\"\\n=== COME È STATA PROCESSATA ===\")\n",
    "questions_info_check = pd.read_csv('questions_with_options.csv')\n",
    "ruolo_rows = questions_info_check[questions_info_check['question_base'].str.contains('Ruolo', na=False)]\n",
    "print(ruolo_rows[['question_base', 'question_type', 'full_column', 'option']])"
   ]
  },
  {
   "cell_type": "code",
   "execution_count": 4,
   "id": "e7b09840",
   "metadata": {},
   "outputs": [
    {
     "name": "stdout",
     "output_type": "stream",
     "text": [
      "=== ANALISI COMPLETA DOMANDA 1.1 RUOLO ===\n",
      "Valori da '1.1 Ruolo:': ['docente', 'Altro']\n",
      "Valori specifici da '1.1 Ruolo: [Altro]': ['A022']\n",
      "\n",
      "Tutte le opzioni per 1.1 Ruolo: ['docente', 'Altro: A022']\n",
      "\n",
      "=== COSA DOVREBBE SUCCEDERE ===\n",
      "La domanda '1.1 Ruolo' dovrebbe essere classificata come 'multiple_choice' con opzioni:\n",
      "  1. docente\n",
      "  2. Altro: A022\n",
      "\n",
      "E dovrebbero esserci 2 colonne nel dataset:\n",
      "  - 1.1 Ruolo: (per i valori 'docente', 'Altro')\n",
      "  - 1.1 Ruolo: [Altro] (per le specifiche quando è selezionato 'Altro')\n"
     ]
    }
   ],
   "source": [
    "# Correzione: identifico tutti i valori per la domanda Ruolo\n",
    "print(\"=== ANALISI COMPLETA DOMANDA 1.1 RUOLO ===\")\n",
    "\n",
    "# Utilizziamo il DataFrame che abbiamo già caricato correttamente\n",
    "if '1.1 Ruolo:' in df.columns:\n",
    "    # Valori dalla colonna principale\n",
    "    main_ruolo_values = df['1.1 Ruolo:'].dropna().unique().tolist()\n",
    "    print(f\"Valori da '1.1 Ruolo:': {main_ruolo_values}\")\n",
    "    \n",
    "    # Se esiste \"Altro\" come valore, significa che nella colonna [Altro] ci sono le specifiche\n",
    "    altro_specific_values = []\n",
    "    if '1.1 Ruolo: [Altro]' in df.columns:\n",
    "        altro_specific_values = df['1.1 Ruolo: [Altro]'].dropna().unique().tolist()\n",
    "        print(f\"Valori specifici da '1.1 Ruolo: [Altro]': {altro_specific_values}\")\n",
    "    \n",
    "    # La lista completa delle opzioni dovrebbe essere:\n",
    "    all_ruolo_options = []\n",
    "    for val in main_ruolo_values:\n",
    "        if val != 'Altro':  # Aggiungi valori non-altro direttamente\n",
    "            all_ruolo_options.append(val)\n",
    "    \n",
    "    # Aggiungi i valori specifici di \"Altro\" \n",
    "    if altro_specific_values:\n",
    "        all_ruolo_options.extend([f\"Altro: {val}\" for val in altro_specific_values])\n",
    "        \n",
    "    print(f\"\\nTutte le opzioni per 1.1 Ruolo: {all_ruolo_options}\")\n",
    "    \n",
    "    # Verifica cosa dovrebbe succedere:\n",
    "    print(\"\\n=== COSA DOVREBBE SUCCEDERE ===\")\n",
    "    print(\"La domanda '1.1 Ruolo' dovrebbe essere classificata come 'multiple_choice' con opzioni:\")\n",
    "    for i, opt in enumerate(all_ruolo_options, 1):\n",
    "        print(f\"  {i}. {opt}\")\n",
    "        \n",
    "    print(\"\\nE dovrebbero esserci 2 colonne nel dataset:\")\n",
    "    print(\"  - 1.1 Ruolo: (per i valori 'docente', 'Altro')\")\n",
    "    print(\"  - 1.1 Ruolo: [Altro] (per le specifiche quando è selezionato 'Altro')\")\n",
    "else:\n",
    "    print(\"ERRORE: La colonna '1.1 Ruolo:' non esiste nel DataFrame!\")\n",
    "    print(\"Colonne che iniziano con '1.1':\")\n",
    "    for col in df.columns:\n",
    "        if col.startswith('1.1'):\n",
    "            print(f\"  - {col}\")"
   ]
  },
  {
   "cell_type": "code",
   "execution_count": 54,
   "id": "e7e42282",
   "metadata": {},
   "outputs": [
    {
     "name": "stdout",
     "output_type": "stream",
     "text": [
      "=== VERIFICA DOMANDE MANCANTI ===\n",
      "Domande trovate nel dataset (47):\n",
      "  - 1.1\n",
      "  - 1.2\n",
      "  - 1.3\n",
      "  - 1.4\n",
      "  - 1.5\n",
      "  - 1.6\n",
      "  - 1.7\n",
      "  - 1.8\n",
      "  - 1.9\n",
      "  - 2.1\n",
      "  - 2.2\n",
      "  - 2.3\n",
      "  - 2.4\n",
      "  - 2.5\n",
      "  - 2.6\n",
      "  - 2.7\n",
      "  - 2.8\n",
      "  - 3.1\n",
      "  - 3.10\n",
      "  - 3.11\n",
      "  - 3.12\n",
      "  - 3.13\n",
      "  - 3.14\n",
      "  - 3.15\n",
      "  - 3.16\n",
      "  - 3.2\n",
      "  - 3.3\n",
      "  - 3.4\n",
      "  - 3.5\n",
      "  - 3.6\n",
      "  - 3.7\n",
      "  - 3.8\n",
      "  - 3.9\n",
      "  - 4.1\n",
      "  - 4.2\n",
      "  - 4.3\n",
      "  - 4.4\n",
      "  - 4.5\n",
      "  - 4.6\n",
      "  - 4.7\n",
      "  - 5.1\n",
      "  - 5.2\n",
      "  - 6.1\n",
      "  - 6.2\n",
      "  - 6.3\n",
      "  - 6.4\n",
      "  - 7.1\n",
      "\n",
      "Tutte le domande attese sono presenti!\n",
      "\n",
      "=== RICERCA SPECIFICA PER DOMANDA 1.2 ===\n",
      "Colonne trovate con '1.2': ['1.2 Età:']\n",
      "\n",
      "=== PRIME 20 COLONNE DEL DATASET ===\n",
      " 1. ID risposta\n",
      " 2. Data invio\n",
      " 3. Ultima pagina\n",
      " 4. Lingua iniziale\n",
      " 5. Seme\n",
      " 6. 1.1 Ruolo:\n",
      " 7. 1.1 Ruolo: [Altro]\n",
      " 8. 1.2 Età:\n",
      " 9. 1.3 Genere:\n",
      "10. 1.4 Titolo di studio (indichi tutti i titoli posseduti): [laurea ]\n",
      "11. 1.4 Titolo di studio (indichi tutti i titoli posseduti): [corsi di perfezionamento ]\n",
      "12. 1.4 Titolo di studio (indichi tutti i titoli posseduti): [corsi di specializzazione ]\n",
      "13. 1.4 Titolo di studio (indichi tutti i titoli posseduti): [master ]\n",
      "14. 1.4 Titolo di studio (indichi tutti i titoli posseduti): [dottorato ]\n",
      "15. 1.5 Anzianità di servizio non di ruolo nella scuola:\n",
      "16. 1.6 Anzianità di servizio di ruolo nella scuola:\n",
      "17. 1.7 Attualmente svolge altri incarichi (vicepreside, funzione strumentale etc.)? \n",
      "18. 1.7.b Specificare:\n",
      "19. 1.8 Per quale classe di concorso ha conseguito l’abilitazione all’insegnamento? Se ha conseguito l’abilitazione per più classi di concorso, le indichi separandole con una virgola (es. A012,A013)\n",
      "20. 1.9 Insegnamento in qualità di docente per le attività di sostegno \n"
     ]
    }
   ],
   "source": [
    "# === VERIFICA DOMANDE MANCANTI (1.2 e altre) ===\n",
    "print(\"=== VERIFICA DOMANDE MANCANTI ===\")\n",
    "\n",
    "# Cerco tutte le colonne che iniziano con numeri per identificare le domande\n",
    "question_pattern = re.compile(r'^(\\d+\\.\\d+)')\n",
    "all_question_bases = set()\n",
    "\n",
    "for col in df.columns:\n",
    "    match = question_pattern.match(col)\n",
    "    if match:\n",
    "        question_num = match.group(1)\n",
    "        all_question_bases.add(question_num)\n",
    "\n",
    "print(f\"Domande trovate nel dataset ({len(all_question_bases)}):\")\n",
    "for q in sorted(all_question_bases):\n",
    "    print(f\"  - {q}\")\n",
    "\n",
    "# Verifica specificamente domande come 1.2, 2.3, 3.2, etc.\n",
    "expected_questions = ['1.1', '1.2', '2.1', '2.2', '2.3', '3.1', '3.2', '3.3', '3.4', '3.5', '3.6', '3.7']\n",
    "missing_questions = []\n",
    "for q in expected_questions:\n",
    "    if q not in all_question_bases:\n",
    "        missing_questions.append(q)\n",
    "\n",
    "if missing_questions:\n",
    "    print(f\"\\nDomande che sembrano mancare: {missing_questions}\")\n",
    "else:\n",
    "    print(\"\\nTutte le domande attese sono presenti!\")\n",
    "\n",
    "# Verifica specifica per 1.2\n",
    "print(f\"\\n=== RICERCA SPECIFICA PER DOMANDA 1.2 ===\")\n",
    "cols_1_2 = [col for col in df.columns if '1.2' in col]\n",
    "if cols_1_2:\n",
    "    print(f\"Colonne trovate con '1.2': {cols_1_2}\")\n",
    "else:\n",
    "    print(\"Nessuna colonna trovata con '1.2'\")\n",
    "    \n",
    "# Mostra le prime colonne per capire il pattern\n",
    "print(f\"\\n=== PRIME 20 COLONNE DEL DATASET ===\")\n",
    "for i, col in enumerate(df.columns[:20]):\n",
    "    print(f\"{i+1:2d}. {col}\")"
   ]
  },
  {
   "cell_type": "code",
   "execution_count": 55,
   "id": "3a68e19e",
   "metadata": {},
   "outputs": [
    {
     "name": "stdout",
     "output_type": "stream",
     "text": [
      "=== CORREZIONE NECESSARIA ===\n",
      "Le opzioni attuali sono incomplete.\n",
      "Devo modificare l'algoritmo per includere le opzioni teoriche complete.\n",
      "\n",
      "Per '1.1 Ruolo' le opzioni corrette sono:\n",
      "  1. docente\n",
      "  2. docente referente per l'orientamento e l'accoglienza\n",
      "  3. Altro\n",
      "\n",
      "E quando qualcuno sceglie 'Altro', la specifica è: A022\n",
      "Quindi l'opzione finale dovrebbe essere: 'Altro: A022'\n"
     ]
    }
   ],
   "source": [
    "# Definisco le opzioni teoriche corrette per domande specifiche\n",
    "KNOWN_QUESTION_OPTIONS = {\n",
    "    '1.1 Ruolo': [\n",
    "        'docente',\n",
    "        'docente referente per l\\'orientamento e l\\'accoglienza', \n",
    "        'Altro'\n",
    "    ]\n",
    "    # Posso aggiungere altre domande con opzioni note qui\n",
    "}\n",
    "\n",
    "print(\"=== CORREZIONE NECESSARIA ===\")\n",
    "print(\"Le opzioni attuali sono incomplete.\")\n",
    "print(\"Devo modificare l'algoritmo per includere le opzioni teoriche complete.\")\n",
    "print(\"\\nPer '1.1 Ruolo' le opzioni corrette sono:\")\n",
    "for i, opt in enumerate(KNOWN_QUESTION_OPTIONS['1.1 Ruolo'], 1):\n",
    "    print(f\"  {i}. {opt}\")\n",
    "    \n",
    "print(f\"\\nE quando qualcuno sceglie 'Altro', la specifica è: {ruolo_altro_values[0]}\")\n",
    "print(\"Quindi l'opzione finale dovrebbe essere: 'Altro: A022'\")"
   ]
  },
  {
   "cell_type": "code",
   "execution_count": 56,
   "id": "035d32f8",
   "metadata": {},
   "outputs": [
    {
     "name": "stdout",
     "output_type": "stream",
     "text": [
      "=== DIAGNOSI PERCHÉ LA DOMANDA 1.2 NON È NELL'EXPORT ===\n",
      "Colonne che iniziano con '1.2': ['1.2 Età:']\n",
      "\n",
      "Valori unici in '1.2 Età:': ['più di 60']\n",
      "Tipo di valori: <class 'str'>\n",
      "\n",
      "Base questions per 1.2 trovate: {'1.2 Età'}\n",
      "Colonne trovate per base '1.2 Età': ['1.2 Età:']\n",
      "-> Dovrebbe essere classificata come 'simple'\n",
      "\n",
      "=== VERIFICA NEI RISULTATI ATTUALI ===\n",
      "Domande 1.2 in questions_summary_df: 1\n",
      "   question_base question_type  columns_count\n",
      "41       1.2 Età        simple              1\n"
     ]
    }
   ],
   "source": [
    "# === DIAGNOSI DOMANDA 1.2 AGE ===\n",
    "print(\"=== DIAGNOSI PERCHÉ LA DOMANDA 1.2 NON È NELL'EXPORT ===\")\n",
    "\n",
    "# Cerco le colonne 1.2\n",
    "cols_1_2 = [col for col in df.columns if col.startswith('1.2')]\n",
    "print(f\"Colonne che iniziano con '1.2': {cols_1_2}\")\n",
    "\n",
    "if '1.2 Età:' in df.columns:\n",
    "    print(f\"\\nValori unici in '1.2 Età:': {df['1.2 Età:'].dropna().unique()}\")\n",
    "    print(f\"Tipo di valori: {type(df['1.2 Età:'].dropna().iloc[0] if len(df['1.2 Età:'].dropna()) > 0 else 'N/A')}\")\n",
    "    \n",
    "    # Controlla se viene riconosciuta come domanda base\n",
    "    base_questions_current = set()\n",
    "    for col in df.columns:\n",
    "        if col.startswith('1.2'):\n",
    "            match = re.match(r'^(.*?)(?:\\s*\\[.*?\\]\\s*)?:?\\s*$', col)\n",
    "            if match:\n",
    "                base_questions_current.add(match.group(1))\n",
    "    \n",
    "    print(f\"\\nBase questions per 1.2 trovate: {base_questions_current}\")\n",
    "    \n",
    "    # Verifica se è classificata come simple o multiple choice\n",
    "    question_base = '1.2 Età'\n",
    "    columns_for_question = [col for col in df.columns if col.startswith(question_base)]\n",
    "    print(f\"Colonne trovate per base '{question_base}': {columns_for_question}\")\n",
    "    \n",
    "    if len(columns_for_question) == 1:\n",
    "        print(\"-> Dovrebbe essere classificata come 'simple'\")\n",
    "    else:\n",
    "        print(\"-> Dovrebbe essere classificata come 'multiple_choice'\")\n",
    "        \n",
    "print(f\"\\n=== VERIFICA NEI RISULTATI ATTUALI ===\")\n",
    "# Controlla se è nei DataFrame generati\n",
    "if 'questions_summary_df' in locals():\n",
    "    questions_1_2 = questions_summary_df[questions_summary_df['question_base'].str.startswith('1.2')]\n",
    "    print(f\"Domande 1.2 in questions_summary_df: {len(questions_1_2)}\")\n",
    "    if len(questions_1_2) > 0:\n",
    "        print(questions_1_2[['question_base', 'question_type', 'columns_count']])\n",
    "else:\n",
    "    print(\"questions_summary_df non trovato\")"
   ]
  },
  {
   "cell_type": "code",
   "execution_count": 6,
   "id": "123ed714",
   "metadata": {},
   "outputs": [
    {
     "name": "stdout",
     "output_type": "stream",
     "text": [
      "=== ANALISI COMPLETA NUMERAZIONE DOMANDE ===\n",
      "Domande trovate nel dataset:\n",
      "  - 1.1 (1.1 Ruolo:)\n",
      "  - 1.1 (1.1 Ruolo: [Altro])\n",
      "  - 1.2 (1.2 Età:)\n",
      "  - 1.3 (1.3 Genere:)\n",
      "  - 1.4 (1.4 Titolo di studio (indichi tutti i titoli posseduti): [co...)\n",
      "  - 1.4 (1.4 Titolo di studio (indichi tutti i titoli posseduti): [co...)\n",
      "  - 1.4 (1.4 Titolo di studio (indichi tutti i titoli posseduti): [do...)\n",
      "  - 1.4 (1.4 Titolo di studio (indichi tutti i titoli posseduti): [la...)\n",
      "  - 1.4 (1.4 Titolo di studio (indichi tutti i titoli posseduti): [ma...)\n",
      "  - 1.5 (1.5 Anzianità di servizio non di ruolo nella scuola:)\n",
      "  - 1.6 (1.6 Anzianità di servizio di ruolo nella scuola:)\n",
      "  - 1.7 (1.7 Attualmente svolge altri incarichi (vicepreside, funzion...)\n",
      "  - 1.7 (1.7.b Specificare:)\n",
      "  - 1.8 (1.8 Per quale classe di concorso ha conseguito l’abilitazion...)\n",
      "  - 1.9 (1.9 Insegnamento in qualità di docente per le attività di so...)\n",
      "  - 2.1 (2.1 Nel PTOF della sua scuola è prevista una sezione dedicat...)\n",
      "  - 2.2 (2.2 Le attività di orientamento prevedono interventi organiz...)\n",
      "  - 2.2 (2.2 Le attività di orientamento prevedono interventi organiz...)\n",
      "  - 2.2 (2.2 Le attività di orientamento prevedono interventi organiz...)\n",
      "  - 2.2 (2.2 Le attività di orientamento prevedono interventi organiz...)\n",
      "  - 2.2 (2.2 Le attività di orientamento prevedono interventi organiz...)\n",
      "  - 2.3 (2.3 Le attività di orientamento indicate nel PTOF sono final...)\n",
      "  - 2.3 (2.3 Le attività di orientamento indicate nel PTOF sono final...)\n",
      "  - 2.3 (2.3 Le attività di orientamento indicate nel PTOF sono final...)\n",
      "  - 2.3 (2.3 Le attività di orientamento indicate nel PTOF sono final...)\n",
      "  - 2.4 (2.4 Le attività di orientamento indicate nel PTOF prevedono ...)\n",
      "  - 2.4 (2.4 Le attività di orientamento indicate nel PTOF prevedono ...)\n",
      "  - 2.4 (2.4 Le attività di orientamento indicate nel PTOF prevedono ...)\n",
      "  - 2.4 (2.4 Le attività di orientamento indicate nel PTOF prevedono ...)\n",
      "  - 2.5 (2.5 Le azioni di orientamento indicate nel PTOF prevedono l’...)\n",
      "  - 2.5 (2.5 Le azioni di orientamento indicate nel PTOF prevedono l’...)\n",
      "  - 2.5 (2.5 Le azioni di orientamento indicate nel PTOF prevedono l’...)\n",
      "  - 2.5 (2.5 Le azioni di orientamento indicate nel PTOF prevedono l’...)\n",
      "  - 2.6 (2.6 Nel PTOF, la prospettiva orientativa è inserita nella di...)\n",
      "  - 2.6 (2.6 Nel PTOF, la prospettiva orientativa è inserita nella di...)\n",
      "  - 2.6 (2.6 Nel PTOF, la prospettiva orientativa è inserita nella di...)\n",
      "  - 2.7 (2.7 Il PTOF garantisce agli studenti l’opportunità di fruire...)\n",
      "  - 2.7 (2.7 Il PTOF garantisce agli studenti l’opportunità di fruire...)\n",
      "  - 2.7 (2.7 Il PTOF garantisce agli studenti l’opportunità di fruire...)\n",
      "  - 2.7 (2.7 Il PTOF garantisce agli studenti l’opportunità di fruire...)\n",
      "  - 2.7 (2.7 Il PTOF garantisce agli studenti l’opportunità di fruire...)\n",
      "  - 2.8 (2.8 Il PTOF prevede una rete di coordinamento fra istituzion...)\n",
      "  - 3.1 (3.1 Per prepararsi a svolgere il suo ruolo di docente tutor ...)\n",
      "  - 3.10 (3.10 Per migliorare le competenze di orientamento degli stud...)\n",
      "  - 3.10 (3.10 Per migliorare le competenze di orientamento degli stud...)\n",
      "  - 3.10 (3.10 Per migliorare le competenze di orientamento degli stud...)\n",
      "  - 3.10 (3.10 Per migliorare le competenze di orientamento degli stud...)\n",
      "  - 3.10 (3.10 Per migliorare le competenze di orientamento degli stud...)\n",
      "  - 3.10 (3.10 Per migliorare le competenze di orientamento degli stud...)\n",
      "  - 3.10 (3.10 Per migliorare le competenze di orientamento degli stud...)\n",
      "  - 3.11 (3.11 Nel CPIA in cui presta servizio attualmente le attività...)\n",
      "  - 3.11 (3.11 Nel CPIA in cui presta servizio attualmente le attività...)\n",
      "  - 3.11 (3.11 Nel CPIA in cui presta servizio attualmente le attività...)\n",
      "  - 3.11 (3.11 Nel CPIA in cui presta servizio attualmente le attività...)\n",
      "  - 3.12 (3.12 Nel CPIA in cui presta servizio sono attivi i percorsi ...)\n",
      "  - 3.13 (3.13 Ritiene che i percorsi di PCTO attivati nel CPIA in cui...)\n",
      "  - 3.13 (3.13 Ritiene che i percorsi di PCTO attivati nel CPIA in cui...)\n",
      "  - 3.13 (3.13 Ritiene che i percorsi di PCTO attivati nel CPIA in cui...)\n",
      "  - 3.13 (3.13 Ritiene che i percorsi di PCTO attivati nel CPIA in cui...)\n",
      "  - 3.13 (3.13 Ritiene che i percorsi di PCTO attivati nel CPIA in cui...)\n",
      "  - 3.14 (3.14 Il percorso di 30 ore, che fa parte dei moduli di orien...)\n",
      "  - 3.15 (3.15 il percorso è progettato per essere svolto [a livello d...)\n",
      "  - 3.15 (3.15 il percorso è progettato per essere svolto [al di fuori...)\n",
      "  - 3.15 (3.15 il percorso è progettato per essere svolto [avvalendosi...)\n",
      "  - 3.15 (3.15 il percorso è progettato per essere svolto [in accordo ...)\n",
      "  - 3.15 (3.15 il percorso è progettato per essere svolto [in attività...)\n",
      "  - 3.15 (3.15 il percorso è progettato per essere svolto [in modo int...)\n",
      "  - 3.15 (3.15 il percorso è progettato per essere svolto [nell’orario...)\n",
      "  - 3.16 (3.16 Nel CPIA è disponibile uno sportello per gli utenti del...)\n",
      "  - 3.2 (3.2 Indichi i corsi (per un massimo di tre) [anno di consegu...)\n",
      "  - 3.2 (3.2 Indichi i corsi (per un massimo di tre) [anno di consegu...)\n",
      "  - 3.2 (3.2 Indichi i corsi (per un massimo di tre) [anno di consegu...)\n",
      "  - 3.2 (3.2 Indichi i corsi (per un massimo di tre) [durata (indicar...)\n",
      "  - 3.2 (3.2 Indichi i corsi (per un massimo di tre) [durata (indicar...)\n",
      "  - 3.2 (3.2 Indichi i corsi (per un massimo di tre) [durata (indicar...)\n",
      "  - 3.2 (3.2 Indichi i corsi (per un massimo di tre) [ente organizzat...)\n",
      "  - 3.2 (3.2 Indichi i corsi (per un massimo di tre) [ente organizzat...)\n",
      "  - 3.2 (3.2 Indichi i corsi (per un massimo di tre) [ente organizzat...)\n",
      "  - 3.2 (3.2 Indichi i corsi (per un massimo di tre) [tipologia (mast...)\n",
      "  - 3.2 (3.2 Indichi i corsi (per un massimo di tre) [tipologia (mast...)\n",
      "  - 3.2 (3.2 Indichi i corsi (per un massimo di tre) [tipologia (mast...)\n",
      "  - 3.2 (3.2 Indichi i corsi (per un massimo di tre) [titolo del cors...)\n",
      "  - 3.2 (3.2 Indichi i corsi (per un massimo di tre) [titolo del cors...)\n",
      "  - 3.2 (3.2 Indichi i corsi (per un massimo di tre) [titolo del cors...)\n",
      "  - 3.3 (3.3 Il/I corso/i le ha consentito di approfondire conoscenze...)\n",
      "  - 3.3 (3.3 Il/I corso/i le ha consentito di approfondire conoscenze...)\n",
      "  - 3.3 (3.3 Il/I corso/i le ha consentito di approfondire conoscenze...)\n",
      "  - 3.4 (3.4 Per prepararsi a svolgere la sua funzione di docente ref...)\n",
      "  - 3.4 (3.4 Per prepararsi a svolgere la sua funzione di docente ref...)\n",
      "  - 3.4 (3.4 Per prepararsi a svolgere la sua funzione di docente ref...)\n",
      "  - 3.4 (3.4 Per prepararsi a svolgere la sua funzione di docente ref...)\n",
      "  - 3.4 (3.4 Per prepararsi a svolgere la sua funzione di docente ref...)\n",
      "  - 3.4 (3.4 Per prepararsi a svolgere la sua funzione di docente ref...)\n",
      "  - 3.4 (3.4 Per prepararsi a svolgere la sua funzione di docente ref...)\n",
      "  - 3.5 (3.5 Ritiene che le linee guida sull’orientamento (decreto mi...)\n",
      "  - 3.5 (3.5 Ritiene che le linee guida sull’orientamento (decreto mi...)\n",
      "  - 3.5 (3.5 Ritiene che le linee guida sull’orientamento (decreto mi...)\n",
      "  - 3.5 (3.5 Ritiene che le linee guida sull’orientamento (decreto mi...)\n",
      "  - 3.5 (3.5 Ritiene che le linee guida sull’orientamento (decreto mi...)\n",
      "  - 3.5 (3.5 Ritiene che le linee guida sull’orientamento (decreto mi...)\n",
      "  - 3.6 (3.6 Il CPIA in cui presta servizio fa riferimento a specific...)\n",
      "  - 3.7 (3.7 A quali (indicare autori e modelli)?)\n",
      "  - 3.8 (3.8 Le pratiche di orientamento nella sua scuola fanno rifer...)\n",
      "  - 3.8 (3.8 Le pratiche di orientamento nella sua scuola fanno rifer...)\n",
      "  - 3.8 (3.8 Le pratiche di orientamento nella sua scuola fanno rifer...)\n",
      "  - 3.9 (3.9 Quanto spesso il CPIA dove presta servizio organizza le ...)\n",
      "  - 3.9 (3.9 Quanto spesso il CPIA dove presta servizio organizza le ...)\n",
      "  - 3.9 (3.9 Quanto spesso il CPIA dove presta servizio organizza le ...)\n",
      "  - 3.9 (3.9 Quanto spesso il CPIA dove presta servizio organizza le ...)\n",
      "  - 3.9 (3.9 Quanto spesso il CPIA dove presta servizio organizza le ...)\n",
      "  - 3.9 (3.9 Quanto spesso il CPIA dove presta servizio organizza le ...)\n",
      "  - 4.1 (4.1 Nella scuola secondaria di I grado è previsto il rilasci...)\n",
      "  - 4.2 (4.2 In che modo viene formulato? [Attraverso la lettura e l’...)\n",
      "  - 4.2 (4.2 In che modo viene formulato? [Attraverso test psicodiagn...)\n",
      "  - 4.2 (4.2 In che modo viene formulato? [Sulla base dell’analisi de...)\n",
      "  - 4.2 (4.2 In che modo viene formulato? [Sulla base dell’analisi de...)\n",
      "  - 4.2 (4.2 In che modo viene formulato? [Sulla base dell’analisi de...)\n",
      "  - 4.2 (4.2 In che modo viene formulato? [Sulla base dell’analisi do...)\n",
      "  - 4.2 (4.2 In che modo viene formulato? [Sulla base dell’analisi do...)\n",
      "  - 4.3 (4.3 Gli strumenti per l’orientamento attualmente utilizzati ...)\n",
      "  - 4.3 (4.3 Gli strumenti per l’orientamento attualmente utilizzati ...)\n",
      "  - 4.3 (4.3 Gli strumenti per l’orientamento attualmente utilizzati ...)\n",
      "  - 4.3 (4.3 Gli strumenti per l’orientamento attualmente utilizzati ...)\n",
      "  - 4.3 (4.3 Gli strumenti per l’orientamento attualmente utilizzati ...)\n",
      "  - 4.3 (4.3 Gli strumenti per l’orientamento attualmente utilizzati ...)\n",
      "  - 4.4 (4.4 Per migliorare le capacità di orientamento degli student...)\n",
      "  - 4.4 (4.4 Per migliorare le capacità di orientamento degli student...)\n",
      "  - 4.4 (4.4 Per migliorare le capacità di orientamento degli student...)\n",
      "  - 4.4 (4.4 Per migliorare le capacità di orientamento degli student...)\n",
      "  - 4.4 (4.4 Per migliorare le capacità di orientamento degli student...)\n",
      "  - 4.4 (4.4 Per migliorare le capacità di orientamento degli student...)\n",
      "  - 4.5 (4.5 Nel CPIA in cui presta servizio, attualmente si fornisco...)\n",
      "  - 4.5 (4.5 Nel CPIA in cui presta servizio, attualmente si fornisco...)\n",
      "  - 4.5 (4.5 Nel CPIA in cui presta servizio, attualmente si fornisco...)\n",
      "  - 4.5 (4.5 Nel CPIA in cui presta servizio, attualmente si fornisco...)\n",
      "  - 4.5 (4.5 Nel CPIA in cui presta servizio, attualmente si fornisco...)\n",
      "  - 4.5 (4.5 Nel CPIA in cui presta servizio, attualmente si fornisco...)\n",
      "  - 4.5 (4.5 Nel CPIA in cui presta servizio, attualmente si fornisco...)\n",
      "  - 4.6 (4.6 Per migliorare le capacità di orientamento, ritiene che ...)\n",
      "  - 4.6 (4.6 Per migliorare le capacità di orientamento, ritiene che ...)\n",
      "  - 4.6 (4.6 Per migliorare le capacità di orientamento, ritiene che ...)\n",
      "  - 4.6 (4.6 Per migliorare le capacità di orientamento, ritiene che ...)\n",
      "  - 4.6 (4.6 Per migliorare le capacità di orientamento, ritiene che ...)\n",
      "  - 4.6 (4.6 Per migliorare le capacità di orientamento, ritiene che ...)\n",
      "  - 4.6 (4.6 Per migliorare le capacità di orientamento, ritiene che ...)\n",
      "  - 4.7 (4.7 Indicare i profili professionali del CPIA impegnati nell...)\n",
      "  - 4.7 (4.7 Indicare i profili professionali del CPIA impegnati nell...)\n",
      "  - 4.7 (4.7 Indicare i profili professionali del CPIA impegnati nell...)\n",
      "  - 4.7 (4.7 Indicare i profili professionali del CPIA impegnati nell...)\n",
      "  - 4.7 (4.7 Indicare i profili professionali del CPIA impegnati nell...)\n",
      "  - 5.1 (5.1 Le pratiche di orientamento sviluppate dal CPIA in cui p...)\n",
      "  - 5.1 (5.1 Le pratiche di orientamento sviluppate dal CPIA in cui p...)\n",
      "  - 5.1 (5.1 Le pratiche di orientamento sviluppate dal CPIA in cui p...)\n",
      "  - 5.1 (5.1 Le pratiche di orientamento sviluppate dal CPIA in cui p...)\n",
      "  - 5.1 (5.1 Le pratiche di orientamento sviluppate dal CPIA in cui p...)\n",
      "  - 5.1 (5.1 Le pratiche di orientamento sviluppate dal CPIA in cui p...)\n",
      "  - 5.1 (5.1 Le pratiche di orientamento sviluppate dal CPIA in cui p...)\n",
      "  - 5.1 (5.1 Le pratiche di orientamento sviluppate dal CPIA in cui p...)\n",
      "  - 5.1 (5.1 Le pratiche di orientamento sviluppate dal CPIA in cui p...)\n",
      "  - 5.1 (5.1 Le pratiche di orientamento sviluppate dal CPIA in cui p...)\n",
      "  - 5.2 (5.2 Per la creazione di una rete territoriale per l’orientam...)\n",
      "  - 5.2 (5.2 Per la creazione di una rete territoriale per l’orientam...)\n",
      "  - 5.2 (5.2 Per la creazione di una rete territoriale per l’orientam...)\n",
      "  - 5.2 (5.2 Per la creazione di una rete territoriale per l’orientam...)\n",
      "  - 5.2 (5.2 Per la creazione di una rete territoriale per l’orientam...)\n",
      "  - 6.1 (6.1 Nel CPIA in cui presta servizio è presente un sistema di...)\n",
      "  - 6.2 (6.2 Chi se ne occupa?  [Altro])\n",
      "  - 6.2 (6.2 Chi se ne occupa?  [esperto esterno])\n",
      "  - 6.2 (6.2 Chi se ne occupa?  [il dirigente scolastico])\n",
      "  - 6.2 (6.2 Chi se ne occupa?  [il docente che si occupa dell’accogl...)\n",
      "  - 6.2 (6.2 Chi se ne occupa?  [il docente che si occupa dell’accogl...)\n",
      "  - 6.3 (6.3 Quali attività di orientamento sono oggetto di monitorag...)\n",
      "  - 6.3 (6.3 Quali attività di orientamento sono oggetto di monitorag...)\n",
      "  - 6.3 (6.3 Quali attività di orientamento sono oggetto di monitorag...)\n",
      "  - 6.3 (6.3 Quali attività di orientamento sono oggetto di monitorag...)\n",
      "  - 6.3 (6.3 Quali attività di orientamento sono oggetto di monitorag...)\n",
      "  - 6.3 (6.3 Quali attività di orientamento sono oggetto di monitorag...)\n",
      "  - 6.3 (6.3 Quali attività di orientamento sono oggetto di monitorag...)\n",
      "  - 6.3 (6.3 Quali attività di orientamento sono oggetto di monitorag...)\n",
      "  - 6.3 (6.3 Quali attività di orientamento sono oggetto di monitorag...)\n",
      "  - 6.3 (6.3 Quali attività di orientamento sono oggetto di monitorag...)\n",
      "  - 6.3 (6.3 Quali attività di orientamento sono oggetto di monitorag...)\n",
      "  - 6.3 (6.3 Quali attività di orientamento sono oggetto di monitorag...)\n",
      "  - 6.3 (6.3 Quali attività di orientamento sono oggetto di monitorag...)\n",
      "  - 6.3 (6.3 Quali attività di orientamento sono oggetto di monitorag...)\n",
      "  - 6.3 (6.3 Quali attività di orientamento sono oggetto di monitorag...)\n",
      "  - 6.3 (6.3 Quali attività di orientamento sono oggetto di monitorag...)\n",
      "  - 6.4 (6.4 Quali strumenti sono utilizzati per il monitoraggio dell...)\n",
      "  - 6.4 (6.4 Quali strumenti sono utilizzati per il monitoraggio dell...)\n",
      "  - 6.4 (6.4 Quali strumenti sono utilizzati per il monitoraggio dell...)\n",
      "  - 6.4 (6.4 Quali strumenti sono utilizzati per il monitoraggio dell...)\n",
      "  - 6.4 (6.4 Quali strumenti sono utilizzati per il monitoraggio dell...)\n",
      "  - 6.4 (6.4 Quali strumenti sono utilizzati per il monitoraggio dell...)\n",
      "  - 6.4 (6.4 Quali strumenti sono utilizzati per il monitoraggio dell...)\n",
      "  - 6.4 (6.4 Quali strumenti sono utilizzati per il monitoraggio dell...)\n",
      "  - 6.4 (6.4 Quali strumenti sono utilizzati per il monitoraggio dell...)\n",
      "  - 6.4 (6.4 Quali strumenti sono utilizzati per il monitoraggio dell...)\n",
      "  - 6.4 (6.4 Quali strumenti sono utilizzati per il monitoraggio dell...)\n",
      "  - 7.1 (7.1 Sarebbe per noi molto importante se volesse fornire ulte...)\n",
      "\n",
      "=== ANALISI PER SEZIONE ===\n",
      "\n",
      "Sezione 1:\n",
      "  Domande trovate: [1, 2, 3, 4, 5, 6, 7, 8, 9]\n",
      "  ✅ Numerazione continua da 1.1 a 1.9\n",
      "\n",
      "Sezione 2:\n",
      "  Domande trovate: [1, 2, 3, 4, 5, 6, 7, 8]\n",
      "  ✅ Numerazione continua da 2.1 a 2.8\n",
      "\n",
      "Sezione 3:\n",
      "  Domande trovate: [1, 2, 3, 4, 5, 6, 7, 8, 9, 10, 11, 12, 13, 14, 15, 16]\n",
      "  ✅ Numerazione continua da 3.1 a 3.16\n",
      "\n",
      "Sezione 4:\n",
      "  Domande trovate: [1, 2, 3, 4, 5, 6, 7]\n",
      "  ✅ Numerazione continua da 4.1 a 4.7\n",
      "\n",
      "Sezione 5:\n",
      "  Domande trovate: [1, 2]\n",
      "  ✅ Numerazione continua da 5.1 a 5.2\n",
      "\n",
      "Sezione 6:\n",
      "  Domande trovate: [1, 2, 3, 4]\n",
      "  ✅ Numerazione continua da 6.1 a 6.4\n",
      "\n",
      "Sezione 7:\n",
      "  Domande trovate: [1]\n",
      "  ✅ Numerazione continua da 7.1 a 7.1\n",
      "\n",
      "=== RIEPILOGO FINALE ===\n",
      "✅ NESSUNA DOMANDA SALTATA: la numerazione è continua in tutte le sezioni\n",
      "\n",
      "=== STATISTICHE ===\n",
      "- Sezioni totali: 7 (da 1 a 7)\n",
      "- Domande totali: 47\n",
      "- Domande mancanti: 0\n",
      "\n",
      "=== VERIFICA DOMANDE SPECIFICHE ===\n",
      "✅ 1.2: PRESENTE\n",
      "✅ 2.3: PRESENTE\n",
      "✅ 3.2: PRESENTE\n",
      "✅ 3.7: PRESENTE\n",
      "✅ 7.1: PRESENTE\n"
     ]
    }
   ],
   "source": [
    "# === CONTROLLO COMPLETO NUMERAZIONE DOMANDE ===\n",
    "print(\"=== ANALISI COMPLETA NUMERAZIONE DOMANDE ===\")\n",
    "\n",
    "# Estrai tutti i numeri di domanda dal dataset\n",
    "import re\n",
    "from collections import defaultdict\n",
    "\n",
    "# Pattern per estrarre numeri di domanda (es: 1.1, 2.3, 3.15, etc.)\n",
    "question_pattern = re.compile(r'^(\\d+)\\.(\\d+)')\n",
    "sections = defaultdict(list)\n",
    "\n",
    "print(\"Domande trovate nel dataset:\")\n",
    "for col in sorted(df.columns):\n",
    "    match = question_pattern.match(col)\n",
    "    if match:\n",
    "        section = int(match.group(1))\n",
    "        question_num = int(match.group(2))\n",
    "        sections[section].append(question_num)\n",
    "        print(f\"  - {section}.{question_num} ({col[:60]}{'...' if len(col) > 60 else ''})\")\n",
    "\n",
    "print(f\"\\n=== ANALISI PER SEZIONE ===\")\n",
    "all_missing = []\n",
    "for section in sorted(sections.keys()):\n",
    "    question_numbers = sorted(set(sections[section]))\n",
    "    print(f\"\\nSezione {section}:\")\n",
    "    print(f\"  Domande trovate: {question_numbers}\")\n",
    "    \n",
    "    # Controlla se ci sono numeri saltati\n",
    "    min_num = min(question_numbers)\n",
    "    max_num = max(question_numbers)\n",
    "    expected = list(range(min_num, max_num + 1))\n",
    "    missing = [n for n in expected if n not in question_numbers]\n",
    "    \n",
    "    if missing:\n",
    "        missing_questions = [f\"{section}.{n}\" for n in missing]\n",
    "        all_missing.extend(missing_questions)\n",
    "        print(f\"  ❌ DOMANDE MANCANTI: {missing_questions}\")\n",
    "    else:\n",
    "        print(f\"  ✅ Numerazione continua da {section}.{min_num} a {section}.{max_num}\")\n",
    "\n",
    "print(f\"\\n=== RIEPILOGO FINALE ===\")\n",
    "if all_missing:\n",
    "    print(f\"❌ DOMANDE SALTATE NELLA NUMERAZIONE ({len(all_missing)}):\")\n",
    "    for missing_q in all_missing:\n",
    "        print(f\"  - {missing_q}\")\n",
    "else:\n",
    "    print(\"✅ NESSUNA DOMANDA SALTATA: la numerazione è continua in tutte le sezioni\")\n",
    "\n",
    "print(f\"\\n=== STATISTICHE ===\")\n",
    "total_questions = sum(len(set(questions)) for questions in sections.values())\n",
    "total_sections = len(sections)\n",
    "print(f\"- Sezioni totali: {total_sections} (da {min(sections.keys())} a {max(sections.keys())})\")\n",
    "print(f\"- Domande totali: {total_questions}\")\n",
    "print(f\"- Domande mancanti: {len(all_missing)}\")\n",
    "\n",
    "# Verifica specifica per le domande che erano problematiche prima\n",
    "problematic_questions = ['1.2', '2.3', '3.2', '3.7', '7.1']\n",
    "print(f\"\\n=== VERIFICA DOMANDE SPECIFICHE ===\")\n",
    "for q in problematic_questions:\n",
    "    section, num = q.split('.')\n",
    "    if int(section) in sections and int(num) in sections[int(section)]:\n",
    "        print(f\"✅ {q}: PRESENTE\")\n",
    "    else:\n",
    "        print(f\"❌ {q}: MANCANTE\")"
   ]
  },
  {
   "cell_type": "code",
   "execution_count": 15,
   "id": "b7ca448e",
   "metadata": {},
   "outputs": [
    {
     "name": "stdout",
     "output_type": "stream",
     "text": [
      "=== RIEPILOGO RAPIDO NUMERAZIONE DOMANDE ===\n",
      "Analisi per sezione:\n",
      "  Sezione 1: ✅ OK (range 1.1-1.9)\n",
      "  Sezione 2: ✅ OK (range 2.1-2.8)\n",
      "  Sezione 3: ✅ OK (range 3.1-3.16)\n",
      "  Sezione 4: ✅ OK (range 4.1-4.7)\n",
      "  Sezione 5: ✅ OK (range 5.1-5.2)\n",
      "  Sezione 6: ✅ OK (range 6.1-6.4)\n",
      "  Sezione 7: ✅ OK (range 7.1-7.1)\n",
      "\n",
      "=== RISULTATO FINALE ===\n",
      "✅ NESSUNA DOMANDA SALTATA: numerazione continua\n",
      "\n",
      "Verifica domande precedentemente mancanti:\n",
      "  ✅ 1.2: ORA PRESENTE\n",
      "  ✅ 2.3: ORA PRESENTE\n",
      "  ✅ 3.2: ORA PRESENTE\n",
      "  ✅ 3.7: ORA PRESENTE\n",
      "  ✅ 7.1: ORA PRESENTE\n",
      "\n",
      "Statistiche: 47 domande in 7 sezioni\n"
     ]
    }
   ],
   "source": [
    "# === RIEPILOGO SINTETICO DOMANDE MANCANTI ===\n",
    "print(\"=== RIEPILOGO RAPIDO NUMERAZIONE DOMANDE ===\")\n",
    "\n",
    "# Estrai tutti i numeri di domanda\n",
    "question_pattern = re.compile(r'^(\\d+)\\.(\\d+)')\n",
    "sections = defaultdict(list)\n",
    "\n",
    "for col in df.columns:\n",
    "    match = question_pattern.match(col)\n",
    "    if match:\n",
    "        section = int(match.group(1))\n",
    "        question_num = int(match.group(2))\n",
    "        sections[section].append(question_num)\n",
    "\n",
    "# Trova lacune per ogni sezione\n",
    "all_missing = []\n",
    "print(\"Analisi per sezione:\")\n",
    "for section in sorted(sections.keys()):\n",
    "    question_numbers = sorted(set(sections[section]))\n",
    "    min_num = min(question_numbers)\n",
    "    max_num = max(question_numbers)\n",
    "    expected = list(range(min_num, max_num + 1))\n",
    "    missing = [n for n in expected if n not in question_numbers]\n",
    "    \n",
    "    if missing:\n",
    "        missing_questions = [f\"{section}.{n}\" for n in missing]\n",
    "        all_missing.extend(missing_questions)\n",
    "        print(f\"  Sezione {section}: MANCANTI {missing_questions} (range {section}.{min_num}-{section}.{max_num})\")\n",
    "    else:\n",
    "        print(f\"  Sezione {section}: ✅ OK (range {section}.{min_num}-{section}.{max_num})\")\n",
    "\n",
    "print(f\"\\n=== RISULTATO FINALE ===\")\n",
    "if all_missing:\n",
    "    print(f\"❌ TROVATE {len(all_missing)} DOMANDE SALTATE:\")\n",
    "    for missing_q in sorted(all_missing):\n",
    "        print(f\"  - {missing_q}\")\n",
    "else:\n",
    "    print(\"✅ NESSUNA DOMANDA SALTATA: numerazione continua\")\n",
    "\n",
    "# Test delle domande specificamente problematiche\n",
    "problematic_questions = ['1.2', '2.3', '3.2', '3.7', '7.1']\n",
    "print(f\"\\nVerifica domande precedentemente mancanti:\")\n",
    "for q in problematic_questions:\n",
    "    section, num = q.split('.')\n",
    "    if int(section) in sections and int(num) in sections[int(section)]:\n",
    "        print(f\"  ✅ {q}: ORA PRESENTE\")\n",
    "    else:\n",
    "        print(f\"  ❌ {q}: ANCORA MANCANTE\")\n",
    "        \n",
    "print(f\"\\nStatistiche: {sum(len(set(q)) for q in sections.values())} domande in {len(sections)} sezioni\")"
   ]
  },
  {
   "cell_type": "code",
   "execution_count": 19,
   "id": "6d174a6d",
   "metadata": {},
   "outputs": [
    {
     "name": "stdout",
     "output_type": "stream",
     "text": [
      "=== VERIFICA FINALE ===\n",
      "Domanda: 1.1 Ruolo\n",
      "Tipo: multiple_choice\n",
      "Opzioni: docente; docente referente per l'orientamento e l'accoglienza; Altro: A022\n",
      "Numero opzioni indicato: 3\n",
      "Numero opzioni reale: 3\n",
      "Colonne: 2\n",
      "\n",
      "Opzioni nel dettaglio:\n",
      "  1. docente\n",
      "  2. docente referente per l'orientamento e l'accoglienza\n",
      "  3. Altro: A022\n",
      "\n",
      "✓ Correzione completata! Ora la domanda '1.1 Ruolo' mostra correttamente 3 opzioni.\n"
     ]
    }
   ],
   "source": [
    "# Verifica finale della correzione\n",
    "questions_final = pd.read_csv('dataset_domande_con_opzioni.csv')\n",
    "ruolo_final = questions_final[questions_final['question_base'] == '1.1 Ruolo']\n",
    "\n",
    "print(\"=== VERIFICA FINALE ===\")\n",
    "print(\"Domanda: 1.1 Ruolo\")\n",
    "print(f\"Tipo: {ruolo_final.iloc[0]['question_type']}\")\n",
    "print(f\"Opzioni: {ruolo_final.iloc[0]['all_options']}\")\n",
    "print(f\"Numero opzioni indicato: {ruolo_final.iloc[0]['options_count']}\")\n",
    "print(f\"Numero opzioni reale: {len(ruolo_final.iloc[0]['all_options'].split('; '))}\")\n",
    "print(f\"Colonne: {ruolo_final.iloc[0]['columns_count']}\")\n",
    "\n",
    "# Lista delle opzioni\n",
    "options_list = ruolo_final.iloc[0]['all_options'].split('; ')\n",
    "print(\"\\nOpzioni nel dettaglio:\")\n",
    "for i, opt in enumerate(options_list, 1):\n",
    "    print(f\"  {i}. {opt}\")\n",
    "    \n",
    "print(f\"\\n✓ Correzione completata! Ora la domanda '1.1 Ruolo' mostra correttamente {len(options_list)} opzioni.\")"
   ]
  },
  {
   "cell_type": "code",
   "execution_count": 41,
   "id": "35a4a798",
   "metadata": {},
   "outputs": [
    {
     "name": "stdout",
     "output_type": "stream",
     "text": [
      "=== ESPORTAZIONE IN FORMATO MARKDOWN ===\n",
      "Progetto: analisi-lime-survey-orientamento-CPIA\n",
      "Data esportazione: 20250924_114858\n",
      "Cartella: export_md_20250924_114858\n",
      "✓ Esportato: analisi-lime-survey-orientamento-CPIA_riassunto_domande_20250924_114858.md\n",
      "✓ Esportato: analisi-lime-survey-orientamento-CPIA_dettaglio_colonne_20250924_114858.md\n",
      "✓ Esportato: analisi-lime-survey-orientamento-CPIA_mapping_completo_20250924_114858.md\n",
      "✓ Esportato: analisi-lime-survey-orientamento-CPIA_analisi_intestazioni_20250924_114858.md\n",
      "\n",
      "=== RISULTATO ESPORTAZIONE ===\n",
      "File esportati: 4\n",
      "Cartella: export_md_20250924_114858\n",
      "\n",
      "File creati:\n",
      "  - analisi-lime-survey-orientamento-CPIA_riassunto_domande_20250924_114858.md (80945 bytes)\n",
      "  - analisi-lime-survey-orientamento-CPIA_dettaglio_colonne_20250924_114858.md (21875 bytes)\n",
      "  - analisi-lime-survey-orientamento-CPIA_mapping_completo_20250924_114858.md (21883 bytes)\n",
      "  - analisi-lime-survey-orientamento-CPIA_analisi_intestazioni_20250924_114858.md (13760 bytes)\n",
      "\n",
      "✓ Creato file indice: analisi-lime-survey-orientamento-CPIA_indice_20250924_114858.md\n",
      "\n",
      "🎯 Esportazione completata! Tutti i file sono nella cartella 'export_md_20250924_114858'\n"
     ]
    }
   ],
   "source": [
    "# Esportazione dei file in formato Markdown con nome strutturato\n",
    "import os\n",
    "from datetime import datetime\n",
    "\n",
    "# Configurazione per l'esportazione\n",
    "PROJECT_NAME = \"analisi-lime-survey-orientamento-CPIA\"  # Nome della ricerca\n",
    "EXPORT_DATE = datetime.now().strftime(\"%Y%m%d_%H%M%S\")  # Data e ora corrente\n",
    "EXPORT_FOLDER = f\"export_md_{EXPORT_DATE}\"\n",
    "\n",
    "# Crea la cartella di esportazione\n",
    "os.makedirs(EXPORT_FOLDER, exist_ok=True)\n",
    "\n",
    "print(f\"=== ESPORTAZIONE IN FORMATO MARKDOWN ===\")\n",
    "print(f\"Progetto: {PROJECT_NAME}\")\n",
    "print(f\"Data esportazione: {EXPORT_DATE}\")\n",
    "print(f\"Cartella: {EXPORT_FOLDER}\")\n",
    "\n",
    "# Lista dei file da esportare con le loro descrizioni\n",
    "files_to_export = [\n",
    "    {\n",
    "        'source': 'dataset_domande_con_opzioni.csv',\n",
    "        'name': f\"{PROJECT_NAME}_riassunto_domande_{EXPORT_DATE}.md\",\n",
    "        'title': 'Riassunto Domande con Opzioni di Risposta',\n",
    "        'description': 'Questo file contiene un riassunto di tutte le domande selezionate dal questionario con le relative opzioni di risposta.'\n",
    "    },\n",
    "    {\n",
    "        'source': 'dataset_domande_dettaglio.csv', \n",
    "        'name': f\"{PROJECT_NAME}_dettaglio_colonne_{EXPORT_DATE}.md\",\n",
    "        'title': 'Dettaglio Completo delle Colonne',\n",
    "        'description': 'Questo file contiene il dettaglio completo di tutte le colonne selezionate dal dataset.'\n",
    "    },\n",
    "    {\n",
    "        'source': 'questions_with_options.csv',\n",
    "        'name': f\"{PROJECT_NAME}_mapping_completo_{EXPORT_DATE}.md\", \n",
    "        'title': 'Mapping Completo Domande-Opzioni',\n",
    "        'description': 'Questo file contiene il mapping completo di tutte le domande del questionario con le loro opzioni.'\n",
    "    },\n",
    "    {\n",
    "        'source': 'header_analysis.csv',\n",
    "        'name': f\"{PROJECT_NAME}_analisi_intestazioni_{EXPORT_DATE}.md\",\n",
    "        'title': 'Analisi delle Intestazioni del Dataset',\n",
    "        'description': 'Questo file contiene l\\'analisi statistica di tutte le colonne del dataset originale.'\n",
    "    }\n",
    "]\n",
    "\n",
    "def csv_to_markdown_table(csv_file):\n",
    "    \"\"\"Converte un file CSV in una tabella Markdown\"\"\"\n",
    "    try:\n",
    "        df = pd.read_csv(csv_file)\n",
    "        \n",
    "        # Crea l'header della tabella\n",
    "        headers = '| ' + ' | '.join(df.columns) + ' |'\n",
    "        separator = '|' + '|'.join([' --- ' for _ in df.columns]) + '|'\n",
    "        \n",
    "        # Crea le righe della tabella\n",
    "        rows = []\n",
    "        for _, row in df.head(50).iterrows():  # Limita a 50 righe per non rendere il file troppo grande\n",
    "            row_str = '| ' + ' | '.join([str(val).replace('|', '\\\\|').replace('\\n', ' ') for val in row]) + ' |'\n",
    "            rows.append(row_str)\n",
    "        \n",
    "        # Se ci sono più di 50 righe, aggiungi una nota\n",
    "        footer = \"\"\n",
    "        if len(df) > 50:\n",
    "            footer = f\"\\n\\n*Nota: Mostrate solo le prime 50 righe di {len(df)} totali.*\"\n",
    "        \n",
    "        return headers + '\\n' + separator + '\\n' + '\\n'.join(rows) + footer\n",
    "    except Exception as e:\n",
    "        return f\"Errore nella conversione: {e}\"\n",
    "\n",
    "# Esporta ogni file\n",
    "exported_files = []\n",
    "for file_info in files_to_export:\n",
    "    if os.path.exists(file_info['source']):\n",
    "        output_path = os.path.join(EXPORT_FOLDER, file_info['name'])\n",
    "        \n",
    "        # Crea il contenuto Markdown\n",
    "        markdown_content = f\"\"\"# {file_info['title']}\n",
    "\n",
    "**Progetto:** {PROJECT_NAME}  \n",
    "**Data esportazione:** {datetime.now().strftime(\"%d/%m/%Y alle %H:%M:%S\")}  \n",
    "**File sorgente:** `{file_info['source']}`\n",
    "\n",
    "## Descrizione\n",
    "\n",
    "{file_info['description']}\n",
    "\n",
    "## Dati\n",
    "\n",
    "{csv_to_markdown_table(file_info['source'])}\n",
    "\n",
    "---\n",
    "*Generato automaticamente dal pipeline di analisi del questionario LIME Survey*\n",
    "\"\"\"\n",
    "        \n",
    "        # Salva il file Markdown\n",
    "        with open(output_path, 'w', encoding='utf-8') as f:\n",
    "            f.write(markdown_content)\n",
    "        \n",
    "        exported_files.append(output_path)\n",
    "        print(f\"✓ Esportato: {file_info['name']}\")\n",
    "    else:\n",
    "        print(f\"✗ File non trovato: {file_info['source']}\")\n",
    "\n",
    "print(f\"\\n=== RISULTATO ESPORTAZIONE ===\")\n",
    "print(f\"File esportati: {len(exported_files)}\")\n",
    "print(f\"Cartella: {EXPORT_FOLDER}\")\n",
    "print(\"\\nFile creati:\")\n",
    "for file_path in exported_files:\n",
    "    file_size = os.path.getsize(file_path)\n",
    "    print(f\"  - {os.path.basename(file_path)} ({file_size} bytes)\")\n",
    "\n",
    "# Crea anche un file indice\n",
    "index_content = f\"\"\"# Indice Esportazione - {PROJECT_NAME}\n",
    "\n",
    "**Data esportazione:** {datetime.now().strftime(\"%d/%m/%Y alle %H:%M:%S\")}\n",
    "\n",
    "## File esportati\n",
    "\n",
    "\"\"\"\n",
    "\n",
    "for i, file_info in enumerate(files_to_export, 1):\n",
    "    if os.path.exists(os.path.join(EXPORT_FOLDER, file_info['name'])):\n",
    "        index_content += f\"{i}. **[{file_info['title']}](./{file_info['name']})** - {file_info['description']}\\n\\n\"\n",
    "\n",
    "index_content += f\"\"\"\n",
    "## Informazioni tecniche\n",
    "\n",
    "- **Progetto:** {PROJECT_NAME}\n",
    "- **Dataset originale:** merged_results.xlsx\n",
    "- **Colonne selezionate:** {len(keep)} su {len(df.columns)} totali\n",
    "- **Righe nel dataset:** {len(df)}\n",
    "\n",
    "---\n",
    "*Generato automaticamente dal pipeline di analisi del questionario LIME Survey*\n",
    "\"\"\"\n",
    "\n",
    "index_path = os.path.join(EXPORT_FOLDER, f\"{PROJECT_NAME}_indice_{EXPORT_DATE}.md\")\n",
    "with open(index_path, 'w', encoding='utf-8') as f:\n",
    "    f.write(index_content)\n",
    "\n",
    "print(f\"\\n✓ Creato file indice: {os.path.basename(index_path)}\")\n",
    "print(f\"\\n🎯 Esportazione completata! Tutti i file sono nella cartella '{EXPORT_FOLDER}'\")"
   ]
  },
  {
   "cell_type": "code",
   "execution_count": 57,
   "id": "c2a6071a",
   "metadata": {},
   "outputs": [
    {
     "data": {
      "text/html": [
       "<div>\n",
       "<style scoped>\n",
       "    .dataframe tbody tr th:only-of-type {\n",
       "        vertical-align: middle;\n",
       "    }\n",
       "\n",
       "    .dataframe tbody tr th {\n",
       "        vertical-align: top;\n",
       "    }\n",
       "\n",
       "    .dataframe thead th {\n",
       "        text-align: right;\n",
       "    }\n",
       "</style>\n",
       "<table border=\"1\" class=\"dataframe\">\n",
       "  <thead>\n",
       "    <tr style=\"text-align: right;\">\n",
       "      <th></th>\n",
       "      <th>group</th>\n",
       "      <th>label</th>\n",
       "      <th>family</th>\n",
       "      <th>n_cols</th>\n",
       "    </tr>\n",
       "  </thead>\n",
       "  <tbody>\n",
       "    <tr>\n",
       "      <th>0</th>\n",
       "      <td>1.1</td>\n",
       "      <td>Ruolo</td>\n",
       "      <td>non-likert</td>\n",
       "      <td>2</td>\n",
       "    </tr>\n",
       "    <tr>\n",
       "      <th>1</th>\n",
       "      <td>1.2</td>\n",
       "      <td>Età</td>\n",
       "      <td>non-likert</td>\n",
       "      <td>1</td>\n",
       "    </tr>\n",
       "    <tr>\n",
       "      <th>2</th>\n",
       "      <td>1.3</td>\n",
       "      <td>Genere</td>\n",
       "      <td>non-likert</td>\n",
       "      <td>1</td>\n",
       "    </tr>\n",
       "    <tr>\n",
       "      <th>3</th>\n",
       "      <td>1.4</td>\n",
       "      <td>Titolo di studio (indichi tutti i titoli posse...</td>\n",
       "      <td>non-likert</td>\n",
       "      <td>5</td>\n",
       "    </tr>\n",
       "    <tr>\n",
       "      <th>4</th>\n",
       "      <td>1.5</td>\n",
       "      <td>Anzianità di servizio non di ruolo nella scuola</td>\n",
       "      <td>non-likert</td>\n",
       "      <td>1</td>\n",
       "    </tr>\n",
       "    <tr>\n",
       "      <th>5</th>\n",
       "      <td>1.6</td>\n",
       "      <td>Anzianità di servizio di ruolo nella scuola</td>\n",
       "      <td>non-likert</td>\n",
       "      <td>1</td>\n",
       "    </tr>\n",
       "    <tr>\n",
       "      <th>6</th>\n",
       "      <td>1.7</td>\n",
       "      <td>Attualmente svolge altri incarichi (vicepresid...</td>\n",
       "      <td>non-likert</td>\n",
       "      <td>2</td>\n",
       "    </tr>\n",
       "    <tr>\n",
       "      <th>7</th>\n",
       "      <td>1.8</td>\n",
       "      <td>Per quale classe di concorso ha conseguito l’a...</td>\n",
       "      <td>non-likert</td>\n",
       "      <td>1</td>\n",
       "    </tr>\n",
       "    <tr>\n",
       "      <th>8</th>\n",
       "      <td>1.9</td>\n",
       "      <td>Insegnamento in qualità di docente per le atti...</td>\n",
       "      <td>frequenza</td>\n",
       "      <td>1</td>\n",
       "    </tr>\n",
       "    <tr>\n",
       "      <th>9</th>\n",
       "      <td>2.1</td>\n",
       "      <td>Nel PTOF della sua scuola è prevista una sezio...</td>\n",
       "      <td>non-likert</td>\n",
       "      <td>1</td>\n",
       "    </tr>\n",
       "    <tr>\n",
       "      <th>10</th>\n",
       "      <td>2.2</td>\n",
       "      <td>Le attività di orientamento prevedono interven...</td>\n",
       "      <td>non-likert</td>\n",
       "      <td>5</td>\n",
       "    </tr>\n",
       "    <tr>\n",
       "      <th>11</th>\n",
       "      <td>2.3</td>\n",
       "      <td>Le attività di orientamento indicate nel PTOF ...</td>\n",
       "      <td>intensita</td>\n",
       "      <td>4</td>\n",
       "    </tr>\n",
       "    <tr>\n",
       "      <th>12</th>\n",
       "      <td>2.4</td>\n",
       "      <td>Le attività di orientamento indicate nel PTOF ...</td>\n",
       "      <td>intensita</td>\n",
       "      <td>4</td>\n",
       "    </tr>\n",
       "    <tr>\n",
       "      <th>13</th>\n",
       "      <td>2.5</td>\n",
       "      <td>Le azioni di orientamento indicate nel PTOF pr...</td>\n",
       "      <td>intensita</td>\n",
       "      <td>4</td>\n",
       "    </tr>\n",
       "    <tr>\n",
       "      <th>14</th>\n",
       "      <td>2.6</td>\n",
       "      <td>Nel PTOF, la prospettiva orientativa è inserit...</td>\n",
       "      <td>intensita</td>\n",
       "      <td>3</td>\n",
       "    </tr>\n",
       "    <tr>\n",
       "      <th>15</th>\n",
       "      <td>2.7</td>\n",
       "      <td>Il PTOF garantisce agli studenti l’opportunità...</td>\n",
       "      <td>intensita</td>\n",
       "      <td>5</td>\n",
       "    </tr>\n",
       "    <tr>\n",
       "      <th>16</th>\n",
       "      <td>2.8</td>\n",
       "      <td>Il PTOF prevede una rete di coordinamento fra ...</td>\n",
       "      <td>non-likert</td>\n",
       "      <td>1</td>\n",
       "    </tr>\n",
       "    <tr>\n",
       "      <th>17</th>\n",
       "      <td>3.1</td>\n",
       "      <td>Per prepararsi a svolgere il suo ruolo di doce...</td>\n",
       "      <td>non-likert</td>\n",
       "      <td>1</td>\n",
       "    </tr>\n",
       "    <tr>\n",
       "      <th>18</th>\n",
       "      <td>3.2</td>\n",
       "      <td>Indichi i corsi (per un massimo di tre)</td>\n",
       "      <td>non-likert</td>\n",
       "      <td>15</td>\n",
       "    </tr>\n",
       "    <tr>\n",
       "      <th>19</th>\n",
       "      <td>3.3</td>\n",
       "      <td>Il/I corso/i le ha consentito di approfondire ...</td>\n",
       "      <td>intensita</td>\n",
       "      <td>3</td>\n",
       "    </tr>\n",
       "    <tr>\n",
       "      <th>20</th>\n",
       "      <td>3.4</td>\n",
       "      <td>Per prepararsi a svolgere la sua funzione di d...</td>\n",
       "      <td>non-likert</td>\n",
       "      <td>7</td>\n",
       "    </tr>\n",
       "    <tr>\n",
       "      <th>21</th>\n",
       "      <td>3.5</td>\n",
       "      <td>Ritiene che le linee guida sull’orientamento (...</td>\n",
       "      <td>intensita</td>\n",
       "      <td>6</td>\n",
       "    </tr>\n",
       "    <tr>\n",
       "      <th>22</th>\n",
       "      <td>3.6</td>\n",
       "      <td>Il CPIA in cui presta servizio fa riferimento ...</td>\n",
       "      <td>non-likert</td>\n",
       "      <td>1</td>\n",
       "    </tr>\n",
       "    <tr>\n",
       "      <th>23</th>\n",
       "      <td>3.7</td>\n",
       "      <td>A quali (indicare autori e modelli)?</td>\n",
       "      <td>non-likert</td>\n",
       "      <td>1</td>\n",
       "    </tr>\n",
       "    <tr>\n",
       "      <th>24</th>\n",
       "      <td>3.8</td>\n",
       "      <td>Le pratiche di orientamento nella sua scuola f...</td>\n",
       "      <td>non-likert</td>\n",
       "      <td>3</td>\n",
       "    </tr>\n",
       "    <tr>\n",
       "      <th>25</th>\n",
       "      <td>3.9</td>\n",
       "      <td>Quanto spesso il CPIA dove presta servizio org...</td>\n",
       "      <td>frequenza</td>\n",
       "      <td>6</td>\n",
       "    </tr>\n",
       "    <tr>\n",
       "      <th>26</th>\n",
       "      <td>3.10</td>\n",
       "      <td>Per migliorare le competenze di orientamento d...</td>\n",
       "      <td>intensita</td>\n",
       "      <td>7</td>\n",
       "    </tr>\n",
       "    <tr>\n",
       "      <th>27</th>\n",
       "      <td>3.11</td>\n",
       "      <td>Nel CPIA in cui presta servizio attualmente le...</td>\n",
       "      <td>intensita</td>\n",
       "      <td>4</td>\n",
       "    </tr>\n",
       "    <tr>\n",
       "      <th>28</th>\n",
       "      <td>3.12</td>\n",
       "      <td>Nel CPIA in cui presta servizio sono attivi i ...</td>\n",
       "      <td>non-likert</td>\n",
       "      <td>1</td>\n",
       "    </tr>\n",
       "    <tr>\n",
       "      <th>29</th>\n",
       "      <td>3.13</td>\n",
       "      <td>Ritiene che i percorsi di PCTO attivati nel CP...</td>\n",
       "      <td>intensita</td>\n",
       "      <td>5</td>\n",
       "    </tr>\n",
       "    <tr>\n",
       "      <th>30</th>\n",
       "      <td>3.14</td>\n",
       "      <td>Il percorso di 30 ore, che fa parte dei moduli...</td>\n",
       "      <td>non-likert</td>\n",
       "      <td>1</td>\n",
       "    </tr>\n",
       "    <tr>\n",
       "      <th>31</th>\n",
       "      <td>3.15</td>\n",
       "      <td>il percorso è progettato per essere svolto</td>\n",
       "      <td>non-likert</td>\n",
       "      <td>7</td>\n",
       "    </tr>\n",
       "    <tr>\n",
       "      <th>32</th>\n",
       "      <td>3.16</td>\n",
       "      <td>Nel CPIA è disponibile uno sportello per gli u...</td>\n",
       "      <td>non-likert</td>\n",
       "      <td>1</td>\n",
       "    </tr>\n",
       "    <tr>\n",
       "      <th>33</th>\n",
       "      <td>4.1</td>\n",
       "      <td>Nella scuola secondaria di I grado è previsto ...</td>\n",
       "      <td>non-likert</td>\n",
       "      <td>1</td>\n",
       "    </tr>\n",
       "    <tr>\n",
       "      <th>34</th>\n",
       "      <td>4.2</td>\n",
       "      <td>In che modo viene formulato?</td>\n",
       "      <td>non-likert</td>\n",
       "      <td>7</td>\n",
       "    </tr>\n",
       "    <tr>\n",
       "      <th>35</th>\n",
       "      <td>4.3</td>\n",
       "      <td>Gli strumenti per l’orientamento attualmente u...</td>\n",
       "      <td>non-likert</td>\n",
       "      <td>6</td>\n",
       "    </tr>\n",
       "    <tr>\n",
       "      <th>36</th>\n",
       "      <td>4.4</td>\n",
       "      <td>Per migliorare le capacità di orientamento deg...</td>\n",
       "      <td>non-likert</td>\n",
       "      <td>6</td>\n",
       "    </tr>\n",
       "    <tr>\n",
       "      <th>37</th>\n",
       "      <td>4.5</td>\n",
       "      <td>Nel CPIA in cui presta servizio, attualmente s...</td>\n",
       "      <td>non-likert</td>\n",
       "      <td>7</td>\n",
       "    </tr>\n",
       "    <tr>\n",
       "      <th>38</th>\n",
       "      <td>4.6</td>\n",
       "      <td>Per migliorare le capacità di orientamento, ri...</td>\n",
       "      <td>non-likert</td>\n",
       "      <td>7</td>\n",
       "    </tr>\n",
       "    <tr>\n",
       "      <th>39</th>\n",
       "      <td>4.7</td>\n",
       "      <td>Indicare i profili professionali del CPIA impe...</td>\n",
       "      <td>non-likert</td>\n",
       "      <td>5</td>\n",
       "    </tr>\n",
       "    <tr>\n",
       "      <th>40</th>\n",
       "      <td>5.1</td>\n",
       "      <td>Le pratiche di orientamento sviluppate dal CPI...</td>\n",
       "      <td>non-likert</td>\n",
       "      <td>10</td>\n",
       "    </tr>\n",
       "    <tr>\n",
       "      <th>41</th>\n",
       "      <td>5.2</td>\n",
       "      <td>Per la creazione di una rete territoriale per ...</td>\n",
       "      <td>non-likert</td>\n",
       "      <td>5</td>\n",
       "    </tr>\n",
       "    <tr>\n",
       "      <th>42</th>\n",
       "      <td>6.1</td>\n",
       "      <td>Nel CPIA in cui presta servizio è presente un ...</td>\n",
       "      <td>non-likert</td>\n",
       "      <td>1</td>\n",
       "    </tr>\n",
       "    <tr>\n",
       "      <th>43</th>\n",
       "      <td>6.2</td>\n",
       "      <td>Chi se ne occupa?</td>\n",
       "      <td>non-likert</td>\n",
       "      <td>5</td>\n",
       "    </tr>\n",
       "    <tr>\n",
       "      <th>44</th>\n",
       "      <td>6.3</td>\n",
       "      <td>Quali attività di orientamento sono oggetto di...</td>\n",
       "      <td>non-likert</td>\n",
       "      <td>16</td>\n",
       "    </tr>\n",
       "    <tr>\n",
       "      <th>45</th>\n",
       "      <td>6.4</td>\n",
       "      <td>Quali strumenti sono utilizzati per il monitor...</td>\n",
       "      <td>non-likert</td>\n",
       "      <td>11</td>\n",
       "    </tr>\n",
       "    <tr>\n",
       "      <th>46</th>\n",
       "      <td>7.1</td>\n",
       "      <td>Sarebbe per noi molto importante se volesse fo...</td>\n",
       "      <td>non-likert</td>\n",
       "      <td>1</td>\n",
       "    </tr>\n",
       "  </tbody>\n",
       "</table>\n",
       "</div>"
      ],
      "text/plain": [
       "   group                                              label      family  \\\n",
       "0    1.1                                              Ruolo  non-likert   \n",
       "1    1.2                                                Età  non-likert   \n",
       "2    1.3                                             Genere  non-likert   \n",
       "3    1.4  Titolo di studio (indichi tutti i titoli posse...  non-likert   \n",
       "4    1.5    Anzianità di servizio non di ruolo nella scuola  non-likert   \n",
       "5    1.6        Anzianità di servizio di ruolo nella scuola  non-likert   \n",
       "6    1.7  Attualmente svolge altri incarichi (vicepresid...  non-likert   \n",
       "7    1.8  Per quale classe di concorso ha conseguito l’a...  non-likert   \n",
       "8    1.9  Insegnamento in qualità di docente per le atti...   frequenza   \n",
       "9    2.1  Nel PTOF della sua scuola è prevista una sezio...  non-likert   \n",
       "10   2.2  Le attività di orientamento prevedono interven...  non-likert   \n",
       "11   2.3  Le attività di orientamento indicate nel PTOF ...   intensita   \n",
       "12   2.4  Le attività di orientamento indicate nel PTOF ...   intensita   \n",
       "13   2.5  Le azioni di orientamento indicate nel PTOF pr...   intensita   \n",
       "14   2.6  Nel PTOF, la prospettiva orientativa è inserit...   intensita   \n",
       "15   2.7  Il PTOF garantisce agli studenti l’opportunità...   intensita   \n",
       "16   2.8  Il PTOF prevede una rete di coordinamento fra ...  non-likert   \n",
       "17   3.1  Per prepararsi a svolgere il suo ruolo di doce...  non-likert   \n",
       "18   3.2            Indichi i corsi (per un massimo di tre)  non-likert   \n",
       "19   3.3  Il/I corso/i le ha consentito di approfondire ...   intensita   \n",
       "20   3.4  Per prepararsi a svolgere la sua funzione di d...  non-likert   \n",
       "21   3.5  Ritiene che le linee guida sull’orientamento (...   intensita   \n",
       "22   3.6  Il CPIA in cui presta servizio fa riferimento ...  non-likert   \n",
       "23   3.7               A quali (indicare autori e modelli)?  non-likert   \n",
       "24   3.8  Le pratiche di orientamento nella sua scuola f...  non-likert   \n",
       "25   3.9  Quanto spesso il CPIA dove presta servizio org...   frequenza   \n",
       "26  3.10  Per migliorare le competenze di orientamento d...   intensita   \n",
       "27  3.11  Nel CPIA in cui presta servizio attualmente le...   intensita   \n",
       "28  3.12  Nel CPIA in cui presta servizio sono attivi i ...  non-likert   \n",
       "29  3.13  Ritiene che i percorsi di PCTO attivati nel CP...   intensita   \n",
       "30  3.14  Il percorso di 30 ore, che fa parte dei moduli...  non-likert   \n",
       "31  3.15         il percorso è progettato per essere svolto  non-likert   \n",
       "32  3.16  Nel CPIA è disponibile uno sportello per gli u...  non-likert   \n",
       "33   4.1  Nella scuola secondaria di I grado è previsto ...  non-likert   \n",
       "34   4.2                       In che modo viene formulato?  non-likert   \n",
       "35   4.3  Gli strumenti per l’orientamento attualmente u...  non-likert   \n",
       "36   4.4  Per migliorare le capacità di orientamento deg...  non-likert   \n",
       "37   4.5  Nel CPIA in cui presta servizio, attualmente s...  non-likert   \n",
       "38   4.6  Per migliorare le capacità di orientamento, ri...  non-likert   \n",
       "39   4.7  Indicare i profili professionali del CPIA impe...  non-likert   \n",
       "40   5.1  Le pratiche di orientamento sviluppate dal CPI...  non-likert   \n",
       "41   5.2  Per la creazione di una rete territoriale per ...  non-likert   \n",
       "42   6.1  Nel CPIA in cui presta servizio è presente un ...  non-likert   \n",
       "43   6.2                                  Chi se ne occupa?  non-likert   \n",
       "44   6.3  Quali attività di orientamento sono oggetto di...  non-likert   \n",
       "45   6.4  Quali strumenti sono utilizzati per il monitor...  non-likert   \n",
       "46   7.1  Sarebbe per noi molto importante se volesse fo...  non-likert   \n",
       "\n",
       "    n_cols  \n",
       "0        2  \n",
       "1        1  \n",
       "2        1  \n",
       "3        5  \n",
       "4        1  \n",
       "5        1  \n",
       "6        2  \n",
       "7        1  \n",
       "8        1  \n",
       "9        1  \n",
       "10       5  \n",
       "11       4  \n",
       "12       4  \n",
       "13       4  \n",
       "14       3  \n",
       "15       5  \n",
       "16       1  \n",
       "17       1  \n",
       "18      15  \n",
       "19       3  \n",
       "20       7  \n",
       "21       6  \n",
       "22       1  \n",
       "23       1  \n",
       "24       3  \n",
       "25       6  \n",
       "26       7  \n",
       "27       4  \n",
       "28       1  \n",
       "29       5  \n",
       "30       1  \n",
       "31       7  \n",
       "32       1  \n",
       "33       1  \n",
       "34       7  \n",
       "35       6  \n",
       "36       6  \n",
       "37       7  \n",
       "38       7  \n",
       "39       5  \n",
       "40      10  \n",
       "41       5  \n",
       "42       1  \n",
       "43       5  \n",
       "44      16  \n",
       "45      11  \n",
       "46       1  "
      ]
     },
     "execution_count": 57,
     "metadata": {},
     "output_type": "execute_result"
    }
   ],
   "source": [
    "# 4) Analisi domande: raggruppamento e rilevazione Likert (senza grafici)\n",
    "import re, pandas as pd, unicodedata\n",
    "\n",
    "# 4.1 Carica dataset (se non esiste già in memoria)\n",
    "try:\n",
    "    _ = data  # verifica esistenza\n",
    "except NameError:\n",
    "    try:\n",
    "        data = pd.read_csv('dataset_domande.csv')\n",
    "    except FileNotFoundError:\n",
    "        data = pd.read_excel('merged_results.xlsx')\n",
    "\n",
    "# 4.2 Utility testo\n",
    "\n",
    "def strip_accents(s: str) -> str:\n",
    "    if s is None:\n",
    "        return ''\n",
    "    s = str(s)\n",
    "    nfkd = unicodedata.normalize('NFKD', s)\n",
    "    return ''.join(ch for ch in nfkd if not unicodedata.combining(ch))\n",
    "\n",
    "def norm_txt(s: str) -> str:\n",
    "    s = strip_accents(s).lower().strip()\n",
    "    s = re.sub(r'\\s+', ' ', s)\n",
    "    return s\n",
    "\n",
    "# 4.3 Raggruppa colonne per prefisso numerico (es. '2.3')\n",
    "num_pat = re.compile(r'^(\\d+\\.\\d+)(?:[\\s\\S]*)$')\n",
    "question_groups = {}\n",
    "for col in data.columns:\n",
    "    m = num_pat.match(col)\n",
    "    if m:\n",
    "        key = m.group(1)\n",
    "        question_groups.setdefault(key, []).append(col)\n",
    "\n",
    "# 4.4 Etichetta leggibile domanda (numero — testo)\n",
    "clean_q_text_pat_prefix = re.compile(r'^\\d+\\.\\d+\\s*')\n",
    "clean_q_text_pat_brackets = re.compile(r'\\s*\\[[^\\]]+\\]\\s*$')\n",
    "\n",
    "def clean_question_text(col: str) -> str:\n",
    "    s = str(col)\n",
    "    s = clean_q_text_pat_prefix.sub('', s).strip()\n",
    "    s = clean_q_text_pat_brackets.sub('', s).strip()\n",
    "    s = s.rstrip(':').strip()\n",
    "    return s\n",
    "\n",
    "group_labels = {}\n",
    "for key, cols in question_groups.items():\n",
    "    texts = [clean_question_text(c) for c in cols if c]\n",
    "    group_labels[key] = max(set(texts), key=lambda t: (texts.count(t), len(t))) if texts else key\n",
    "\n",
    "# 4.5 Definizione famiglie Likert e token mapping\n",
    "LIKERT_FAMILIES = {\n",
    "    'intensita': {\n",
    "        'order': ['Per nulla', 'Poco', 'Abbastanza', 'Molto', 'Moltissimo'],\n",
    "        'tokens': {\n",
    "            'per nulla': 'Per nulla', 'per niente': 'Per nulla', 'niente affatto': 'Per nulla',\n",
    "            'poco': 'Poco',\n",
    "            'abbastanza': 'Abbastanza', 'sufficientemente': 'Abbastanza', 'mediamente': 'Abbastanza',\n",
    "            'molto': 'Molto', 'tanto': 'Molto',\n",
    "            'moltissimo': 'Moltissimo', 'estremamente': 'Moltissimo'\n",
    "        }\n",
    "    },\n",
    "    'accordo': {\n",
    "        'order': [\"Per nulla d'accordo\", \"In disaccordo\", 'Neutrale', \"D'accordo\", \"Molto d'accordo\"],\n",
    "        'tokens': {\n",
    "            \"per nulla d'accordo\": \"Per nulla d'accordo\", 'fortemente in disaccordo': \"Per nulla d'accordo\",\n",
    "            'in disaccordo': 'In disaccordo',\n",
    "            'neutrale': 'Neutrale', \"ne d'accordo ne in disaccordo\": 'Neutrale', 'indifferente': 'Neutrale',\n",
    "            \"d'accordo\": \"D'accordo\",\n",
    "            \"molto d'accordo\": \"Molto d'accordo\", \"completamente d'accordo\": \"Molto d'accordo\"\n",
    "        }\n",
    "    },\n",
    "    'frequenza': {\n",
    "        'order': ['Mai', 'Raramente', 'A volte', 'Spesso', 'Sempre'],\n",
    "        'tokens': {\n",
    "            'mai': 'Mai',\n",
    "            'raramente': 'Raramente', 'poco spesso': 'Raramente',\n",
    "            'a volte': 'A volte', 'talvolta': 'A volte', 'occasionalmente': 'A volte',\n",
    "            'spesso': 'Spesso', 'frequentemente': 'Spesso',\n",
    "            'sempre': 'Sempre', 'quasi sempre': 'Sempre'\n",
    "        }\n",
    "    },\n",
    "    'qualita': {\n",
    "        'order': ['Insufficiente', 'Sufficiente', 'Buona', 'Ottima'],\n",
    "        'tokens': {\n",
    "            'insufficiente': 'Insufficiente', 'scarsa': 'Insufficiente', 'pessima': 'Insufficiente',\n",
    "            'sufficiente': 'Sufficiente', 'discreta': 'Sufficiente',\n",
    "            'buona': 'Buona',\n",
    "            'ottima': 'Ottima', 'eccellente': 'Ottima'\n",
    "        }\n",
    "    }\n",
    "}\n",
    "\n",
    "# 4.6 Helper per rilevazione Likert e mapping\n",
    "\n",
    "def first_non_na(series: pd.Series):\n",
    "    for v in series:\n",
    "        if pd.notna(v) and str(v).strip() != '':\n",
    "            return v\n",
    "    return None\n",
    "\n",
    "def guess_family_from_first_row(cols):\n",
    "    fam_counts = {}\n",
    "    for c in cols:\n",
    "        v = first_non_na(data[c])\n",
    "        if v is None:\n",
    "            continue\n",
    "        nv = norm_txt(str(v))\n",
    "        matched_family = None\n",
    "        for fam, cfg in LIKERT_FAMILIES.items():\n",
    "            for token in cfg['tokens'].keys():\n",
    "                if token in nv:\n",
    "                    matched_family = fam\n",
    "                    break\n",
    "            if matched_family:\n",
    "                break\n",
    "        if matched_family:\n",
    "            fam_counts[matched_family] = fam_counts.get(matched_family, 0) + 1\n",
    "    return max(fam_counts, key=fam_counts.get) if fam_counts else None\n",
    "\n",
    "def map_value_to_canonical(v: str, family: str):\n",
    "    if pd.isna(v) or str(v).strip() == '':\n",
    "        return None\n",
    "    nv = norm_txt(str(v))\n",
    "    for token, canon in LIKERT_FAMILIES[family]['tokens'].items():\n",
    "        if token in nv:\n",
    "            return canon\n",
    "    return None\n",
    "\n",
    "# 4.7 Rileva famiglia Likert per ogni gruppo\n",
    "_group_families = {g: guess_family_from_first_row(cols) for g, cols in question_groups.items()}\n",
    "likert_summary = pd.DataFrame([\n",
    "    {\n",
    "        'group': g,\n",
    "        'label': group_labels.get(g, g),\n",
    "        'family': _group_families[g] if _group_families[g] else 'non-likert',\n",
    "        'n_cols': len(question_groups[g])\n",
    "    }\n",
    "    for g in sorted(question_groups.keys(), key=lambda k: (int(k.split('.')[0]), int(k.split('.')[1])))\n",
    "])\n",
    "\n",
    "# Mostra un estratto della sintesi\n",
    "likert_summary.head(200)"
   ]
  },
  {
   "cell_type": "code",
   "execution_count": 58,
   "id": "e7972099",
   "metadata": {},
   "outputs": [
    {
     "ename": "ModuleNotFoundError",
     "evalue": "No module named 'plotly'",
     "output_type": "error",
     "traceback": [
      "\u001b[31m---------------------------------------------------------------------------\u001b[39m",
      "\u001b[31mModuleNotFoundError\u001b[39m                       Traceback (most recent call last)",
      "\u001b[36mCell\u001b[39m\u001b[36m \u001b[39m\u001b[32mIn[58]\u001b[39m\u001b[32m, line 2\u001b[39m\n\u001b[32m      1\u001b[39m \u001b[38;5;66;03m#  [Diagnostica] Ambiente e renderer Plotly\u001b[39;00m\n\u001b[32m----> \u001b[39m\u001b[32m2\u001b[39m \u001b[38;5;28;01mimport\u001b[39;00m\u001b[38;5;250m \u001b[39m\u001b[34;01msys\u001b[39;00m,\u001b[38;5;250m \u001b[39m\u001b[34;01mplotly\u001b[39;00m\n\u001b[32m      3\u001b[39m \u001b[38;5;28;01mimport\u001b[39;00m\u001b[38;5;250m \u001b[39m\u001b[34;01mplotly\u001b[39;00m\u001b[34;01m.\u001b[39;00m\u001b[34;01mio\u001b[39;00m\u001b[38;5;250m \u001b[39m\u001b[38;5;28;01mas\u001b[39;00m\u001b[38;5;250m \u001b[39m\u001b[34;01mpio\u001b[39;00m\n\u001b[32m      4\u001b[39m \u001b[38;5;28;01mfrom\u001b[39;00m\u001b[38;5;250m \u001b[39m\u001b[34;01mpackaging\u001b[39;00m\u001b[38;5;250m \u001b[39m\u001b[38;5;28;01mimport\u001b[39;00m version\n",
      "\u001b[31mModuleNotFoundError\u001b[39m: No module named 'plotly'"
     ]
    }
   ],
   "source": [
    "#  [Diagnostica] Ambiente e renderer Plotly\n",
    "import sys, plotly\n",
    "import plotly.io as pio\n",
    "from packaging import version\n",
    "\n",
    "# Rileva versione nbformat se presente e compatibile\n",
    "try:\n",
    "    import nbformat  # noqa: F401\n",
    "    nbv = nbformat.__version__\n",
    "    has_compatible_nbformat = version.parse(nbv) >= version.parse(\"4.2.0\")\n",
    "except Exception as e:\n",
    "    nbv = f\"missing ({e})\"\n",
    "    has_compatible_nbformat = False\n",
    "\n",
    "# Funzione robusta per impostare un renderer sicuro in questo ambiente\n",
    "def _configure_plotly_renderer():\n",
    "    available = set(pio.renderers)  # renderers disponibili in questa sessione\n",
    "    # Preferenze in ordine: plotly_mimetype (se nbformat>=4.2.0), vscode, notebook_connected, browser\n",
    "    if has_compatible_nbformat and 'plotly_mimetype' in available:\n",
    "        pio.renderers.default = 'plotly_mimetype'\n",
    "        return\n",
    "    if 'vscode' in available:\n",
    "        pio.renderers.default = 'vscode'\n",
    "        return\n",
    "    if 'notebook_connected' in available:\n",
    "        pio.renderers.default = 'notebook_connected'\n",
    "        return\n",
    "    # Fallback universale: apre nel browser di sistema\n",
    "    pio.renderers.default = 'browser'\n",
    "\n",
    "_configure_plotly_renderer()\n",
    "\n",
    "print(\"Python:\", sys.version.split()[0])\n",
    "print(\"Executable:\", sys.executable)\n",
    "print(\"Plotly:\", plotly.__version__)\n",
    "print(\"nbformat:\", nbv)\n",
    "print(\"nbformat compatible:\", has_compatible_nbformat)\n",
    "print(\"Renderer:\", pio.renderers.default)"
   ]
  },
  {
   "cell_type": "code",
   "execution_count": 58,
   "id": "473b408d",
   "metadata": {},
   "outputs": [
    {
     "name": "stdout",
     "output_type": "stream",
     "text": [
      "🎯 Funzioni di analisi pronte!\n",
      "\n",
      "📊 Uso completo:\n",
      "   analyze_question_group('2.4', 'bar', True, False)\n",
      "   → ('domanda', 'tipo_grafico', percentuali?, includi_NA?)\n",
      "\n",
      "📈 Tipi di grafico:\n",
      "   'bar'         → Barre verticali\n",
      "   'bar_h'       → Barre orizzontali\n",
      "   'pie'         → Grafici a torta\n",
      "   'likert_bar'  → Barre Likert ordinate\n",
      "   'histogram'   → Istogramma\n",
      "   'gaussian'    → Curva gaussiana\n",
      "\n",
      "🚀 Funzioni rapide:\n",
      "   analyze_bar('2.4')        # Barre verticali %\n",
      "   analyze_bar_h('2.4')      # Barre orizzontali %\n",
      "   analyze_pie('2.4')        # Torte\n",
      "   analyze_likert('2.4')     # Likert %\n",
      "   analyze_histogram('2.4')  # Istogramma\n",
      "   analyze_gaussian('2.4')   # Curva normale\n",
      "\n",
      "💡 Per numeri assoluti: analyze_bar('2.4', percentages=False)\n",
      "\n",
      "📋 Gruppi disponibili: ['1.1', '1.10', '1.2', '1.3', '1.4', '1.5', '1.6', '1.7', '1.8', '1.9']...\n"
     ]
    }
   ],
   "source": [
    "# 🎯 ANALISI COMPLETA SENZA WIDGET\n",
    "import plotly.express as px\n",
    "import plotly.graph_objects as go\n",
    "from collections import Counter\n",
    "import numpy as np\n",
    "import textwrap\n",
    "try:\n",
    "    import scipy.stats as stats\n",
    "except ImportError:\n",
    "    print(\"⚠️  scipy non disponibile - grafici gaussiani limitati\")\n",
    "    stats = None\n",
    "\n",
    "def wrap_title(title, max_chars=140):\n",
    "    \"\"\"\n",
    "    Fa andare a capo i titoli lunghi per i grafici\n",
    "    \"\"\"\n",
    "    if len(title) <= max_chars:\n",
    "        return title\n",
    "    \n",
    "    # Usa textwrap per dividere il testo in righe\n",
    "    wrapped = textwrap.fill(title, width=max_chars)\n",
    "    return wrapped.replace('\\n', '<br>')  # Plotly usa <br> per andare a capo\n",
    "\n",
    "def analyze_question_group(group_key='2.4', chart_type='bar', show_percentages=True, include_na=False):\n",
    "    \"\"\"\n",
    "    Analizza un gruppo di domande con statistiche complete e tipi di grafico\n",
    "    \n",
    "    Parametri:\n",
    "    - group_key: chiave del gruppo (es. '2.4')\n",
    "    - chart_type: 'bar', 'bar_h', 'pie', 'likert_bar', 'histogram', 'gaussian'\n",
    "    - show_percentages: True per %, False per numeri assoluti (quando applicabile)\n",
    "    - include_na: include valori NA nell'analisi\n",
    "    \"\"\"\n",
    "    print(f\"🎯 ANALISI DOMANDA: {group_key}\")\n",
    "    print(f\"📝 Descrizione: {group_labels.get(group_key, group_key)}\")\n",
    "    print(f\"📊 Tipo grafico: {chart_type}\")\n",
    "    print(f\"📈 Valori: {'Percentuali' if show_percentages else 'Numeri assoluti'}\")\n",
    "    print(f\"🔢 Includi NA: {include_na}\")\n",
    "    \n",
    "    # Spiegazione del tipo di grafico\n",
    "    chart_explanations = {\n",
    "        'bar': \"📊 Barre verticali - Ideale per confrontare categorie, facile da leggere\",\n",
    "        'bar_h': \"📊 Barre orizzontali - Migliore quando le etichette sono lunghe\",\n",
    "        'pie': \"🥧 Grafico a torta - Mostra proporzioni del totale, max 5-6 categorie\",\n",
    "        'likert_bar': \"📈 Barre Likert - Ordinate secondo scala (Per nulla → Molto)\",\n",
    "        'histogram': \"📉 Istogramma - Mostra distribuzione di valori numerici\",\n",
    "        'gaussian': \"🔔 Curva gaussiana - Istogramma + curva normale sovrapposta\"\n",
    "    }\n",
    "    \n",
    "    if chart_type in chart_explanations:\n",
    "        print(f\"💡 {chart_explanations[chart_type]}\")\n",
    "    print()\n",
    "    \n",
    "    if group_key not in question_groups:\n",
    "        print(f\"❌ Gruppo {group_key} non trovato\")\n",
    "        return\n",
    "    \n",
    "    cols = question_groups[group_key]\n",
    "    print(f\"🔢 Numero di sotto-domande: {len(cols)}\")\n",
    "    print(\"=\" * 80)\n",
    "    \n",
    "    # Per ogni colonna del gruppo, crea un grafico\n",
    "    for i, col in enumerate(cols, 1):\n",
    "        print(f\"📊 Sotto-domanda {i}:\")\n",
    "        print(f\"    {col}\")\n",
    "        \n",
    "        # Prendi i dati della colonna\n",
    "        series = data[col]\n",
    "        original_count = len(series)\n",
    "        \n",
    "        if not include_na:\n",
    "            series = series.dropna()\n",
    "        \n",
    "        if len(series) == 0:\n",
    "            print(\"   ⚠️  Nessun dato disponibile\")\n",
    "            continue\n",
    "            \n",
    "        # Conta i valori\n",
    "        counts = Counter(series)\n",
    "        total = sum(counts.values())\n",
    "        \n",
    "        # Statistiche descrittive\n",
    "        print(f\"   📈 Statistiche:\")\n",
    "        print(f\"      • Risposte totali: {total}\")\n",
    "        if not include_na and original_count > total:\n",
    "            print(f\"      • Valori mancanti: {original_count - total}\")\n",
    "        \n",
    "        # Calcola statistiche numeriche se applicabile\n",
    "        try:\n",
    "            # Prova a mappare i valori Likert a numeri per le statistiche\n",
    "            likert_family = _group_families.get(group_key)\n",
    "            if likert_family and likert_family in LIKERT_FAMILIES:\n",
    "                order = LIKERT_FAMILIES[likert_family]['order']\n",
    "                # Mappa i valori a numeri (1, 2, 3, ...)\n",
    "                numeric_values = []\n",
    "                for val in series:\n",
    "                    try:\n",
    "                        idx = order.index(val)\n",
    "                        numeric_values.append(idx + 1)\n",
    "                    except ValueError:\n",
    "                        continue\n",
    "                \n",
    "                if numeric_values:\n",
    "                    mean_val = np.mean(numeric_values)\n",
    "                    median_val = np.median(numeric_values)\n",
    "                    std_val = np.std(numeric_values, ddof=1) if len(numeric_values) > 1 else 0\n",
    "                    \n",
    "                    print(f\"      • Media: {mean_val:.2f}\")\n",
    "                    print(f\"      • Mediana: {median_val:.1f}\")\n",
    "                    print(f\"      • Deviazione standard: {std_val:.2f}\")\n",
    "        except Exception:\n",
    "            pass\n",
    "        \n",
    "        # Distribuzione dei valori\n",
    "        print(f\"   📊 Distribuzione:\")\n",
    "        for value, count in counts.most_common():\n",
    "            pct = round(100 * count / total, 1) if total > 0 else 0\n",
    "            print(f\"      • {value}: {count} ({pct}%)\")\n",
    "        \n",
    "        # Crea grafico in base al tipo richiesto\n",
    "        if len(counts) > 0:\n",
    "            labels = list(counts.keys())\n",
    "            values = list(counts.values())\n",
    "            \n",
    "            # Palette di colori vivaci per tutti i grafici\n",
    "            colors = ['#FF6B6B', '#4ECDC4', '#45B7D1', '#96CEB4', '#FECA57', \n",
    "                     '#FF9FF3', '#54A0FF', '#5F27CD', '#00D2D3', '#FF9F43',\n",
    "                     '#6C5CE7', '#A29BFE', '#FD79A8', '#E17055', '#00B894']\n",
    "            \n",
    "            # Titolo con a capo automatico\n",
    "            wrapped_title = wrap_title(col)\n",
    "            \n",
    "            # Calcola valori per i grafici - sempre mostra entrambi\n",
    "            percentages = [round(100 * v / total, 1) for v in values]\n",
    "            # Testo che mostra sia numero assoluto che percentuale\n",
    "            text_labels = [f\"{v} ({p}%)\" for v, p in zip(values, percentages)]\n",
    "            \n",
    "            # Display values per l'asse Y\n",
    "            display_values = percentages if show_percentages else values\n",
    "            y_label = 'Percentuale (%)' if show_percentages else 'Conteggio'\n",
    "            \n",
    "            if chart_type == 'bar':\n",
    "                # Grafico a barre verticali\n",
    "                fig = px.bar(\n",
    "                    x=labels, \n",
    "                    y=display_values,\n",
    "                    title=wrapped_title,\n",
    "                    labels={'x': 'Risposta', 'y': y_label},\n",
    "                    text=text_labels,\n",
    "                    color=labels,\n",
    "                    color_discrete_sequence=colors\n",
    "                )\n",
    "            elif chart_type == 'bar_h':\n",
    "                # Grafico a barre orizzontali\n",
    "                fig = px.bar(\n",
    "                    x=display_values,\n",
    "                    y=labels,\n",
    "                    title=wrapped_title,\n",
    "                    labels={'x': y_label, 'y': 'Risposta'},\n",
    "                    orientation='h',\n",
    "                    text=text_labels,\n",
    "                    color=labels,\n",
    "                    color_discrete_sequence=colors\n",
    "                )\n",
    "            elif chart_type == 'pie':\n",
    "                # Grafico a torta con etichette personalizzate\n",
    "                fig = px.pie(\n",
    "                    names=labels,\n",
    "                    values=values,  # Sempre valori assoluti per le torte\n",
    "                    title=wrapped_title,\n",
    "                    color_discrete_sequence=colors\n",
    "                )\n",
    "                # Aggiunge etichette personalizzate alla torta\n",
    "                fig.update_traces(textinfo='label+value+percent', \n",
    "                                texttemplate='%{label}<br>%{value} (%{percent})')\n",
    "            elif chart_type == 'likert_bar':\n",
    "                # Grafico Likert ordinato\n",
    "                likert_family = _group_families.get(group_key)\n",
    "                if likert_family and likert_family in LIKERT_FAMILIES:\n",
    "                    order = LIKERT_FAMILIES[likert_family]['order']\n",
    "                    ordered_labels = [l for l in order if l in labels]\n",
    "                    ordered_values = [counts[l] for l in ordered_labels]\n",
    "                    ordered_display = [round(100 * v / total, 1) for v in ordered_values] if show_percentages else ordered_values\n",
    "                    ordered_text = [f\"{v} ({round(100 * v / total, 1)}%)\" for v in ordered_values]\n",
    "                    \n",
    "                    fig = px.bar(\n",
    "                        x=ordered_labels, \n",
    "                        y=ordered_display,\n",
    "                        title=wrapped_title,\n",
    "                        labels={'x': 'Risposta', 'y': y_label},\n",
    "                        text=ordered_text,\n",
    "                        color=ordered_labels,\n",
    "                        color_discrete_sequence=colors\n",
    "                    )\n",
    "                else:\n",
    "                    # Fallback a barre normali se non è Likert\n",
    "                    fig = px.bar(x=labels, y=display_values, title=wrapped_title, \n",
    "                               labels={'x': 'Risposta', 'y': y_label}, \n",
    "                               text=text_labels,\n",
    "                               color=labels, color_discrete_sequence=colors)\n",
    "            elif chart_type == 'histogram':\n",
    "                # Istogramma (per dati numerici Likert)\n",
    "                likert_family = _group_families.get(group_key)\n",
    "                if likert_family and likert_family in LIKERT_FAMILIES:\n",
    "                    order = LIKERT_FAMILIES[likert_family]['order']\n",
    "                    numeric_data = []\n",
    "                    for val in series:\n",
    "                        try:\n",
    "                            idx = order.index(val)\n",
    "                            numeric_data.extend([idx + 1] * 1)  # Mappa a numeri 1,2,3...\n",
    "                        except ValueError:\n",
    "                            continue\n",
    "                    \n",
    "                    if numeric_data:\n",
    "                        fig = px.histogram(\n",
    "                            x=numeric_data,\n",
    "                            title=wrapped_title,\n",
    "                            labels={'x': 'Valore Likert (1=Per nulla, 5=Moltissimo)', 'y': 'Frequenza'},\n",
    "                            nbins=len(order),\n",
    "                            color_discrete_sequence=[colors[0]]\n",
    "                        )\n",
    "                    else:\n",
    "                        fig = px.bar(x=labels, y=display_values, title=wrapped_title,\n",
    "                                   text=text_labels,\n",
    "                                   color=labels, color_discrete_sequence=colors)\n",
    "                else:\n",
    "                    # Per dati non-Likert, usa grafico a barre normale\n",
    "                    fig = px.bar(x=labels, y=display_values, title=wrapped_title, \n",
    "                               text=text_labels,\n",
    "                               color=labels, color_discrete_sequence=colors)\n",
    "            elif chart_type == 'gaussian':\n",
    "                # Curva gaussiana sovrapposta\n",
    "                likert_family = _group_families.get(group_key)\n",
    "                if likert_family and likert_family in LIKERT_FAMILIES:\n",
    "                    order = LIKERT_FAMILIES[likert_family]['order']\n",
    "                    numeric_data = []\n",
    "                    for val in series:\n",
    "                        try:\n",
    "                            idx = order.index(val)\n",
    "                            numeric_data.append(idx + 1)\n",
    "                        except ValueError:\n",
    "                            continue\n",
    "                    \n",
    "                    if numeric_data and len(numeric_data) > 1:\n",
    "                        import scipy.stats as stats\n",
    "                        \n",
    "                        # Crea istogramma\n",
    "                        fig = px.histogram(\n",
    "                            x=numeric_data,\n",
    "                            title=wrapped_title,\n",
    "                            labels={'x': 'Valore Likert', 'y': 'Frequenza'},\n",
    "                            nbins=len(order),\n",
    "                            opacity=0.7,\n",
    "                            color_discrete_sequence=[colors[0]]\n",
    "                        )\n",
    "                        \n",
    "                        # Aggiunge curva gaussiana\n",
    "                        x_range = np.linspace(min(numeric_data), max(numeric_data), 100)\n",
    "                        mean_val = np.mean(numeric_data)\n",
    "                        std_val = np.std(numeric_data)\n",
    "                        gaussian_curve = stats.norm.pdf(x_range, mean_val, std_val)\n",
    "                        # Scala la curva per matchare l'istogramma\n",
    "                        gaussian_curve = gaussian_curve * len(numeric_data) * (max(numeric_data) - min(numeric_data)) / len(order)\n",
    "                        \n",
    "                        fig.add_scatter(\n",
    "                            x=x_range, \n",
    "                            y=gaussian_curve,\n",
    "                            mode='lines',\n",
    "                            name='Curva Normale',\n",
    "                            line=dict(color='red', width=3)\n",
    "                        )\n",
    "                    else:\n",
    "                        fig = px.bar(x=labels, y=display_values, title=wrapped_title,\n",
    "                                   text=text_labels,\n",
    "                                   color=labels, color_discrete_sequence=colors)\n",
    "                else:\n",
    "                    fig = px.bar(x=labels, y=display_values, title=wrapped_title, \n",
    "                               text=text_labels,\n",
    "                               color=labels, color_discrete_sequence=colors)\n",
    "            else:\n",
    "                # Default: barre verticali\n",
    "                fig = px.bar(\n",
    "                    x=labels, \n",
    "                    y=display_values,\n",
    "                    title=wrapped_title,\n",
    "                    labels={'x': 'Risposta', 'y': y_label},\n",
    "                    text=text_labels,\n",
    "                    color=labels,\n",
    "                    color_discrete_sequence=colors\n",
    "                )\n",
    "            \n",
    "            # Styling avanzato con margine superiore dinamico per titoli lunghi\n",
    "            title_lines = wrapped_title.count('<br>') + 1\n",
    "            top_margin = 100 + (title_lines - 1) * 30  # Margine superiore più ampio\n",
    "            \n",
    "            # Calcola margine sinistro dinamico per etichette lunghe\n",
    "            max_label_length = max(len(str(label)) for label in labels) if labels else 0\n",
    "            left_margin = max(80, min(200, 80 + max_label_length * 3))  # Margine sinistro adattivo\n",
    "            \n",
    "            # Altezza adattiva basata sul numero di elementi\n",
    "            adaptive_height = max(500, 400 + len(labels) * 20)  # Altezza minima 500px\n",
    "            \n",
    "            fig.update_layout(\n",
    "                xaxis_tickangle=-45,\n",
    "                height=adaptive_height,\n",
    "                margin={\n",
    "                    'l': left_margin, \n",
    "                    'r': 80,  # Margine destro più ampio\n",
    "                    't': top_margin, \n",
    "                    'b': 150  # Margine inferiore più ampio per etichette inclinate\n",
    "                },\n",
    "                plot_bgcolor='rgba(240,240,245,0.8)',\n",
    "                paper_bgcolor='white',\n",
    "                font=dict(size=12),\n",
    "                title_font=dict(size=14, color='#2c3e50'),\n",
    "                showlegend=False,  # Nasconde leggenda per tutti i grafici tranne torte\n",
    "                xaxis=dict(\n",
    "                    title_font=dict(size=12, color='#34495e'),\n",
    "                    tickfont=dict(size=10, color='#2c3e50'),\n",
    "                    gridcolor='rgba(200,200,200,0.3)',\n",
    "                    automargin=True  # Margine automatico per evitare tagli\n",
    "                ) if chart_type != 'pie' else {},\n",
    "                yaxis=dict(\n",
    "                    title_font=dict(size=12, color='#34495e'),\n",
    "                    tickfont=dict(size=10, color='#2c3e50'),\n",
    "                    gridcolor='rgba(200,200,200,0.3)',\n",
    "                    automargin=True  # Margine automatico per evitare tagli\n",
    "                ) if chart_type != 'pie' else {}\n",
    "            )\n",
    "            \n",
    "            # Per grafici a torta, mostra la leggenda se ci sono molte categorie\n",
    "            if chart_type == 'pie':\n",
    "                fig.update_layout(showlegend=(len(labels) > 4))\n",
    "            \n",
    "            # Aggiunge dettagli alle barre (eccetto torta)\n",
    "            if chart_type != 'pie':\n",
    "                fig.update_traces(\n",
    "                    marker_line_color='white',\n",
    "                    marker_line_width=2,\n",
    "                    opacity=0.85,\n",
    "                    texttemplate='%{text}',  # Usa il testo personalizzato\n",
    "                    textposition='outside',\n",
    "                    textfont_size=11,\n",
    "                    textfont_color='#2c3e50',\n",
    "                    hovertemplate='<b>%{x}</b><br>%{text}<br><extra></extra>'  # Tooltip pulito\n",
    "                )\n",
    "            else:\n",
    "                # Per grafici a torta, personalizza il tooltip\n",
    "                fig.update_traces(\n",
    "                    hovertemplate='<b>%{label}</b><br>%{value} (%{percent})<extra></extra>'\n",
    "                )\n",
    "            \n",
    "            fig.show()\n",
    "        \n",
    "        print(\"-\" * 50)\n",
    "    \n",
    "    print(\"=\" * 80)\n",
    "\n",
    "# Funzioni di supporto per diversi tipi di analisi\n",
    "def analyze_bar(group_key, percentages=True, include_na=False):\n",
    "    \"\"\"Analisi con grafici a barre verticali\"\"\"\n",
    "    return analyze_question_group(group_key, 'bar', percentages, include_na)\n",
    "\n",
    "def analyze_bar_h(group_key, percentages=True, include_na=False):\n",
    "    \"\"\"Analisi con grafici a barre orizzontali\"\"\"\n",
    "    return analyze_question_group(group_key, 'bar_h', percentages, include_na)\n",
    "\n",
    "def analyze_pie(group_key, include_na=False):\n",
    "    \"\"\"Analisi con grafici a torta\"\"\"\n",
    "    return analyze_question_group(group_key, 'pie', True, include_na)\n",
    "\n",
    "def analyze_likert(group_key, percentages=True, include_na=False):\n",
    "    \"\"\"Analisi con grafici Likert ordinati\"\"\"\n",
    "    return analyze_question_group(group_key, 'likert_bar', percentages, include_na)\n",
    "\n",
    "def analyze_histogram(group_key, include_na=False):\n",
    "    \"\"\"Analisi con istogramma (per dati Likert numerici)\"\"\"\n",
    "    return analyze_question_group(group_key, 'histogram', True, include_na)\n",
    "\n",
    "def analyze_gaussian(group_key, include_na=False):\n",
    "    \"\"\"Analisi con curva gaussiana sovrapposta\"\"\"\n",
    "    return analyze_question_group(group_key, 'gaussian', True, include_na)\n",
    "\n",
    "# 🎯 Funzioni di analisi pronte!\n",
    "print(\"🎯 Funzioni di analisi pronte!\")\n",
    "print()\n",
    "print(\"📊 Uso completo:\")\n",
    "print(\"   analyze_question_group('2.4', 'bar', True, False)\")\n",
    "print(\"   → ('domanda', 'tipo_grafico', percentuali?, includi_NA?)\")\n",
    "print()\n",
    "print(\"📈 Tipi di grafico:\")\n",
    "print(\"   'bar'         → Barre verticali\")\n",
    "print(\"   'bar_h'       → Barre orizzontali\") \n",
    "print(\"   'pie'         → Grafici a torta\")\n",
    "print(\"   'likert_bar'  → Barre Likert ordinate\")\n",
    "print(\"   'histogram'   → Istogramma\") \n",
    "print(\"   'gaussian'    → Curva gaussiana\")\n",
    "print()\n",
    "print(\"🚀 Funzioni rapide:\")\n",
    "print(\"   analyze_bar('2.4')        # Barre verticali %\")\n",
    "print(\"   analyze_bar_h('2.4')      # Barre orizzontali %\") \n",
    "print(\"   analyze_pie('2.4')        # Torte\")\n",
    "print(\"   analyze_likert('2.4')     # Likert %\")\n",
    "print(\"   analyze_histogram('2.4')  # Istogramma\")\n",
    "print(\"   analyze_gaussian('2.4')   # Curva normale\")\n",
    "print()\n",
    "print(\"💡 Per numeri assoluti: analyze_bar('2.4', percentages=False)\")\n",
    "print()\n",
    "print(f\"📋 Gruppi disponibili: {sorted(question_groups.keys())[:10]}...\")"
   ]
  },
  {
   "cell_type": "code",
   "execution_count": 59,
   "id": "f4555361",
   "metadata": {},
   "outputs": [
    {
     "name": "stdout",
     "output_type": "stream",
     "text": [
      "🎯 ANALISI DOMANDA: 1.1\n",
      "📝 Descrizione: Ruolo\n",
      "📊 Tipo grafico: bar\n",
      "📈 Valori: Percentuali\n",
      "🔢 Includi NA: False\n",
      "💡 📊 Barre verticali - Ideale per confrontare categorie, facile da leggere\n",
      "\n",
      "🔢 Numero di sotto-domande: 2\n",
      "================================================================================\n",
      "📊 Sotto-domanda 1:\n",
      "    1.1 Ruolo:\n",
      "   📈 Statistiche:\n",
      "      • Risposte totali: 169\n",
      "   📊 Distribuzione:\n",
      "      • docente orientatore: 120 (71.0%)\n",
      "      • docente tutor: 24 (14.2%)\n",
      "      • Altro: 14 (8.3%)\n",
      "      • dirigente scolastico: 11 (6.5%)\n"
     ]
    },
    {
     "data": {
      "application/vnd.plotly.v1+json": {
       "config": {
        "plotlyServerURL": "https://plot.ly"
       },
       "data": [
        {
         "hovertemplate": "<b>%{x}</b><br>%{text}<br><extra></extra>",
         "legendgroup": "docente orientatore",
         "marker": {
          "color": "#FF6B6B",
          "line": {
           "color": "white",
           "width": 2
          },
          "pattern": {
           "shape": ""
          }
         },
         "name": "docente orientatore",
         "opacity": 0.85,
         "orientation": "v",
         "showlegend": true,
         "text": [
          "120 (71.0%)"
         ],
         "textfont": {
          "color": "#2c3e50",
          "size": 11
         },
         "textposition": "outside",
         "texttemplate": "%{text}",
         "type": "bar",
         "x": [
          "docente orientatore"
         ],
         "xaxis": "x",
         "y": {
          "bdata": "AAAAAADAUUA=",
          "dtype": "f8"
         },
         "yaxis": "y"
        },
        {
         "hovertemplate": "<b>%{x}</b><br>%{text}<br><extra></extra>",
         "legendgroup": "dirigente scolastico",
         "marker": {
          "color": "#4ECDC4",
          "line": {
           "color": "white",
           "width": 2
          },
          "pattern": {
           "shape": ""
          }
         },
         "name": "dirigente scolastico",
         "opacity": 0.85,
         "orientation": "v",
         "showlegend": true,
         "text": [
          "11 (6.5%)"
         ],
         "textfont": {
          "color": "#2c3e50",
          "size": 11
         },
         "textposition": "outside",
         "texttemplate": "%{text}",
         "type": "bar",
         "x": [
          "dirigente scolastico"
         ],
         "xaxis": "x",
         "y": {
          "bdata": "AAAAAAAAGkA=",
          "dtype": "f8"
         },
         "yaxis": "y"
        },
        {
         "hovertemplate": "<b>%{x}</b><br>%{text}<br><extra></extra>",
         "legendgroup": "docente tutor",
         "marker": {
          "color": "#45B7D1",
          "line": {
           "color": "white",
           "width": 2
          },
          "pattern": {
           "shape": ""
          }
         },
         "name": "docente tutor",
         "opacity": 0.85,
         "orientation": "v",
         "showlegend": true,
         "text": [
          "24 (14.2%)"
         ],
         "textfont": {
          "color": "#2c3e50",
          "size": 11
         },
         "textposition": "outside",
         "texttemplate": "%{text}",
         "type": "bar",
         "x": [
          "docente tutor"
         ],
         "xaxis": "x",
         "y": {
          "bdata": "ZmZmZmZmLEA=",
          "dtype": "f8"
         },
         "yaxis": "y"
        },
        {
         "hovertemplate": "<b>%{x}</b><br>%{text}<br><extra></extra>",
         "legendgroup": "Altro",
         "marker": {
          "color": "#96CEB4",
          "line": {
           "color": "white",
           "width": 2
          },
          "pattern": {
           "shape": ""
          }
         },
         "name": "Altro",
         "opacity": 0.85,
         "orientation": "v",
         "showlegend": true,
         "text": [
          "14 (8.3%)"
         ],
         "textfont": {
          "color": "#2c3e50",
          "size": 11
         },
         "textposition": "outside",
         "texttemplate": "%{text}",
         "type": "bar",
         "x": [
          "Altro"
         ],
         "xaxis": "x",
         "y": {
          "bdata": "mpmZmZmZIEA=",
          "dtype": "f8"
         },
         "yaxis": "y"
        }
       ],
       "layout": {
        "barmode": "relative",
        "font": {
         "size": 12
        },
        "height": 500,
        "legend": {
         "title": {
          "text": "color"
         },
         "tracegroupgap": 0
        },
        "margin": {
         "b": 150,
         "l": 140,
         "r": 80,
         "t": 100
        },
        "paper_bgcolor": "white",
        "plot_bgcolor": "rgba(240,240,245,0.8)",
        "showlegend": false,
        "template": {
         "data": {
          "bar": [
           {
            "error_x": {
             "color": "#2a3f5f"
            },
            "error_y": {
             "color": "#2a3f5f"
            },
            "marker": {
             "line": {
              "color": "white",
              "width": 0.5
             },
             "pattern": {
              "fillmode": "overlay",
              "size": 10,
              "solidity": 0.2
             }
            },
            "type": "bar"
           }
          ],
          "barpolar": [
           {
            "marker": {
             "line": {
              "color": "white",
              "width": 0.5
             },
             "pattern": {
              "fillmode": "overlay",
              "size": 10,
              "solidity": 0.2
             }
            },
            "type": "barpolar"
           }
          ],
          "carpet": [
           {
            "aaxis": {
             "endlinecolor": "#2a3f5f",
             "gridcolor": "#C8D4E3",
             "linecolor": "#C8D4E3",
             "minorgridcolor": "#C8D4E3",
             "startlinecolor": "#2a3f5f"
            },
            "baxis": {
             "endlinecolor": "#2a3f5f",
             "gridcolor": "#C8D4E3",
             "linecolor": "#C8D4E3",
             "minorgridcolor": "#C8D4E3",
             "startlinecolor": "#2a3f5f"
            },
            "type": "carpet"
           }
          ],
          "choropleth": [
           {
            "colorbar": {
             "outlinewidth": 0,
             "ticks": ""
            },
            "type": "choropleth"
           }
          ],
          "contour": [
           {
            "colorbar": {
             "outlinewidth": 0,
             "ticks": ""
            },
            "colorscale": [
             [
              0,
              "#0d0887"
             ],
             [
              0.1111111111111111,
              "#46039f"
             ],
             [
              0.2222222222222222,
              "#7201a8"
             ],
             [
              0.3333333333333333,
              "#9c179e"
             ],
             [
              0.4444444444444444,
              "#bd3786"
             ],
             [
              0.5555555555555556,
              "#d8576b"
             ],
             [
              0.6666666666666666,
              "#ed7953"
             ],
             [
              0.7777777777777778,
              "#fb9f3a"
             ],
             [
              0.8888888888888888,
              "#fdca26"
             ],
             [
              1,
              "#f0f921"
             ]
            ],
            "type": "contour"
           }
          ],
          "contourcarpet": [
           {
            "colorbar": {
             "outlinewidth": 0,
             "ticks": ""
            },
            "type": "contourcarpet"
           }
          ],
          "heatmap": [
           {
            "colorbar": {
             "outlinewidth": 0,
             "ticks": ""
            },
            "colorscale": [
             [
              0,
              "#0d0887"
             ],
             [
              0.1111111111111111,
              "#46039f"
             ],
             [
              0.2222222222222222,
              "#7201a8"
             ],
             [
              0.3333333333333333,
              "#9c179e"
             ],
             [
              0.4444444444444444,
              "#bd3786"
             ],
             [
              0.5555555555555556,
              "#d8576b"
             ],
             [
              0.6666666666666666,
              "#ed7953"
             ],
             [
              0.7777777777777778,
              "#fb9f3a"
             ],
             [
              0.8888888888888888,
              "#fdca26"
             ],
             [
              1,
              "#f0f921"
             ]
            ],
            "type": "heatmap"
           }
          ],
          "histogram": [
           {
            "marker": {
             "pattern": {
              "fillmode": "overlay",
              "size": 10,
              "solidity": 0.2
             }
            },
            "type": "histogram"
           }
          ],
          "histogram2d": [
           {
            "colorbar": {
             "outlinewidth": 0,
             "ticks": ""
            },
            "colorscale": [
             [
              0,
              "#0d0887"
             ],
             [
              0.1111111111111111,
              "#46039f"
             ],
             [
              0.2222222222222222,
              "#7201a8"
             ],
             [
              0.3333333333333333,
              "#9c179e"
             ],
             [
              0.4444444444444444,
              "#bd3786"
             ],
             [
              0.5555555555555556,
              "#d8576b"
             ],
             [
              0.6666666666666666,
              "#ed7953"
             ],
             [
              0.7777777777777778,
              "#fb9f3a"
             ],
             [
              0.8888888888888888,
              "#fdca26"
             ],
             [
              1,
              "#f0f921"
             ]
            ],
            "type": "histogram2d"
           }
          ],
          "histogram2dcontour": [
           {
            "colorbar": {
             "outlinewidth": 0,
             "ticks": ""
            },
            "colorscale": [
             [
              0,
              "#0d0887"
             ],
             [
              0.1111111111111111,
              "#46039f"
             ],
             [
              0.2222222222222222,
              "#7201a8"
             ],
             [
              0.3333333333333333,
              "#9c179e"
             ],
             [
              0.4444444444444444,
              "#bd3786"
             ],
             [
              0.5555555555555556,
              "#d8576b"
             ],
             [
              0.6666666666666666,
              "#ed7953"
             ],
             [
              0.7777777777777778,
              "#fb9f3a"
             ],
             [
              0.8888888888888888,
              "#fdca26"
             ],
             [
              1,
              "#f0f921"
             ]
            ],
            "type": "histogram2dcontour"
           }
          ],
          "mesh3d": [
           {
            "colorbar": {
             "outlinewidth": 0,
             "ticks": ""
            },
            "type": "mesh3d"
           }
          ],
          "parcoords": [
           {
            "line": {
             "colorbar": {
              "outlinewidth": 0,
              "ticks": ""
             }
            },
            "type": "parcoords"
           }
          ],
          "pie": [
           {
            "automargin": true,
            "type": "pie"
           }
          ],
          "scatter": [
           {
            "fillpattern": {
             "fillmode": "overlay",
             "size": 10,
             "solidity": 0.2
            },
            "type": "scatter"
           }
          ],
          "scatter3d": [
           {
            "line": {
             "colorbar": {
              "outlinewidth": 0,
              "ticks": ""
             }
            },
            "marker": {
             "colorbar": {
              "outlinewidth": 0,
              "ticks": ""
             }
            },
            "type": "scatter3d"
           }
          ],
          "scattercarpet": [
           {
            "marker": {
             "colorbar": {
              "outlinewidth": 0,
              "ticks": ""
             }
            },
            "type": "scattercarpet"
           }
          ],
          "scattergeo": [
           {
            "marker": {
             "colorbar": {
              "outlinewidth": 0,
              "ticks": ""
             }
            },
            "type": "scattergeo"
           }
          ],
          "scattergl": [
           {
            "marker": {
             "colorbar": {
              "outlinewidth": 0,
              "ticks": ""
             }
            },
            "type": "scattergl"
           }
          ],
          "scattermap": [
           {
            "marker": {
             "colorbar": {
              "outlinewidth": 0,
              "ticks": ""
             }
            },
            "type": "scattermap"
           }
          ],
          "scattermapbox": [
           {
            "marker": {
             "colorbar": {
              "outlinewidth": 0,
              "ticks": ""
             }
            },
            "type": "scattermapbox"
           }
          ],
          "scatterpolar": [
           {
            "marker": {
             "colorbar": {
              "outlinewidth": 0,
              "ticks": ""
             }
            },
            "type": "scatterpolar"
           }
          ],
          "scatterpolargl": [
           {
            "marker": {
             "colorbar": {
              "outlinewidth": 0,
              "ticks": ""
             }
            },
            "type": "scatterpolargl"
           }
          ],
          "scatterternary": [
           {
            "marker": {
             "colorbar": {
              "outlinewidth": 0,
              "ticks": ""
             }
            },
            "type": "scatterternary"
           }
          ],
          "surface": [
           {
            "colorbar": {
             "outlinewidth": 0,
             "ticks": ""
            },
            "colorscale": [
             [
              0,
              "#0d0887"
             ],
             [
              0.1111111111111111,
              "#46039f"
             ],
             [
              0.2222222222222222,
              "#7201a8"
             ],
             [
              0.3333333333333333,
              "#9c179e"
             ],
             [
              0.4444444444444444,
              "#bd3786"
             ],
             [
              0.5555555555555556,
              "#d8576b"
             ],
             [
              0.6666666666666666,
              "#ed7953"
             ],
             [
              0.7777777777777778,
              "#fb9f3a"
             ],
             [
              0.8888888888888888,
              "#fdca26"
             ],
             [
              1,
              "#f0f921"
             ]
            ],
            "type": "surface"
           }
          ],
          "table": [
           {
            "cells": {
             "fill": {
              "color": "#EBF0F8"
             },
             "line": {
              "color": "white"
             }
            },
            "header": {
             "fill": {
              "color": "#C8D4E3"
             },
             "line": {
              "color": "white"
             }
            },
            "type": "table"
           }
          ]
         },
         "layout": {
          "annotationdefaults": {
           "arrowcolor": "#2a3f5f",
           "arrowhead": 0,
           "arrowwidth": 1
          },
          "autotypenumbers": "strict",
          "coloraxis": {
           "colorbar": {
            "outlinewidth": 0,
            "ticks": ""
           }
          },
          "colorscale": {
           "diverging": [
            [
             0,
             "#8e0152"
            ],
            [
             0.1,
             "#c51b7d"
            ],
            [
             0.2,
             "#de77ae"
            ],
            [
             0.3,
             "#f1b6da"
            ],
            [
             0.4,
             "#fde0ef"
            ],
            [
             0.5,
             "#f7f7f7"
            ],
            [
             0.6,
             "#e6f5d0"
            ],
            [
             0.7,
             "#b8e186"
            ],
            [
             0.8,
             "#7fbc41"
            ],
            [
             0.9,
             "#4d9221"
            ],
            [
             1,
             "#276419"
            ]
           ],
           "sequential": [
            [
             0,
             "#0d0887"
            ],
            [
             0.1111111111111111,
             "#46039f"
            ],
            [
             0.2222222222222222,
             "#7201a8"
            ],
            [
             0.3333333333333333,
             "#9c179e"
            ],
            [
             0.4444444444444444,
             "#bd3786"
            ],
            [
             0.5555555555555556,
             "#d8576b"
            ],
            [
             0.6666666666666666,
             "#ed7953"
            ],
            [
             0.7777777777777778,
             "#fb9f3a"
            ],
            [
             0.8888888888888888,
             "#fdca26"
            ],
            [
             1,
             "#f0f921"
            ]
           ],
           "sequentialminus": [
            [
             0,
             "#0d0887"
            ],
            [
             0.1111111111111111,
             "#46039f"
            ],
            [
             0.2222222222222222,
             "#7201a8"
            ],
            [
             0.3333333333333333,
             "#9c179e"
            ],
            [
             0.4444444444444444,
             "#bd3786"
            ],
            [
             0.5555555555555556,
             "#d8576b"
            ],
            [
             0.6666666666666666,
             "#ed7953"
            ],
            [
             0.7777777777777778,
             "#fb9f3a"
            ],
            [
             0.8888888888888888,
             "#fdca26"
            ],
            [
             1,
             "#f0f921"
            ]
           ]
          },
          "colorway": [
           "#636efa",
           "#EF553B",
           "#00cc96",
           "#ab63fa",
           "#FFA15A",
           "#19d3f3",
           "#FF6692",
           "#B6E880",
           "#FF97FF",
           "#FECB52"
          ],
          "font": {
           "color": "#2a3f5f"
          },
          "geo": {
           "bgcolor": "white",
           "lakecolor": "white",
           "landcolor": "white",
           "showlakes": true,
           "showland": true,
           "subunitcolor": "#C8D4E3"
          },
          "hoverlabel": {
           "align": "left"
          },
          "hovermode": "closest",
          "mapbox": {
           "style": "light"
          },
          "paper_bgcolor": "white",
          "plot_bgcolor": "white",
          "polar": {
           "angularaxis": {
            "gridcolor": "#EBF0F8",
            "linecolor": "#EBF0F8",
            "ticks": ""
           },
           "bgcolor": "white",
           "radialaxis": {
            "gridcolor": "#EBF0F8",
            "linecolor": "#EBF0F8",
            "ticks": ""
           }
          },
          "scene": {
           "xaxis": {
            "backgroundcolor": "white",
            "gridcolor": "#DFE8F3",
            "gridwidth": 2,
            "linecolor": "#EBF0F8",
            "showbackground": true,
            "ticks": "",
            "zerolinecolor": "#EBF0F8"
           },
           "yaxis": {
            "backgroundcolor": "white",
            "gridcolor": "#DFE8F3",
            "gridwidth": 2,
            "linecolor": "#EBF0F8",
            "showbackground": true,
            "ticks": "",
            "zerolinecolor": "#EBF0F8"
           },
           "zaxis": {
            "backgroundcolor": "white",
            "gridcolor": "#DFE8F3",
            "gridwidth": 2,
            "linecolor": "#EBF0F8",
            "showbackground": true,
            "ticks": "",
            "zerolinecolor": "#EBF0F8"
           }
          },
          "shapedefaults": {
           "line": {
            "color": "#2a3f5f"
           }
          },
          "ternary": {
           "aaxis": {
            "gridcolor": "#DFE8F3",
            "linecolor": "#A2B1C6",
            "ticks": ""
           },
           "baxis": {
            "gridcolor": "#DFE8F3",
            "linecolor": "#A2B1C6",
            "ticks": ""
           },
           "bgcolor": "white",
           "caxis": {
            "gridcolor": "#DFE8F3",
            "linecolor": "#A2B1C6",
            "ticks": ""
           }
          },
          "title": {
           "x": 0.05
          },
          "xaxis": {
           "automargin": true,
           "gridcolor": "#EBF0F8",
           "linecolor": "#EBF0F8",
           "ticks": "",
           "title": {
            "standoff": 15
           },
           "zerolinecolor": "#EBF0F8",
           "zerolinewidth": 2
          },
          "yaxis": {
           "automargin": true,
           "gridcolor": "#EBF0F8",
           "linecolor": "#EBF0F8",
           "ticks": "",
           "title": {
            "standoff": 15
           },
           "zerolinecolor": "#EBF0F8",
           "zerolinewidth": 2
          }
         }
        },
        "title": {
         "font": {
          "color": "#2c3e50",
          "size": 14
         },
         "text": "1.1 Ruolo:"
        },
        "xaxis": {
         "anchor": "y",
         "automargin": true,
         "domain": [
          0,
          1
         ],
         "gridcolor": "rgba(200,200,200,0.3)",
         "tickangle": -45,
         "tickfont": {
          "color": "#2c3e50",
          "size": 10
         },
         "title": {
          "font": {
           "color": "#34495e",
           "size": 12
          },
          "text": "Risposta"
         }
        },
        "yaxis": {
         "anchor": "x",
         "automargin": true,
         "domain": [
          0,
          1
         ],
         "gridcolor": "rgba(200,200,200,0.3)",
         "tickfont": {
          "color": "#2c3e50",
          "size": 10
         },
         "title": {
          "font": {
           "color": "#34495e",
           "size": 12
          },
          "text": "Percentuale (%)"
         }
        }
       }
      }
     },
     "metadata": {},
     "output_type": "display_data"
    },
    {
     "name": "stdout",
     "output_type": "stream",
     "text": [
      "--------------------------------------------------\n",
      "📊 Sotto-domanda 2:\n",
      "    1.1 Ruolo: [Altro]\n",
      "   📈 Statistiche:\n",
      "      • Risposte totali: 14\n",
      "      • Valori mancanti: 155\n",
      "   📊 Distribuzione:\n",
      "      • Funzione strumentale orientamento: 1 (7.1%)\n",
      "      • Referente Invalsi e RAV: 1 (7.1%)\n",
      "      • Funzione strumentale Orientamento: 1 (7.1%)\n",
      "      • gestore scuola: 1 (7.1%)\n",
      "      • figura strumentale orientamento : 1 (7.1%)\n",
      "      • Responsabile orientamento indirizzo turistico: 1 (7.1%)\n",
      "      • Coordinatrice didattica e docente orientatore: 1 (7.1%)\n",
      "      • Referente orientamento in uscita: 1 (7.1%)\n",
      "      • Vice dirigente : 1 (7.1%)\n",
      "      • Funzione strumentale per l’orientamento in ingresso: 1 (7.1%)\n",
      "      • Docente : 1 (7.1%)\n",
      "      • Referente per l'Orientamento in Uscita: 1 (7.1%)\n",
      "      • Tutor ed orientatore in uscita: 1 (7.1%)\n",
      "      • F.S. Referente per l'Orientamento: 1 (7.1%)\n"
     ]
    },
    {
     "data": {
      "application/vnd.plotly.v1+json": {
       "config": {
        "plotlyServerURL": "https://plot.ly"
       },
       "data": [
        {
         "hovertemplate": "<b>%{x}</b><br>%{text}<br><extra></extra>",
         "legendgroup": "Funzione strumentale orientamento",
         "marker": {
          "color": "#FF6B6B",
          "line": {
           "color": "white",
           "width": 2
          },
          "pattern": {
           "shape": ""
          }
         },
         "name": "Funzione strumentale orientamento",
         "opacity": 0.85,
         "orientation": "v",
         "showlegend": true,
         "text": [
          "1 (7.1%)"
         ],
         "textfont": {
          "color": "#2c3e50",
          "size": 11
         },
         "textposition": "outside",
         "texttemplate": "%{text}",
         "type": "bar",
         "x": [
          "Funzione strumentale orientamento"
         ],
         "xaxis": "x",
         "y": {
          "bdata": "ZmZmZmZmHEA=",
          "dtype": "f8"
         },
         "yaxis": "y"
        },
        {
         "hovertemplate": "<b>%{x}</b><br>%{text}<br><extra></extra>",
         "legendgroup": "Referente Invalsi e RAV",
         "marker": {
          "color": "#4ECDC4",
          "line": {
           "color": "white",
           "width": 2
          },
          "pattern": {
           "shape": ""
          }
         },
         "name": "Referente Invalsi e RAV",
         "opacity": 0.85,
         "orientation": "v",
         "showlegend": true,
         "text": [
          "1 (7.1%)"
         ],
         "textfont": {
          "color": "#2c3e50",
          "size": 11
         },
         "textposition": "outside",
         "texttemplate": "%{text}",
         "type": "bar",
         "x": [
          "Referente Invalsi e RAV"
         ],
         "xaxis": "x",
         "y": {
          "bdata": "ZmZmZmZmHEA=",
          "dtype": "f8"
         },
         "yaxis": "y"
        },
        {
         "hovertemplate": "<b>%{x}</b><br>%{text}<br><extra></extra>",
         "legendgroup": "Funzione strumentale Orientamento",
         "marker": {
          "color": "#45B7D1",
          "line": {
           "color": "white",
           "width": 2
          },
          "pattern": {
           "shape": ""
          }
         },
         "name": "Funzione strumentale Orientamento",
         "opacity": 0.85,
         "orientation": "v",
         "showlegend": true,
         "text": [
          "1 (7.1%)"
         ],
         "textfont": {
          "color": "#2c3e50",
          "size": 11
         },
         "textposition": "outside",
         "texttemplate": "%{text}",
         "type": "bar",
         "x": [
          "Funzione strumentale Orientamento"
         ],
         "xaxis": "x",
         "y": {
          "bdata": "ZmZmZmZmHEA=",
          "dtype": "f8"
         },
         "yaxis": "y"
        },
        {
         "hovertemplate": "<b>%{x}</b><br>%{text}<br><extra></extra>",
         "legendgroup": "gestore scuola",
         "marker": {
          "color": "#96CEB4",
          "line": {
           "color": "white",
           "width": 2
          },
          "pattern": {
           "shape": ""
          }
         },
         "name": "gestore scuola",
         "opacity": 0.85,
         "orientation": "v",
         "showlegend": true,
         "text": [
          "1 (7.1%)"
         ],
         "textfont": {
          "color": "#2c3e50",
          "size": 11
         },
         "textposition": "outside",
         "texttemplate": "%{text}",
         "type": "bar",
         "x": [
          "gestore scuola"
         ],
         "xaxis": "x",
         "y": {
          "bdata": "ZmZmZmZmHEA=",
          "dtype": "f8"
         },
         "yaxis": "y"
        },
        {
         "hovertemplate": "<b>%{x}</b><br>%{text}<br><extra></extra>",
         "legendgroup": "figura strumentale orientamento ",
         "marker": {
          "color": "#FECA57",
          "line": {
           "color": "white",
           "width": 2
          },
          "pattern": {
           "shape": ""
          }
         },
         "name": "figura strumentale orientamento ",
         "opacity": 0.85,
         "orientation": "v",
         "showlegend": true,
         "text": [
          "1 (7.1%)"
         ],
         "textfont": {
          "color": "#2c3e50",
          "size": 11
         },
         "textposition": "outside",
         "texttemplate": "%{text}",
         "type": "bar",
         "x": [
          "figura strumentale orientamento "
         ],
         "xaxis": "x",
         "y": {
          "bdata": "ZmZmZmZmHEA=",
          "dtype": "f8"
         },
         "yaxis": "y"
        },
        {
         "hovertemplate": "<b>%{x}</b><br>%{text}<br><extra></extra>",
         "legendgroup": "Responsabile orientamento indirizzo turistico",
         "marker": {
          "color": "#FF9FF3",
          "line": {
           "color": "white",
           "width": 2
          },
          "pattern": {
           "shape": ""
          }
         },
         "name": "Responsabile orientamento indirizzo turistico",
         "opacity": 0.85,
         "orientation": "v",
         "showlegend": true,
         "text": [
          "1 (7.1%)"
         ],
         "textfont": {
          "color": "#2c3e50",
          "size": 11
         },
         "textposition": "outside",
         "texttemplate": "%{text}",
         "type": "bar",
         "x": [
          "Responsabile orientamento indirizzo turistico"
         ],
         "xaxis": "x",
         "y": {
          "bdata": "ZmZmZmZmHEA=",
          "dtype": "f8"
         },
         "yaxis": "y"
        },
        {
         "hovertemplate": "<b>%{x}</b><br>%{text}<br><extra></extra>",
         "legendgroup": "Coordinatrice didattica e docente orientatore",
         "marker": {
          "color": "#54A0FF",
          "line": {
           "color": "white",
           "width": 2
          },
          "pattern": {
           "shape": ""
          }
         },
         "name": "Coordinatrice didattica e docente orientatore",
         "opacity": 0.85,
         "orientation": "v",
         "showlegend": true,
         "text": [
          "1 (7.1%)"
         ],
         "textfont": {
          "color": "#2c3e50",
          "size": 11
         },
         "textposition": "outside",
         "texttemplate": "%{text}",
         "type": "bar",
         "x": [
          "Coordinatrice didattica e docente orientatore"
         ],
         "xaxis": "x",
         "y": {
          "bdata": "ZmZmZmZmHEA=",
          "dtype": "f8"
         },
         "yaxis": "y"
        },
        {
         "hovertemplate": "<b>%{x}</b><br>%{text}<br><extra></extra>",
         "legendgroup": "Referente orientamento in uscita",
         "marker": {
          "color": "#5F27CD",
          "line": {
           "color": "white",
           "width": 2
          },
          "pattern": {
           "shape": ""
          }
         },
         "name": "Referente orientamento in uscita",
         "opacity": 0.85,
         "orientation": "v",
         "showlegend": true,
         "text": [
          "1 (7.1%)"
         ],
         "textfont": {
          "color": "#2c3e50",
          "size": 11
         },
         "textposition": "outside",
         "texttemplate": "%{text}",
         "type": "bar",
         "x": [
          "Referente orientamento in uscita"
         ],
         "xaxis": "x",
         "y": {
          "bdata": "ZmZmZmZmHEA=",
          "dtype": "f8"
         },
         "yaxis": "y"
        },
        {
         "hovertemplate": "<b>%{x}</b><br>%{text}<br><extra></extra>",
         "legendgroup": "Vice dirigente ",
         "marker": {
          "color": "#00D2D3",
          "line": {
           "color": "white",
           "width": 2
          },
          "pattern": {
           "shape": ""
          }
         },
         "name": "Vice dirigente ",
         "opacity": 0.85,
         "orientation": "v",
         "showlegend": true,
         "text": [
          "1 (7.1%)"
         ],
         "textfont": {
          "color": "#2c3e50",
          "size": 11
         },
         "textposition": "outside",
         "texttemplate": "%{text}",
         "type": "bar",
         "x": [
          "Vice dirigente "
         ],
         "xaxis": "x",
         "y": {
          "bdata": "ZmZmZmZmHEA=",
          "dtype": "f8"
         },
         "yaxis": "y"
        },
        {
         "hovertemplate": "<b>%{x}</b><br>%{text}<br><extra></extra>",
         "legendgroup": "Funzione strumentale per l’orientamento in ingresso",
         "marker": {
          "color": "#FF9F43",
          "line": {
           "color": "white",
           "width": 2
          },
          "pattern": {
           "shape": ""
          }
         },
         "name": "Funzione strumentale per l’orientamento in ingresso",
         "opacity": 0.85,
         "orientation": "v",
         "showlegend": true,
         "text": [
          "1 (7.1%)"
         ],
         "textfont": {
          "color": "#2c3e50",
          "size": 11
         },
         "textposition": "outside",
         "texttemplate": "%{text}",
         "type": "bar",
         "x": [
          "Funzione strumentale per l’orientamento in ingresso"
         ],
         "xaxis": "x",
         "y": {
          "bdata": "ZmZmZmZmHEA=",
          "dtype": "f8"
         },
         "yaxis": "y"
        },
        {
         "hovertemplate": "<b>%{x}</b><br>%{text}<br><extra></extra>",
         "legendgroup": "Docente ",
         "marker": {
          "color": "#6C5CE7",
          "line": {
           "color": "white",
           "width": 2
          },
          "pattern": {
           "shape": ""
          }
         },
         "name": "Docente ",
         "opacity": 0.85,
         "orientation": "v",
         "showlegend": true,
         "text": [
          "1 (7.1%)"
         ],
         "textfont": {
          "color": "#2c3e50",
          "size": 11
         },
         "textposition": "outside",
         "texttemplate": "%{text}",
         "type": "bar",
         "x": [
          "Docente "
         ],
         "xaxis": "x",
         "y": {
          "bdata": "ZmZmZmZmHEA=",
          "dtype": "f8"
         },
         "yaxis": "y"
        },
        {
         "hovertemplate": "<b>%{x}</b><br>%{text}<br><extra></extra>",
         "legendgroup": "Referente per l'Orientamento in Uscita",
         "marker": {
          "color": "#A29BFE",
          "line": {
           "color": "white",
           "width": 2
          },
          "pattern": {
           "shape": ""
          }
         },
         "name": "Referente per l'Orientamento in Uscita",
         "opacity": 0.85,
         "orientation": "v",
         "showlegend": true,
         "text": [
          "1 (7.1%)"
         ],
         "textfont": {
          "color": "#2c3e50",
          "size": 11
         },
         "textposition": "outside",
         "texttemplate": "%{text}",
         "type": "bar",
         "x": [
          "Referente per l'Orientamento in Uscita"
         ],
         "xaxis": "x",
         "y": {
          "bdata": "ZmZmZmZmHEA=",
          "dtype": "f8"
         },
         "yaxis": "y"
        },
        {
         "hovertemplate": "<b>%{x}</b><br>%{text}<br><extra></extra>",
         "legendgroup": "Tutor ed orientatore in uscita",
         "marker": {
          "color": "#FD79A8",
          "line": {
           "color": "white",
           "width": 2
          },
          "pattern": {
           "shape": ""
          }
         },
         "name": "Tutor ed orientatore in uscita",
         "opacity": 0.85,
         "orientation": "v",
         "showlegend": true,
         "text": [
          "1 (7.1%)"
         ],
         "textfont": {
          "color": "#2c3e50",
          "size": 11
         },
         "textposition": "outside",
         "texttemplate": "%{text}",
         "type": "bar",
         "x": [
          "Tutor ed orientatore in uscita"
         ],
         "xaxis": "x",
         "y": {
          "bdata": "ZmZmZmZmHEA=",
          "dtype": "f8"
         },
         "yaxis": "y"
        },
        {
         "hovertemplate": "<b>%{x}</b><br>%{text}<br><extra></extra>",
         "legendgroup": "F.S. Referente per l'Orientamento",
         "marker": {
          "color": "#E17055",
          "line": {
           "color": "white",
           "width": 2
          },
          "pattern": {
           "shape": ""
          }
         },
         "name": "F.S. Referente per l'Orientamento",
         "opacity": 0.85,
         "orientation": "v",
         "showlegend": true,
         "text": [
          "1 (7.1%)"
         ],
         "textfont": {
          "color": "#2c3e50",
          "size": 11
         },
         "textposition": "outside",
         "texttemplate": "%{text}",
         "type": "bar",
         "x": [
          "F.S. Referente per l'Orientamento"
         ],
         "xaxis": "x",
         "y": {
          "bdata": "ZmZmZmZmHEA=",
          "dtype": "f8"
         },
         "yaxis": "y"
        }
       ],
       "layout": {
        "barmode": "relative",
        "font": {
         "size": 12
        },
        "height": 680,
        "legend": {
         "title": {
          "text": "color"
         },
         "tracegroupgap": 0
        },
        "margin": {
         "b": 150,
         "l": 200,
         "r": 80,
         "t": 100
        },
        "paper_bgcolor": "white",
        "plot_bgcolor": "rgba(240,240,245,0.8)",
        "showlegend": false,
        "template": {
         "data": {
          "bar": [
           {
            "error_x": {
             "color": "#2a3f5f"
            },
            "error_y": {
             "color": "#2a3f5f"
            },
            "marker": {
             "line": {
              "color": "white",
              "width": 0.5
             },
             "pattern": {
              "fillmode": "overlay",
              "size": 10,
              "solidity": 0.2
             }
            },
            "type": "bar"
           }
          ],
          "barpolar": [
           {
            "marker": {
             "line": {
              "color": "white",
              "width": 0.5
             },
             "pattern": {
              "fillmode": "overlay",
              "size": 10,
              "solidity": 0.2
             }
            },
            "type": "barpolar"
           }
          ],
          "carpet": [
           {
            "aaxis": {
             "endlinecolor": "#2a3f5f",
             "gridcolor": "#C8D4E3",
             "linecolor": "#C8D4E3",
             "minorgridcolor": "#C8D4E3",
             "startlinecolor": "#2a3f5f"
            },
            "baxis": {
             "endlinecolor": "#2a3f5f",
             "gridcolor": "#C8D4E3",
             "linecolor": "#C8D4E3",
             "minorgridcolor": "#C8D4E3",
             "startlinecolor": "#2a3f5f"
            },
            "type": "carpet"
           }
          ],
          "choropleth": [
           {
            "colorbar": {
             "outlinewidth": 0,
             "ticks": ""
            },
            "type": "choropleth"
           }
          ],
          "contour": [
           {
            "colorbar": {
             "outlinewidth": 0,
             "ticks": ""
            },
            "colorscale": [
             [
              0,
              "#0d0887"
             ],
             [
              0.1111111111111111,
              "#46039f"
             ],
             [
              0.2222222222222222,
              "#7201a8"
             ],
             [
              0.3333333333333333,
              "#9c179e"
             ],
             [
              0.4444444444444444,
              "#bd3786"
             ],
             [
              0.5555555555555556,
              "#d8576b"
             ],
             [
              0.6666666666666666,
              "#ed7953"
             ],
             [
              0.7777777777777778,
              "#fb9f3a"
             ],
             [
              0.8888888888888888,
              "#fdca26"
             ],
             [
              1,
              "#f0f921"
             ]
            ],
            "type": "contour"
           }
          ],
          "contourcarpet": [
           {
            "colorbar": {
             "outlinewidth": 0,
             "ticks": ""
            },
            "type": "contourcarpet"
           }
          ],
          "heatmap": [
           {
            "colorbar": {
             "outlinewidth": 0,
             "ticks": ""
            },
            "colorscale": [
             [
              0,
              "#0d0887"
             ],
             [
              0.1111111111111111,
              "#46039f"
             ],
             [
              0.2222222222222222,
              "#7201a8"
             ],
             [
              0.3333333333333333,
              "#9c179e"
             ],
             [
              0.4444444444444444,
              "#bd3786"
             ],
             [
              0.5555555555555556,
              "#d8576b"
             ],
             [
              0.6666666666666666,
              "#ed7953"
             ],
             [
              0.7777777777777778,
              "#fb9f3a"
             ],
             [
              0.8888888888888888,
              "#fdca26"
             ],
             [
              1,
              "#f0f921"
             ]
            ],
            "type": "heatmap"
           }
          ],
          "histogram": [
           {
            "marker": {
             "pattern": {
              "fillmode": "overlay",
              "size": 10,
              "solidity": 0.2
             }
            },
            "type": "histogram"
           }
          ],
          "histogram2d": [
           {
            "colorbar": {
             "outlinewidth": 0,
             "ticks": ""
            },
            "colorscale": [
             [
              0,
              "#0d0887"
             ],
             [
              0.1111111111111111,
              "#46039f"
             ],
             [
              0.2222222222222222,
              "#7201a8"
             ],
             [
              0.3333333333333333,
              "#9c179e"
             ],
             [
              0.4444444444444444,
              "#bd3786"
             ],
             [
              0.5555555555555556,
              "#d8576b"
             ],
             [
              0.6666666666666666,
              "#ed7953"
             ],
             [
              0.7777777777777778,
              "#fb9f3a"
             ],
             [
              0.8888888888888888,
              "#fdca26"
             ],
             [
              1,
              "#f0f921"
             ]
            ],
            "type": "histogram2d"
           }
          ],
          "histogram2dcontour": [
           {
            "colorbar": {
             "outlinewidth": 0,
             "ticks": ""
            },
            "colorscale": [
             [
              0,
              "#0d0887"
             ],
             [
              0.1111111111111111,
              "#46039f"
             ],
             [
              0.2222222222222222,
              "#7201a8"
             ],
             [
              0.3333333333333333,
              "#9c179e"
             ],
             [
              0.4444444444444444,
              "#bd3786"
             ],
             [
              0.5555555555555556,
              "#d8576b"
             ],
             [
              0.6666666666666666,
              "#ed7953"
             ],
             [
              0.7777777777777778,
              "#fb9f3a"
             ],
             [
              0.8888888888888888,
              "#fdca26"
             ],
             [
              1,
              "#f0f921"
             ]
            ],
            "type": "histogram2dcontour"
           }
          ],
          "mesh3d": [
           {
            "colorbar": {
             "outlinewidth": 0,
             "ticks": ""
            },
            "type": "mesh3d"
           }
          ],
          "parcoords": [
           {
            "line": {
             "colorbar": {
              "outlinewidth": 0,
              "ticks": ""
             }
            },
            "type": "parcoords"
           }
          ],
          "pie": [
           {
            "automargin": true,
            "type": "pie"
           }
          ],
          "scatter": [
           {
            "fillpattern": {
             "fillmode": "overlay",
             "size": 10,
             "solidity": 0.2
            },
            "type": "scatter"
           }
          ],
          "scatter3d": [
           {
            "line": {
             "colorbar": {
              "outlinewidth": 0,
              "ticks": ""
             }
            },
            "marker": {
             "colorbar": {
              "outlinewidth": 0,
              "ticks": ""
             }
            },
            "type": "scatter3d"
           }
          ],
          "scattercarpet": [
           {
            "marker": {
             "colorbar": {
              "outlinewidth": 0,
              "ticks": ""
             }
            },
            "type": "scattercarpet"
           }
          ],
          "scattergeo": [
           {
            "marker": {
             "colorbar": {
              "outlinewidth": 0,
              "ticks": ""
             }
            },
            "type": "scattergeo"
           }
          ],
          "scattergl": [
           {
            "marker": {
             "colorbar": {
              "outlinewidth": 0,
              "ticks": ""
             }
            },
            "type": "scattergl"
           }
          ],
          "scattermap": [
           {
            "marker": {
             "colorbar": {
              "outlinewidth": 0,
              "ticks": ""
             }
            },
            "type": "scattermap"
           }
          ],
          "scattermapbox": [
           {
            "marker": {
             "colorbar": {
              "outlinewidth": 0,
              "ticks": ""
             }
            },
            "type": "scattermapbox"
           }
          ],
          "scatterpolar": [
           {
            "marker": {
             "colorbar": {
              "outlinewidth": 0,
              "ticks": ""
             }
            },
            "type": "scatterpolar"
           }
          ],
          "scatterpolargl": [
           {
            "marker": {
             "colorbar": {
              "outlinewidth": 0,
              "ticks": ""
             }
            },
            "type": "scatterpolargl"
           }
          ],
          "scatterternary": [
           {
            "marker": {
             "colorbar": {
              "outlinewidth": 0,
              "ticks": ""
             }
            },
            "type": "scatterternary"
           }
          ],
          "surface": [
           {
            "colorbar": {
             "outlinewidth": 0,
             "ticks": ""
            },
            "colorscale": [
             [
              0,
              "#0d0887"
             ],
             [
              0.1111111111111111,
              "#46039f"
             ],
             [
              0.2222222222222222,
              "#7201a8"
             ],
             [
              0.3333333333333333,
              "#9c179e"
             ],
             [
              0.4444444444444444,
              "#bd3786"
             ],
             [
              0.5555555555555556,
              "#d8576b"
             ],
             [
              0.6666666666666666,
              "#ed7953"
             ],
             [
              0.7777777777777778,
              "#fb9f3a"
             ],
             [
              0.8888888888888888,
              "#fdca26"
             ],
             [
              1,
              "#f0f921"
             ]
            ],
            "type": "surface"
           }
          ],
          "table": [
           {
            "cells": {
             "fill": {
              "color": "#EBF0F8"
             },
             "line": {
              "color": "white"
             }
            },
            "header": {
             "fill": {
              "color": "#C8D4E3"
             },
             "line": {
              "color": "white"
             }
            },
            "type": "table"
           }
          ]
         },
         "layout": {
          "annotationdefaults": {
           "arrowcolor": "#2a3f5f",
           "arrowhead": 0,
           "arrowwidth": 1
          },
          "autotypenumbers": "strict",
          "coloraxis": {
           "colorbar": {
            "outlinewidth": 0,
            "ticks": ""
           }
          },
          "colorscale": {
           "diverging": [
            [
             0,
             "#8e0152"
            ],
            [
             0.1,
             "#c51b7d"
            ],
            [
             0.2,
             "#de77ae"
            ],
            [
             0.3,
             "#f1b6da"
            ],
            [
             0.4,
             "#fde0ef"
            ],
            [
             0.5,
             "#f7f7f7"
            ],
            [
             0.6,
             "#e6f5d0"
            ],
            [
             0.7,
             "#b8e186"
            ],
            [
             0.8,
             "#7fbc41"
            ],
            [
             0.9,
             "#4d9221"
            ],
            [
             1,
             "#276419"
            ]
           ],
           "sequential": [
            [
             0,
             "#0d0887"
            ],
            [
             0.1111111111111111,
             "#46039f"
            ],
            [
             0.2222222222222222,
             "#7201a8"
            ],
            [
             0.3333333333333333,
             "#9c179e"
            ],
            [
             0.4444444444444444,
             "#bd3786"
            ],
            [
             0.5555555555555556,
             "#d8576b"
            ],
            [
             0.6666666666666666,
             "#ed7953"
            ],
            [
             0.7777777777777778,
             "#fb9f3a"
            ],
            [
             0.8888888888888888,
             "#fdca26"
            ],
            [
             1,
             "#f0f921"
            ]
           ],
           "sequentialminus": [
            [
             0,
             "#0d0887"
            ],
            [
             0.1111111111111111,
             "#46039f"
            ],
            [
             0.2222222222222222,
             "#7201a8"
            ],
            [
             0.3333333333333333,
             "#9c179e"
            ],
            [
             0.4444444444444444,
             "#bd3786"
            ],
            [
             0.5555555555555556,
             "#d8576b"
            ],
            [
             0.6666666666666666,
             "#ed7953"
            ],
            [
             0.7777777777777778,
             "#fb9f3a"
            ],
            [
             0.8888888888888888,
             "#fdca26"
            ],
            [
             1,
             "#f0f921"
            ]
           ]
          },
          "colorway": [
           "#636efa",
           "#EF553B",
           "#00cc96",
           "#ab63fa",
           "#FFA15A",
           "#19d3f3",
           "#FF6692",
           "#B6E880",
           "#FF97FF",
           "#FECB52"
          ],
          "font": {
           "color": "#2a3f5f"
          },
          "geo": {
           "bgcolor": "white",
           "lakecolor": "white",
           "landcolor": "white",
           "showlakes": true,
           "showland": true,
           "subunitcolor": "#C8D4E3"
          },
          "hoverlabel": {
           "align": "left"
          },
          "hovermode": "closest",
          "mapbox": {
           "style": "light"
          },
          "paper_bgcolor": "white",
          "plot_bgcolor": "white",
          "polar": {
           "angularaxis": {
            "gridcolor": "#EBF0F8",
            "linecolor": "#EBF0F8",
            "ticks": ""
           },
           "bgcolor": "white",
           "radialaxis": {
            "gridcolor": "#EBF0F8",
            "linecolor": "#EBF0F8",
            "ticks": ""
           }
          },
          "scene": {
           "xaxis": {
            "backgroundcolor": "white",
            "gridcolor": "#DFE8F3",
            "gridwidth": 2,
            "linecolor": "#EBF0F8",
            "showbackground": true,
            "ticks": "",
            "zerolinecolor": "#EBF0F8"
           },
           "yaxis": {
            "backgroundcolor": "white",
            "gridcolor": "#DFE8F3",
            "gridwidth": 2,
            "linecolor": "#EBF0F8",
            "showbackground": true,
            "ticks": "",
            "zerolinecolor": "#EBF0F8"
           },
           "zaxis": {
            "backgroundcolor": "white",
            "gridcolor": "#DFE8F3",
            "gridwidth": 2,
            "linecolor": "#EBF0F8",
            "showbackground": true,
            "ticks": "",
            "zerolinecolor": "#EBF0F8"
           }
          },
          "shapedefaults": {
           "line": {
            "color": "#2a3f5f"
           }
          },
          "ternary": {
           "aaxis": {
            "gridcolor": "#DFE8F3",
            "linecolor": "#A2B1C6",
            "ticks": ""
           },
           "baxis": {
            "gridcolor": "#DFE8F3",
            "linecolor": "#A2B1C6",
            "ticks": ""
           },
           "bgcolor": "white",
           "caxis": {
            "gridcolor": "#DFE8F3",
            "linecolor": "#A2B1C6",
            "ticks": ""
           }
          },
          "title": {
           "x": 0.05
          },
          "xaxis": {
           "automargin": true,
           "gridcolor": "#EBF0F8",
           "linecolor": "#EBF0F8",
           "ticks": "",
           "title": {
            "standoff": 15
           },
           "zerolinecolor": "#EBF0F8",
           "zerolinewidth": 2
          },
          "yaxis": {
           "automargin": true,
           "gridcolor": "#EBF0F8",
           "linecolor": "#EBF0F8",
           "ticks": "",
           "title": {
            "standoff": 15
           },
           "zerolinecolor": "#EBF0F8",
           "zerolinewidth": 2
          }
         }
        },
        "title": {
         "font": {
          "color": "#2c3e50",
          "size": 14
         },
         "text": "1.1 Ruolo: [Altro]"
        },
        "xaxis": {
         "anchor": "y",
         "automargin": true,
         "domain": [
          0,
          1
         ],
         "gridcolor": "rgba(200,200,200,0.3)",
         "tickangle": -45,
         "tickfont": {
          "color": "#2c3e50",
          "size": 10
         },
         "title": {
          "font": {
           "color": "#34495e",
           "size": 12
          },
          "text": "Risposta"
         }
        },
        "yaxis": {
         "anchor": "x",
         "automargin": true,
         "domain": [
          0,
          1
         ],
         "gridcolor": "rgba(200,200,200,0.3)",
         "tickfont": {
          "color": "#2c3e50",
          "size": 10
         },
         "title": {
          "font": {
           "color": "#34495e",
           "size": 12
          },
          "text": "Percentuale (%)"
         }
        }
       }
      }
     },
     "metadata": {},
     "output_type": "display_data"
    },
    {
     "name": "stdout",
     "output_type": "stream",
     "text": [
      "--------------------------------------------------\n",
      "================================================================================\n"
     ]
    }
   ],
   "source": [
    "# 🧪 TEST: Analisi completa con statistiche\n",
    "# Cambia questi parametri per testare diversi tipi di analisi:\n",
    "\n",
    "GROUP = '1.1'           # Quale domanda analizzare\n",
    "CHART_TYPE = 'bar'      # Tipo grafico (vedi spiegazioni sotto)\n",
    "SHOW_PERCENTAGES = True # True = percentuali, False = numeri assoluti\n",
    "INCLUDE_NA = False      # Includere valori mancanti\n",
    "\n",
    "# 📊 TIPI DI GRAFICO DISPONIBILI:\n",
    "# 'bar'         → Barre verticali (più leggibile)\n",
    "# 'bar_h'       → Barre orizzontali (per etichette lunghe)  \n",
    "# 'pie'         → Torta (buono per poche categorie)\n",
    "# 'likert_bar'  → Barre Likert ordinate (Per nulla → Molto)\n",
    "# 'histogram'   → Istogramma per distribuzioni numeriche\n",
    "# 'gaussian'    → Curva gaussiana sovrapposta all'istogramma\n",
    "\n",
    "# Esegui analisi\n",
    "analyze_question_group(GROUP, CHART_TYPE, SHOW_PERCENTAGES, INCLUDE_NA)"
   ]
  },
  {
   "cell_type": "code",
   "execution_count": null,
   "id": "13023e08",
   "metadata": {},
   "outputs": [],
   "source": [
    "# 🎨 ESEMPI DI TUTTI I TIPI DI GRAFICO\n",
    "# Decommmenta quello che vuoi testare:\n",
    "\n",
    "# analyze_question_group('2.4', 'bar', True, False)          # Barre verticali %\n",
    "# analyze_question_group('2.4', 'bar', False, False)         # Barre verticali numeri assoluti\n",
    "# analyze_question_group('2.4', 'bar_h', True, False)        # Barre orizzontali %  \n",
    "# analyze_question_group('2.4', 'pie', True, False)          # Torta\n",
    "# analyze_question_group('2.4', 'likert_bar', True, False)   # Likert ordinato %\n",
    "# analyze_question_group('2.4', 'histogram', True, False)    # Istogramma \n",
    "# analyze_question_group('2.4', 'gaussian', True, False)     # Curva gaussiana\n",
    "\n",
    "# 🚀 Oppure usa le funzioni rapide:\n",
    "# analyze_gaussian('2.4')   # Prova questo per vedere la curva normale!\n",
    "\n",
    "print(\"✅ Esempi pronti! Decommenta una riga per testare i diversi grafici\")"
   ]
  }
 ],
 "metadata": {
  "kernelspec": {
   "display_name": "venvd",
   "language": "python",
   "name": "python3"
  },
  "language_info": {
   "codemirror_mode": {
    "name": "ipython",
    "version": 3
   },
   "file_extension": ".py",
   "mimetype": "text/x-python",
   "name": "python",
   "nbconvert_exporter": "python",
   "pygments_lexer": "ipython3",
   "version": "3.11.13"
  }
 },
 "nbformat": 4,
 "nbformat_minor": 5
}
